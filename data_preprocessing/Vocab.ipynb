{
 "nbformat": 4,
 "nbformat_minor": 0,
 "metadata": {
  "colab": {
   "name": "Vocab.ipynb",
   "provenance": [],
   "toc_visible": true,
   "collapsed_sections": []
  },
  "kernelspec": {
   "name": "python3",
   "display_name": "Python 3"
  },
  "language_info": {
   "name": "python"
  },
  "widgets": {
   "application/vnd.jupyter.widget-state+json": {
    "bea17774d6474dc78dc48ac0c7384b03": {
     "model_module": "@jupyter-widgets/controls",
     "model_name": "HBoxModel",
     "model_module_version": "1.5.0",
     "state": {
      "_dom_classes": [],
      "_model_module": "@jupyter-widgets/controls",
      "_model_module_version": "1.5.0",
      "_model_name": "HBoxModel",
      "_view_count": null,
      "_view_module": "@jupyter-widgets/controls",
      "_view_module_version": "1.5.0",
      "_view_name": "HBoxView",
      "box_style": "",
      "children": [
       "IPY_MODEL_1a6ad91bc82543ff94bbf48c956ca94c",
       "IPY_MODEL_0c81501584e54da69f82d8d250a366b1",
       "IPY_MODEL_735d799e33ed475a8ed143dbce701497"
      ],
      "layout": "IPY_MODEL_1769a690f0e648f38383f2d34d617fff"
     }
    },
    "1a6ad91bc82543ff94bbf48c956ca94c": {
     "model_module": "@jupyter-widgets/controls",
     "model_name": "HTMLModel",
     "model_module_version": "1.5.0",
     "state": {
      "_dom_classes": [],
      "_model_module": "@jupyter-widgets/controls",
      "_model_module_version": "1.5.0",
      "_model_name": "HTMLModel",
      "_view_count": null,
      "_view_module": "@jupyter-widgets/controls",
      "_view_module_version": "1.5.0",
      "_view_name": "HTMLView",
      "description": "",
      "description_tooltip": null,
      "layout": "IPY_MODEL_df46cc4a05e64d1694f23c43bd354644",
      "placeholder": "​",
      "style": "IPY_MODEL_8e93d3a65b2942edae69fed31c7ca02e",
      "value": "Building Vocab: 100%"
     }
    },
    "0c81501584e54da69f82d8d250a366b1": {
     "model_module": "@jupyter-widgets/controls",
     "model_name": "FloatProgressModel",
     "model_module_version": "1.5.0",
     "state": {
      "_dom_classes": [],
      "_model_module": "@jupyter-widgets/controls",
      "_model_module_version": "1.5.0",
      "_model_name": "FloatProgressModel",
      "_view_count": null,
      "_view_module": "@jupyter-widgets/controls",
      "_view_module_version": "1.5.0",
      "_view_name": "ProgressView",
      "bar_style": "success",
      "description": "",
      "description_tooltip": null,
      "layout": "IPY_MODEL_4cf3e4243b424971b589bad05ae6a815",
      "max": 36718,
      "min": 0,
      "orientation": "horizontal",
      "style": "IPY_MODEL_24c45396d60644fc8b335b4e0f4d3d58",
      "value": 36718
     }
    },
    "735d799e33ed475a8ed143dbce701497": {
     "model_module": "@jupyter-widgets/controls",
     "model_name": "HTMLModel",
     "model_module_version": "1.5.0",
     "state": {
      "_dom_classes": [],
      "_model_module": "@jupyter-widgets/controls",
      "_model_module_version": "1.5.0",
      "_model_name": "HTMLModel",
      "_view_count": null,
      "_view_module": "@jupyter-widgets/controls",
      "_view_module_version": "1.5.0",
      "_view_name": "HTMLView",
      "description": "",
      "description_tooltip": null,
      "layout": "IPY_MODEL_01849a1c33754dfc94d3ab62a4bb78af",
      "placeholder": "​",
      "style": "IPY_MODEL_49d090a5f6f843a99bb1a9b755f14778",
      "value": " 36718/36718 [00:26&lt;00:00, 1463.94it/s]"
     }
    },
    "1769a690f0e648f38383f2d34d617fff": {
     "model_module": "@jupyter-widgets/base",
     "model_name": "LayoutModel",
     "model_module_version": "1.2.0",
     "state": {
      "_model_module": "@jupyter-widgets/base",
      "_model_module_version": "1.2.0",
      "_model_name": "LayoutModel",
      "_view_count": null,
      "_view_module": "@jupyter-widgets/base",
      "_view_module_version": "1.2.0",
      "_view_name": "LayoutView",
      "align_content": null,
      "align_items": null,
      "align_self": null,
      "border": null,
      "bottom": null,
      "display": null,
      "flex": null,
      "flex_flow": null,
      "grid_area": null,
      "grid_auto_columns": null,
      "grid_auto_flow": null,
      "grid_auto_rows": null,
      "grid_column": null,
      "grid_gap": null,
      "grid_row": null,
      "grid_template_areas": null,
      "grid_template_columns": null,
      "grid_template_rows": null,
      "height": null,
      "justify_content": null,
      "justify_items": null,
      "left": null,
      "margin": null,
      "max_height": null,
      "max_width": null,
      "min_height": null,
      "min_width": null,
      "object_fit": null,
      "object_position": null,
      "order": null,
      "overflow": null,
      "overflow_x": null,
      "overflow_y": null,
      "padding": null,
      "right": null,
      "top": null,
      "visibility": null,
      "width": null
     }
    },
    "df46cc4a05e64d1694f23c43bd354644": {
     "model_module": "@jupyter-widgets/base",
     "model_name": "LayoutModel",
     "model_module_version": "1.2.0",
     "state": {
      "_model_module": "@jupyter-widgets/base",
      "_model_module_version": "1.2.0",
      "_model_name": "LayoutModel",
      "_view_count": null,
      "_view_module": "@jupyter-widgets/base",
      "_view_module_version": "1.2.0",
      "_view_name": "LayoutView",
      "align_content": null,
      "align_items": null,
      "align_self": null,
      "border": null,
      "bottom": null,
      "display": null,
      "flex": null,
      "flex_flow": null,
      "grid_area": null,
      "grid_auto_columns": null,
      "grid_auto_flow": null,
      "grid_auto_rows": null,
      "grid_column": null,
      "grid_gap": null,
      "grid_row": null,
      "grid_template_areas": null,
      "grid_template_columns": null,
      "grid_template_rows": null,
      "height": null,
      "justify_content": null,
      "justify_items": null,
      "left": null,
      "margin": null,
      "max_height": null,
      "max_width": null,
      "min_height": null,
      "min_width": null,
      "object_fit": null,
      "object_position": null,
      "order": null,
      "overflow": null,
      "overflow_x": null,
      "overflow_y": null,
      "padding": null,
      "right": null,
      "top": null,
      "visibility": null,
      "width": null
     }
    },
    "8e93d3a65b2942edae69fed31c7ca02e": {
     "model_module": "@jupyter-widgets/controls",
     "model_name": "DescriptionStyleModel",
     "model_module_version": "1.5.0",
     "state": {
      "_model_module": "@jupyter-widgets/controls",
      "_model_module_version": "1.5.0",
      "_model_name": "DescriptionStyleModel",
      "_view_count": null,
      "_view_module": "@jupyter-widgets/base",
      "_view_module_version": "1.2.0",
      "_view_name": "StyleView",
      "description_width": ""
     }
    },
    "4cf3e4243b424971b589bad05ae6a815": {
     "model_module": "@jupyter-widgets/base",
     "model_name": "LayoutModel",
     "model_module_version": "1.2.0",
     "state": {
      "_model_module": "@jupyter-widgets/base",
      "_model_module_version": "1.2.0",
      "_model_name": "LayoutModel",
      "_view_count": null,
      "_view_module": "@jupyter-widgets/base",
      "_view_module_version": "1.2.0",
      "_view_name": "LayoutView",
      "align_content": null,
      "align_items": null,
      "align_self": null,
      "border": null,
      "bottom": null,
      "display": null,
      "flex": null,
      "flex_flow": null,
      "grid_area": null,
      "grid_auto_columns": null,
      "grid_auto_flow": null,
      "grid_auto_rows": null,
      "grid_column": null,
      "grid_gap": null,
      "grid_row": null,
      "grid_template_areas": null,
      "grid_template_columns": null,
      "grid_template_rows": null,
      "height": null,
      "justify_content": null,
      "justify_items": null,
      "left": null,
      "margin": null,
      "max_height": null,
      "max_width": null,
      "min_height": null,
      "min_width": null,
      "object_fit": null,
      "object_position": null,
      "order": null,
      "overflow": null,
      "overflow_x": null,
      "overflow_y": null,
      "padding": null,
      "right": null,
      "top": null,
      "visibility": null,
      "width": null
     }
    },
    "24c45396d60644fc8b335b4e0f4d3d58": {
     "model_module": "@jupyter-widgets/controls",
     "model_name": "ProgressStyleModel",
     "model_module_version": "1.5.0",
     "state": {
      "_model_module": "@jupyter-widgets/controls",
      "_model_module_version": "1.5.0",
      "_model_name": "ProgressStyleModel",
      "_view_count": null,
      "_view_module": "@jupyter-widgets/base",
      "_view_module_version": "1.2.0",
      "_view_name": "StyleView",
      "bar_color": null,
      "description_width": ""
     }
    },
    "01849a1c33754dfc94d3ab62a4bb78af": {
     "model_module": "@jupyter-widgets/base",
     "model_name": "LayoutModel",
     "model_module_version": "1.2.0",
     "state": {
      "_model_module": "@jupyter-widgets/base",
      "_model_module_version": "1.2.0",
      "_model_name": "LayoutModel",
      "_view_count": null,
      "_view_module": "@jupyter-widgets/base",
      "_view_module_version": "1.2.0",
      "_view_name": "LayoutView",
      "align_content": null,
      "align_items": null,
      "align_self": null,
      "border": null,
      "bottom": null,
      "display": null,
      "flex": null,
      "flex_flow": null,
      "grid_area": null,
      "grid_auto_columns": null,
      "grid_auto_flow": null,
      "grid_auto_rows": null,
      "grid_column": null,
      "grid_gap": null,
      "grid_row": null,
      "grid_template_areas": null,
      "grid_template_columns": null,
      "grid_template_rows": null,
      "height": null,
      "justify_content": null,
      "justify_items": null,
      "left": null,
      "margin": null,
      "max_height": null,
      "max_width": null,
      "min_height": null,
      "min_width": null,
      "object_fit": null,
      "object_position": null,
      "order": null,
      "overflow": null,
      "overflow_x": null,
      "overflow_y": null,
      "padding": null,
      "right": null,
      "top": null,
      "visibility": null,
      "width": null
     }
    },
    "49d090a5f6f843a99bb1a9b755f14778": {
     "model_module": "@jupyter-widgets/controls",
     "model_name": "DescriptionStyleModel",
     "model_module_version": "1.5.0",
     "state": {
      "_model_module": "@jupyter-widgets/controls",
      "_model_module_version": "1.5.0",
      "_model_name": "DescriptionStyleModel",
      "_view_count": null,
      "_view_module": "@jupyter-widgets/base",
      "_view_module_version": "1.2.0",
      "_view_name": "StyleView",
      "description_width": ""
     }
    }
   }
  }
 },
 "cells": [
  {
   "cell_type": "markdown",
   "source": [
    "# torchtext, spaCy를 이용하여 Vocab \b만들기 \n",
    "\n",
    "torchtext, spaCy를 활용하여 Vocab을 만드는 실습해볼 것이다.\n",
    "\n",
    "1. spaCy의 Tokenizer를 활용해서 vocab을 직접 구현해본다.\n",
    "\n",
    "2. torchtext의 메소드를 활용해서 vocab을 만들어본다.\n",
    "\n",
    "※ 실행환경: colab"
   ],
   "metadata": {
    "id": "dYPmOWpnPv7V",
    "pycharm": {
     "name": "#%% md\n"
    }
   }
  },
  {
   "cell_type": "markdown",
   "source": [
    "## 1. WikiText-2 데이터 불러오기\n",
    "\n",
    "torchtext의 데이터셋인 WikiText-2를 사용하기 위해 데이터를 불러온다."
   ],
   "metadata": {
    "id": "PSkGIBZ2U82v",
    "pycharm": {
     "name": "#%% md\n"
    }
   }
  },
  {
   "cell_type": "markdown",
   "source": [
    "### 1.1. torchdata 설치\n",
    "\n",
    "torchtext에서 데이터셋을 불러오려면 먼저 torchdata를 설치해야한다.\n",
    "PyTorch의 version에 주의하여 적합한 version을 설치하면 된다.\n",
    "* [torchdata Version Compatibility](https://github.com/pytorch/data#version-compatibility)\n",
    "\n",
    "\n",
    "torchdata를 설치할 때 아래와 같은 ERROR가 발생할 수 있다.\n",
    "```\n",
    "ERROR: pip's dependency resolver does not currently take into account all the packages that are installed. This behaviour is the source of the following dependency conflicts.\n",
    "datascience 0.10.6 requires folium==0.2.1, but you have folium 0.8.3 which is incompatible.\n",
    "```\n",
    "해결 방법\n",
    "* folium==0.2.1을 먼저 설치한 다음 torchdata를 재설치한다.\n",
    "    * torchdata가 잘못된 방법으로 했을 때 설치된 경우 torchdata를 삭제한 후 folium부터 다시 설치한다.\n",
    "* colab을 사용하고 있는 경우 런타임을 재실행한 다음 순서대로 설치하면된다.\n"
   ],
   "metadata": {
    "id": "6UE9pFzNXiSI",
    "pycharm": {
     "name": "#%% md\n"
    }
   }
  },
  {
   "cell_type": "code",
   "source": [
    "!pip install folium==0.2.1"
   ],
   "metadata": {
    "id": "hXDodrXfW8Oh",
    "pycharm": {
     "name": "#%%\n"
    }
   },
   "execution_count": null,
   "outputs": []
  },
  {
   "cell_type": "code",
   "source": [
    "!pip install torchdata==0.4.0"
   ],
   "metadata": {
    "id": "n0bmw4GyV7HG",
    "pycharm": {
     "name": "#%%\n"
    }
   },
   "execution_count": null,
   "outputs": []
  },
  {
   "cell_type": "code",
   "source": [
    "!pip show torchdata"
   ],
   "metadata": {
    "id": "DqqagcmFV-n2",
    "pycharm": {
     "name": "#%%\n"
    }
   },
   "execution_count": null,
   "outputs": []
  },
  {
   "cell_type": "markdown",
   "source": [
    "### 1.2. WikiText-2 데이터셋 불러오기\n",
    "\n",
    "* torchtext.datasets.WikiText2(root: str = '.data', split: Union[Tuple[str], str] = ('train', 'valid', 'test'))\n",
    "    * split을 활용하여 필요한 데이터셋만 가져올 수 있다.\n",
    "        * 여기서는 train 데이터만 활용한다.\n",
    "        * split='train'으로 train 데이터만 불러올 수 있다."
   ],
   "metadata": {
    "id": "_VoYVh86X7hS",
    "pycharm": {
     "name": "#%% md\n"
    }
   }
  },
  {
   "cell_type": "code",
   "source": [
    "from torchtext.datasets import WikiText2"
   ],
   "metadata": {
    "id": "nj31d6LWYAOA",
    "pycharm": {
     "name": "#%%\n"
    }
   },
   "execution_count": null,
   "outputs": []
  },
  {
   "cell_type": "code",
   "source": [
    "train = WikiText2(split='train')"
   ],
   "metadata": {
    "id": "7Ci0uqpMZRtq",
    "pycharm": {
     "name": "#%%\n"
    }
   },
   "execution_count": null,
   "outputs": []
  },
  {
   "cell_type": "markdown",
   "source": [
    "\n",
    "데이터를 보면 \\<unk\\>를 확인할 수 있는데 unknown token을 가리킨다."
   ],
   "metadata": {
    "id": "O8fLqcobZw7C",
    "pycharm": {
     "name": "#%% md\n"
    }
   }
  },
  {
   "cell_type": "code",
   "source": [
    "for i, text in enumerate(train):\n",
    "    if i == 5: break\n",
    "    print(text)"
   ],
   "metadata": {
    "colab": {
     "base_uri": "https://localhost:8080/"
    },
    "id": "OTv_Y86lZZmJ",
    "outputId": "664f1a02-a2c0-472a-9485-f304c6a393e1",
    "pycharm": {
     "name": "#%%\n"
    }
   },
   "execution_count": null,
   "outputs": [
    {
     "output_type": "stream",
     "name": "stdout",
     "text": [
      " \n",
      "\n",
      " = Valkyria Chronicles III = \n",
      "\n",
      " \n",
      "\n",
      " Senjō no Valkyria 3 : <unk> Chronicles ( Japanese : 戦場のヴァルキュリア3 , lit . Valkyria of the Battlefield 3 ) , commonly referred to as Valkyria Chronicles III outside Japan , is a tactical role @-@ playing video game developed by Sega and Media.Vision for the PlayStation Portable . Released in January 2011 in Japan , it is the third game in the Valkyria series . <unk> the same fusion of tactical and real @-@ time gameplay as its predecessors , the story runs parallel to the first game and follows the \" Nameless \" , a penal military unit serving the nation of Gallia during the Second Europan War who perform secret black operations and are pitted against the Imperial unit \" <unk> Raven \" . \n",
      "\n",
      " The game began development in 2010 , carrying over a large portion of the work done on Valkyria Chronicles II . While it retained the standard features of the series , it also underwent multiple adjustments , such as making the game more <unk> for series newcomers . Character designer <unk> Honjou and composer Hitoshi Sakimoto both returned from previous entries , along with Valkyria Chronicles II director Takeshi Ozawa . A large team of writers handled the script . The game 's opening theme was sung by May 'n . \n",
      "\n"
     ]
    }
   ]
  },
  {
   "cell_type": "markdown",
   "source": [
    "## 2. spaCy Tokenizer를 이용하여 vocab 직접 구현하기"
   ],
   "metadata": {
    "id": "Awy4g3h7aASP",
    "pycharm": {
     "name": "#%% md\n"
    }
   }
  },
  {
   "cell_type": "markdown",
   "source": [
    "### 2.1. spaCy 데이터 설치"
   ],
   "metadata": {
    "id": "8kifS5HRbH8H",
    "pycharm": {
     "name": "#%% md\n"
    }
   }
  },
  {
   "cell_type": "code",
   "source": [
    "!python -m spacy download en_core_web_sm"
   ],
   "metadata": {
    "id": "DA9MooBfZazL",
    "pycharm": {
     "name": "#%%\n"
    }
   },
   "execution_count": null,
   "outputs": []
  },
  {
   "cell_type": "markdown",
   "source": [
    "### 2.2. Tokenizer 불러오기"
   ],
   "metadata": {
    "id": "Xj4zXoGxbLtw",
    "pycharm": {
     "name": "#%% md\n"
    }
   }
  },
  {
   "cell_type": "code",
   "source": [
    "import spacy\n",
    "from spacy.symbols import ORTH"
   ],
   "metadata": {
    "id": "eVjvsoXNbFnI",
    "pycharm": {
     "name": "#%%\n"
    }
   },
   "execution_count": null,
   "outputs": []
  },
  {
   "cell_type": "markdown",
   "source": [
    "\\<unk\\>라는 speical token이 있기 때문에 spacy tokenizer가 \\<unk\\>를 하나의 token으로 인식할 수 있도록 special case를 추가해주어야한다.\n",
    "* [Adding special case tokenization rules](https://spacy.io/usage/linguistic-features#special-cases), [Pattern format](https://spacy.io/api/matcher/#patterns)\n",
    "* ORTH를 이용하여 special_case라는 list에 special token을 추가한다.\n",
    "* tokenizer에 add_special_case를 이용하여 '\\<unk\\>'를 만날 때 \\<unk\\>로 토큰화를 진행할 수 있도록 한다."
   ],
   "metadata": {
    "id": "aTPNEdwffuf0",
    "pycharm": {
     "name": "#%% md\n"
    }
   }
  },
  {
   "cell_type": "code",
   "source": [
    "spacy_en = spacy.load('en_core_web_sm')\n",
    "special_case = [{ORTH:'<unk>'}]\n",
    "spacy_en.tokenizer.add_special_case('<unk>', special_case) "
   ],
   "metadata": {
    "id": "SYqc7YhMbWj4",
    "pycharm": {
     "name": "#%%\n"
    }
   },
   "execution_count": null,
   "outputs": []
  },
  {
   "cell_type": "code",
   "source": [
    "# TEST\n",
    "text = 'I use <unk> things.'\n",
    "\n",
    "for token in spacy_en.tokenizer(text):\n",
    "    print(token)"
   ],
   "metadata": {
    "colab": {
     "base_uri": "https://localhost:8080/"
    },
    "id": "L6Yr2AAZbZq_",
    "outputId": "efec23d3-5397-41a7-a26e-1bd961611e14",
    "pycharm": {
     "name": "#%%\n"
    }
   },
   "execution_count": null,
   "outputs": [
    {
     "output_type": "stream",
     "name": "stdout",
     "text": [
      "I\n",
      "use\n",
      "<unk>\n",
      "things\n",
      ".\n"
     ]
    }
   ]
  },
  {
   "cell_type": "markdown",
   "source": [
    "### 2.3. Vocab 클래스 구현하기\n",
    "\n",
    "Vocab 클래스는 다음과 같은 역할을 한다.\n",
    "* token2id를 이용하여 token이 어떤 id와 매핑되는지 저장한다.\n",
    "* id2token을 이용하여 id가 어떤 token과 매핑되는지 저장한다.\n",
    "* encode를 이용하여 문장을 토큰화하고 id값으로 바꾼다.\n",
    "* decode를 이용하여 id들이 있을 때 적합한 토큰들로 바꾼이후 원래 문장으로 복원한다.\n",
    "* special token과 매핑되는 id를 클래스 변수로 저장해서 사용한다.\n",
    "    * special token으로 unknown token을 사용한다.\n",
    "    * task에 따라 \\<sos\\>, \\<eos\\> 같은 special token을 추가로 사용할 수 있다.\n",
    "\n",
    "※ spacy tokenizer의 반환값인 token을 사용하는 것보다 token.text가 더 정확한 결과를 반환한다."
   ],
   "metadata": {
    "id": "QM6x_TDUhdnI",
    "pycharm": {
     "name": "#%% md\n"
    }
   }
  },
  {
   "cell_type": "code",
   "source": [
    "from collections import Counter\n",
    "from tqdm.notebook import tqdm"
   ],
   "metadata": {
    "id": "emaeoJlRORde",
    "pycharm": {
     "name": "#%%\n"
    }
   },
   "execution_count": null,
   "outputs": []
  },
  {
   "cell_type": "code",
   "source": [
    "class Vocab:\n",
    "    UNK_TOKEN = '<unk>'\n",
    "    UNK_TOKEN_ID = 0\n",
    "\n",
    "    def __init__(self, data, tokenizer, min_freq):\n",
    "        self.data = [text for text in data]\n",
    "        self.en = tokenizer\n",
    "        self.id2token = list()\n",
    "        self.token2id = dict()\n",
    "\n",
    "        self.build_vocab(min_freq)\n",
    "\n",
    "    def build_vocab(self, min_freq):\n",
    "\n",
    "        counter = Counter()\n",
    "        for tokens in tqdm(map(self.en.tokenizer, self.data), total=len(self.data), desc='Building Vocab'):\n",
    "            counter.update(map(lambda x: x.text, tokens))\n",
    "\n",
    "        self.id2token = [Vocab.UNK_TOKEN] + [ token for token, freq in counter.items() if freq >= min_freq and token != Vocab.UNK_TOKEN]\n",
    "        self.token2id = { token:i for i, token in enumerate(self.id2token)}\n",
    "    \n",
    "    def encode(self, text):\n",
    "        encoded = [self.token2id.get(token.text, UNK_TOKEN_ID) for token in self.en.tokenizer(text)]\n",
    "        return encoded\n",
    "\n",
    "    def decode(self, sequence):\n",
    "        decoded = \" \".join([self.id2token[token_id] for token_id in sequence])\n",
    "        return decoded"
   ],
   "metadata": {
    "id": "N6awhntfbujX",
    "pycharm": {
     "name": "#%%\n"
    }
   },
   "execution_count": null,
   "outputs": []
  },
  {
   "cell_type": "code",
   "source": [
    "corpus = Vocab(train, spacy_en, 3)"
   ],
   "metadata": {
    "colab": {
     "base_uri": "https://localhost:8080/",
     "height": 49,
     "referenced_widgets": [
      "bea17774d6474dc78dc48ac0c7384b03",
      "1a6ad91bc82543ff94bbf48c956ca94c",
      "0c81501584e54da69f82d8d250a366b1",
      "735d799e33ed475a8ed143dbce701497",
      "1769a690f0e648f38383f2d34d617fff",
      "df46cc4a05e64d1694f23c43bd354644",
      "8e93d3a65b2942edae69fed31c7ca02e",
      "4cf3e4243b424971b589bad05ae6a815",
      "24c45396d60644fc8b335b4e0f4d3d58",
      "01849a1c33754dfc94d3ab62a4bb78af",
      "49d090a5f6f843a99bb1a9b755f14778"
     ]
    },
    "id": "vIgKCbPll0Pn",
    "outputId": "b9ce00ff-3a2d-4da3-c72b-24db02d370e9",
    "pycharm": {
     "name": "#%%\n"
    }
   },
   "execution_count": null,
   "outputs": [
    {
     "output_type": "display_data",
     "data": {
      "text/plain": [
       "Building Vocab:   0%|          | 0/36718 [00:00<?, ?it/s]"
      ],
      "application/vnd.jupyter.widget-view+json": {
       "version_major": 2,
       "version_minor": 0,
       "model_id": "bea17774d6474dc78dc48ac0c7384b03"
      }
     },
     "metadata": {}
    }
   ]
  },
  {
   "cell_type": "code",
   "source": [
    "len(corpus.token2id), len(corpus.id2token)"
   ],
   "metadata": {
    "colab": {
     "base_uri": "https://localhost:8080/"
    },
    "id": "acWbSjZWemyP",
    "outputId": "64280faa-31af-4e30-a81f-3ceeb21b61f7",
    "pycharm": {
     "name": "#%%\n"
    }
   },
   "execution_count": null,
   "outputs": [
    {
     "output_type": "execute_result",
     "data": {
      "text/plain": [
       "(33242, 33242)"
      ]
     },
     "metadata": {},
     "execution_count": 29
    }
   ]
  },
  {
   "cell_type": "code",
   "source": [
    "corpus.token2id['<unk>'], corpus.id2token[0]"
   ],
   "metadata": {
    "colab": {
     "base_uri": "https://localhost:8080/"
    },
    "id": "VOQmpnaoewk9",
    "outputId": "8d7e9e31-e51b-4ec3-94ed-3db17dc1494e",
    "pycharm": {
     "name": "#%%\n"
    }
   },
   "execution_count": null,
   "outputs": [
    {
     "output_type": "execute_result",
     "data": {
      "text/plain": [
       "(0, '<unk>')"
      ]
     },
     "metadata": {},
     "execution_count": 30
    }
   ]
  },
  {
   "cell_type": "code",
   "source": [
    "train_text = [text for text in train]"
   ],
   "metadata": {
    "id": "RFqtVaZQfCvT",
    "pycharm": {
     "name": "#%%\n"
    }
   },
   "execution_count": null,
   "outputs": []
  },
  {
   "cell_type": "code",
   "source": [
    "encoded = corpus.encode(train_text[4])\n",
    "\n",
    "encoded"
   ],
   "metadata": {
    "colab": {
     "base_uri": "https://localhost:8080/"
    },
    "id": "dYSYISF5fH-Z",
    "outputId": "3646ba7c-cd7d-40f1-9fe4-36b3b22e12d1",
    "pycharm": {
     "name": "#%%\n"
    }
   },
   "execution_count": null,
   "outputs": [
    {
     "output_type": "execute_result",
     "data": {
      "text/plain": [
       "[2,\n",
       " 86,\n",
       " 35,\n",
       " 87,\n",
       " 88,\n",
       " 46,\n",
       " 89,\n",
       " 15,\n",
       " 90,\n",
       " 91,\n",
       " 29,\n",
       " 92,\n",
       " 93,\n",
       " 18,\n",
       " 19,\n",
       " 94,\n",
       " 95,\n",
       " 96,\n",
       " 4,\n",
       " 5,\n",
       " 97,\n",
       " 17,\n",
       " 98,\n",
       " 49,\n",
       " 99,\n",
       " 19,\n",
       " 100,\n",
       " 101,\n",
       " 18,\n",
       " 19,\n",
       " 51,\n",
       " 15,\n",
       " 49,\n",
       " 102,\n",
       " 103,\n",
       " 104,\n",
       " 105,\n",
       " 15,\n",
       " 106,\n",
       " 25,\n",
       " 107,\n",
       " 19,\n",
       " 35,\n",
       " 108,\n",
       " 0,\n",
       " 42,\n",
       " 51,\n",
       " 109,\n",
       " 17,\n",
       " 110,\n",
       " 111,\n",
       " 0,\n",
       " 112,\n",
       " 39,\n",
       " 113,\n",
       " 114,\n",
       " 115,\n",
       " 116,\n",
       " 117,\n",
       " 118,\n",
       " 119,\n",
       " 120,\n",
       " 15,\n",
       " 121,\n",
       " 122,\n",
       " 4,\n",
       " 5,\n",
       " 97,\n",
       " 123,\n",
       " 124,\n",
       " 125,\n",
       " 17,\n",
       " 126,\n",
       " 92,\n",
       " 127,\n",
       " 18,\n",
       " 128,\n",
       " 129,\n",
       " 19,\n",
       " 130,\n",
       " 17,\n",
       " 86,\n",
       " 35,\n",
       " 131,\n",
       " 132,\n",
       " 133,\n",
       " 134,\n",
       " 135,\n",
       " 37,\n",
       " 136,\n",
       " 137,\n",
       " 138,\n",
       " 17,\n",
       " 7]"
      ]
     },
     "metadata": {},
     "execution_count": 32
    }
   ]
  },
  {
   "cell_type": "code",
   "source": [
    "print(f\"decode  : {corpus.decode(encoded)}\")\n",
    "print(f\"original: {train_text[4]}\")"
   ],
   "metadata": {
    "colab": {
     "base_uri": "https://localhost:8080/"
    },
    "id": "_SaGIp88fx5Y",
    "outputId": "9cac5e1d-014f-4feb-c45a-0bc0598815ed",
    "pycharm": {
     "name": "#%%\n"
    }
   },
   "execution_count": null,
   "outputs": [
    {
     "output_type": "stream",
     "name": "stdout",
     "text": [
      "decode  :   The game began development in 2010 , carrying over a large portion of the work done on Valkyria Chronicles II . While it retained the standard features of the series , it also underwent multiple adjustments , such as making the game more <unk> for series newcomers . Character designer <unk> Honjou and composer Hitoshi Sakimoto both returned from previous entries , along with Valkyria Chronicles II director Takeshi Ozawa . A large team of writers handled the script . The game 's opening theme was sung by May ' n . \n",
      "\n",
      "original:  The game began development in 2010 , carrying over a large portion of the work done on Valkyria Chronicles II . While it retained the standard features of the series , it also underwent multiple adjustments , such as making the game more <unk> for series newcomers . Character designer <unk> Honjou and composer Hitoshi Sakimoto both returned from previous entries , along with Valkyria Chronicles II director Takeshi Ozawa . A large team of writers handled the script . The game 's opening theme was sung by May 'n . \n",
      "\n"
     ]
    }
   ]
  },
  {
   "cell_type": "markdown",
   "source": [
    "## 3. torchtext를 이용해서 vocab 만들기\n",
    "\n",
    "torchtext의 [get_tokenizer](https://pytorch.org/text/stable/data_utils.html#torchtext.data.utils.get_tokenizer)와 [build_vocab_from_iterator](https://pytorch.org/text/stable/vocab.html#torchtext.vocab.build_vocab_from_iterator)를 사용하여 비교적 쉽게 vocab을 구성할 수 있다.\n",
    "\n",
    "* build_vocab_from_iterator()\n",
    "    * iterator를 이용하여 vocab을 만든다.\n",
    "    * parameter\n",
    "        * iterator: vocab을 만들때 사용되는 iterator\n",
    "        * min_freq: vocab에 포함되기 위한 최소 빈도수\n",
    "        * specials: special token의 list\n",
    "    * torchtext.vocab.Vocab 클래스를 반환한다.\n",
    "\n"
   ],
   "metadata": {
    "id": "IBnunKfWQyDk",
    "pycharm": {
     "name": "#%% md\n"
    }
   }
  },
  {
   "cell_type": "code",
   "source": [
    "from torchtext.data.utils import get_tokenizer\n",
    "from torchtext.vocab import build_vocab_from_iterator"
   ],
   "metadata": {
    "id": "XmFEzlpcmGqJ",
    "pycharm": {
     "name": "#%%\n"
    }
   },
   "execution_count": null,
   "outputs": []
  },
  {
   "cell_type": "code",
   "source": [
    "torch_tokenizer = get_tokenizer('basic_english')"
   ],
   "metadata": {
    "id": "dhl6amDZRILR",
    "pycharm": {
     "name": "#%%\n"
    }
   },
   "execution_count": null,
   "outputs": []
  },
  {
   "cell_type": "code",
   "source": [
    "torch_tokenizer('I use <unk> thing.')"
   ],
   "metadata": {
    "colab": {
     "base_uri": "https://localhost:8080/"
    },
    "id": "jX2WhqVga-9o",
    "outputId": "bdc614ed-7b5b-4ddf-8eb8-6240ea29ebee",
    "pycharm": {
     "name": "#%%\n"
    }
   },
   "execution_count": null,
   "outputs": [
    {
     "output_type": "execute_result",
     "data": {
      "text/plain": [
       "['i', 'use', '<unk>', 'thing', '.']"
      ]
     },
     "metadata": {},
     "execution_count": 37
    }
   ]
  },
  {
   "cell_type": "code",
   "source": [
    "torch_vocab = build_vocab_from_iterator(map(torch_tokenizer, train), min_freq=3, specials=['<unk>'])"
   ],
   "metadata": {
    "id": "t71LFQ58RP43",
    "pycharm": {
     "name": "#%%\n"
    }
   },
   "execution_count": null,
   "outputs": []
  },
  {
   "cell_type": "markdown",
   "source": [
    "build_vocab_from_iterator()은 [torchtext.vocab.Vocab](https://pytorch.org/text/stable/vocab.html#torchtext.vocab.Vocab) 클래스의 object를 반환한다. 반환된 Vocab object를 이용하여 아래와 같은 일들을 할 수 있다.\n",
    "* get_stoi(): token2id를 반환한다.\n",
    "* get_itos(): id2token을 반환한다.\n",
    "* \\_\\_getitem\\_\\_(): token에 매핑되는 id값을 반환한다.\n",
    "* lookup_token(): id에 매핑되는 token을 반환한다.\n",
    "* forward(): encode 한다.(문장을 토큰화하고 id값으로 바꾼다.) \n",
    "    * nn.Module의 forward()처럼 작동한다.\n",
    "* lookup_indices(): encode 한다.(문장을 토큰화하고 id값으로 바꾸어 바꾼다.) \n",
    "* lookup_tokens(): decode 한다.(id들을 적합한 토큰들로 바꾼다.)"
   ],
   "metadata": {
    "id": "TfOWwj1XmVx3",
    "pycharm": {
     "name": "#%% md\n"
    }
   }
  },
  {
   "cell_type": "code",
   "source": [
    "# get_stoi(), get_itos()\n",
    "p_token2id = torch_vocab.get_stoi()\n",
    "p_id2token = torch_vocab.get_itos()\n",
    "\n",
    "print(len(p_token2id.keys()), len(p_id2token))\n",
    "print(p_token2id['<unk>'], p_id2token[0])"
   ],
   "metadata": {
    "colab": {
     "base_uri": "https://localhost:8080/"
    },
    "id": "qKkeoNBrRe9K",
    "outputId": "a4155577-a186-490a-8dad-85bcc01013ef",
    "pycharm": {
     "name": "#%%\n"
    }
   },
   "execution_count": null,
   "outputs": [
    {
     "output_type": "stream",
     "name": "stdout",
     "text": [
      "28782 28782\n",
      "0 <unk>\n"
     ]
    }
   ]
  },
  {
   "cell_type": "code",
   "source": [
    "# __getitem__, lookup_token()\n",
    "torch_vocab['<unk>'], torch_vocab.lookup_token(0)"
   ],
   "metadata": {
    "colab": {
     "base_uri": "https://localhost:8080/"
    },
    "id": "p7oYvimCRu1p",
    "outputId": "1b71923c-a02b-4dd5-bfd3-29fd99b28139",
    "pycharm": {
     "name": "#%%\n"
    }
   },
   "execution_count": null,
   "outputs": [
    {
     "output_type": "execute_result",
     "data": {
      "text/plain": [
       "(0, '<unk>')"
      ]
     },
     "metadata": {},
     "execution_count": 60
    }
   ]
  },
  {
   "cell_type": "code",
   "source": [
    "# 토큰화 테스트 문장\n",
    "train_text = [text for text in train]"
   ],
   "metadata": {
    "id": "awJetVo0SBow",
    "pycharm": {
     "name": "#%%\n"
    }
   },
   "execution_count": null,
   "outputs": []
  },
  {
   "cell_type": "code",
   "source": [
    "# forward(), lookup_indices()\n",
    "encoded1 = torch_vocab(torch_tokenizer(train_text[4]))\n",
    "encoded2 = torch_vocab.lookup_indices(torch_tokenizer(train_text[4]))\n",
    "\n",
    "print(f\"encoded1: {encoded1}\")\n",
    "print(f\"encoded2: {encoded2}\")"
   ],
   "metadata": {
    "colab": {
     "base_uri": "https://localhost:8080/"
    },
    "id": "iCYQciFsoQto",
    "outputId": "ff28611a-f1dc-4b0e-b92a-64c4e2343d1f",
    "pycharm": {
     "name": "#%%\n"
    }
   },
   "execution_count": null,
   "outputs": [
    {
     "output_type": "stream",
     "name": "stdout",
     "text": [
      "encoded1: [1, 67, 135, 369, 6, 297, 2, 3245, 65, 8, 184, 1742, 4, 1, 138, 1177, 13, 3849, 3869, 304, 3, 66, 24, 3277, 1, 1176, 579, 4, 1, 93, 2, 24, 44, 4380, 1842, 18273, 2, 89, 14, 407, 1, 67, 61, 0, 17, 93, 19588, 3, 278, 3749, 0, 25905, 5, 3024, 25883, 19949, 99, 435, 25, 479, 11649, 2, 163, 18, 3849, 3869, 304, 537, 17954, 27012, 3, 8, 184, 157, 4, 1145, 3886, 1, 1623, 3, 1, 67, 11, 15, 658, 1071, 10, 3610, 19, 75, 11, 1586, 3]\n",
      "encoded2: [1, 67, 135, 369, 6, 297, 2, 3245, 65, 8, 184, 1742, 4, 1, 138, 1177, 13, 3849, 3869, 304, 3, 66, 24, 3277, 1, 1176, 579, 4, 1, 93, 2, 24, 44, 4380, 1842, 18273, 2, 89, 14, 407, 1, 67, 61, 0, 17, 93, 19588, 3, 278, 3749, 0, 25905, 5, 3024, 25883, 19949, 99, 435, 25, 479, 11649, 2, 163, 18, 3849, 3869, 304, 537, 17954, 27012, 3, 8, 184, 157, 4, 1145, 3886, 1, 1623, 3, 1, 67, 11, 15, 658, 1071, 10, 3610, 19, 75, 11, 1586, 3]\n"
     ]
    }
   ]
  },
  {
   "cell_type": "code",
   "source": [
    "# lookup_tokens()\n",
    "decoded = torch_vocab.lookup_tokens(encoded1)\n",
    "decoded_sentence = \" \".join(decoded)\n",
    "print(f\"decoded: {decoded_sentence}\")\n",
    "print(f\"original: {train_text[4]}\")"
   ],
   "metadata": {
    "colab": {
     "base_uri": "https://localhost:8080/"
    },
    "id": "C2YL8YyZoooO",
    "outputId": "d25f8d27-75d6-4da0-c234-0b664de092bd",
    "pycharm": {
     "name": "#%%\n"
    }
   },
   "execution_count": null,
   "outputs": [
    {
     "output_type": "stream",
     "name": "stdout",
     "text": [
      "decoded: the game began development in 2010 , carrying over a large portion of the work done on valkyria chronicles ii . while it retained the standard features of the series , it also underwent multiple adjustments , such as making the game more <unk> for series newcomers . character designer <unk> honjou and composer hitoshi sakimoto both returned from previous entries , along with valkyria chronicles ii director takeshi ozawa . a large team of writers handled the script . the game ' s opening theme was sung by may ' n .\n",
      "original:  The game began development in 2010 , carrying over a large portion of the work done on Valkyria Chronicles II . While it retained the standard features of the series , it also underwent multiple adjustments , such as making the game more <unk> for series newcomers . Character designer <unk> Honjou and composer Hitoshi Sakimoto both returned from previous entries , along with Valkyria Chronicles II director Takeshi Ozawa . A large team of writers handled the script . The game 's opening theme was sung by May 'n . \n",
      "\n"
     ]
    }
   ]
  }
 ]
}