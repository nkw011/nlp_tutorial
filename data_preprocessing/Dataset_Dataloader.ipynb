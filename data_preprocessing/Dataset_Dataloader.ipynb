{
 "nbformat": 4,
 "nbformat_minor": 0,
 "metadata": {
  "colab": {
   "name": "Dataset_Dataloader.ipynb",
   "provenance": [],
   "collapsed_sections": [],
   "toc_visible": true
  },
  "kernelspec": {
   "name": "python3",
   "display_name": "Python 3"
  },
  "language_info": {
   "name": "python"
  }
 },
 "cells": [
  {
   "cell_type": "markdown",
   "source": [
    "# 자연어처리에 사용되는 Dataset(데이터셋), Dataloader 구성하기\n",
    "\n",
    "Word-Level 단위 Language Modeling을 하기위한 Dataset을 구성하는 방법과 Machine Translation을 위한 Dataset, Dataloader 구성 방식에 대해 알아본다.\n",
    "\n",
    "Dataset\n",
    "* Language Modeling: WikiText-2\n",
    "* Mahcine Translation: Multi-30k"
   ],
   "metadata": {
    "id": "QpSFcob0zqLp",
    "pycharm": {
     "name": "#%% md\n"
    }
   }
  },
  {
   "cell_type": "markdown",
   "source": [
    "## 0. torchdata 설치하기\n",
    "\n",
    "torchtext.datasets을 이용해 데이터셋을 불러오려면 torchdata를 설치해야한다.\n",
    "자세한 내용은 이전 포스트를 확인하면 좋을 것 같다."
   ],
   "metadata": {
    "id": "uiNk3pPkY7F7",
    "pycharm": {
     "name": "#%% md\n"
    }
   }
  },
  {
   "cell_type": "code",
   "execution_count": null,
   "metadata": {
    "id": "upzqReH9zlrc",
    "pycharm": {
     "name": "#%%\n"
    }
   },
   "outputs": [],
   "source": [
    "!pip install folium==0.2.1"
   ]
  },
  {
   "cell_type": "code",
   "source": [
    "!pip install torchdata==0.4.0"
   ],
   "metadata": {
    "id": "TmI1CKd3ZXs1",
    "pycharm": {
     "name": "#%%\n"
    }
   },
   "execution_count": null,
   "outputs": []
  },
  {
   "cell_type": "markdown",
   "source": [
    "## 1. Language Modeling을 위한 데이터셋 구성하기"
   ],
   "metadata": {
    "id": "TCI-KU3RaLe_",
    "pycharm": {
     "name": "#%% md\n"
    }
   }
  },
  {
   "cell_type": "markdown",
   "source": [
    "### 1.1. WikiText-2 불러오기\n",
    "\n",
    "train 세트, \bval 세트, test 세트를 모두 불러와서 사용한다."
   ],
   "metadata": {
    "id": "Rbc5qRcyZfk6",
    "pycharm": {
     "name": "#%% md\n"
    }
   }
  },
  {
   "cell_type": "code",
   "source": [
    "from torchtext.datasets import WikiText2\n",
    "\n",
    "wiki_train, wiki_val, wiki_test = WikiText2()"
   ],
   "metadata": {
    "id": "lo73S_6jZb7J",
    "pycharm": {
     "name": "#%%\n"
    }
   },
   "execution_count": null,
   "outputs": []
  },
  {
   "cell_type": "code",
   "source": [
    "# 데이터셋 체크\n",
    "\n",
    "print(\"[Train]\")\n",
    "for i, text in enumerate(wiki_train):\n",
    "    if i == 5: break\n",
    "    print(text)\n",
    "\n",
    "print(\"\\n[Val]\")\n",
    "for i, text in enumerate(wiki_val):\n",
    "    if i == 5: break\n",
    "    print(text)\n",
    "\n",
    "print(\"\\n[Test]\")\n",
    "for i, text in enumerate(wiki_test):\n",
    "    if i == 5: break\n",
    "    print(text)"
   ],
   "metadata": {
    "colab": {
     "base_uri": "https://localhost:8080/"
    },
    "id": "O7wlFnMRZ9eI",
    "outputId": "b908570a-2ae1-45d7-9368-074bb12e556e",
    "pycharm": {
     "name": "#%%\n"
    }
   },
   "execution_count": null,
   "outputs": [
    {
     "output_type": "stream",
     "name": "stdout",
     "text": [
      "[Train]\n",
      " \n",
      "\n",
      " = Valkyria Chronicles III = \n",
      "\n",
      " \n",
      "\n",
      " Senjō no Valkyria 3 : <unk> Chronicles ( Japanese : 戦場のヴァルキュリア3 , lit . Valkyria of the Battlefield 3 ) , commonly referred to as Valkyria Chronicles III outside Japan , is a tactical role @-@ playing video game developed by Sega and Media.Vision for the PlayStation Portable . Released in January 2011 in Japan , it is the third game in the Valkyria series . <unk> the same fusion of tactical and real @-@ time gameplay as its predecessors , the story runs parallel to the first game and follows the \" Nameless \" , a penal military unit serving the nation of Gallia during the Second Europan War who perform secret black operations and are pitted against the Imperial unit \" <unk> Raven \" . \n",
      "\n",
      " The game began development in 2010 , carrying over a large portion of the work done on Valkyria Chronicles II . While it retained the standard features of the series , it also underwent multiple adjustments , such as making the game more <unk> for series newcomers . Character designer <unk> Honjou and composer Hitoshi Sakimoto both returned from previous entries , along with Valkyria Chronicles II director Takeshi Ozawa . A large team of writers handled the script . The game 's opening theme was sung by May 'n . \n",
      "\n",
      "\n",
      "[Val]\n",
      " \n",
      "\n",
      " = Homarus gammarus = \n",
      "\n",
      " \n",
      "\n",
      " Homarus gammarus , known as the European lobster or common lobster , is a species of <unk> lobster from the eastern Atlantic Ocean , Mediterranean Sea and parts of the Black Sea . It is closely related to the American lobster , H. americanus . It may grow to a length of 60 cm ( 24 in ) and a mass of 6 kilograms ( 13 lb ) , and bears a conspicuous pair of claws . In life , the lobsters are blue , only becoming \" lobster red \" on cooking . Mating occurs in the summer , producing eggs which are carried by the females for up to a year before hatching into <unk> larvae . Homarus gammarus is a highly esteemed food , and is widely caught using lobster pots , mostly around the British Isles . \n",
      "\n",
      " \n",
      "\n",
      "\n",
      "[Test]\n",
      " \n",
      "\n",
      " = Robert <unk> = \n",
      "\n",
      " \n",
      "\n",
      " Robert <unk> is an English film , television and theatre actor . He had a guest @-@ starring role on the television series The Bill in 2000 . This was followed by a starring role in the play Herons written by Simon Stephens , which was performed in 2001 at the Royal Court Theatre . He had a guest role in the television series Judge John <unk> in 2002 . In 2004 <unk> landed a role as \" Craig \" in the episode \" Teddy 's Story \" of the television series The Long Firm ; he starred alongside actors Mark Strong and Derek Jacobi . He was cast in the 2005 theatre productions of the Philip Ridley play Mercury Fur , which was performed at the Drum Theatre in Plymouth and the <unk> <unk> Factory in London . He was directed by John <unk> and starred alongside Ben <unk> , Shane <unk> , Harry Kent , Fraser <unk> , Sophie Stanton and Dominic Hall . \n",
      "\n",
      " In 2006 , <unk> starred alongside <unk> in the play <unk> written by Mark <unk> . He appeared on a 2006 episode of the television series , Doctors , followed by a role in the 2007 theatre production of How to Curse directed by <unk> <unk> . How to Curse was performed at Bush Theatre in the London Borough of <unk> and Fulham . <unk> starred in two films in 2008 , <unk> <unk> by filmmaker Paris <unk> , and <unk> Punch directed by <unk> Blackburn . In May 2008 , <unk> made a guest appearance on a two @-@ part episode arc of the television series Waking the Dead , followed by an appearance on the television series <unk> in November 2008 . He had a recurring role in ten episodes of the television series <unk> in 2010 , as \" <unk> Fletcher \" . <unk> starred in the 2011 film <unk> directed by Paris <unk> . \n",
      "\n"
     ]
    }
   ]
  },
  {
   "cell_type": "code",
   "source": [
    "print(f\"train set size: {len([text for text in wiki_train])}\")\n",
    "print(f\"val set size: {len([text for text in wiki_val])}\")\n",
    "print(f\"test set size: {len([text for text in wiki_test])}\")"
   ],
   "metadata": {
    "colab": {
     "base_uri": "https://localhost:8080/"
    },
    "id": "VAmghY0NgY1U",
    "outputId": "7f5fb3e3-48c1-4c90-d206-797864d0048d",
    "pycharm": {
     "name": "#%%\n"
    }
   },
   "execution_count": null,
   "outputs": [
    {
     "output_type": "stream",
     "name": "stdout",
     "text": [
      "train set size: 36718\n",
      "val set size: 3760\n",
      "test set size: 4358\n"
     ]
    }
   ]
  },
  {
   "cell_type": "markdown",
   "source": [
    "### 1.2. Tokenizer를 이용하여 Vocab 구성하기\n",
    "\n",
    "\n",
    "torchtext의 get_tokenizer()를 이용하여 Tokenizer를 불러온다. 불러온 이후 build_vocab_from_iterator()를 이용하여 Vocab을 구성한다.\n",
    "\n",
    "test 세트, val 세트는 학습용이 아니기 때문에 Vocab에 포함시키면 안된다. 따라서 train 세트만 사용해 Vocab을 구성하고 val세트, test 세트 내에 처음보는 단어들은 \\<unk\\> 토큰을 사용해 처리한다.\n"
   ],
   "metadata": {
    "id": "4oWVd_xsamsG",
    "pycharm": {
     "name": "#%% md\n"
    }
   }
  },
  {
   "cell_type": "code",
   "source": [
    "from torchtext.data.utils import get_tokenizer\n",
    "from torchtext.vocab import build_vocab_from_iterator"
   ],
   "metadata": {
    "id": "sTn0gV_cah3C",
    "pycharm": {
     "name": "#%%\n"
    }
   },
   "execution_count": null,
   "outputs": []
  },
  {
   "cell_type": "code",
   "source": [
    "tokenizer = get_tokenizer('basic_english')\n",
    "\n",
    "wiki_vocab = build_vocab_from_iterator(map(tokenizer, wiki_train), min_freq=3, specials=['<unk>'])"
   ],
   "metadata": {
    "id": "07K1UnuGbUnv",
    "pycharm": {
     "name": "#%%\n"
    }
   },
   "execution_count": null,
   "outputs": []
  },
  {
   "cell_type": "code",
   "source": [
    "wiki_id2token = wiki_vocab.get_itos()\n",
    "wiki_token2id = wiki_vocab.get_stoi()"
   ],
   "metadata": {
    "id": "c374bQcPdFeq",
    "pycharm": {
     "name": "#%%\n"
    }
   },
   "execution_count": null,
   "outputs": []
  },
  {
   "cell_type": "code",
   "source": [
    "wiki_id2token[0], wiki_token2id['<unk>']"
   ],
   "metadata": {
    "colab": {
     "base_uri": "https://localhost:8080/"
    },
    "id": "00Tzy4VxdH8f",
    "outputId": "218b52fb-f9da-4ff1-d644-1e7cc8b47c3d",
    "pycharm": {
     "name": "#%%\n"
    }
   },
   "execution_count": null,
   "outputs": [
    {
     "output_type": "execute_result",
     "data": {
      "text/plain": [
       "('<unk>', 0)"
      ]
     },
     "metadata": {},
     "execution_count": 16
    }
   ]
  },
  {
   "cell_type": "markdown",
   "source": [
    "### 1.3. Encoding하기\n",
    "\n",
    "train 세트, val 세트, test 세트를 Vocab을 이용하여 id값들로 바꾸어준다.\n",
    "\n",
    "이 때, 만약 Vocab에 없는 단어라면 \\<unk\\> 토큰을 사용한다."
   ],
   "metadata": {
    "id": "ZlfDCcQ3eXqm",
    "pycharm": {
     "name": "#%% md\n"
    }
   }
  },
  {
   "cell_type": "code",
   "source": [
    "import torch"
   ],
   "metadata": {
    "id": "SeJU0Gi-fde9",
    "pycharm": {
     "name": "#%%\n"
    }
   },
   "execution_count": null,
   "outputs": []
  },
  {
   "cell_type": "code",
   "source": [
    "def encode(tokenizer, token2id, data):\n",
    "    encoded = [\n",
    "              torch.tensor(list(map(lambda x: token2id.get(x, '<unk>'), tokens))).long()\n",
    "              for tokens in map(tokenizer, data)\n",
    "             ]\n",
    "    return torch.cat(encoded)"
   ],
   "metadata": {
    "id": "MGojp73keUaG",
    "pycharm": {
     "name": "#%%\n"
    }
   },
   "execution_count": null,
   "outputs": []
  },
  {
   "cell_type": "code",
   "source": [
    "wiki_train_seq = encode(tokenizer, wiki_token2id, wiki_train)\n",
    "wiki_val_seq = encode(tokenizer, wiki_token2id, wiki_val)\n",
    "wiki_test_seq = encode(tokenizer, wiki_token2id, wiki_test)"
   ],
   "metadata": {
    "id": "A1S64OAqfxgz",
    "pycharm": {
     "name": "#%%\n"
    }
   },
   "execution_count": null,
   "outputs": []
  },
  {
   "cell_type": "code",
   "source": [
    "print(f\"Train sequence size: {wiki_train_seq.size()}\")\n",
    "print(f\"Val sequence size: {wiki_val_seq.size()}\")\n",
    "print(f\"Test sequence size: {wiki_test_seq.size()}\")"
   ],
   "metadata": {
    "colab": {
     "base_uri": "https://localhost:8080/"
    },
    "id": "jgZWH4g_gB_W",
    "outputId": "d80cc6e2-febc-46a6-d42c-15ef59b2f90c",
    "pycharm": {
     "name": "#%%\n"
    }
   },
   "execution_count": null,
   "outputs": [
    {
     "output_type": "stream",
     "name": "stdout",
     "text": [
      "Train sequence size: torch.Size([2049990])\n",
      "Val sequence size: torch.Size([214417])\n",
      "Test sequence size: torch.Size([241859])\n"
     ]
    }
   ]
  },
  {
   "cell_type": "markdown",
   "source": [
    "### 1.4. batch 구성하기\n",
    "\n",
    "현재 데이터는 id로 이루어진 sequence이다. 이 sequence가 모델에 입력으로 들어가게되면 id와 매핑이 되는 임베딩 값으로 바뀌게된다. 그렇게 되면 shape이 1차원에서 2차원으로 바뀌게 된다.\n",
    "* total_len: 전체 길이, emb_dim: 임베딩 차원\n",
    "* (total_len,) → (total_len, emb_dim)\n",
    "\n",
    "하지만 sequence를 모델의 입력으로 그대로 사용하게되면 전체 길이를 학습하기 때문에 시간이 오래 걸린다. 따라서 보통 batch 단위로 잘라서 학습하게된다.\n",
    "* batch_size: batch 크기\n",
    "* seq_len: 학습의 크기로 정한 sub-sequence length\n",
    "\n",
    "먼저 전체 sequence를 batch_size만큼 나눈다.\n",
    "```\n",
    "total_sequence: [a, b, c, d, e, f, g, h, i, j, k, l] / shape: (12,)\n",
    "batch_size: 3\n",
    "\n",
    "[[a,b,c,d],\n",
    " [e,f,g,h],\n",
    " [i,j,k,l]]\n",
    "shape: (3,4)\n",
    "```\n",
    "학습의 크기로 정한 seq_len만큼 다시 나눈다.\n",
    "```\n",
    "batch_size: 3\n",
    "seq_len:2\n",
    "\n",
    "[[[a,b],[c,d]],\n",
    " [[e,f],[g,h]],\n",
    " [[i,j],[k,l]]]\n",
    "shape: (3,2,2)\n",
    "```\n",
    "모델의 입력으로 batch_size(한 번에 학습가능한 데이터 갯수)만큼 sub-sequence가 들어가기 위해서 shape의 첫번째 차원과 두번째 차원을 transpose한다.\n",
    "* view가 아닌 transpose를 사용하는 이유는 데이터의 순서를 유지하기 위해서이다.\n",
    "\n",
    "```\n",
    "batch_size: 3\n",
    "seq_len:2\n",
    "\n",
    "[[[a,b],[e,f],[i,j]],\n",
    " [[c,d],[g,h],[k,l]]]\n",
    "shape: (2,3,2)\n",
    "```\n",
    "이렇게 바꾸게 되면 데이터가 다음과 같이 모델의 입력으로 들어가게된다.\n",
    "\n",
    "```\n",
    "batch_size: 3\n",
    "seq_len:2\n",
    "\n",
    "첫번째: [[a,b],[c,d],[e,f]] / shape: (batch_size, seq_len)\n",
    "\n",
    "두번째: [[g,h],[i,j],[k,l]] / shape: (batch_size, seq_len)\n",
    "```\n",
    "임베딩 과정을 거치게 되면 shape이 다음과 같이 바뀌게된다.\n",
    "* (batch_size, seq_len) → (batch_size, seq_len, emb_dim)\n",
    "\n",
    "이렇게 batch_size가 shape의 처음에 오도록 데이터셋을 구성하는 방식을 batch_first 형태라고 부른다."
   ],
   "metadata": {
    "id": "pKER_9pLgl11",
    "pycharm": {
     "name": "#%% md\n"
    }
   }
  },
  {
   "cell_type": "code",
   "source": [
    "def batchfy(data, batch_size, seq_len):\n",
    "    num_sample = data.size()[0] // (batch_size * seq_len)\n",
    "    data = data[:num_sample*batch_size*seq_len] # 남은 길이는 제외한다.\n",
    "    data = data.view(batch_size,-1,seq_len).transpose(0,1)\n",
    "    return data"
   ],
   "metadata": {
    "id": "Qq-wCgISgFOm",
    "pycharm": {
     "name": "#%%\n"
    }
   },
   "execution_count": null,
   "outputs": []
  },
  {
   "cell_type": "code",
   "source": [
    "batch_size=128\n",
    "seq_len=64\n",
    "\n",
    "wiki_train_batch = batchfy(wiki_train_seq, batch_size, seq_len)\n",
    "wiki_val_batch = batchfy(wiki_val_seq, batch_size, seq_len)\n",
    "wiki_test_batch = batchfy(wiki_test_seq, batch_size, seq_len)"
   ],
   "metadata": {
    "id": "tweFxgKOnX19",
    "pycharm": {
     "name": "#%%\n"
    }
   },
   "execution_count": null,
   "outputs": []
  },
  {
   "cell_type": "code",
   "source": [
    "print(f\"Train batch size: {wiki_train_batch.size()}\")\n",
    "print(f\"Val batch size: {wiki_val_batch.size()}\")\n",
    "print(f\"Test batch size: {wiki_test_batch.size()}\")"
   ],
   "metadata": {
    "colab": {
     "base_uri": "https://localhost:8080/"
    },
    "id": "i7n_m1WsnlSA",
    "outputId": "219b6879-333a-4ca7-e98a-945e54e3d020",
    "pycharm": {
     "name": "#%%\n"
    }
   },
   "execution_count": null,
   "outputs": [
    {
     "output_type": "stream",
     "name": "stdout",
     "text": [
      "Train batch size: torch.Size([250, 128, 64])\n",
      "Val batch size: torch.Size([26, 128, 64])\n",
      "Test batch size: torch.Size([29, 128, 64])\n"
     ]
    }
   ]
  },
  {
   "cell_type": "code",
   "source": [
    "wiki_train_batch[0].size()"
   ],
   "metadata": {
    "colab": {
     "base_uri": "https://localhost:8080/"
    },
    "id": "zyujx4Ygn7rn",
    "outputId": "c39f5a51-9cf4-46dd-d928-c2361e2219b5",
    "pycharm": {
     "name": "#%%\n"
    }
   },
   "execution_count": null,
   "outputs": [
    {
     "output_type": "execute_result",
     "data": {
      "text/plain": [
       "torch.Size([128, 64])"
      ]
     },
     "metadata": {},
     "execution_count": 30
    }
   ]
  },
  {
   "cell_type": "markdown",
   "source": [
    "## 2. Machine Translation을 위한 데이터셋 구성하기"
   ],
   "metadata": {
    "id": "DsfriBMFpNQR",
    "pycharm": {
     "name": "#%% md\n"
    }
   }
  },
  {
   "cell_type": "markdown",
   "source": [
    "### 2.1. Multi30k 불러오기\n",
    "\n",
    "Multi30k는 독일어-영어로 이루어진 데이터셋이다. \n",
    "* language_pair를 이용하여 ('de', 'en'), ('en', 'de') 순서를 정할 수 있다.\n",
    "    * 영어를 독일어로 변형하기 위해 ('en', 'de') 방식으로 불러올 것이다.\n",
    "* 나머지는 WikiText-2 파라미터와 동일하다."
   ],
   "metadata": {
    "id": "-t6gKk5t3ld6",
    "pycharm": {
     "name": "#%% md\n"
    }
   }
  },
  {
   "cell_type": "code",
   "source": [
    "from torchtext.datasets import Multi30k\n",
    "\n",
    "multi_train, multi_valid, multi_test = Multi30k(language_pair=('en','de'))"
   ],
   "metadata": {
    "id": "qJylaGuF3k_h",
    "pycharm": {
     "name": "#%%\n"
    }
   },
   "execution_count": null,
   "outputs": []
  },
  {
   "cell_type": "code",
   "source": [
    "for i, (eng, de) in enumerate(multi_train):\n",
    "    if i == 5: break\n",
    "    print(f\"index:{i}, English: {eng}, das Deutsche: {de}\")"
   ],
   "metadata": {
    "colab": {
     "base_uri": "https://localhost:8080/"
    },
    "id": "IaAY6FlJ4x1c",
    "outputId": "9ff975a9-f0e6-47e1-8fb2-b69cf916b801",
    "pycharm": {
     "name": "#%%\n"
    }
   },
   "execution_count": null,
   "outputs": [
    {
     "output_type": "stream",
     "name": "stdout",
     "text": [
      "index:0, English: Two young, White males are outside near many bushes., das Deutsche: Zwei junge weiße Männer sind im Freien in der Nähe vieler Büsche.\n",
      "index:1, English: Several men in hard hats are operating a giant pulley system., das Deutsche: Mehrere Männer mit Schutzhelmen bedienen ein Antriebsradsystem.\n",
      "index:2, English: A little girl climbing into a wooden playhouse., das Deutsche: Ein kleines Mädchen klettert in ein Spielhaus aus Holz.\n",
      "index:3, English: A man in a blue shirt is standing on a ladder cleaning a window., das Deutsche: Ein Mann in einem blauen Hemd steht auf einer Leiter und putzt ein Fenster.\n",
      "index:4, English: Two men are at the stove preparing food., das Deutsche: Zwei Männer stehen am Herd und bereiten Essen zu.\n"
     ]
    }
   ]
  },
  {
   "cell_type": "code",
   "source": [
    "len([text for text in multi_train]), len([text for text in multi_valid]), len([text for text in multi_test])"
   ],
   "metadata": {
    "id": "P_UjTNqFfLi4",
    "pycharm": {
     "name": "#%%\n"
    }
   },
   "execution_count": null,
   "outputs": []
  },
  {
   "cell_type": "markdown",
   "source": [
    "한 번에 (영어, 독일어) pair를 1개씩 불러올 수 있다."
   ],
   "metadata": {
    "id": "bo9Au5-H5c4V",
    "pycharm": {
     "name": "#%% md\n"
    }
   }
  },
  {
   "cell_type": "markdown",
   "source": [
    "### 2.2. Tokenizer를 이용하여 Vocab 구성하기\n",
    "\n",
    "번역하려는 문장을 Source, 번역된 문장을 Target이라고 부른다.\n",
    "\n",
    "Source, Target의 언어 도메인이 다르기 때문에 Vocab을 따로 구성해야한다.\n",
    "\n",
    "'spacy'를 이용하여 영어와 독일어를 토큰화한 후 Vocab을 따로 구성해본다.\n",
    "* get_tokenizer에 tokenizer에 'spacy'를 넘겨주면 spacy tokenizer를 사용할 수 있다.\n",
    "    * tokenizer를 명시한 경우 language에 사용하려는 언어를 명시해주어야한다."
   ],
   "metadata": {
    "id": "BQuk-GjP5rxK",
    "pycharm": {
     "name": "#%% md\n"
    }
   }
  },
  {
   "cell_type": "code",
   "source": [
    "# 독일어, 영어 토큰화를 위한 데이터 다운로드\n",
    "!python -m spacy download en_core_web_sm\n",
    "!python -m spacy download de_core_news_sm"
   ],
   "metadata": {
    "id": "f38CZJGn7d1k",
    "pycharm": {
     "name": "#%%\n"
    }
   },
   "execution_count": null,
   "outputs": []
  },
  {
   "cell_type": "code",
   "source": [
    "from torchtext.data.utils import get_tokenizer\n",
    "from torchtext.vocab import build_vocab_from_iterator"
   ],
   "metadata": {
    "id": "_Hz_p1Qb4zSl",
    "pycharm": {
     "name": "#%%\n"
    }
   },
   "execution_count": null,
   "outputs": []
  },
  {
   "cell_type": "code",
   "source": [
    "en_tokenizer = get_tokenizer(tokenizer='spacy', language='en_core_web_sm')\n",
    "de_tokenizer = get_tokenizer(tokenizer='spacy', language='de_core_news_sm')"
   ],
   "metadata": {
    "id": "6YhuCm8M7C_O",
    "pycharm": {
     "name": "#%%\n"
    }
   },
   "execution_count": null,
   "outputs": []
  },
  {
   "cell_type": "markdown",
   "source": [
    "마찬가지로 train 세트만 이용해서 Vocab을 구성하겠다.\n",
    "\n",
    "special token도 같이 포함한다.\n",
    "* \\<unk\\>: unknown token\n",
    "* \\<sos\\>: start of sentence\n",
    "* \\<eos\\>: end of sentence\n",
    "* \\<pad\\>: padding\n"
   ],
   "metadata": {
    "id": "6_tek5I88Hz4",
    "pycharm": {
     "name": "#%% md\n"
    }
   }
  },
  {
   "cell_type": "code",
   "source": [
    "from functools import partial"
   ],
   "metadata": {
    "id": "5AAYKs9q9R_K",
    "pycharm": {
     "name": "#%%\n"
    }
   },
   "execution_count": null,
   "outputs": []
  },
  {
   "cell_type": "code",
   "source": [
    "en_vocab = build_vocab_from_iterator(map(en_tokenizer, [english for english, _ in multi_train]), min_freq=2, specials=[\"<unk>\", \"<sos>\", \"<eos>\", \"<pad>\"])\n",
    "de_vocab = build_vocab_from_iterator(map(de_tokenizer, [de for _ , de in multi_train]), min_freq=2, specials=[\"<unk>\", \"<sos>\", \"<eos>\", \"<pad>\"])"
   ],
   "metadata": {
    "colab": {
     "base_uri": "https://localhost:8080/"
    },
    "id": "CNK7TG5D7P8Q",
    "outputId": "bb231140-c3f6-4de0-8611-fbaf6dbbc3bf",
    "pycharm": {
     "name": "#%%\n"
    }
   },
   "execution_count": null,
   "outputs": [
    {
     "output_type": "stream",
     "name": "stderr",
     "text": [
      "/usr/local/lib/python3.7/dist-packages/torch/utils/data/datapipes/iter/combining.py:249: UserWarning: Some child DataPipes are not exhausted when __iter__ is called. We are resetting the buffer and each child DataPipe will read from the start again.\n",
      "  \"the buffer and each child DataPipe will read from the start again.\", UserWarning)\n"
     ]
    }
   ]
  },
  {
   "cell_type": "code",
   "source": [
    "en_token2id = en_vocab.get_stoi()\n",
    "de_token2id = de_vocab.get_stoi()\n",
    "\n",
    "en_id2token = en_vocab.get_itos()\n",
    "de_id2token = de_vocab.get_itos()\n",
    "\n",
    "print(len(en_token2id),len(de_token2id)) # vocab 크기"
   ],
   "metadata": {
    "colab": {
     "base_uri": "https://localhost:8080/"
    },
    "id": "nKqfZDIx8i_S",
    "outputId": "de4536b6-029f-4fdf-d2d9-6992449c5941",
    "pycharm": {
     "name": "#%%\n"
    }
   },
   "execution_count": null,
   "outputs": [
    {
     "output_type": "stream",
     "name": "stdout",
     "text": [
      "6191 8014\n"
     ]
    }
   ]
  },
  {
   "cell_type": "code",
   "source": [
    "# 스페셜 토큰 체크\n",
    "\n",
    "en_token2id['<unk>'], en_token2id['<sos>'], en_token2id['<eos>'], en_token2id['<pad>']"
   ],
   "metadata": {
    "colab": {
     "base_uri": "https://localhost:8080/"
    },
    "id": "drL4nUnpAKwm",
    "outputId": "57b3ddd5-eaf9-40aa-b5ce-0947d2cbf34a",
    "pycharm": {
     "name": "#%%\n"
    }
   },
   "execution_count": null,
   "outputs": [
    {
     "output_type": "execute_result",
     "data": {
      "text/plain": [
       "(0, 1, 2, 3)"
      ]
     },
     "metadata": {},
     "execution_count": 45
    }
   ]
  },
  {
   "cell_type": "code",
   "source": [
    "# 스페셜 토큰 체크\n",
    "de_token2id['<unk>'], de_token2id['<sos>'], de_token2id['<eos>'], de_token2id['<pad>']"
   ],
   "metadata": {
    "colab": {
     "base_uri": "https://localhost:8080/"
    },
    "id": "ivWCUYcJB23a",
    "outputId": "3bf13a7b-4848-4617-d47b-8716e123adef",
    "pycharm": {
     "name": "#%%\n"
    }
   },
   "execution_count": null,
   "outputs": [
    {
     "output_type": "execute_result",
     "data": {
      "text/plain": [
       "(0, 1, 2, 3)"
      ]
     },
     "metadata": {},
     "execution_count": 46
    }
   ]
  },
  {
   "cell_type": "markdown",
   "source": [
    "### 2.3. Vocab을 이용하여 전처리 하기\n",
    "\n",
    "\n",
    "Source는 문장을 바로 id값들로 바꾸면 되지만, Target은 문장의 앞 뒤로 \\<sos\\>, \\<eos\\>를 넣어야한다."
   ],
   "metadata": {
    "id": "G2XeXLAvCoaa",
    "pycharm": {
     "name": "#%% md\n"
    }
   }
  },
  {
   "cell_type": "code",
   "source": [
    "class Language:\n",
    "    unk_token_id = 0\n",
    "    sos_token_id = 1\n",
    "    eos_token_id = 2\n",
    "    pad_token_id = 3\n",
    "\n",
    "    def __init__(self, src_tokenizer, tgt_tokenizer, src_token2id, tgt_token2id, src_id2token, tgt_id2token):\n",
    "        self.src_tokenizer = src_tokenizer\n",
    "        self.tgt_tokenizer = tgt_tokenizer\n",
    "\n",
    "        self.src_token2id = src_token2id\n",
    "        self.tgt_token2id = tgt_token2id\n",
    "\n",
    "        self.src_id2token = src_id2token\n",
    "        self.tgt_id2token = tgt_id2token\n",
    "\n",
    "    def src_encode(self, src_text):\n",
    "        source_sentence = [ self.src_token2id.get(token, self.src_token2id['<unk>']) for token in self.src_tokenizer(src_text) ]\n",
    "        return source_sentence\n",
    "    \n",
    "    def tgt_encode(self, tgt_text):\n",
    "        target_sentence = [self.tgt_token2id['<sos>']] \\\n",
    "        + [ self.tgt_token2id.get(token, self.tgt_token2id['<unk>']) for token in self.tgt_tokenizer(tgt_text) ] \\\n",
    "        + [self.tgt_token2id['<eos>']]\n",
    "        return target_sentence\n",
    "    \n",
    "    def src_decode(self, ids):\n",
    "        sentence = list(map(lambda x: self.src_id2token[x], ids))\n",
    "        return \" \".join(sentence)\n",
    "\n",
    "    def tgt_decode(self, ids):\n",
    "        sentence = list(map(lambda x: self.tgt_id2token[x], ids))[1:-1]\n",
    "        return \" \".join(sentence)"
   ],
   "metadata": {
    "id": "hlkE67XLI6Kg",
    "pycharm": {
     "name": "#%%\n"
    }
   },
   "execution_count": null,
   "outputs": []
  },
  {
   "cell_type": "code",
   "source": [
    "pre_process = Language(en_tokenizer, de_tokenizer, en_token2id, de_token2id, en_id2token, de_id2token)"
   ],
   "metadata": {
    "id": "GTpVUg0xLZUd",
    "pycharm": {
     "name": "#%%\n"
    }
   },
   "execution_count": null,
   "outputs": []
  },
  {
   "cell_type": "code",
   "source": [
    "en_test, de_test = next(iter(multi_train))"
   ],
   "metadata": {
    "id": "cx1TcIJCL1vs",
    "pycharm": {
     "name": "#%%\n"
    }
   },
   "execution_count": null,
   "outputs": []
  },
  {
   "cell_type": "code",
   "source": [
    "en_encoded = pre_process.src_encode(en_test)\n",
    "de_encoded = pre_process.tgt_encode(de_test)"
   ],
   "metadata": {
    "id": "xgY6-gJML4rL",
    "pycharm": {
     "name": "#%%\n"
    }
   },
   "execution_count": null,
   "outputs": []
  },
  {
   "cell_type": "code",
   "source": [
    "print(f\"source original: {en_test}\")\n",
    "print(f\"target original: {de_test}\")"
   ],
   "metadata": {
    "colab": {
     "base_uri": "https://localhost:8080/"
    },
    "id": "ltRlZ8erMWAI",
    "outputId": "b8102291-041a-488b-b98e-d4ad311bdf53",
    "pycharm": {
     "name": "#%%\n"
    }
   },
   "execution_count": null,
   "outputs": [
    {
     "output_type": "stream",
     "name": "stdout",
     "text": [
      "source original: Two young, White males are outside near many bushes.\n",
      "target original: Zwei junge weiße Männer sind im Freien in der Nähe vieler Büsche.\n"
     ]
    }
   ]
  },
  {
   "cell_type": "code",
   "source": [
    "print(f\"source decoded: {pre_process.src_decode(en_encoded)}\")\n",
    "print(f\"source decoded: {pre_process.tgt_decode(de_encoded)}\")"
   ],
   "metadata": {
    "colab": {
     "base_uri": "https://localhost:8080/"
    },
    "id": "_b4e1lqGMKot",
    "outputId": "6261e88e-2905-4b5b-fbc4-eebf35bb2b7e",
    "pycharm": {
     "name": "#%%\n"
    }
   },
   "execution_count": null,
   "outputs": [
    {
     "output_type": "stream",
     "name": "stdout",
     "text": [
      "source decoded: Two young , White males are outside near many bushes .\n",
      "source decoded: Zwei junge weiße Männer sind im Freien in der Nähe vieler Büsche .\n"
     ]
    }
   ]
  },
  {
   "cell_type": "markdown",
   "source": [
    "### 2.4. Custom Dataset 구성하기\n",
    "\n",
    "torch.utils.data.Dataset을 상속받아 train 데이터셋, valid 데이터셋, test 데이터셋을 구성한다."
   ],
   "metadata": {
    "id": "mVtyVndGGODJ",
    "pycharm": {
     "name": "#%% md\n"
    }
   }
  },
  {
   "cell_type": "code",
   "source": [
    "from torch.utils.data import Dataset"
   ],
   "metadata": {
    "id": "Y3oW4Q35HBNc",
    "pycharm": {
     "name": "#%%\n"
    }
   },
   "execution_count": null,
   "outputs": []
  },
  {
   "cell_type": "code",
   "source": [
    "class MultiDataset(Dataset):\n",
    "    def __init__(self, data, language):\n",
    "        self.data = data\n",
    "        self.language = language\n",
    "        self.sentences = self.preprocess()\n",
    "\n",
    "    def preprocess(self):\n",
    "        # dataset 안에 길이가 0인 문장이 존재한다. \n",
    "        sentences = [ (self.language.src_encode(eng), self.language.tgt_encode(de)) \n",
    "                      for eng, de in self.data if len(eng) > 0 and len(de) > 0]\n",
    "\n",
    "        return sentences\n",
    "\n",
    "    def __getitem__(self, idx):\n",
    "        return self.sentences[idx]\n",
    "\n",
    "    def __len__(self):\n",
    "        return len(self.sentences)"
   ],
   "metadata": {
    "id": "356J3JFwF3tI",
    "pycharm": {
     "name": "#%%\n"
    }
   },
   "execution_count": null,
   "outputs": []
  },
  {
   "cell_type": "code",
   "source": [
    "language = Language(en_tokenizer, de_tokenizer, en_token2id, de_token2id, en_id2token, de_id2token)"
   ],
   "metadata": {
    "id": "X7jCKYCuNf87",
    "pycharm": {
     "name": "#%%\n"
    }
   },
   "execution_count": null,
   "outputs": []
  },
  {
   "cell_type": "code",
   "source": [
    "multi_train_dataset = MultiDataset(multi_train, language)\n",
    "multi_val_dataset = MultiDataset(multi_valid, language)\n",
    "multi_test_dataset = MultiDataset(multi_test, language)"
   ],
   "metadata": {
    "id": "9RJxSv6PQ7Op",
    "pycharm": {
     "name": "#%%\n"
    }
   },
   "execution_count": null,
   "outputs": []
  },
  {
   "cell_type": "code",
   "source": [
    "multi_train_dataset[0]"
   ],
   "metadata": {
    "colab": {
     "base_uri": "https://localhost:8080/"
    },
    "id": "5pKavUZbROXC",
    "outputId": "ea734299-5881-4289-e0b6-2d774751873c",
    "pycharm": {
     "name": "#%%\n"
    }
   },
   "execution_count": null,
   "outputs": [
    {
     "output_type": "execute_result",
     "data": {
      "text/plain": [
       "([19, 25, 15, 1169, 808, 17, 57, 84, 336, 1339, 5],\n",
       " [1, 21, 85, 257, 31, 87, 22, 94, 7, 16, 112, 7910, 3209, 4, 2])"
      ]
     },
     "metadata": {},
     "execution_count": 160
    }
   ]
  },
  {
   "cell_type": "code",
   "source": [
    "multi_val_dataset[0]"
   ],
   "metadata": {
    "colab": {
     "base_uri": "https://localhost:8080/"
    },
    "id": "KnYjUJnQRbPL",
    "outputId": "43b108d8-b9e6-4aaa-e254-68aed988c291",
    "pycharm": {
     "name": "#%%\n"
    }
   },
   "execution_count": null,
   "outputs": [
    {
     "output_type": "execute_result",
     "data": {
      "text/plain": [
       "([6, 39, 13, 36, 17, 1667, 2541, 342, 4, 282],\n",
       " [1, 14, 38, 24, 243, 2744, 0, 11, 20, 892, 2])"
      ]
     },
     "metadata": {},
     "execution_count": 161
    }
   ]
  },
  {
   "cell_type": "code",
   "source": [
    "multi_test_dataset[0]"
   ],
   "metadata": {
    "colab": {
     "base_uri": "https://localhost:8080/"
    },
    "id": "soo71lw6Rfdh",
    "outputId": "e71e88cd-69b1-4a76-b39d-dba3f8517846",
    "pycharm": {
     "name": "#%%\n"
    }
   },
   "execution_count": null,
   "outputs": [
    {
     "output_type": "execute_result",
     "data": {
      "text/plain": [
       "([6, 12, 7, 28, 91, 68, 2670, 20, 122, 5],\n",
       " [1, 5, 12, 10, 6, 178, 108, 8, 16, 78, 0, 4, 2])"
      ]
     },
     "metadata": {},
     "execution_count": 163
    }
   ]
  },
  {
   "cell_type": "code",
   "source": [
    "len(multi_train_dataset), len(multi_val_dataset), len(multi_test_dataset)"
   ],
   "metadata": {
    "colab": {
     "base_uri": "https://localhost:8080/"
    },
    "id": "OTQ9-zYQhX56",
    "outputId": "9f544e04-688e-4332-e26a-109133333b87",
    "pycharm": {
     "name": "#%%\n"
    }
   },
   "execution_count": null,
   "outputs": [
    {
     "output_type": "execute_result",
     "data": {
      "text/plain": [
       "(29000, 1014, 1000)"
      ]
     },
     "metadata": {},
     "execution_count": 164
    }
   ]
  },
  {
   "cell_type": "markdown",
   "source": [
    "### 2.5. Dataloader 구성하기\n",
    "\n"
   ],
   "metadata": {
    "id": "dwf0peLzS4Gk",
    "pycharm": {
     "name": "#%% md\n"
    }
   }
  },
  {
   "cell_type": "markdown",
   "source": [
    "\n",
    "#### collate_fn\n",
    "\n",
    "Batch 안에 존재하는 sequence의 길이가 모두 다르기 때문에 padding을 이용하여 크기를 맞춰줘야한다.\n",
    "\n",
    "collate_fn은 Dataloader 내에서 원하는 형태의 Batch로 가공하기 위해 사용되는 함수이다. \n",
    "\n",
    "torch.nn.utils.rnn.pad_sequnce를 활용하여 sequence에 padding을 추가하고 collate_fn 함수를 활용하여 Batch내 sequence의 길이를 맞추는 작업을 한다.\n",
    "* pad_sequence는 padding을 뒤부터 채워넣는다."
   ],
   "metadata": {
    "id": "9Arc8EGkTATC",
    "pycharm": {
     "name": "#%% md\n"
    }
   }
  },
  {
   "cell_type": "code",
   "source": [
    "import torch\n",
    "from torch.nn.utils.rnn import pad_sequence"
   ],
   "metadata": {
    "id": "JIJcGYurU9Fg",
    "pycharm": {
     "name": "#%%\n"
    }
   },
   "execution_count": null,
   "outputs": []
  },
  {
   "cell_type": "code",
   "source": [
    "def collate_fn(batch_samples):\n",
    "    pad_token_id = Language.pad_token_id\n",
    "\n",
    "    src_sentences = pad_sequence([torch.tensor(src) for src, _ in batch_samples], batch_first=True, padding_value=pad_token_id)\n",
    "    tgt_sentences = pad_sequence([torch.tensor(tgt) for _, tgt in batch_samples], batch_first=True, padding_value=pad_token_id)\n",
    "\n",
    "    return src_sentences, tgt_sentences"
   ],
   "metadata": {
    "id": "itnLfb4lRhY1",
    "pycharm": {
     "name": "#%%\n"
    }
   },
   "execution_count": null,
   "outputs": []
  },
  {
   "cell_type": "markdown",
   "source": [
    "#### batch_sampler\n",
    "\n",
    "padding을 채울 때 비슷한 길이의 sequence들이 하나의 Batch안에 있을수록 더 적은 padding을 사용할 수 있을 것이다.\n",
    "* sequence bucketing이라고도 불린다.\n",
    "\n",
    "batch_sampler는 Data를 sampling해 Batch를 구성하는 방법이다.\n",
    "batch_sampler를 활용해서 비슷한 길이의 sequence가 하나의 Batch안에 존재할 수 있게 Batch를 구성한다.\n",
    "* batch_sampler는 Batch를 구성하는 방법을 가리키고 collate_fn은 구성된 Batch를 가공하는 역할이라고 보면 된다.\n",
    "\n",
    "기계 번역은 하나의 sample안에 Source와 Target이 존재하므로 2개의 문장을 모두 고려해야한다. 쉬운 방법으로 Source에 맞춰 sampling을 하는 것이다. Source와 Target의 길이가 대체로 비슷하기 때문에 Source나 Target을 기준으로 sampling을 구성하면된다.\n",
    "* 여기서는 source에 맞춰 bucketing을 간단하게 구현하겠다.\n",
    "* [Comprehensive Hands-on Guide to Sequence Model batching strategy: Bucketing technique](https://rashmi-margani.medium.com/how-to-speed-up-the-training-of-the-sequence-model-using-bucketing-techniques-9e302b0fd976)\n",
    "\n",
    "마지막으로 모델이 길이에 편향되어 학습하지 않도록 shuffle해주는 것도 중요하다."
   ],
   "metadata": {
    "id": "N0-dAmDwVkuI",
    "pycharm": {
     "name": "#%% md\n"
    }
   }
  },
  {
   "cell_type": "code",
   "source": [
    "import random"
   ],
   "metadata": {
    "id": "U2Lx8ukSlE3R",
    "pycharm": {
     "name": "#%%\n"
    }
   },
   "execution_count": null,
   "outputs": []
  },
  {
   "cell_type": "code",
   "source": [
    "def batch_sampling(sequence_lengths, batch_size):\n",
    "    '''\n",
    "    sequence_length: (source 길이, target 길이)가 담긴 리스트이다.\n",
    "    batch_size: batch 크기\n",
    "    '''\n",
    "\n",
    "    seq_lens = [(i, seq_len, tgt_len) for i,(seq_len, tgt_len) in enumerate(sequence_lengths)]\n",
    "    seq_lens = sorted(seq_lens, key=lambda x: x[1])\n",
    "    seq_lens = [sample[0] for sample in seq_lens]\n",
    "    sample_indices = [ seq_lens[i:i+batch_size] for i in range(0,len(seq_lens), batch_size)]\n",
    "\n",
    "    random.shuffle(sample_indices) # 모델이 길이에 편향되지 않도록 섞는다.\n",
    "\n",
    "    return sample_indices"
   ],
   "metadata": {
    "id": "s1oYxrRwXKiq",
    "pycharm": {
     "name": "#%%\n"
    }
   },
   "execution_count": null,
   "outputs": []
  },
  {
   "cell_type": "markdown",
   "source": [
    "#### DataLoader\n",
    "\n",
    "Batch 크기를 5로 설정하고 collate_fn과 batch_sampler를 활용해 Dataloader를 구현하였다."
   ],
   "metadata": {
    "id": "bo3gND-9b-m9",
    "pycharm": {
     "name": "#%% md\n"
    }
   }
  },
  {
   "cell_type": "code",
   "source": [
    "from torch.utils.data import DataLoader"
   ],
   "metadata": {
    "id": "CDNiUamqcg4I",
    "pycharm": {
     "name": "#%%\n"
    }
   },
   "execution_count": null,
   "outputs": []
  },
  {
   "cell_type": "code",
   "source": [
    "batch_size=5\n",
    "\n",
    "sequence_lengths = list(map(lambda x: (len(x[0]), len(x[1])), multi_train_dataset))\n",
    "\n",
    "batch_sampler = batch_sampling(sequence_lengths, batch_size)\n",
    "\n",
    "train_loader = DataLoader(multi_train_dataset, collate_fn=collate_fn, batch_sampler=batch_sampler)"
   ],
   "metadata": {
    "id": "GS-OZ9ZXb2dy",
    "pycharm": {
     "name": "#%%\n"
    }
   },
   "execution_count": null,
   "outputs": []
  },
  {
   "cell_type": "code",
   "source": [
    "for src, tgt in train_loader:\n",
    "    print(src)\n",
    "    print(tgt)\n",
    "    break"
   ],
   "metadata": {
    "colab": {
     "base_uri": "https://localhost:8080/"
    },
    "id": "h9ZoAhfPc2k8",
    "outputId": "dcbf676c-cc90-4d75-dbed-43b79fc2514b",
    "pycharm": {
     "name": "#%%\n"
    }
   },
   "execution_count": null,
   "outputs": [
    {
     "output_type": "stream",
     "name": "stdout",
     "text": [
      "tensor([[ 111,   14, 2250,   15,  150,   15,   68,   15,    7, 1071,  302,  139,\n",
      "           74,   18,   34,   15,    7,   44,   13,    4,   90,    5],\n",
      "        [   6,   25,   35,   14,    4,   31,   23,   15,   30,  177,   11, 1761,\n",
      "          492,   18,  249,   82,   48,    8,    0,    0,  772,    5],\n",
      "        [   6,   39,   13,   36,   17,   32,   11,   37,    4, 1097,   15,   88,\n",
      "           13,  159,   17,  217,  987,   11,   88,   17,  121,    5],\n",
      "        [  19,  117,   15,   54,  294,   11,   54,   26,   15,  127, 1994,   43,\n",
      "           13,   43, 1701,    9,    8,  101,   84,    8,  860,    5],\n",
      "        [1167,    7,   51,  394,   23,   11, 1527, 1371,   15,   46,    4,  220,\n",
      "           14,  515, 2116,    7,   27,   30, 1013,  106, 2408,    5]])\n",
      "tensor([[   1,    5,   12,   10, 1347,    8,  142,    9,  108,    7,    0,    8,\n",
      "           70,   28,    6,  137,   15,  212,   24,   25,   49,   79,   33,    4,\n",
      "            2,    3],\n",
      "        [   1,    5,   75,   35,   10,    6,   51,   41,    8,  226,  161,    9,\n",
      "         1878,    8,  474,   23,   26,    0,    0, 1021,  119,   29,  167,    4,\n",
      "            2,    3],\n",
      "        [   1,   14,   38,   31,   32,    9,   30,    7,    6, 2865,    8,  344,\n",
      "           24,  208,  646, 1286,    8,   37,  105,   25,  190,    4,    2,    3,\n",
      "            3,    3],\n",
      "        [   1,   21,  123,    8,   15,  754,    9,   15,  117,    8,   59, 2658,\n",
      "           11,   26,  454,    7,   16,  112,   24,    6,  852,    4,    2,    3,\n",
      "            3,    3],\n",
      "        [   1,    5,   12,    7,    6,  657,  421,   41,    9,    6, 2158,    8,\n",
      "           39,   15,  224,    9,   98,  151, 1140, 1150,    7,  200,   47,    0,\n",
      "            4,    2]])\n"
     ]
    }
   ]
  }
 ]
}