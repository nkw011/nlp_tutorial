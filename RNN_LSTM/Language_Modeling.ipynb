{
 "nbformat": 4,
 "nbformat_minor": 0,
 "metadata": {
  "colab": {
   "name": "Language_Modeling.ipynb",
   "provenance": [],
   "collapsed_sections": []
  },
  "kernelspec": {
   "name": "python3",
   "display_name": "Python 3"
  },
  "language_info": {
   "name": "python"
  },
  "accelerator": "GPU",
  "gpuClass": "standard",
  "widgets": {
   "application/vnd.jupyter.widget-state+json": {
    "78d6c671a5c84d94a4861e5a1447c5ee": {
     "model_module": "@jupyter-widgets/controls",
     "model_name": "HBoxModel",
     "model_module_version": "1.5.0",
     "state": {
      "_dom_classes": [],
      "_model_module": "@jupyter-widgets/controls",
      "_model_module_version": "1.5.0",
      "_model_name": "HBoxModel",
      "_view_count": null,
      "_view_module": "@jupyter-widgets/controls",
      "_view_module_version": "1.5.0",
      "_view_name": "HBoxView",
      "box_style": "",
      "children": [
       "IPY_MODEL_e28b8dfaa08c4d0382d0b7ee88c82dae",
       "IPY_MODEL_afacd7c551614976b3b387e214b15a53",
       "IPY_MODEL_ed8be4c942c24429b4e0e3c61453cbe6"
      ],
      "layout": "IPY_MODEL_d7eaed4a1d76487dbe89d1c36ba39596"
     }
    },
    "e28b8dfaa08c4d0382d0b7ee88c82dae": {
     "model_module": "@jupyter-widgets/controls",
     "model_name": "HTMLModel",
     "model_module_version": "1.5.0",
     "state": {
      "_dom_classes": [],
      "_model_module": "@jupyter-widgets/controls",
      "_model_module_version": "1.5.0",
      "_model_name": "HTMLModel",
      "_view_count": null,
      "_view_module": "@jupyter-widgets/controls",
      "_view_module_version": "1.5.0",
      "_view_name": "HTMLView",
      "description": "",
      "description_tooltip": null,
      "layout": "IPY_MODEL_c72bf982c31246108a1c0bcdf323c84e",
      "placeholder": "​",
      "style": "IPY_MODEL_533de0d436194bde8ed096778e524d8e",
      "value": "Train-loss:7.1239: 100%"
     }
    },
    "afacd7c551614976b3b387e214b15a53": {
     "model_module": "@jupyter-widgets/controls",
     "model_name": "FloatProgressModel",
     "model_module_version": "1.5.0",
     "state": {
      "_dom_classes": [],
      "_model_module": "@jupyter-widgets/controls",
      "_model_module_version": "1.5.0",
      "_model_name": "FloatProgressModel",
      "_view_count": null,
      "_view_module": "@jupyter-widgets/controls",
      "_view_module_version": "1.5.0",
      "_view_name": "ProgressView",
      "bar_style": "success",
      "description": "",
      "description_tooltip": null,
      "layout": "IPY_MODEL_ff0e91512d9f4d22880d6dab12ce1aac",
      "max": 250,
      "min": 0,
      "orientation": "horizontal",
      "style": "IPY_MODEL_e2c13f17fd2f486bb57b1079a68295c2",
      "value": 250
     }
    },
    "ed8be4c942c24429b4e0e3c61453cbe6": {
     "model_module": "@jupyter-widgets/controls",
     "model_name": "HTMLModel",
     "model_module_version": "1.5.0",
     "state": {
      "_dom_classes": [],
      "_model_module": "@jupyter-widgets/controls",
      "_model_module_version": "1.5.0",
      "_model_name": "HTMLModel",
      "_view_count": null,
      "_view_module": "@jupyter-widgets/controls",
      "_view_module_version": "1.5.0",
      "_view_name": "HTMLView",
      "description": "",
      "description_tooltip": null,
      "layout": "IPY_MODEL_7b53a6102dc64ae4bc4ca58b8701ca69",
      "placeholder": "​",
      "style": "IPY_MODEL_4f7a7656fe0f46cf8b168a826213c33c",
      "value": " 250/250 [00:56&lt;00:00,  4.39it/s]"
     }
    },
    "d7eaed4a1d76487dbe89d1c36ba39596": {
     "model_module": "@jupyter-widgets/base",
     "model_name": "LayoutModel",
     "model_module_version": "1.2.0",
     "state": {
      "_model_module": "@jupyter-widgets/base",
      "_model_module_version": "1.2.0",
      "_model_name": "LayoutModel",
      "_view_count": null,
      "_view_module": "@jupyter-widgets/base",
      "_view_module_version": "1.2.0",
      "_view_name": "LayoutView",
      "align_content": null,
      "align_items": null,
      "align_self": null,
      "border": null,
      "bottom": null,
      "display": null,
      "flex": null,
      "flex_flow": null,
      "grid_area": null,
      "grid_auto_columns": null,
      "grid_auto_flow": null,
      "grid_auto_rows": null,
      "grid_column": null,
      "grid_gap": null,
      "grid_row": null,
      "grid_template_areas": null,
      "grid_template_columns": null,
      "grid_template_rows": null,
      "height": null,
      "justify_content": null,
      "justify_items": null,
      "left": null,
      "margin": null,
      "max_height": null,
      "max_width": null,
      "min_height": null,
      "min_width": null,
      "object_fit": null,
      "object_position": null,
      "order": null,
      "overflow": null,
      "overflow_x": null,
      "overflow_y": null,
      "padding": null,
      "right": null,
      "top": null,
      "visibility": null,
      "width": null
     }
    },
    "c72bf982c31246108a1c0bcdf323c84e": {
     "model_module": "@jupyter-widgets/base",
     "model_name": "LayoutModel",
     "model_module_version": "1.2.0",
     "state": {
      "_model_module": "@jupyter-widgets/base",
      "_model_module_version": "1.2.0",
      "_model_name": "LayoutModel",
      "_view_count": null,
      "_view_module": "@jupyter-widgets/base",
      "_view_module_version": "1.2.0",
      "_view_name": "LayoutView",
      "align_content": null,
      "align_items": null,
      "align_self": null,
      "border": null,
      "bottom": null,
      "display": null,
      "flex": null,
      "flex_flow": null,
      "grid_area": null,
      "grid_auto_columns": null,
      "grid_auto_flow": null,
      "grid_auto_rows": null,
      "grid_column": null,
      "grid_gap": null,
      "grid_row": null,
      "grid_template_areas": null,
      "grid_template_columns": null,
      "grid_template_rows": null,
      "height": null,
      "justify_content": null,
      "justify_items": null,
      "left": null,
      "margin": null,
      "max_height": null,
      "max_width": null,
      "min_height": null,
      "min_width": null,
      "object_fit": null,
      "object_position": null,
      "order": null,
      "overflow": null,
      "overflow_x": null,
      "overflow_y": null,
      "padding": null,
      "right": null,
      "top": null,
      "visibility": null,
      "width": null
     }
    },
    "533de0d436194bde8ed096778e524d8e": {
     "model_module": "@jupyter-widgets/controls",
     "model_name": "DescriptionStyleModel",
     "model_module_version": "1.5.0",
     "state": {
      "_model_module": "@jupyter-widgets/controls",
      "_model_module_version": "1.5.0",
      "_model_name": "DescriptionStyleModel",
      "_view_count": null,
      "_view_module": "@jupyter-widgets/base",
      "_view_module_version": "1.2.0",
      "_view_name": "StyleView",
      "description_width": ""
     }
    },
    "ff0e91512d9f4d22880d6dab12ce1aac": {
     "model_module": "@jupyter-widgets/base",
     "model_name": "LayoutModel",
     "model_module_version": "1.2.0",
     "state": {
      "_model_module": "@jupyter-widgets/base",
      "_model_module_version": "1.2.0",
      "_model_name": "LayoutModel",
      "_view_count": null,
      "_view_module": "@jupyter-widgets/base",
      "_view_module_version": "1.2.0",
      "_view_name": "LayoutView",
      "align_content": null,
      "align_items": null,
      "align_self": null,
      "border": null,
      "bottom": null,
      "display": null,
      "flex": null,
      "flex_flow": null,
      "grid_area": null,
      "grid_auto_columns": null,
      "grid_auto_flow": null,
      "grid_auto_rows": null,
      "grid_column": null,
      "grid_gap": null,
      "grid_row": null,
      "grid_template_areas": null,
      "grid_template_columns": null,
      "grid_template_rows": null,
      "height": null,
      "justify_content": null,
      "justify_items": null,
      "left": null,
      "margin": null,
      "max_height": null,
      "max_width": null,
      "min_height": null,
      "min_width": null,
      "object_fit": null,
      "object_position": null,
      "order": null,
      "overflow": null,
      "overflow_x": null,
      "overflow_y": null,
      "padding": null,
      "right": null,
      "top": null,
      "visibility": null,
      "width": null
     }
    },
    "e2c13f17fd2f486bb57b1079a68295c2": {
     "model_module": "@jupyter-widgets/controls",
     "model_name": "ProgressStyleModel",
     "model_module_version": "1.5.0",
     "state": {
      "_model_module": "@jupyter-widgets/controls",
      "_model_module_version": "1.5.0",
      "_model_name": "ProgressStyleModel",
      "_view_count": null,
      "_view_module": "@jupyter-widgets/base",
      "_view_module_version": "1.2.0",
      "_view_name": "StyleView",
      "bar_color": null,
      "description_width": ""
     }
    },
    "7b53a6102dc64ae4bc4ca58b8701ca69": {
     "model_module": "@jupyter-widgets/base",
     "model_name": "LayoutModel",
     "model_module_version": "1.2.0",
     "state": {
      "_model_module": "@jupyter-widgets/base",
      "_model_module_version": "1.2.0",
      "_model_name": "LayoutModel",
      "_view_count": null,
      "_view_module": "@jupyter-widgets/base",
      "_view_module_version": "1.2.0",
      "_view_name": "LayoutView",
      "align_content": null,
      "align_items": null,
      "align_self": null,
      "border": null,
      "bottom": null,
      "display": null,
      "flex": null,
      "flex_flow": null,
      "grid_area": null,
      "grid_auto_columns": null,
      "grid_auto_flow": null,
      "grid_auto_rows": null,
      "grid_column": null,
      "grid_gap": null,
      "grid_row": null,
      "grid_template_areas": null,
      "grid_template_columns": null,
      "grid_template_rows": null,
      "height": null,
      "justify_content": null,
      "justify_items": null,
      "left": null,
      "margin": null,
      "max_height": null,
      "max_width": null,
      "min_height": null,
      "min_width": null,
      "object_fit": null,
      "object_position": null,
      "order": null,
      "overflow": null,
      "overflow_x": null,
      "overflow_y": null,
      "padding": null,
      "right": null,
      "top": null,
      "visibility": null,
      "width": null
     }
    },
    "4f7a7656fe0f46cf8b168a826213c33c": {
     "model_module": "@jupyter-widgets/controls",
     "model_name": "DescriptionStyleModel",
     "model_module_version": "1.5.0",
     "state": {
      "_model_module": "@jupyter-widgets/controls",
      "_model_module_version": "1.5.0",
      "_model_name": "DescriptionStyleModel",
      "_view_count": null,
      "_view_module": "@jupyter-widgets/base",
      "_view_module_version": "1.2.0",
      "_view_name": "StyleView",
      "description_width": ""
     }
    },
    "400674dc1f354f3989ae7132cd3338b0": {
     "model_module": "@jupyter-widgets/controls",
     "model_name": "HBoxModel",
     "model_module_version": "1.5.0",
     "state": {
      "_dom_classes": [],
      "_model_module": "@jupyter-widgets/controls",
      "_model_module_version": "1.5.0",
      "_model_name": "HBoxModel",
      "_view_count": null,
      "_view_module": "@jupyter-widgets/controls",
      "_view_module_version": "1.5.0",
      "_view_name": "HBoxView",
      "box_style": "",
      "children": [
       "IPY_MODEL_abbddbd1bfa24671abc78e1938584be8",
       "IPY_MODEL_385ddbf39b3f4c41b1862c11463c2519",
       "IPY_MODEL_1888b3a8f3994f468b77991f8ab81c4c"
      ],
      "layout": "IPY_MODEL_b608c98be27440cc871d63c28e02d760"
     }
    },
    "abbddbd1bfa24671abc78e1938584be8": {
     "model_module": "@jupyter-widgets/controls",
     "model_name": "HTMLModel",
     "model_module_version": "1.5.0",
     "state": {
      "_dom_classes": [],
      "_model_module": "@jupyter-widgets/controls",
      "_model_module_version": "1.5.0",
      "_model_name": "HTMLModel",
      "_view_count": null,
      "_view_module": "@jupyter-widgets/controls",
      "_view_module_version": "1.5.0",
      "_view_name": "HTMLView",
      "description": "",
      "description_tooltip": null,
      "layout": "IPY_MODEL_681e4b119ad84c3ebebd99e0b9e307bf",
      "placeholder": "​",
      "style": "IPY_MODEL_1f774de9513d4331a6e28cd79f512e04",
      "value": "valid-loss:6.7639: 100%"
     }
    },
    "385ddbf39b3f4c41b1862c11463c2519": {
     "model_module": "@jupyter-widgets/controls",
     "model_name": "FloatProgressModel",
     "model_module_version": "1.5.0",
     "state": {
      "_dom_classes": [],
      "_model_module": "@jupyter-widgets/controls",
      "_model_module_version": "1.5.0",
      "_model_name": "FloatProgressModel",
      "_view_count": null,
      "_view_module": "@jupyter-widgets/controls",
      "_view_module_version": "1.5.0",
      "_view_name": "ProgressView",
      "bar_style": "success",
      "description": "",
      "description_tooltip": null,
      "layout": "IPY_MODEL_324ccea6d36446c9bd42ebe48b3dd6e2",
      "max": 26,
      "min": 0,
      "orientation": "horizontal",
      "style": "IPY_MODEL_20159e69979d4c7394a76123b5bfcec8",
      "value": 26
     }
    },
    "1888b3a8f3994f468b77991f8ab81c4c": {
     "model_module": "@jupyter-widgets/controls",
     "model_name": "HTMLModel",
     "model_module_version": "1.5.0",
     "state": {
      "_dom_classes": [],
      "_model_module": "@jupyter-widgets/controls",
      "_model_module_version": "1.5.0",
      "_model_name": "HTMLModel",
      "_view_count": null,
      "_view_module": "@jupyter-widgets/controls",
      "_view_module_version": "1.5.0",
      "_view_name": "HTMLView",
      "description": "",
      "description_tooltip": null,
      "layout": "IPY_MODEL_5843cdb46b3e4bfba82de9cc0e4e38df",
      "placeholder": "​",
      "style": "IPY_MODEL_cd760f0395884b53854c778d6a896cfc",
      "value": " 26/26 [00:01&lt;00:00, 13.90it/s]"
     }
    },
    "b608c98be27440cc871d63c28e02d760": {
     "model_module": "@jupyter-widgets/base",
     "model_name": "LayoutModel",
     "model_module_version": "1.2.0",
     "state": {
      "_model_module": "@jupyter-widgets/base",
      "_model_module_version": "1.2.0",
      "_model_name": "LayoutModel",
      "_view_count": null,
      "_view_module": "@jupyter-widgets/base",
      "_view_module_version": "1.2.0",
      "_view_name": "LayoutView",
      "align_content": null,
      "align_items": null,
      "align_self": null,
      "border": null,
      "bottom": null,
      "display": null,
      "flex": null,
      "flex_flow": null,
      "grid_area": null,
      "grid_auto_columns": null,
      "grid_auto_flow": null,
      "grid_auto_rows": null,
      "grid_column": null,
      "grid_gap": null,
      "grid_row": null,
      "grid_template_areas": null,
      "grid_template_columns": null,
      "grid_template_rows": null,
      "height": null,
      "justify_content": null,
      "justify_items": null,
      "left": null,
      "margin": null,
      "max_height": null,
      "max_width": null,
      "min_height": null,
      "min_width": null,
      "object_fit": null,
      "object_position": null,
      "order": null,
      "overflow": null,
      "overflow_x": null,
      "overflow_y": null,
      "padding": null,
      "right": null,
      "top": null,
      "visibility": null,
      "width": null
     }
    },
    "681e4b119ad84c3ebebd99e0b9e307bf": {
     "model_module": "@jupyter-widgets/base",
     "model_name": "LayoutModel",
     "model_module_version": "1.2.0",
     "state": {
      "_model_module": "@jupyter-widgets/base",
      "_model_module_version": "1.2.0",
      "_model_name": "LayoutModel",
      "_view_count": null,
      "_view_module": "@jupyter-widgets/base",
      "_view_module_version": "1.2.0",
      "_view_name": "LayoutView",
      "align_content": null,
      "align_items": null,
      "align_self": null,
      "border": null,
      "bottom": null,
      "display": null,
      "flex": null,
      "flex_flow": null,
      "grid_area": null,
      "grid_auto_columns": null,
      "grid_auto_flow": null,
      "grid_auto_rows": null,
      "grid_column": null,
      "grid_gap": null,
      "grid_row": null,
      "grid_template_areas": null,
      "grid_template_columns": null,
      "grid_template_rows": null,
      "height": null,
      "justify_content": null,
      "justify_items": null,
      "left": null,
      "margin": null,
      "max_height": null,
      "max_width": null,
      "min_height": null,
      "min_width": null,
      "object_fit": null,
      "object_position": null,
      "order": null,
      "overflow": null,
      "overflow_x": null,
      "overflow_y": null,
      "padding": null,
      "right": null,
      "top": null,
      "visibility": null,
      "width": null
     }
    },
    "1f774de9513d4331a6e28cd79f512e04": {
     "model_module": "@jupyter-widgets/controls",
     "model_name": "DescriptionStyleModel",
     "model_module_version": "1.5.0",
     "state": {
      "_model_module": "@jupyter-widgets/controls",
      "_model_module_version": "1.5.0",
      "_model_name": "DescriptionStyleModel",
      "_view_count": null,
      "_view_module": "@jupyter-widgets/base",
      "_view_module_version": "1.2.0",
      "_view_name": "StyleView",
      "description_width": ""
     }
    },
    "324ccea6d36446c9bd42ebe48b3dd6e2": {
     "model_module": "@jupyter-widgets/base",
     "model_name": "LayoutModel",
     "model_module_version": "1.2.0",
     "state": {
      "_model_module": "@jupyter-widgets/base",
      "_model_module_version": "1.2.0",
      "_model_name": "LayoutModel",
      "_view_count": null,
      "_view_module": "@jupyter-widgets/base",
      "_view_module_version": "1.2.0",
      "_view_name": "LayoutView",
      "align_content": null,
      "align_items": null,
      "align_self": null,
      "border": null,
      "bottom": null,
      "display": null,
      "flex": null,
      "flex_flow": null,
      "grid_area": null,
      "grid_auto_columns": null,
      "grid_auto_flow": null,
      "grid_auto_rows": null,
      "grid_column": null,
      "grid_gap": null,
      "grid_row": null,
      "grid_template_areas": null,
      "grid_template_columns": null,
      "grid_template_rows": null,
      "height": null,
      "justify_content": null,
      "justify_items": null,
      "left": null,
      "margin": null,
      "max_height": null,
      "max_width": null,
      "min_height": null,
      "min_width": null,
      "object_fit": null,
      "object_position": null,
      "order": null,
      "overflow": null,
      "overflow_x": null,
      "overflow_y": null,
      "padding": null,
      "right": null,
      "top": null,
      "visibility": null,
      "width": null
     }
    },
    "20159e69979d4c7394a76123b5bfcec8": {
     "model_module": "@jupyter-widgets/controls",
     "model_name": "ProgressStyleModel",
     "model_module_version": "1.5.0",
     "state": {
      "_model_module": "@jupyter-widgets/controls",
      "_model_module_version": "1.5.0",
      "_model_name": "ProgressStyleModel",
      "_view_count": null,
      "_view_module": "@jupyter-widgets/base",
      "_view_module_version": "1.2.0",
      "_view_name": "StyleView",
      "bar_color": null,
      "description_width": ""
     }
    },
    "5843cdb46b3e4bfba82de9cc0e4e38df": {
     "model_module": "@jupyter-widgets/base",
     "model_name": "LayoutModel",
     "model_module_version": "1.2.0",
     "state": {
      "_model_module": "@jupyter-widgets/base",
      "_model_module_version": "1.2.0",
      "_model_name": "LayoutModel",
      "_view_count": null,
      "_view_module": "@jupyter-widgets/base",
      "_view_module_version": "1.2.0",
      "_view_name": "LayoutView",
      "align_content": null,
      "align_items": null,
      "align_self": null,
      "border": null,
      "bottom": null,
      "display": null,
      "flex": null,
      "flex_flow": null,
      "grid_area": null,
      "grid_auto_columns": null,
      "grid_auto_flow": null,
      "grid_auto_rows": null,
      "grid_column": null,
      "grid_gap": null,
      "grid_row": null,
      "grid_template_areas": null,
      "grid_template_columns": null,
      "grid_template_rows": null,
      "height": null,
      "justify_content": null,
      "justify_items": null,
      "left": null,
      "margin": null,
      "max_height": null,
      "max_width": null,
      "min_height": null,
      "min_width": null,
      "object_fit": null,
      "object_position": null,
      "order": null,
      "overflow": null,
      "overflow_x": null,
      "overflow_y": null,
      "padding": null,
      "right": null,
      "top": null,
      "visibility": null,
      "width": null
     }
    },
    "cd760f0395884b53854c778d6a896cfc": {
     "model_module": "@jupyter-widgets/controls",
     "model_name": "DescriptionStyleModel",
     "model_module_version": "1.5.0",
     "state": {
      "_model_module": "@jupyter-widgets/controls",
      "_model_module_version": "1.5.0",
      "_model_name": "DescriptionStyleModel",
      "_view_count": null,
      "_view_module": "@jupyter-widgets/base",
      "_view_module_version": "1.2.0",
      "_view_name": "StyleView",
      "description_width": ""
     }
    },
    "c542be9b98af49a5bae6cb2e6fedde6b": {
     "model_module": "@jupyter-widgets/controls",
     "model_name": "HBoxModel",
     "model_module_version": "1.5.0",
     "state": {
      "_dom_classes": [],
      "_model_module": "@jupyter-widgets/controls",
      "_model_module_version": "1.5.0",
      "_model_name": "HBoxModel",
      "_view_count": null,
      "_view_module": "@jupyter-widgets/controls",
      "_view_module_version": "1.5.0",
      "_view_name": "HBoxView",
      "box_style": "",
      "children": [
       "IPY_MODEL_cb45529b2932400ea6ffd6bb4c8f16ab",
       "IPY_MODEL_46b8e1ae4eba433091ed4cabe5d4cfe0",
       "IPY_MODEL_c8e160710ef54e1ebec34a2109b756ac"
      ],
      "layout": "IPY_MODEL_a0b788cf169c4e5e933be61b84f75cdd"
     }
    },
    "cb45529b2932400ea6ffd6bb4c8f16ab": {
     "model_module": "@jupyter-widgets/controls",
     "model_name": "HTMLModel",
     "model_module_version": "1.5.0",
     "state": {
      "_dom_classes": [],
      "_model_module": "@jupyter-widgets/controls",
      "_model_module_version": "1.5.0",
      "_model_name": "HTMLModel",
      "_view_count": null,
      "_view_module": "@jupyter-widgets/controls",
      "_view_module_version": "1.5.0",
      "_view_name": "HTMLView",
      "description": "",
      "description_tooltip": null,
      "layout": "IPY_MODEL_beeeb3ff6bea4de79aa25b95bf0df59b",
      "placeholder": "​",
      "style": "IPY_MODEL_5f816c26b85f4b849a04c6bdc1771f9e",
      "value": "Train-loss:6.9519: 100%"
     }
    },
    "46b8e1ae4eba433091ed4cabe5d4cfe0": {
     "model_module": "@jupyter-widgets/controls",
     "model_name": "FloatProgressModel",
     "model_module_version": "1.5.0",
     "state": {
      "_dom_classes": [],
      "_model_module": "@jupyter-widgets/controls",
      "_model_module_version": "1.5.0",
      "_model_name": "FloatProgressModel",
      "_view_count": null,
      "_view_module": "@jupyter-widgets/controls",
      "_view_module_version": "1.5.0",
      "_view_name": "ProgressView",
      "bar_style": "success",
      "description": "",
      "description_tooltip": null,
      "layout": "IPY_MODEL_90f8e474445848128e8af1aa07c9dac6",
      "max": 250,
      "min": 0,
      "orientation": "horizontal",
      "style": "IPY_MODEL_4b0a1d1d3bcd4acd80e3d2ea2f1f109a",
      "value": 250
     }
    },
    "c8e160710ef54e1ebec34a2109b756ac": {
     "model_module": "@jupyter-widgets/controls",
     "model_name": "HTMLModel",
     "model_module_version": "1.5.0",
     "state": {
      "_dom_classes": [],
      "_model_module": "@jupyter-widgets/controls",
      "_model_module_version": "1.5.0",
      "_model_name": "HTMLModel",
      "_view_count": null,
      "_view_module": "@jupyter-widgets/controls",
      "_view_module_version": "1.5.0",
      "_view_name": "HTMLView",
      "description": "",
      "description_tooltip": null,
      "layout": "IPY_MODEL_7729af36faff437683654d9c3603da85",
      "placeholder": "​",
      "style": "IPY_MODEL_de859da22153442aa31599a29454b1a9",
      "value": " 250/250 [00:56&lt;00:00,  4.39it/s]"
     }
    },
    "a0b788cf169c4e5e933be61b84f75cdd": {
     "model_module": "@jupyter-widgets/base",
     "model_name": "LayoutModel",
     "model_module_version": "1.2.0",
     "state": {
      "_model_module": "@jupyter-widgets/base",
      "_model_module_version": "1.2.0",
      "_model_name": "LayoutModel",
      "_view_count": null,
      "_view_module": "@jupyter-widgets/base",
      "_view_module_version": "1.2.0",
      "_view_name": "LayoutView",
      "align_content": null,
      "align_items": null,
      "align_self": null,
      "border": null,
      "bottom": null,
      "display": null,
      "flex": null,
      "flex_flow": null,
      "grid_area": null,
      "grid_auto_columns": null,
      "grid_auto_flow": null,
      "grid_auto_rows": null,
      "grid_column": null,
      "grid_gap": null,
      "grid_row": null,
      "grid_template_areas": null,
      "grid_template_columns": null,
      "grid_template_rows": null,
      "height": null,
      "justify_content": null,
      "justify_items": null,
      "left": null,
      "margin": null,
      "max_height": null,
      "max_width": null,
      "min_height": null,
      "min_width": null,
      "object_fit": null,
      "object_position": null,
      "order": null,
      "overflow": null,
      "overflow_x": null,
      "overflow_y": null,
      "padding": null,
      "right": null,
      "top": null,
      "visibility": null,
      "width": null
     }
    },
    "beeeb3ff6bea4de79aa25b95bf0df59b": {
     "model_module": "@jupyter-widgets/base",
     "model_name": "LayoutModel",
     "model_module_version": "1.2.0",
     "state": {
      "_model_module": "@jupyter-widgets/base",
      "_model_module_version": "1.2.0",
      "_model_name": "LayoutModel",
      "_view_count": null,
      "_view_module": "@jupyter-widgets/base",
      "_view_module_version": "1.2.0",
      "_view_name": "LayoutView",
      "align_content": null,
      "align_items": null,
      "align_self": null,
      "border": null,
      "bottom": null,
      "display": null,
      "flex": null,
      "flex_flow": null,
      "grid_area": null,
      "grid_auto_columns": null,
      "grid_auto_flow": null,
      "grid_auto_rows": null,
      "grid_column": null,
      "grid_gap": null,
      "grid_row": null,
      "grid_template_areas": null,
      "grid_template_columns": null,
      "grid_template_rows": null,
      "height": null,
      "justify_content": null,
      "justify_items": null,
      "left": null,
      "margin": null,
      "max_height": null,
      "max_width": null,
      "min_height": null,
      "min_width": null,
      "object_fit": null,
      "object_position": null,
      "order": null,
      "overflow": null,
      "overflow_x": null,
      "overflow_y": null,
      "padding": null,
      "right": null,
      "top": null,
      "visibility": null,
      "width": null
     }
    },
    "5f816c26b85f4b849a04c6bdc1771f9e": {
     "model_module": "@jupyter-widgets/controls",
     "model_name": "DescriptionStyleModel",
     "model_module_version": "1.5.0",
     "state": {
      "_model_module": "@jupyter-widgets/controls",
      "_model_module_version": "1.5.0",
      "_model_name": "DescriptionStyleModel",
      "_view_count": null,
      "_view_module": "@jupyter-widgets/base",
      "_view_module_version": "1.2.0",
      "_view_name": "StyleView",
      "description_width": ""
     }
    },
    "90f8e474445848128e8af1aa07c9dac6": {
     "model_module": "@jupyter-widgets/base",
     "model_name": "LayoutModel",
     "model_module_version": "1.2.0",
     "state": {
      "_model_module": "@jupyter-widgets/base",
      "_model_module_version": "1.2.0",
      "_model_name": "LayoutModel",
      "_view_count": null,
      "_view_module": "@jupyter-widgets/base",
      "_view_module_version": "1.2.0",
      "_view_name": "LayoutView",
      "align_content": null,
      "align_items": null,
      "align_self": null,
      "border": null,
      "bottom": null,
      "display": null,
      "flex": null,
      "flex_flow": null,
      "grid_area": null,
      "grid_auto_columns": null,
      "grid_auto_flow": null,
      "grid_auto_rows": null,
      "grid_column": null,
      "grid_gap": null,
      "grid_row": null,
      "grid_template_areas": null,
      "grid_template_columns": null,
      "grid_template_rows": null,
      "height": null,
      "justify_content": null,
      "justify_items": null,
      "left": null,
      "margin": null,
      "max_height": null,
      "max_width": null,
      "min_height": null,
      "min_width": null,
      "object_fit": null,
      "object_position": null,
      "order": null,
      "overflow": null,
      "overflow_x": null,
      "overflow_y": null,
      "padding": null,
      "right": null,
      "top": null,
      "visibility": null,
      "width": null
     }
    },
    "4b0a1d1d3bcd4acd80e3d2ea2f1f109a": {
     "model_module": "@jupyter-widgets/controls",
     "model_name": "ProgressStyleModel",
     "model_module_version": "1.5.0",
     "state": {
      "_model_module": "@jupyter-widgets/controls",
      "_model_module_version": "1.5.0",
      "_model_name": "ProgressStyleModel",
      "_view_count": null,
      "_view_module": "@jupyter-widgets/base",
      "_view_module_version": "1.2.0",
      "_view_name": "StyleView",
      "bar_color": null,
      "description_width": ""
     }
    },
    "7729af36faff437683654d9c3603da85": {
     "model_module": "@jupyter-widgets/base",
     "model_name": "LayoutModel",
     "model_module_version": "1.2.0",
     "state": {
      "_model_module": "@jupyter-widgets/base",
      "_model_module_version": "1.2.0",
      "_model_name": "LayoutModel",
      "_view_count": null,
      "_view_module": "@jupyter-widgets/base",
      "_view_module_version": "1.2.0",
      "_view_name": "LayoutView",
      "align_content": null,
      "align_items": null,
      "align_self": null,
      "border": null,
      "bottom": null,
      "display": null,
      "flex": null,
      "flex_flow": null,
      "grid_area": null,
      "grid_auto_columns": null,
      "grid_auto_flow": null,
      "grid_auto_rows": null,
      "grid_column": null,
      "grid_gap": null,
      "grid_row": null,
      "grid_template_areas": null,
      "grid_template_columns": null,
      "grid_template_rows": null,
      "height": null,
      "justify_content": null,
      "justify_items": null,
      "left": null,
      "margin": null,
      "max_height": null,
      "max_width": null,
      "min_height": null,
      "min_width": null,
      "object_fit": null,
      "object_position": null,
      "order": null,
      "overflow": null,
      "overflow_x": null,
      "overflow_y": null,
      "padding": null,
      "right": null,
      "top": null,
      "visibility": null,
      "width": null
     }
    },
    "de859da22153442aa31599a29454b1a9": {
     "model_module": "@jupyter-widgets/controls",
     "model_name": "DescriptionStyleModel",
     "model_module_version": "1.5.0",
     "state": {
      "_model_module": "@jupyter-widgets/controls",
      "_model_module_version": "1.5.0",
      "_model_name": "DescriptionStyleModel",
      "_view_count": null,
      "_view_module": "@jupyter-widgets/base",
      "_view_module_version": "1.2.0",
      "_view_name": "StyleView",
      "description_width": ""
     }
    },
    "23aa9aa08931413a9fd46097de059567": {
     "model_module": "@jupyter-widgets/controls",
     "model_name": "HBoxModel",
     "model_module_version": "1.5.0",
     "state": {
      "_dom_classes": [],
      "_model_module": "@jupyter-widgets/controls",
      "_model_module_version": "1.5.0",
      "_model_name": "HBoxModel",
      "_view_count": null,
      "_view_module": "@jupyter-widgets/controls",
      "_view_module_version": "1.5.0",
      "_view_name": "HBoxView",
      "box_style": "",
      "children": [
       "IPY_MODEL_a561855907ce44fc9465bdd5b79946fe",
       "IPY_MODEL_5302ece073bb4a2ebdb7a0b993b345ca",
       "IPY_MODEL_1ed3a398ad6c4d2fa0bc880fd125143c"
      ],
      "layout": "IPY_MODEL_6d5d27bd59a44e308e5aab14346c74c5"
     }
    },
    "a561855907ce44fc9465bdd5b79946fe": {
     "model_module": "@jupyter-widgets/controls",
     "model_name": "HTMLModel",
     "model_module_version": "1.5.0",
     "state": {
      "_dom_classes": [],
      "_model_module": "@jupyter-widgets/controls",
      "_model_module_version": "1.5.0",
      "_model_name": "HTMLModel",
      "_view_count": null,
      "_view_module": "@jupyter-widgets/controls",
      "_view_module_version": "1.5.0",
      "_view_name": "HTMLView",
      "description": "",
      "description_tooltip": null,
      "layout": "IPY_MODEL_eb8602078d8141cb9f3dc656d294c1e0",
      "placeholder": "​",
      "style": "IPY_MODEL_881e2d8ee35542b0a27345be2712da94",
      "value": "valid-loss:6.7501: 100%"
     }
    },
    "5302ece073bb4a2ebdb7a0b993b345ca": {
     "model_module": "@jupyter-widgets/controls",
     "model_name": "FloatProgressModel",
     "model_module_version": "1.5.0",
     "state": {
      "_dom_classes": [],
      "_model_module": "@jupyter-widgets/controls",
      "_model_module_version": "1.5.0",
      "_model_name": "FloatProgressModel",
      "_view_count": null,
      "_view_module": "@jupyter-widgets/controls",
      "_view_module_version": "1.5.0",
      "_view_name": "ProgressView",
      "bar_style": "success",
      "description": "",
      "description_tooltip": null,
      "layout": "IPY_MODEL_f470ae4663ab49069ec9fe482e5ee7f5",
      "max": 26,
      "min": 0,
      "orientation": "horizontal",
      "style": "IPY_MODEL_17d95e4e01fb468ba1c7f828424386d1",
      "value": 26
     }
    },
    "1ed3a398ad6c4d2fa0bc880fd125143c": {
     "model_module": "@jupyter-widgets/controls",
     "model_name": "HTMLModel",
     "model_module_version": "1.5.0",
     "state": {
      "_dom_classes": [],
      "_model_module": "@jupyter-widgets/controls",
      "_model_module_version": "1.5.0",
      "_model_name": "HTMLModel",
      "_view_count": null,
      "_view_module": "@jupyter-widgets/controls",
      "_view_module_version": "1.5.0",
      "_view_name": "HTMLView",
      "description": "",
      "description_tooltip": null,
      "layout": "IPY_MODEL_5da4daaba82d43baa92bf8a29738c406",
      "placeholder": "​",
      "style": "IPY_MODEL_f9c86abfbebe42b5b3d1b980edf4435d",
      "value": " 26/26 [00:01&lt;00:00, 13.72it/s]"
     }
    },
    "6d5d27bd59a44e308e5aab14346c74c5": {
     "model_module": "@jupyter-widgets/base",
     "model_name": "LayoutModel",
     "model_module_version": "1.2.0",
     "state": {
      "_model_module": "@jupyter-widgets/base",
      "_model_module_version": "1.2.0",
      "_model_name": "LayoutModel",
      "_view_count": null,
      "_view_module": "@jupyter-widgets/base",
      "_view_module_version": "1.2.0",
      "_view_name": "LayoutView",
      "align_content": null,
      "align_items": null,
      "align_self": null,
      "border": null,
      "bottom": null,
      "display": null,
      "flex": null,
      "flex_flow": null,
      "grid_area": null,
      "grid_auto_columns": null,
      "grid_auto_flow": null,
      "grid_auto_rows": null,
      "grid_column": null,
      "grid_gap": null,
      "grid_row": null,
      "grid_template_areas": null,
      "grid_template_columns": null,
      "grid_template_rows": null,
      "height": null,
      "justify_content": null,
      "justify_items": null,
      "left": null,
      "margin": null,
      "max_height": null,
      "max_width": null,
      "min_height": null,
      "min_width": null,
      "object_fit": null,
      "object_position": null,
      "order": null,
      "overflow": null,
      "overflow_x": null,
      "overflow_y": null,
      "padding": null,
      "right": null,
      "top": null,
      "visibility": null,
      "width": null
     }
    },
    "eb8602078d8141cb9f3dc656d294c1e0": {
     "model_module": "@jupyter-widgets/base",
     "model_name": "LayoutModel",
     "model_module_version": "1.2.0",
     "state": {
      "_model_module": "@jupyter-widgets/base",
      "_model_module_version": "1.2.0",
      "_model_name": "LayoutModel",
      "_view_count": null,
      "_view_module": "@jupyter-widgets/base",
      "_view_module_version": "1.2.0",
      "_view_name": "LayoutView",
      "align_content": null,
      "align_items": null,
      "align_self": null,
      "border": null,
      "bottom": null,
      "display": null,
      "flex": null,
      "flex_flow": null,
      "grid_area": null,
      "grid_auto_columns": null,
      "grid_auto_flow": null,
      "grid_auto_rows": null,
      "grid_column": null,
      "grid_gap": null,
      "grid_row": null,
      "grid_template_areas": null,
      "grid_template_columns": null,
      "grid_template_rows": null,
      "height": null,
      "justify_content": null,
      "justify_items": null,
      "left": null,
      "margin": null,
      "max_height": null,
      "max_width": null,
      "min_height": null,
      "min_width": null,
      "object_fit": null,
      "object_position": null,
      "order": null,
      "overflow": null,
      "overflow_x": null,
      "overflow_y": null,
      "padding": null,
      "right": null,
      "top": null,
      "visibility": null,
      "width": null
     }
    },
    "881e2d8ee35542b0a27345be2712da94": {
     "model_module": "@jupyter-widgets/controls",
     "model_name": "DescriptionStyleModel",
     "model_module_version": "1.5.0",
     "state": {
      "_model_module": "@jupyter-widgets/controls",
      "_model_module_version": "1.5.0",
      "_model_name": "DescriptionStyleModel",
      "_view_count": null,
      "_view_module": "@jupyter-widgets/base",
      "_view_module_version": "1.2.0",
      "_view_name": "StyleView",
      "description_width": ""
     }
    },
    "f470ae4663ab49069ec9fe482e5ee7f5": {
     "model_module": "@jupyter-widgets/base",
     "model_name": "LayoutModel",
     "model_module_version": "1.2.0",
     "state": {
      "_model_module": "@jupyter-widgets/base",
      "_model_module_version": "1.2.0",
      "_model_name": "LayoutModel",
      "_view_count": null,
      "_view_module": "@jupyter-widgets/base",
      "_view_module_version": "1.2.0",
      "_view_name": "LayoutView",
      "align_content": null,
      "align_items": null,
      "align_self": null,
      "border": null,
      "bottom": null,
      "display": null,
      "flex": null,
      "flex_flow": null,
      "grid_area": null,
      "grid_auto_columns": null,
      "grid_auto_flow": null,
      "grid_auto_rows": null,
      "grid_column": null,
      "grid_gap": null,
      "grid_row": null,
      "grid_template_areas": null,
      "grid_template_columns": null,
      "grid_template_rows": null,
      "height": null,
      "justify_content": null,
      "justify_items": null,
      "left": null,
      "margin": null,
      "max_height": null,
      "max_width": null,
      "min_height": null,
      "min_width": null,
      "object_fit": null,
      "object_position": null,
      "order": null,
      "overflow": null,
      "overflow_x": null,
      "overflow_y": null,
      "padding": null,
      "right": null,
      "top": null,
      "visibility": null,
      "width": null
     }
    },
    "17d95e4e01fb468ba1c7f828424386d1": {
     "model_module": "@jupyter-widgets/controls",
     "model_name": "ProgressStyleModel",
     "model_module_version": "1.5.0",
     "state": {
      "_model_module": "@jupyter-widgets/controls",
      "_model_module_version": "1.5.0",
      "_model_name": "ProgressStyleModel",
      "_view_count": null,
      "_view_module": "@jupyter-widgets/base",
      "_view_module_version": "1.2.0",
      "_view_name": "StyleView",
      "bar_color": null,
      "description_width": ""
     }
    },
    "5da4daaba82d43baa92bf8a29738c406": {
     "model_module": "@jupyter-widgets/base",
     "model_name": "LayoutModel",
     "model_module_version": "1.2.0",
     "state": {
      "_model_module": "@jupyter-widgets/base",
      "_model_module_version": "1.2.0",
      "_model_name": "LayoutModel",
      "_view_count": null,
      "_view_module": "@jupyter-widgets/base",
      "_view_module_version": "1.2.0",
      "_view_name": "LayoutView",
      "align_content": null,
      "align_items": null,
      "align_self": null,
      "border": null,
      "bottom": null,
      "display": null,
      "flex": null,
      "flex_flow": null,
      "grid_area": null,
      "grid_auto_columns": null,
      "grid_auto_flow": null,
      "grid_auto_rows": null,
      "grid_column": null,
      "grid_gap": null,
      "grid_row": null,
      "grid_template_areas": null,
      "grid_template_columns": null,
      "grid_template_rows": null,
      "height": null,
      "justify_content": null,
      "justify_items": null,
      "left": null,
      "margin": null,
      "max_height": null,
      "max_width": null,
      "min_height": null,
      "min_width": null,
      "object_fit": null,
      "object_position": null,
      "order": null,
      "overflow": null,
      "overflow_x": null,
      "overflow_y": null,
      "padding": null,
      "right": null,
      "top": null,
      "visibility": null,
      "width": null
     }
    },
    "f9c86abfbebe42b5b3d1b980edf4435d": {
     "model_module": "@jupyter-widgets/controls",
     "model_name": "DescriptionStyleModel",
     "model_module_version": "1.5.0",
     "state": {
      "_model_module": "@jupyter-widgets/controls",
      "_model_module_version": "1.5.0",
      "_model_name": "DescriptionStyleModel",
      "_view_count": null,
      "_view_module": "@jupyter-widgets/base",
      "_view_module_version": "1.2.0",
      "_view_name": "StyleView",
      "description_width": ""
     }
    },
    "5a68f380476742bcaa821c3e770da694": {
     "model_module": "@jupyter-widgets/controls",
     "model_name": "HBoxModel",
     "model_module_version": "1.5.0",
     "state": {
      "_dom_classes": [],
      "_model_module": "@jupyter-widgets/controls",
      "_model_module_version": "1.5.0",
      "_model_name": "HBoxModel",
      "_view_count": null,
      "_view_module": "@jupyter-widgets/controls",
      "_view_module_version": "1.5.0",
      "_view_name": "HBoxView",
      "box_style": "",
      "children": [
       "IPY_MODEL_5f0952bb1fc04f86884c2a4094e8d466",
       "IPY_MODEL_5befb3a742d14684a23f2c27072fe62c",
       "IPY_MODEL_05ae257b2986453a8a512ed6f884f97b"
      ],
      "layout": "IPY_MODEL_d202869ed1ea46f590cdca82b8605bb5"
     }
    },
    "5f0952bb1fc04f86884c2a4094e8d466": {
     "model_module": "@jupyter-widgets/controls",
     "model_name": "HTMLModel",
     "model_module_version": "1.5.0",
     "state": {
      "_dom_classes": [],
      "_model_module": "@jupyter-widgets/controls",
      "_model_module_version": "1.5.0",
      "_model_name": "HTMLModel",
      "_view_count": null,
      "_view_module": "@jupyter-widgets/controls",
      "_view_module_version": "1.5.0",
      "_view_name": "HTMLView",
      "description": "",
      "description_tooltip": null,
      "layout": "IPY_MODEL_c9a1e8f162dd4e76ae2954f11fd593f2",
      "placeholder": "​",
      "style": "IPY_MODEL_48d29b27601340a8a3f8d93e1333b5d1",
      "value": "test-loss:5.0599: 100%"
     }
    },
    "5befb3a742d14684a23f2c27072fe62c": {
     "model_module": "@jupyter-widgets/controls",
     "model_name": "FloatProgressModel",
     "model_module_version": "1.5.0",
     "state": {
      "_dom_classes": [],
      "_model_module": "@jupyter-widgets/controls",
      "_model_module_version": "1.5.0",
      "_model_name": "FloatProgressModel",
      "_view_count": null,
      "_view_module": "@jupyter-widgets/controls",
      "_view_module_version": "1.5.0",
      "_view_name": "ProgressView",
      "bar_style": "success",
      "description": "",
      "description_tooltip": null,
      "layout": "IPY_MODEL_192596a750224f4eb609f4d1451e79cf",
      "max": 29,
      "min": 0,
      "orientation": "horizontal",
      "style": "IPY_MODEL_e7554f856879447a8abcdb98e72268ef",
      "value": 29
     }
    },
    "05ae257b2986453a8a512ed6f884f97b": {
     "model_module": "@jupyter-widgets/controls",
     "model_name": "HTMLModel",
     "model_module_version": "1.5.0",
     "state": {
      "_dom_classes": [],
      "_model_module": "@jupyter-widgets/controls",
      "_model_module_version": "1.5.0",
      "_model_name": "HTMLModel",
      "_view_count": null,
      "_view_module": "@jupyter-widgets/controls",
      "_view_module_version": "1.5.0",
      "_view_name": "HTMLView",
      "description": "",
      "description_tooltip": null,
      "layout": "IPY_MODEL_a83f3261abc24a2889b9af92dbe5ea11",
      "placeholder": "​",
      "style": "IPY_MODEL_55367ce68d174dd6ba17388418767b83",
      "value": " 29/29 [00:02&lt;00:00, 13.75it/s]"
     }
    },
    "d202869ed1ea46f590cdca82b8605bb5": {
     "model_module": "@jupyter-widgets/base",
     "model_name": "LayoutModel",
     "model_module_version": "1.2.0",
     "state": {
      "_model_module": "@jupyter-widgets/base",
      "_model_module_version": "1.2.0",
      "_model_name": "LayoutModel",
      "_view_count": null,
      "_view_module": "@jupyter-widgets/base",
      "_view_module_version": "1.2.0",
      "_view_name": "LayoutView",
      "align_content": null,
      "align_items": null,
      "align_self": null,
      "border": null,
      "bottom": null,
      "display": null,
      "flex": null,
      "flex_flow": null,
      "grid_area": null,
      "grid_auto_columns": null,
      "grid_auto_flow": null,
      "grid_auto_rows": null,
      "grid_column": null,
      "grid_gap": null,
      "grid_row": null,
      "grid_template_areas": null,
      "grid_template_columns": null,
      "grid_template_rows": null,
      "height": null,
      "justify_content": null,
      "justify_items": null,
      "left": null,
      "margin": null,
      "max_height": null,
      "max_width": null,
      "min_height": null,
      "min_width": null,
      "object_fit": null,
      "object_position": null,
      "order": null,
      "overflow": null,
      "overflow_x": null,
      "overflow_y": null,
      "padding": null,
      "right": null,
      "top": null,
      "visibility": null,
      "width": null
     }
    },
    "c9a1e8f162dd4e76ae2954f11fd593f2": {
     "model_module": "@jupyter-widgets/base",
     "model_name": "LayoutModel",
     "model_module_version": "1.2.0",
     "state": {
      "_model_module": "@jupyter-widgets/base",
      "_model_module_version": "1.2.0",
      "_model_name": "LayoutModel",
      "_view_count": null,
      "_view_module": "@jupyter-widgets/base",
      "_view_module_version": "1.2.0",
      "_view_name": "LayoutView",
      "align_content": null,
      "align_items": null,
      "align_self": null,
      "border": null,
      "bottom": null,
      "display": null,
      "flex": null,
      "flex_flow": null,
      "grid_area": null,
      "grid_auto_columns": null,
      "grid_auto_flow": null,
      "grid_auto_rows": null,
      "grid_column": null,
      "grid_gap": null,
      "grid_row": null,
      "grid_template_areas": null,
      "grid_template_columns": null,
      "grid_template_rows": null,
      "height": null,
      "justify_content": null,
      "justify_items": null,
      "left": null,
      "margin": null,
      "max_height": null,
      "max_width": null,
      "min_height": null,
      "min_width": null,
      "object_fit": null,
      "object_position": null,
      "order": null,
      "overflow": null,
      "overflow_x": null,
      "overflow_y": null,
      "padding": null,
      "right": null,
      "top": null,
      "visibility": null,
      "width": null
     }
    },
    "48d29b27601340a8a3f8d93e1333b5d1": {
     "model_module": "@jupyter-widgets/controls",
     "model_name": "DescriptionStyleModel",
     "model_module_version": "1.5.0",
     "state": {
      "_model_module": "@jupyter-widgets/controls",
      "_model_module_version": "1.5.0",
      "_model_name": "DescriptionStyleModel",
      "_view_count": null,
      "_view_module": "@jupyter-widgets/base",
      "_view_module_version": "1.2.0",
      "_view_name": "StyleView",
      "description_width": ""
     }
    },
    "192596a750224f4eb609f4d1451e79cf": {
     "model_module": "@jupyter-widgets/base",
     "model_name": "LayoutModel",
     "model_module_version": "1.2.0",
     "state": {
      "_model_module": "@jupyter-widgets/base",
      "_model_module_version": "1.2.0",
      "_model_name": "LayoutModel",
      "_view_count": null,
      "_view_module": "@jupyter-widgets/base",
      "_view_module_version": "1.2.0",
      "_view_name": "LayoutView",
      "align_content": null,
      "align_items": null,
      "align_self": null,
      "border": null,
      "bottom": null,
      "display": null,
      "flex": null,
      "flex_flow": null,
      "grid_area": null,
      "grid_auto_columns": null,
      "grid_auto_flow": null,
      "grid_auto_rows": null,
      "grid_column": null,
      "grid_gap": null,
      "grid_row": null,
      "grid_template_areas": null,
      "grid_template_columns": null,
      "grid_template_rows": null,
      "height": null,
      "justify_content": null,
      "justify_items": null,
      "left": null,
      "margin": null,
      "max_height": null,
      "max_width": null,
      "min_height": null,
      "min_width": null,
      "object_fit": null,
      "object_position": null,
      "order": null,
      "overflow": null,
      "overflow_x": null,
      "overflow_y": null,
      "padding": null,
      "right": null,
      "top": null,
      "visibility": null,
      "width": null
     }
    },
    "e7554f856879447a8abcdb98e72268ef": {
     "model_module": "@jupyter-widgets/controls",
     "model_name": "ProgressStyleModel",
     "model_module_version": "1.5.0",
     "state": {
      "_model_module": "@jupyter-widgets/controls",
      "_model_module_version": "1.5.0",
      "_model_name": "ProgressStyleModel",
      "_view_count": null,
      "_view_module": "@jupyter-widgets/base",
      "_view_module_version": "1.2.0",
      "_view_name": "StyleView",
      "bar_color": null,
      "description_width": ""
     }
    },
    "a83f3261abc24a2889b9af92dbe5ea11": {
     "model_module": "@jupyter-widgets/base",
     "model_name": "LayoutModel",
     "model_module_version": "1.2.0",
     "state": {
      "_model_module": "@jupyter-widgets/base",
      "_model_module_version": "1.2.0",
      "_model_name": "LayoutModel",
      "_view_count": null,
      "_view_module": "@jupyter-widgets/base",
      "_view_module_version": "1.2.0",
      "_view_name": "LayoutView",
      "align_content": null,
      "align_items": null,
      "align_self": null,
      "border": null,
      "bottom": null,
      "display": null,
      "flex": null,
      "flex_flow": null,
      "grid_area": null,
      "grid_auto_columns": null,
      "grid_auto_flow": null,
      "grid_auto_rows": null,
      "grid_column": null,
      "grid_gap": null,
      "grid_row": null,
      "grid_template_areas": null,
      "grid_template_columns": null,
      "grid_template_rows": null,
      "height": null,
      "justify_content": null,
      "justify_items": null,
      "left": null,
      "margin": null,
      "max_height": null,
      "max_width": null,
      "min_height": null,
      "min_width": null,
      "object_fit": null,
      "object_position": null,
      "order": null,
      "overflow": null,
      "overflow_x": null,
      "overflow_y": null,
      "padding": null,
      "right": null,
      "top": null,
      "visibility": null,
      "width": null
     }
    },
    "55367ce68d174dd6ba17388418767b83": {
     "model_module": "@jupyter-widgets/controls",
     "model_name": "DescriptionStyleModel",
     "model_module_version": "1.5.0",
     "state": {
      "_model_module": "@jupyter-widgets/controls",
      "_model_module_version": "1.5.0",
      "_model_name": "DescriptionStyleModel",
      "_view_count": null,
      "_view_module": "@jupyter-widgets/base",
      "_view_module_version": "1.2.0",
      "_view_name": "StyleView",
      "description_width": ""
     }
    },
    "050965016ce2483cbe633481765e28af": {
     "model_module": "@jupyter-widgets/controls",
     "model_name": "HBoxModel",
     "model_module_version": "1.5.0",
     "state": {
      "_dom_classes": [],
      "_model_module": "@jupyter-widgets/controls",
      "_model_module_version": "1.5.0",
      "_model_name": "HBoxModel",
      "_view_count": null,
      "_view_module": "@jupyter-widgets/controls",
      "_view_module_version": "1.5.0",
      "_view_name": "HBoxView",
      "box_style": "",
      "children": [
       "IPY_MODEL_7ca91c530f83483a981c5b07742e2d72",
       "IPY_MODEL_c4163c52cf5448d185965902c7380e0a",
       "IPY_MODEL_8d2617fcf3aa45b490c54195a888df0e"
      ],
      "layout": "IPY_MODEL_7ada5364cb184eeb8705abf1d78222d0"
     }
    },
    "7ca91c530f83483a981c5b07742e2d72": {
     "model_module": "@jupyter-widgets/controls",
     "model_name": "HTMLModel",
     "model_module_version": "1.5.0",
     "state": {
      "_dom_classes": [],
      "_model_module": "@jupyter-widgets/controls",
      "_model_module_version": "1.5.0",
      "_model_name": "HTMLModel",
      "_view_count": null,
      "_view_module": "@jupyter-widgets/controls",
      "_view_module_version": "1.5.0",
      "_view_name": "HTMLView",
      "description": "",
      "description_tooltip": null,
      "layout": "IPY_MODEL_923ca4ce879340b98c240f9858a00d49",
      "placeholder": "​",
      "style": "IPY_MODEL_5473546d734f48d4a26bd2cd60d66f9e",
      "value": "sentence generating: 100%"
     }
    },
    "c4163c52cf5448d185965902c7380e0a": {
     "model_module": "@jupyter-widgets/controls",
     "model_name": "FloatProgressModel",
     "model_module_version": "1.5.0",
     "state": {
      "_dom_classes": [],
      "_model_module": "@jupyter-widgets/controls",
      "_model_module_version": "1.5.0",
      "_model_name": "FloatProgressModel",
      "_view_count": null,
      "_view_module": "@jupyter-widgets/controls",
      "_view_module_version": "1.5.0",
      "_view_name": "ProgressView",
      "bar_style": "success",
      "description": "",
      "description_tooltip": null,
      "layout": "IPY_MODEL_7734ed30b9c642c5afdaca8da28a8535",
      "max": 1000,
      "min": 0,
      "orientation": "horizontal",
      "style": "IPY_MODEL_6e33634a10e3452bb5f33f43c7fa6d8b",
      "value": 1000
     }
    },
    "8d2617fcf3aa45b490c54195a888df0e": {
     "model_module": "@jupyter-widgets/controls",
     "model_name": "HTMLModel",
     "model_module_version": "1.5.0",
     "state": {
      "_dom_classes": [],
      "_model_module": "@jupyter-widgets/controls",
      "_model_module_version": "1.5.0",
      "_model_name": "HTMLModel",
      "_view_count": null,
      "_view_module": "@jupyter-widgets/controls",
      "_view_module_version": "1.5.0",
      "_view_name": "HTMLView",
      "description": "",
      "description_tooltip": null,
      "layout": "IPY_MODEL_01388c484db74941939867ebae3ad38a",
      "placeholder": "​",
      "style": "IPY_MODEL_f9138f6627bb4b40baf8c502e0af4237",
      "value": " 1000/1000 [00:00&lt;00:00, 1578.36it/s]"
     }
    },
    "7ada5364cb184eeb8705abf1d78222d0": {
     "model_module": "@jupyter-widgets/base",
     "model_name": "LayoutModel",
     "model_module_version": "1.2.0",
     "state": {
      "_model_module": "@jupyter-widgets/base",
      "_model_module_version": "1.2.0",
      "_model_name": "LayoutModel",
      "_view_count": null,
      "_view_module": "@jupyter-widgets/base",
      "_view_module_version": "1.2.0",
      "_view_name": "LayoutView",
      "align_content": null,
      "align_items": null,
      "align_self": null,
      "border": null,
      "bottom": null,
      "display": null,
      "flex": null,
      "flex_flow": null,
      "grid_area": null,
      "grid_auto_columns": null,
      "grid_auto_flow": null,
      "grid_auto_rows": null,
      "grid_column": null,
      "grid_gap": null,
      "grid_row": null,
      "grid_template_areas": null,
      "grid_template_columns": null,
      "grid_template_rows": null,
      "height": null,
      "justify_content": null,
      "justify_items": null,
      "left": null,
      "margin": null,
      "max_height": null,
      "max_width": null,
      "min_height": null,
      "min_width": null,
      "object_fit": null,
      "object_position": null,
      "order": null,
      "overflow": null,
      "overflow_x": null,
      "overflow_y": null,
      "padding": null,
      "right": null,
      "top": null,
      "visibility": null,
      "width": null
     }
    },
    "923ca4ce879340b98c240f9858a00d49": {
     "model_module": "@jupyter-widgets/base",
     "model_name": "LayoutModel",
     "model_module_version": "1.2.0",
     "state": {
      "_model_module": "@jupyter-widgets/base",
      "_model_module_version": "1.2.0",
      "_model_name": "LayoutModel",
      "_view_count": null,
      "_view_module": "@jupyter-widgets/base",
      "_view_module_version": "1.2.0",
      "_view_name": "LayoutView",
      "align_content": null,
      "align_items": null,
      "align_self": null,
      "border": null,
      "bottom": null,
      "display": null,
      "flex": null,
      "flex_flow": null,
      "grid_area": null,
      "grid_auto_columns": null,
      "grid_auto_flow": null,
      "grid_auto_rows": null,
      "grid_column": null,
      "grid_gap": null,
      "grid_row": null,
      "grid_template_areas": null,
      "grid_template_columns": null,
      "grid_template_rows": null,
      "height": null,
      "justify_content": null,
      "justify_items": null,
      "left": null,
      "margin": null,
      "max_height": null,
      "max_width": null,
      "min_height": null,
      "min_width": null,
      "object_fit": null,
      "object_position": null,
      "order": null,
      "overflow": null,
      "overflow_x": null,
      "overflow_y": null,
      "padding": null,
      "right": null,
      "top": null,
      "visibility": null,
      "width": null
     }
    },
    "5473546d734f48d4a26bd2cd60d66f9e": {
     "model_module": "@jupyter-widgets/controls",
     "model_name": "DescriptionStyleModel",
     "model_module_version": "1.5.0",
     "state": {
      "_model_module": "@jupyter-widgets/controls",
      "_model_module_version": "1.5.0",
      "_model_name": "DescriptionStyleModel",
      "_view_count": null,
      "_view_module": "@jupyter-widgets/base",
      "_view_module_version": "1.2.0",
      "_view_name": "StyleView",
      "description_width": ""
     }
    },
    "7734ed30b9c642c5afdaca8da28a8535": {
     "model_module": "@jupyter-widgets/base",
     "model_name": "LayoutModel",
     "model_module_version": "1.2.0",
     "state": {
      "_model_module": "@jupyter-widgets/base",
      "_model_module_version": "1.2.0",
      "_model_name": "LayoutModel",
      "_view_count": null,
      "_view_module": "@jupyter-widgets/base",
      "_view_module_version": "1.2.0",
      "_view_name": "LayoutView",
      "align_content": null,
      "align_items": null,
      "align_self": null,
      "border": null,
      "bottom": null,
      "display": null,
      "flex": null,
      "flex_flow": null,
      "grid_area": null,
      "grid_auto_columns": null,
      "grid_auto_flow": null,
      "grid_auto_rows": null,
      "grid_column": null,
      "grid_gap": null,
      "grid_row": null,
      "grid_template_areas": null,
      "grid_template_columns": null,
      "grid_template_rows": null,
      "height": null,
      "justify_content": null,
      "justify_items": null,
      "left": null,
      "margin": null,
      "max_height": null,
      "max_width": null,
      "min_height": null,
      "min_width": null,
      "object_fit": null,
      "object_position": null,
      "order": null,
      "overflow": null,
      "overflow_x": null,
      "overflow_y": null,
      "padding": null,
      "right": null,
      "top": null,
      "visibility": null,
      "width": null
     }
    },
    "6e33634a10e3452bb5f33f43c7fa6d8b": {
     "model_module": "@jupyter-widgets/controls",
     "model_name": "ProgressStyleModel",
     "model_module_version": "1.5.0",
     "state": {
      "_model_module": "@jupyter-widgets/controls",
      "_model_module_version": "1.5.0",
      "_model_name": "ProgressStyleModel",
      "_view_count": null,
      "_view_module": "@jupyter-widgets/base",
      "_view_module_version": "1.2.0",
      "_view_name": "StyleView",
      "bar_color": null,
      "description_width": ""
     }
    },
    "01388c484db74941939867ebae3ad38a": {
     "model_module": "@jupyter-widgets/base",
     "model_name": "LayoutModel",
     "model_module_version": "1.2.0",
     "state": {
      "_model_module": "@jupyter-widgets/base",
      "_model_module_version": "1.2.0",
      "_model_name": "LayoutModel",
      "_view_count": null,
      "_view_module": "@jupyter-widgets/base",
      "_view_module_version": "1.2.0",
      "_view_name": "LayoutView",
      "align_content": null,
      "align_items": null,
      "align_self": null,
      "border": null,
      "bottom": null,
      "display": null,
      "flex": null,
      "flex_flow": null,
      "grid_area": null,
      "grid_auto_columns": null,
      "grid_auto_flow": null,
      "grid_auto_rows": null,
      "grid_column": null,
      "grid_gap": null,
      "grid_row": null,
      "grid_template_areas": null,
      "grid_template_columns": null,
      "grid_template_rows": null,
      "height": null,
      "justify_content": null,
      "justify_items": null,
      "left": null,
      "margin": null,
      "max_height": null,
      "max_width": null,
      "min_height": null,
      "min_width": null,
      "object_fit": null,
      "object_position": null,
      "order": null,
      "overflow": null,
      "overflow_x": null,
      "overflow_y": null,
      "padding": null,
      "right": null,
      "top": null,
      "visibility": null,
      "width": null
     }
    },
    "f9138f6627bb4b40baf8c502e0af4237": {
     "model_module": "@jupyter-widgets/controls",
     "model_name": "DescriptionStyleModel",
     "model_module_version": "1.5.0",
     "state": {
      "_model_module": "@jupyter-widgets/controls",
      "_model_module_version": "1.5.0",
      "_model_name": "DescriptionStyleModel",
      "_view_count": null,
      "_view_module": "@jupyter-widgets/base",
      "_view_module_version": "1.2.0",
      "_view_name": "StyleView",
      "description_width": ""
     }
    }
   }
  }
 },
 "cells": [
  {
   "cell_type": "markdown",
   "source": [
    "# RNN과 LSTM을 이용한 Language Modeling 실습\n",
    "\n",
    "\n",
    "RNN, LSTM 같은 Recurrent Model을 활용한 단어 단위의 Language Modeling을 직접 실습해본다.\n",
    "\n",
    "※ 실행 환경: colab"
   ],
   "metadata": {
    "id": "fhpiCfjVofrV",
    "pycharm": {
     "name": "#%% md\n"
    }
   }
  },
  {
   "cell_type": "markdown",
   "source": [
    "## 1. 데이터 전처리 및 데이터셋 구성\n",
    "\n"
   ],
   "metadata": {
    "id": "mniYVb74pGRl",
    "pycharm": {
     "name": "#%% md\n"
    }
   }
  },
  {
   "cell_type": "markdown",
   "source": [
    "### 1.1. torchdata 설치"
   ],
   "metadata": {
    "id": "Qc2lnvzYpf5y",
    "pycharm": {
     "name": "#%% md\n"
    }
   }
  },
  {
   "cell_type": "code",
   "execution_count": null,
   "metadata": {
    "id": "YLzkqytToQEn",
    "pycharm": {
     "name": "#%%\n"
    }
   },
   "outputs": [],
   "source": [
    "!pip install folium==0.2.1"
   ]
  },
  {
   "cell_type": "code",
   "source": [
    "!pip install torchdata==0.4.0"
   ],
   "metadata": {
    "id": "ktrlF2LBpPgF",
    "pycharm": {
     "name": "#%%\n"
    }
   },
   "execution_count": null,
   "outputs": []
  },
  {
   "cell_type": "markdown",
   "source": [
    "### 1.2. WikiText-2 데이터 불러오기"
   ],
   "metadata": {
    "id": "Z0x3cjq3pi-h",
    "pycharm": {
     "name": "#%% md\n"
    }
   }
  },
  {
   "cell_type": "code",
   "source": [
    "from torchtext.datasets import WikiText2"
   ],
   "metadata": {
    "id": "t13OGfzYpT6_",
    "pycharm": {
     "name": "#%%\n"
    }
   },
   "execution_count": null,
   "outputs": []
  },
  {
   "cell_type": "code",
   "source": [
    "train, valid, test = WikiText2()"
   ],
   "metadata": {
    "id": "FXr6UPvGppeT",
    "pycharm": {
     "name": "#%%\n"
    }
   },
   "execution_count": null,
   "outputs": []
  },
  {
   "cell_type": "markdown",
   "source": [
    "### 1.3. Tokenization & Build Vocab"
   ],
   "metadata": {
    "id": "y_KItJg-pu2L",
    "pycharm": {
     "name": "#%% md\n"
    }
   }
  },
  {
   "cell_type": "code",
   "source": [
    "from torchtext.data.utils import get_tokenizer\n",
    "from torchtext.vocab import build_vocab_from_iterator"
   ],
   "metadata": {
    "id": "UT4YCX_0pr5e",
    "pycharm": {
     "name": "#%%\n"
    }
   },
   "execution_count": null,
   "outputs": []
  },
  {
   "cell_type": "code",
   "source": [
    "en_tokenizer = get_tokenizer('basic_english')\n",
    "vocab = build_vocab_from_iterator(map(en_tokenizer, train), min_freq=3, specials=['<unk>'])"
   ],
   "metadata": {
    "id": "tbJ9rZgdqEWi",
    "pycharm": {
     "name": "#%%\n"
    }
   },
   "execution_count": null,
   "outputs": []
  },
  {
   "cell_type": "code",
   "source": [
    "vocab['<unk>'], len(vocab.get_stoi())"
   ],
   "metadata": {
    "colab": {
     "base_uri": "https://localhost:8080/"
    },
    "id": "tlO42RAtrRoR",
    "outputId": "e08e099b-75a8-4615-f780-4293cdd35d18",
    "pycharm": {
     "name": "#%%\n"
    }
   },
   "execution_count": null,
   "outputs": [
    {
     "output_type": "execute_result",
     "data": {
      "text/plain": [
       "(0, 28782)"
      ]
     },
     "metadata": {},
     "execution_count": 7
    }
   ]
  },
  {
   "cell_type": "code",
   "source": [
    "token2id = vocab.get_stoi()\n",
    "id2token = vocab.get_itos()"
   ],
   "metadata": {
    "id": "1P7Oe30RrgtX",
    "pycharm": {
     "name": "#%%\n"
    }
   },
   "execution_count": null,
   "outputs": []
  },
  {
   "cell_type": "markdown",
   "source": [
    "### 1.4. Encoding, Decoding"
   ],
   "metadata": {
    "id": "ipZpuDsiqkvG",
    "pycharm": {
     "name": "#%% md\n"
    }
   }
  },
  {
   "cell_type": "code",
   "source": [
    "import torch"
   ],
   "metadata": {
    "id": "OFr4NBBdsEHt",
    "pycharm": {
     "name": "#%%\n"
    }
   },
   "execution_count": null,
   "outputs": []
  },
  {
   "cell_type": "code",
   "source": [
    "def encode(data, token2id, tokenizer):\n",
    "    encoded = [ torch.tensor(list(map(lambda x: token2id.get(x, token2id['<unk>']), tokens))).long() for tokens in map(tokenizer, data)]\n",
    "    return torch.cat(encoded)\n",
    "\n",
    "def decode(id_sequence, id2token):\n",
    "    return \" \".join([ id2token[s_id] for s_id in id_sequence ])"
   ],
   "metadata": {
    "id": "KMJUAtgyqIpW",
    "pycharm": {
     "name": "#%%\n"
    }
   },
   "execution_count": null,
   "outputs": []
  },
  {
   "cell_type": "code",
   "source": [
    "train_seq = encode(train, token2id, en_tokenizer)\n",
    "valid_seq = encode(valid, token2id, en_tokenizer)\n",
    "test_seq = encode(test, token2id, en_tokenizer)"
   ],
   "metadata": {
    "id": "RfjCFBAkrQXY",
    "pycharm": {
     "name": "#%%\n"
    }
   },
   "execution_count": null,
   "outputs": []
  },
  {
   "cell_type": "code",
   "source": [
    "print(train_seq[:10])\n",
    "print(valid_seq[:10])\n",
    "print(test_seq[:10])"
   ],
   "metadata": {
    "colab": {
     "base_uri": "https://localhost:8080/"
    },
    "id": "OXeUg-yhrnUV",
    "outputId": "a62a661b-973f-4cf9-cdf3-c1796f8ddaf6",
    "pycharm": {
     "name": "#%%\n"
    }
   },
   "execution_count": null,
   "outputs": [
    {
     "output_type": "stream",
     "name": "stdout",
     "text": [
      "tensor([    9,  3849,  3869,   881,     9, 20000,    83,  3849,    88,     0])\n",
      "tensor([    9,  9606, 25610,     9,  9606, 25610,     2,   123,    14,     1])\n",
      "tensor([  9, 632,   0,   9, 632,   0,  23,  30, 332, 103])\n"
     ]
    }
   ]
  },
  {
   "cell_type": "code",
   "source": [
    "train_seq.size(), valid_seq.size(), test_seq.size()"
   ],
   "metadata": {
    "colab": {
     "base_uri": "https://localhost:8080/"
    },
    "id": "yVm6q0K-tnvD",
    "outputId": "ccbf3358-6e55-44ca-fefd-21ff191809b4",
    "pycharm": {
     "name": "#%%\n"
    }
   },
   "execution_count": null,
   "outputs": [
    {
     "output_type": "execute_result",
     "data": {
      "text/plain": [
       "(torch.Size([2049990]), torch.Size([214417]), torch.Size([241859]))"
      ]
     },
     "metadata": {},
     "execution_count": 13
    }
   ]
  },
  {
   "cell_type": "markdown",
   "source": [
    "### 1.5. Batch 구성"
   ],
   "metadata": {
    "id": "dlYNWc3DtxYU",
    "pycharm": {
     "name": "#%% md\n"
    }
   }
  },
  {
   "cell_type": "code",
   "source": [
    "def batchfy(data, batch_size, seq_len):\n",
    "    samples = data.size()[0] // (batch_size * seq_len)\n",
    "    data = data[:samples*batch_size*seq_len]\n",
    "    data = data.view(batch_size,-1,seq_len).transpose(0,1)\n",
    "    return data"
   ],
   "metadata": {
    "id": "_fvbXHD-tsYs",
    "pycharm": {
     "name": "#%%\n"
    }
   },
   "execution_count": null,
   "outputs": []
  },
  {
   "cell_type": "code",
   "source": [
    "batch_size = 128\n",
    "seq_len = 64"
   ],
   "metadata": {
    "id": "-ippIIUIuOWC",
    "pycharm": {
     "name": "#%%\n"
    }
   },
   "execution_count": null,
   "outputs": []
  },
  {
   "cell_type": "code",
   "source": [
    "train_batch = batchfy(train_seq, batch_size, seq_len)\n",
    "valid_batch = batchfy(valid_seq, batch_size, seq_len)\n",
    "test_batch = batchfy(test_seq, batch_size, seq_len)"
   ],
   "metadata": {
    "id": "9rtxuOzyuSvG",
    "pycharm": {
     "name": "#%%\n"
    }
   },
   "execution_count": null,
   "outputs": []
  },
  {
   "cell_type": "code",
   "source": [
    "train_batch.size(), valid_batch.size(), test_batch.size()"
   ],
   "metadata": {
    "colab": {
     "base_uri": "https://localhost:8080/"
    },
    "id": "N79XrOX9uftz",
    "outputId": "1408e622-819d-4efa-a254-1af9bd3ef21a",
    "pycharm": {
     "name": "#%%\n"
    }
   },
   "execution_count": null,
   "outputs": [
    {
     "output_type": "execute_result",
     "data": {
      "text/plain": [
       "(torch.Size([250, 128, 64]),\n",
       " torch.Size([26, 128, 64]),\n",
       " torch.Size([29, 128, 64]))"
      ]
     },
     "metadata": {},
     "execution_count": 16
    }
   ]
  },
  {
   "cell_type": "markdown",
   "source": [
    "## 2. 모델 구현하기"
   ],
   "metadata": {
    "id": "exkdS9xTvSXc",
    "pycharm": {
     "name": "#%% md\n"
    }
   }
  },
  {
   "cell_type": "code",
   "source": [
    "import torch\n",
    "import torch.nn as nn\n",
    "import torch.optim as optim\n",
    "import torch.nn.functional as F"
   ],
   "metadata": {
    "id": "0S8Gn_nywW3b",
    "pycharm": {
     "name": "#%%\n"
    }
   },
   "execution_count": null,
   "outputs": []
  },
  {
   "cell_type": "markdown",
   "source": [
    "### 2.1. RNN 모델\n",
    "\n",
    "* 하이퍼 파라미터\n",
    "    * vocab_size: vocab 크기\n",
    "    * emb_dim: embedding_dimension\n",
    "    * hidden_dim: hidden-state vector dimension\n",
    "    * num_layers: RNN 은닉층의 수\n",
    "    * dropout: dropout 비율"
   ],
   "metadata": {
    "id": "3yOPirFcwPeY",
    "pycharm": {
     "name": "#%% md\n"
    }
   }
  },
  {
   "cell_type": "code",
   "source": [
    "class MyRNN(nn.Module):\n",
    "    def __init__(self, vocab_size, emb_dim, hidden_dim, num_layers=2, dropout=0.5):\n",
    "        super(MyRNN, self).__init__()\n",
    "        self.model_type = 'RNN'\n",
    "\n",
    "        self.num_layers = num_layers\n",
    "        self.hidden_dim = hidden_dim\n",
    "\n",
    "        self.embedding = nn.Embedding(vocab_size, emb_dim)\n",
    "        self.dropout = nn.Dropout(dropout)\n",
    "        self.rnn = nn.RNN(input_size=emb_dim, hidden_size=hidden_dim, num_layers=num_layers, nonlinearity='relu',batch_first=True, dropout=dropout)\n",
    "        self.output = nn.Linear(hidden_dim, vocab_size)\n",
    "\n",
    "        self.init_weights()\n",
    "\n",
    "    def forward(self, x, h):\n",
    "        '''\n",
    "        x: (batch_size, seq_len)\n",
    "        h: (num_layers, batch_size, hidden_dim)\n",
    "        '''\n",
    "\n",
    "        x = self.embedding(x) # (batch_size, seq_len, emb_size)\n",
    "        out, h_n = self.rnn(x, h) # (batch_size, seq_len, hidden_dim), (num_layer, batch_size, hidden_dim)\n",
    "        out = F.log_softmax(self.output(out),dim=-1) # (batch_size, seq_len, vocab_size)\n",
    "        return out, h_n\n",
    "\n",
    "    def init_weights(self):\n",
    "        k = torch.tensor(1/self.hidden_dim)\n",
    "        for param in self.parameters():\n",
    "            nn.init.uniform_(param.data, -torch.sqrt(k), torch.sqrt(k))\n",
    "\n",
    "    def init_hidden(self, batch_size):\n",
    "        return torch.zeros((self.num_layers, batch_size, self.hidden_dim))"
   ],
   "metadata": {
    "id": "uoM0sb3ouk0S",
    "pycharm": {
     "name": "#%%\n"
    }
   },
   "execution_count": null,
   "outputs": []
  },
  {
   "cell_type": "markdown",
   "source": [
    "### 2.2. LSTM 모델\n",
    "\n",
    "* 하이퍼 파라미터\n",
    "    * vocab_size: vocab 크기\n",
    "    * emb_dim: embedding_dimension\n",
    "    * hidden_dim: hidden-state vector dimension\n",
    "    * num_layers: RNN 은닉층의 수\n",
    "    * dropout: dropout 비율"
   ],
   "metadata": {
    "id": "-0LFBouB3Qd8",
    "pycharm": {
     "name": "#%% md\n"
    }
   }
  },
  {
   "cell_type": "code",
   "source": [
    "class MyLSTM(nn.Module):\n",
    "    def __init__(self, vocab_size, emb_dim, hidden_dim, num_layers=2, dropout=0.5):\n",
    "        super(MyLSTM, self).__init__()\n",
    "        self.num_layers = num_layers\n",
    "        self.hidden_dim = hidden_dim\n",
    "\n",
    "        self.model_type = 'LSTM'\n",
    "\n",
    "        self.embedding = nn.Embedding(vocab_size, emb_dim)\n",
    "\n",
    "        self.lstm = nn.LSTM(input_size=emb_dim, \n",
    "                            hidden_size=hidden_dim,\n",
    "                            num_layers=num_layers,\n",
    "                            batch_first=True,\n",
    "                            dropout=dropout)\n",
    "        \n",
    "        self.dropout = nn.Dropout(dropout)\n",
    "        self.output = nn.Linear(hidden_dim, vocab_size)\n",
    "\n",
    "        self.init_param()\n",
    "\n",
    "    def init_param(self):\n",
    "        k = torch.tensor(1/self.hidden_dim)\n",
    "        for param in self.parameters():\n",
    "            nn.init.uniform_(param.data, -torch.sqrt(k), torch.sqrt(k))\n",
    "\n",
    "    def init_hidden(self, batch_size):\n",
    "        return torch.zeros((self.num_layers, batch_size, self.hidden_dim)), torch.zeros((self.num_layers, batch_size, self.hidden_dim))\n",
    "\n",
    "    def forward(self, x, hidden):\n",
    "        x = self.embedding(x)\n",
    "\n",
    "        out, (next_h, next_c) = self.lstm(x, hidden)\n",
    "        out = self.output(out)\n",
    "        log_prob = F.log_softmax(out, dim=-1)\n",
    "\n",
    "        return log_prob, (next_h, next_c)"
   ],
   "metadata": {
    "id": "5ovDs3Rpr5x0",
    "pycharm": {
     "name": "#%%\n"
    }
   },
   "execution_count": null,
   "outputs": []
  },
  {
   "cell_type": "markdown",
   "source": [
    "## 3. 모델 학습"
   ],
   "metadata": {
    "id": "9gfgJr333WeT",
    "pycharm": {
     "name": "#%% md\n"
    }
   }
  },
  {
   "cell_type": "markdown",
   "source": [
    "### 3.1. train\n",
    "\n",
    "* 학습 함수"
   ],
   "metadata": {
    "id": "Qjxz-Rrf3c35",
    "pycharm": {
     "name": "#%% md\n"
    }
   }
  },
  {
   "cell_type": "code",
   "source": [
    "from tqdm.notebook import tqdm"
   ],
   "metadata": {
    "id": "RzrBHuGZ3-PJ",
    "pycharm": {
     "name": "#%%\n"
    }
   },
   "execution_count": null,
   "outputs": []
  },
  {
   "cell_type": "code",
   "source": [
    "def train(model, optimizer, data, device):\n",
    "    model.train()\n",
    "    model.to(device)\n",
    "\n",
    "    total_loss = 0.\n",
    "    bar = tqdm(data, desc='train')\n",
    "\n",
    "    batch_size = data.size()[1]\n",
    "    hidden = model.init_hidden(batch_size)\n",
    "\n",
    "    for i, x in enumerate(bar, start=1):\n",
    "        x = x.to(device)\n",
    "\n",
    "        if model.model_type == 'LSTM':\n",
    "            hidden = (hidden[0].to(device), hidden[1].to(device))\n",
    "        else:\n",
    "            hidden = hidden.to(device)\n",
    "\n",
    "        out, next_hidden = model(x, hidden) # out: (batch_size, seq_len, vocab_size)\n",
    "\n",
    "        if model.model_type == 'LSTM':\n",
    "            hidden = tuple(tensor.detach() for tensor in next_hidden) # detach()를 하지 않으면 backward()를 2번 한다는 RuntimeError가 발생한다.\n",
    "        else:\n",
    "            hidden = next_hidden.detach()\n",
    "\n",
    "        # 다음 단어를 예측하는 것이므로 예측값에서 마지막 시점의 출력값은 제외하고, 정답에서는 2번째 시점부터 가져와 비교한다.\n",
    "        # out을 tranpose하는 이유는 nll_loss가 input:(batch_size, num_class, dim1, dim2,...) target:(batch_size, dim1, dim2,) 방식으로 입력을 받기 때문이다.\n",
    "        cost = F.nll_loss(out[:,:-1,:].transpose(1,2), x[:,1:])\n",
    "\n",
    "        total_loss += cost.item()\n",
    "        current_loss = total_loss / i\n",
    "\n",
    "        optimizer.zero_grad()\n",
    "        cost.backward()\n",
    "        optimizer.step()\n",
    "\n",
    "\n",
    "        bar.set_description(f\"Train-loss:{current_loss:.4f}\")"
   ],
   "metadata": {
    "id": "WCe-Myaw3V8U",
    "pycharm": {
     "name": "#%%\n"
    }
   },
   "execution_count": null,
   "outputs": []
  },
  {
   "cell_type": "markdown",
   "source": [
    "### 3.2. evaluate 함수\n",
    "\n",
    "* 검증∙평가 함수"
   ],
   "metadata": {
    "id": "Vm9zeb0f98vQ",
    "pycharm": {
     "name": "#%% md\n"
    }
   }
  },
  {
   "cell_type": "code",
   "source": [
    "def evaluate(model, data, device, mode='valid'):\n",
    "    \n",
    "    model.eval()\n",
    "    model.to(device)\n",
    "\n",
    "    total_loss = 0.\n",
    "    bar = tqdm(data, desc=mode)\n",
    "\n",
    "    batch_size = data.size()[1]\n",
    "    hidden = model.init_hidden(batch_size)\n",
    "\n",
    "    loss_avg = 0.\n",
    "\n",
    "    for i, x in enumerate(bar, start=1):\n",
    "        with torch.no_grad():\n",
    "            x = x.to(device)\n",
    "\n",
    "            if model.model_type == 'LSTM':\n",
    "                hidden = (hidden[0].to(device), hidden[1].to(device))\n",
    "            else:\n",
    "                hidden = hidden.to(device)\n",
    "            \n",
    "            out, next_hidden = model(x, hidden) # out: (batch_size, seq_len, vocab_size)\n",
    "            \n",
    "            if model.model_type == 'LSTM':\n",
    "                hidden = tuple(tensor.detach() for tensor in next_hidden) # detach()를 하지 않으면 backward()를 2번 한다는 RuntimeError가 발생한다.\n",
    "            else:\n",
    "                hidden = next_hidden.detach()\n",
    "\n",
    "            # 다음 단어를 예측하는 것이므로 예측값에서 마지막 시점의 출력값은 제외하고, 정답에서는 2번째 시점부터 가져와 비교한다.\n",
    "            # out을 tranpose하는 이유는 nll_loss가 input:(batch_size, num_class, dim1, dim2,...) target:(batch_size, dim1, dim2,) 방식으로 입력을 받기 때문이다.\n",
    "            loss = F.nll_loss(out[:,:-1,:].transpose(1,2), x[:,1:])\n",
    "        total_loss += loss.item()\n",
    "        current_loss = total_loss / i\n",
    "        loss_avg = current_loss\n",
    "\n",
    "        bar.set_description(f\"{mode}-loss:{current_loss:.4f}\")\n",
    "    \n",
    "    return loss_avg"
   ],
   "metadata": {
    "id": "4nJCYWA633Yl",
    "pycharm": {
     "name": "#%%\n"
    }
   },
   "execution_count": null,
   "outputs": []
  },
  {
   "cell_type": "markdown",
   "source": [
    "### 3.3. 학습"
   ],
   "metadata": {
    "id": "PHFLGRpa-w-1",
    "pycharm": {
     "name": "#%% md\n"
    }
   }
  },
  {
   "cell_type": "code",
   "source": [
    "vocab_size = len(id2token)\n",
    "emb_size = 256\n",
    "hidden_dim = 256\n",
    "num_epoch = 2\n",
    "\n",
    "model = MyLSTM(vocab_size, emb_size, hidden_dim)\n",
    "device = torch.device('cuda' if torch.cuda.is_available() else 'cpu')\n",
    "optimizer = optim.Adam(model.parameters(),lr=1e-3)\n",
    "\n",
    "for epoch in range(num_epoch):\n",
    "    train(model, optimizer, train_batch, device)\n",
    "    val_loss = evaluate(model, valid_batch, device, 'valid')\n",
    "    print(\"=\"*60)\n",
    "    print(f\"END OF EPOCH:{epoch+1} | VALID LOSS: {val_loss:.4f}\")\n",
    "    print(\"=\"*60)"
   ],
   "metadata": {
    "colab": {
     "base_uri": "https://localhost:8080/",
     "height": 249,
     "referenced_widgets": [
      "78d6c671a5c84d94a4861e5a1447c5ee",
      "e28b8dfaa08c4d0382d0b7ee88c82dae",
      "afacd7c551614976b3b387e214b15a53",
      "ed8be4c942c24429b4e0e3c61453cbe6",
      "d7eaed4a1d76487dbe89d1c36ba39596",
      "c72bf982c31246108a1c0bcdf323c84e",
      "533de0d436194bde8ed096778e524d8e",
      "ff0e91512d9f4d22880d6dab12ce1aac",
      "e2c13f17fd2f486bb57b1079a68295c2",
      "7b53a6102dc64ae4bc4ca58b8701ca69",
      "4f7a7656fe0f46cf8b168a826213c33c",
      "400674dc1f354f3989ae7132cd3338b0",
      "abbddbd1bfa24671abc78e1938584be8",
      "385ddbf39b3f4c41b1862c11463c2519",
      "1888b3a8f3994f468b77991f8ab81c4c",
      "b608c98be27440cc871d63c28e02d760",
      "681e4b119ad84c3ebebd99e0b9e307bf",
      "1f774de9513d4331a6e28cd79f512e04",
      "324ccea6d36446c9bd42ebe48b3dd6e2",
      "20159e69979d4c7394a76123b5bfcec8",
      "5843cdb46b3e4bfba82de9cc0e4e38df",
      "cd760f0395884b53854c778d6a896cfc",
      "c542be9b98af49a5bae6cb2e6fedde6b",
      "cb45529b2932400ea6ffd6bb4c8f16ab",
      "46b8e1ae4eba433091ed4cabe5d4cfe0",
      "c8e160710ef54e1ebec34a2109b756ac",
      "a0b788cf169c4e5e933be61b84f75cdd",
      "beeeb3ff6bea4de79aa25b95bf0df59b",
      "5f816c26b85f4b849a04c6bdc1771f9e",
      "90f8e474445848128e8af1aa07c9dac6",
      "4b0a1d1d3bcd4acd80e3d2ea2f1f109a",
      "7729af36faff437683654d9c3603da85",
      "de859da22153442aa31599a29454b1a9",
      "23aa9aa08931413a9fd46097de059567",
      "a561855907ce44fc9465bdd5b79946fe",
      "5302ece073bb4a2ebdb7a0b993b345ca",
      "1ed3a398ad6c4d2fa0bc880fd125143c",
      "6d5d27bd59a44e308e5aab14346c74c5",
      "eb8602078d8141cb9f3dc656d294c1e0",
      "881e2d8ee35542b0a27345be2712da94",
      "f470ae4663ab49069ec9fe482e5ee7f5",
      "17d95e4e01fb468ba1c7f828424386d1",
      "5da4daaba82d43baa92bf8a29738c406",
      "f9c86abfbebe42b5b3d1b980edf4435d"
     ]
    },
    "id": "th6l1XwG-sYA",
    "outputId": "891a5ef5-675f-4c3b-fb02-e963116722da",
    "pycharm": {
     "name": "#%%\n"
    }
   },
   "execution_count": null,
   "outputs": [
    {
     "output_type": "display_data",
     "data": {
      "text/plain": [
       "train:   0%|          | 0/250 [00:00<?, ?it/s]"
      ],
      "application/vnd.jupyter.widget-view+json": {
       "version_major": 2,
       "version_minor": 0,
       "model_id": "78d6c671a5c84d94a4861e5a1447c5ee"
      }
     },
     "metadata": {}
    },
    {
     "output_type": "display_data",
     "data": {
      "text/plain": [
       "valid:   0%|          | 0/26 [00:00<?, ?it/s]"
      ],
      "application/vnd.jupyter.widget-view+json": {
       "version_major": 2,
       "version_minor": 0,
       "model_id": "400674dc1f354f3989ae7132cd3338b0"
      }
     },
     "metadata": {}
    },
    {
     "output_type": "stream",
     "name": "stdout",
     "text": [
      "============================================================\n",
      "END OF EPOCH:1 | VALID LOSS: 6.7639\n",
      "============================================================\n"
     ]
    },
    {
     "output_type": "display_data",
     "data": {
      "text/plain": [
       "train:   0%|          | 0/250 [00:00<?, ?it/s]"
      ],
      "application/vnd.jupyter.widget-view+json": {
       "version_major": 2,
       "version_minor": 0,
       "model_id": "c542be9b98af49a5bae6cb2e6fedde6b"
      }
     },
     "metadata": {}
    },
    {
     "output_type": "display_data",
     "data": {
      "text/plain": [
       "valid:   0%|          | 0/26 [00:00<?, ?it/s]"
      ],
      "application/vnd.jupyter.widget-view+json": {
       "version_major": 2,
       "version_minor": 0,
       "model_id": "23aa9aa08931413a9fd46097de059567"
      }
     },
     "metadata": {}
    },
    {
     "output_type": "stream",
     "name": "stdout",
     "text": [
      "============================================================\n",
      "END OF EPOCH:2 | VALID LOSS: 6.7501\n",
      "============================================================\n"
     ]
    }
   ]
  },
  {
   "cell_type": "markdown",
   "source": [
    "### 3.4. TEST"
   ],
   "metadata": {
    "id": "P47PtQGYPheN",
    "pycharm": {
     "name": "#%% md\n"
    }
   }
  },
  {
   "cell_type": "code",
   "source": [
    "print(\"=\"*60)\n",
    "test_loss = evaluate(model, test_batch, device, 'test')\n",
    "print(f\"END OF TEST | TEST LOSS: {test_loss:.4f}\")\n",
    "print(\"=\"*60)"
   ],
   "metadata": {
    "colab": {
     "base_uri": "https://localhost:8080/",
     "height": 101,
     "referenced_widgets": [
      "5a68f380476742bcaa821c3e770da694",
      "5f0952bb1fc04f86884c2a4094e8d466",
      "5befb3a742d14684a23f2c27072fe62c",
      "05ae257b2986453a8a512ed6f884f97b",
      "d202869ed1ea46f590cdca82b8605bb5",
      "c9a1e8f162dd4e76ae2954f11fd593f2",
      "48d29b27601340a8a3f8d93e1333b5d1",
      "192596a750224f4eb609f4d1451e79cf",
      "e7554f856879447a8abcdb98e72268ef",
      "a83f3261abc24a2889b9af92dbe5ea11",
      "55367ce68d174dd6ba17388418767b83"
     ]
    },
    "id": "B_ahdV0vKB_F",
    "outputId": "15141c64-5333-4cee-be69-9f58b62cba0c",
    "pycharm": {
     "name": "#%%\n"
    }
   },
   "execution_count": null,
   "outputs": [
    {
     "output_type": "stream",
     "name": "stdout",
     "text": [
      "============================================================\n"
     ]
    },
    {
     "output_type": "display_data",
     "data": {
      "text/plain": [
       "test:   0%|          | 0/29 [00:00<?, ?it/s]"
      ],
      "application/vnd.jupyter.widget-view+json": {
       "version_major": 2,
       "version_minor": 0,
       "model_id": "5a68f380476742bcaa821c3e770da694"
      }
     },
     "metadata": {}
    },
    {
     "output_type": "stream",
     "name": "stdout",
     "text": [
      "END OF TEST | TEST LOSS: 5.0599\n",
      "============================================================\n"
     ]
    }
   ]
  },
  {
   "cell_type": "markdown",
   "source": [
    "## 4. 문장 생성\n",
    "\n",
    "지금까지 학습한 모델을 바탕으로 1000개의 단어를 생성하는 작업을 해볼 것이다.\n",
    "\n",
    "첫 시작 단어는 random sampling한다.\n",
    "\n",
    "```\n",
    "생성된 문장 예시\n",
    "\n",
    "it was partially filmed for his prestigious diplomatic kingdoms , began with christie ' s performances ' exploration of piedras lopez , which herders was stopped behind jerkins .\n",
    "\n",
    "he wrote at walking from the great new flight of constance informer and jan francis von general henry i\n",
    "```"
   ],
   "metadata": {
    "id": "gZKiBlbMQAIf",
    "pycharm": {
     "name": "#%% md\n"
    }
   }
  },
  {
   "cell_type": "code",
   "source": [
    "hidden = model.init_hidden(1) # 1개 단어로 시작하기 때문에 batch_size가 1이다.\n",
    "input = torch.randint(low=1, high=len(id2token), size=(1,1)) # (batch_size, seq_len) -> (1,1)\n",
    "\n",
    "id_sequence = [input.item()]\n",
    "for i in tqdm(range(1000), desc='sentence generating'):\n",
    "    input = input.to(device)\n",
    "    hidden = (hidden[0].to(device), hidden[1].to(device))\n",
    "    with torch.no_grad():\n",
    "        out, next_hidden = model(input, hidden)\n",
    "    weights = out.squeeze().exp() # exp를 해준 이유는 log_softmax이기 때문이다.\n",
    "    token_id = torch.multinomial(weights, 1) # weights가 가진 확률(가중치)에 기반해 index를 sampling한다.\n",
    "    input, hidden = token_id.unsqueeze(0), next_hidden\n",
    "    id_sequence.append(token_id.item())\n",
    "\n",
    "with open('output.txt', \"w\") as f:\n",
    "    f.write(decode(id_sequence, id2token))"
   ],
   "metadata": {
    "colab": {
     "base_uri": "https://localhost:8080/",
     "height": 49,
     "referenced_widgets": [
      "050965016ce2483cbe633481765e28af",
      "7ca91c530f83483a981c5b07742e2d72",
      "c4163c52cf5448d185965902c7380e0a",
      "8d2617fcf3aa45b490c54195a888df0e",
      "7ada5364cb184eeb8705abf1d78222d0",
      "923ca4ce879340b98c240f9858a00d49",
      "5473546d734f48d4a26bd2cd60d66f9e",
      "7734ed30b9c642c5afdaca8da28a8535",
      "6e33634a10e3452bb5f33f43c7fa6d8b",
      "01388c484db74941939867ebae3ad38a",
      "f9138f6627bb4b40baf8c502e0af4237"
     ]
    },
    "id": "3aF_jo0DP6Ii",
    "outputId": "61c13921-ff7e-40bd-9d75-e206e1d57ca9",
    "pycharm": {
     "name": "#%%\n"
    }
   },
   "execution_count": null,
   "outputs": [
    {
     "output_type": "display_data",
     "data": {
      "text/plain": [
       "sentence generating:   0%|          | 0/1000 [00:00<?, ?it/s]"
      ],
      "application/vnd.jupyter.widget-view+json": {
       "version_major": 2,
       "version_minor": 0,
       "model_id": "050965016ce2483cbe633481765e28af"
      }
     },
     "metadata": {}
    }
   ]
  }
 ]
}