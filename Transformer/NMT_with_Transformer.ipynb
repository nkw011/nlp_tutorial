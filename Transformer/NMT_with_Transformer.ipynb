{
 "nbformat": 4,
 "nbformat_minor": 0,
 "metadata": {
  "colab": {
   "name": "NMT_with_Transformer.ipynb",
   "provenance": [],
   "toc_visible": true
  },
  "kernelspec": {
   "name": "python3",
   "display_name": "Python 3"
  },
  "language_info": {
   "name": "python"
  },
  "gpuClass": "standard",
  "accelerator": "GPU",
  "widgets": {
   "application/vnd.jupyter.widget-state+json": {
    "2d30384986d841b9b42a896aa84561f4": {
     "model_module": "@jupyter-widgets/controls",
     "model_name": "HBoxModel",
     "model_module_version": "1.5.0",
     "state": {
      "_dom_classes": [],
      "_model_module": "@jupyter-widgets/controls",
      "_model_module_version": "1.5.0",
      "_model_name": "HBoxModel",
      "_view_count": null,
      "_view_module": "@jupyter-widgets/controls",
      "_view_module_version": "1.5.0",
      "_view_name": "HBoxView",
      "box_style": "",
      "children": [
       "IPY_MODEL_64a3033a58e04875a53ea91f2b72d3e5",
       "IPY_MODEL_b81928c5f2534d91aea4df52760144c1",
       "IPY_MODEL_17d63999ebea4e3bb7b397b0f25873ba"
      ],
      "layout": "IPY_MODEL_abff97ce4ad74c96bf8da27d4296f94f"
     }
    },
    "64a3033a58e04875a53ea91f2b72d3e5": {
     "model_module": "@jupyter-widgets/controls",
     "model_name": "HTMLModel",
     "model_module_version": "1.5.0",
     "state": {
      "_dom_classes": [],
      "_model_module": "@jupyter-widgets/controls",
      "_model_module_version": "1.5.0",
      "_model_name": "HTMLModel",
      "_view_count": null,
      "_view_module": "@jupyter-widgets/controls",
      "_view_module_version": "1.5.0",
      "_view_name": "HTMLView",
      "description": "",
      "description_tooltip": null,
      "layout": "IPY_MODEL_15dd80228adb4c339e9e9b690b948fb9",
      "placeholder": "​",
      "style": "IPY_MODEL_19a658548d834abeb208d08b9d72a929",
      "value": "Train-loss:3.7424: 100%"
     }
    },
    "b81928c5f2534d91aea4df52760144c1": {
     "model_module": "@jupyter-widgets/controls",
     "model_name": "FloatProgressModel",
     "model_module_version": "1.5.0",
     "state": {
      "_dom_classes": [],
      "_model_module": "@jupyter-widgets/controls",
      "_model_module_version": "1.5.0",
      "_model_name": "FloatProgressModel",
      "_view_count": null,
      "_view_module": "@jupyter-widgets/controls",
      "_view_module_version": "1.5.0",
      "_view_name": "ProgressView",
      "bar_style": "success",
      "description": "",
      "description_tooltip": null,
      "layout": "IPY_MODEL_60e1be708bb24cd1a593b1450aceaa25",
      "max": 227,
      "min": 0,
      "orientation": "horizontal",
      "style": "IPY_MODEL_8df3a96c10004fd9a4c06ecd440bfc57",
      "value": 227
     }
    },
    "17d63999ebea4e3bb7b397b0f25873ba": {
     "model_module": "@jupyter-widgets/controls",
     "model_name": "HTMLModel",
     "model_module_version": "1.5.0",
     "state": {
      "_dom_classes": [],
      "_model_module": "@jupyter-widgets/controls",
      "_model_module_version": "1.5.0",
      "_model_name": "HTMLModel",
      "_view_count": null,
      "_view_module": "@jupyter-widgets/controls",
      "_view_module_version": "1.5.0",
      "_view_name": "HTMLView",
      "description": "",
      "description_tooltip": null,
      "layout": "IPY_MODEL_b16fe5af22a34bd2a8c958e2b4ef91d3",
      "placeholder": "​",
      "style": "IPY_MODEL_615c9e945b0741f8bb4b2e9412719c23",
      "value": " 227/227 [00:14&lt;00:00, 19.71it/s]"
     }
    },
    "abff97ce4ad74c96bf8da27d4296f94f": {
     "model_module": "@jupyter-widgets/base",
     "model_name": "LayoutModel",
     "model_module_version": "1.2.0",
     "state": {
      "_model_module": "@jupyter-widgets/base",
      "_model_module_version": "1.2.0",
      "_model_name": "LayoutModel",
      "_view_count": null,
      "_view_module": "@jupyter-widgets/base",
      "_view_module_version": "1.2.0",
      "_view_name": "LayoutView",
      "align_content": null,
      "align_items": null,
      "align_self": null,
      "border": null,
      "bottom": null,
      "display": null,
      "flex": null,
      "flex_flow": null,
      "grid_area": null,
      "grid_auto_columns": null,
      "grid_auto_flow": null,
      "grid_auto_rows": null,
      "grid_column": null,
      "grid_gap": null,
      "grid_row": null,
      "grid_template_areas": null,
      "grid_template_columns": null,
      "grid_template_rows": null,
      "height": null,
      "justify_content": null,
      "justify_items": null,
      "left": null,
      "margin": null,
      "max_height": null,
      "max_width": null,
      "min_height": null,
      "min_width": null,
      "object_fit": null,
      "object_position": null,
      "order": null,
      "overflow": null,
      "overflow_x": null,
      "overflow_y": null,
      "padding": null,
      "right": null,
      "top": null,
      "visibility": null,
      "width": null
     }
    },
    "15dd80228adb4c339e9e9b690b948fb9": {
     "model_module": "@jupyter-widgets/base",
     "model_name": "LayoutModel",
     "model_module_version": "1.2.0",
     "state": {
      "_model_module": "@jupyter-widgets/base",
      "_model_module_version": "1.2.0",
      "_model_name": "LayoutModel",
      "_view_count": null,
      "_view_module": "@jupyter-widgets/base",
      "_view_module_version": "1.2.0",
      "_view_name": "LayoutView",
      "align_content": null,
      "align_items": null,
      "align_self": null,
      "border": null,
      "bottom": null,
      "display": null,
      "flex": null,
      "flex_flow": null,
      "grid_area": null,
      "grid_auto_columns": null,
      "grid_auto_flow": null,
      "grid_auto_rows": null,
      "grid_column": null,
      "grid_gap": null,
      "grid_row": null,
      "grid_template_areas": null,
      "grid_template_columns": null,
      "grid_template_rows": null,
      "height": null,
      "justify_content": null,
      "justify_items": null,
      "left": null,
      "margin": null,
      "max_height": null,
      "max_width": null,
      "min_height": null,
      "min_width": null,
      "object_fit": null,
      "object_position": null,
      "order": null,
      "overflow": null,
      "overflow_x": null,
      "overflow_y": null,
      "padding": null,
      "right": null,
      "top": null,
      "visibility": null,
      "width": null
     }
    },
    "19a658548d834abeb208d08b9d72a929": {
     "model_module": "@jupyter-widgets/controls",
     "model_name": "DescriptionStyleModel",
     "model_module_version": "1.5.0",
     "state": {
      "_model_module": "@jupyter-widgets/controls",
      "_model_module_version": "1.5.0",
      "_model_name": "DescriptionStyleModel",
      "_view_count": null,
      "_view_module": "@jupyter-widgets/base",
      "_view_module_version": "1.2.0",
      "_view_name": "StyleView",
      "description_width": ""
     }
    },
    "60e1be708bb24cd1a593b1450aceaa25": {
     "model_module": "@jupyter-widgets/base",
     "model_name": "LayoutModel",
     "model_module_version": "1.2.0",
     "state": {
      "_model_module": "@jupyter-widgets/base",
      "_model_module_version": "1.2.0",
      "_model_name": "LayoutModel",
      "_view_count": null,
      "_view_module": "@jupyter-widgets/base",
      "_view_module_version": "1.2.0",
      "_view_name": "LayoutView",
      "align_content": null,
      "align_items": null,
      "align_self": null,
      "border": null,
      "bottom": null,
      "display": null,
      "flex": null,
      "flex_flow": null,
      "grid_area": null,
      "grid_auto_columns": null,
      "grid_auto_flow": null,
      "grid_auto_rows": null,
      "grid_column": null,
      "grid_gap": null,
      "grid_row": null,
      "grid_template_areas": null,
      "grid_template_columns": null,
      "grid_template_rows": null,
      "height": null,
      "justify_content": null,
      "justify_items": null,
      "left": null,
      "margin": null,
      "max_height": null,
      "max_width": null,
      "min_height": null,
      "min_width": null,
      "object_fit": null,
      "object_position": null,
      "order": null,
      "overflow": null,
      "overflow_x": null,
      "overflow_y": null,
      "padding": null,
      "right": null,
      "top": null,
      "visibility": null,
      "width": null
     }
    },
    "8df3a96c10004fd9a4c06ecd440bfc57": {
     "model_module": "@jupyter-widgets/controls",
     "model_name": "ProgressStyleModel",
     "model_module_version": "1.5.0",
     "state": {
      "_model_module": "@jupyter-widgets/controls",
      "_model_module_version": "1.5.0",
      "_model_name": "ProgressStyleModel",
      "_view_count": null,
      "_view_module": "@jupyter-widgets/base",
      "_view_module_version": "1.2.0",
      "_view_name": "StyleView",
      "bar_color": null,
      "description_width": ""
     }
    },
    "b16fe5af22a34bd2a8c958e2b4ef91d3": {
     "model_module": "@jupyter-widgets/base",
     "model_name": "LayoutModel",
     "model_module_version": "1.2.0",
     "state": {
      "_model_module": "@jupyter-widgets/base",
      "_model_module_version": "1.2.0",
      "_model_name": "LayoutModel",
      "_view_count": null,
      "_view_module": "@jupyter-widgets/base",
      "_view_module_version": "1.2.0",
      "_view_name": "LayoutView",
      "align_content": null,
      "align_items": null,
      "align_self": null,
      "border": null,
      "bottom": null,
      "display": null,
      "flex": null,
      "flex_flow": null,
      "grid_area": null,
      "grid_auto_columns": null,
      "grid_auto_flow": null,
      "grid_auto_rows": null,
      "grid_column": null,
      "grid_gap": null,
      "grid_row": null,
      "grid_template_areas": null,
      "grid_template_columns": null,
      "grid_template_rows": null,
      "height": null,
      "justify_content": null,
      "justify_items": null,
      "left": null,
      "margin": null,
      "max_height": null,
      "max_width": null,
      "min_height": null,
      "min_width": null,
      "object_fit": null,
      "object_position": null,
      "order": null,
      "overflow": null,
      "overflow_x": null,
      "overflow_y": null,
      "padding": null,
      "right": null,
      "top": null,
      "visibility": null,
      "width": null
     }
    },
    "615c9e945b0741f8bb4b2e9412719c23": {
     "model_module": "@jupyter-widgets/controls",
     "model_name": "DescriptionStyleModel",
     "model_module_version": "1.5.0",
     "state": {
      "_model_module": "@jupyter-widgets/controls",
      "_model_module_version": "1.5.0",
      "_model_name": "DescriptionStyleModel",
      "_view_count": null,
      "_view_module": "@jupyter-widgets/base",
      "_view_module_version": "1.2.0",
      "_view_name": "StyleView",
      "description_width": ""
     }
    },
    "13068bc955204e7d9a922dedf8053be5": {
     "model_module": "@jupyter-widgets/controls",
     "model_name": "HBoxModel",
     "model_module_version": "1.5.0",
     "state": {
      "_dom_classes": [],
      "_model_module": "@jupyter-widgets/controls",
      "_model_module_version": "1.5.0",
      "_model_name": "HBoxModel",
      "_view_count": null,
      "_view_module": "@jupyter-widgets/controls",
      "_view_module_version": "1.5.0",
      "_view_name": "HBoxView",
      "box_style": "",
      "children": [
       "IPY_MODEL_310165b75ea147e79e4d0db2779c85b7",
       "IPY_MODEL_2f873d45023b472cb452409f77914d77",
       "IPY_MODEL_99a4eb712d4a483d8aef82476803fd7d"
      ],
      "layout": "IPY_MODEL_5be0ee48b0494f68acad8f979470cf82"
     }
    },
    "310165b75ea147e79e4d0db2779c85b7": {
     "model_module": "@jupyter-widgets/controls",
     "model_name": "HTMLModel",
     "model_module_version": "1.5.0",
     "state": {
      "_dom_classes": [],
      "_model_module": "@jupyter-widgets/controls",
      "_model_module_version": "1.5.0",
      "_model_name": "HTMLModel",
      "_view_count": null,
      "_view_module": "@jupyter-widgets/controls",
      "_view_module_version": "1.5.0",
      "_view_name": "HTMLView",
      "description": "",
      "description_tooltip": null,
      "layout": "IPY_MODEL_aaee638e7f934dd08fd82bf181579fa1",
      "placeholder": "​",
      "style": "IPY_MODEL_5cbde7641b6844b0bb4166d3f4e9bc34",
      "value": "valid-loss:2.7775: 100%"
     }
    },
    "2f873d45023b472cb452409f77914d77": {
     "model_module": "@jupyter-widgets/controls",
     "model_name": "FloatProgressModel",
     "model_module_version": "1.5.0",
     "state": {
      "_dom_classes": [],
      "_model_module": "@jupyter-widgets/controls",
      "_model_module_version": "1.5.0",
      "_model_name": "FloatProgressModel",
      "_view_count": null,
      "_view_module": "@jupyter-widgets/controls",
      "_view_module_version": "1.5.0",
      "_view_name": "ProgressView",
      "bar_style": "success",
      "description": "",
      "description_tooltip": null,
      "layout": "IPY_MODEL_f8378a4a3c8f48ce81429d6cada8930f",
      "max": 8,
      "min": 0,
      "orientation": "horizontal",
      "style": "IPY_MODEL_fdc7bd2a10ee4da39adf6a30824a475c",
      "value": 8
     }
    },
    "99a4eb712d4a483d8aef82476803fd7d": {
     "model_module": "@jupyter-widgets/controls",
     "model_name": "HTMLModel",
     "model_module_version": "1.5.0",
     "state": {
      "_dom_classes": [],
      "_model_module": "@jupyter-widgets/controls",
      "_model_module_version": "1.5.0",
      "_model_name": "HTMLModel",
      "_view_count": null,
      "_view_module": "@jupyter-widgets/controls",
      "_view_module_version": "1.5.0",
      "_view_name": "HTMLView",
      "description": "",
      "description_tooltip": null,
      "layout": "IPY_MODEL_958bc97e035e4a2ca904233880a4e054",
      "placeholder": "​",
      "style": "IPY_MODEL_15a6e9055e2546d094189aee71c20391",
      "value": " 8/8 [00:00&lt;00:00, 37.49it/s]"
     }
    },
    "5be0ee48b0494f68acad8f979470cf82": {
     "model_module": "@jupyter-widgets/base",
     "model_name": "LayoutModel",
     "model_module_version": "1.2.0",
     "state": {
      "_model_module": "@jupyter-widgets/base",
      "_model_module_version": "1.2.0",
      "_model_name": "LayoutModel",
      "_view_count": null,
      "_view_module": "@jupyter-widgets/base",
      "_view_module_version": "1.2.0",
      "_view_name": "LayoutView",
      "align_content": null,
      "align_items": null,
      "align_self": null,
      "border": null,
      "bottom": null,
      "display": null,
      "flex": null,
      "flex_flow": null,
      "grid_area": null,
      "grid_auto_columns": null,
      "grid_auto_flow": null,
      "grid_auto_rows": null,
      "grid_column": null,
      "grid_gap": null,
      "grid_row": null,
      "grid_template_areas": null,
      "grid_template_columns": null,
      "grid_template_rows": null,
      "height": null,
      "justify_content": null,
      "justify_items": null,
      "left": null,
      "margin": null,
      "max_height": null,
      "max_width": null,
      "min_height": null,
      "min_width": null,
      "object_fit": null,
      "object_position": null,
      "order": null,
      "overflow": null,
      "overflow_x": null,
      "overflow_y": null,
      "padding": null,
      "right": null,
      "top": null,
      "visibility": null,
      "width": null
     }
    },
    "aaee638e7f934dd08fd82bf181579fa1": {
     "model_module": "@jupyter-widgets/base",
     "model_name": "LayoutModel",
     "model_module_version": "1.2.0",
     "state": {
      "_model_module": "@jupyter-widgets/base",
      "_model_module_version": "1.2.0",
      "_model_name": "LayoutModel",
      "_view_count": null,
      "_view_module": "@jupyter-widgets/base",
      "_view_module_version": "1.2.0",
      "_view_name": "LayoutView",
      "align_content": null,
      "align_items": null,
      "align_self": null,
      "border": null,
      "bottom": null,
      "display": null,
      "flex": null,
      "flex_flow": null,
      "grid_area": null,
      "grid_auto_columns": null,
      "grid_auto_flow": null,
      "grid_auto_rows": null,
      "grid_column": null,
      "grid_gap": null,
      "grid_row": null,
      "grid_template_areas": null,
      "grid_template_columns": null,
      "grid_template_rows": null,
      "height": null,
      "justify_content": null,
      "justify_items": null,
      "left": null,
      "margin": null,
      "max_height": null,
      "max_width": null,
      "min_height": null,
      "min_width": null,
      "object_fit": null,
      "object_position": null,
      "order": null,
      "overflow": null,
      "overflow_x": null,
      "overflow_y": null,
      "padding": null,
      "right": null,
      "top": null,
      "visibility": null,
      "width": null
     }
    },
    "5cbde7641b6844b0bb4166d3f4e9bc34": {
     "model_module": "@jupyter-widgets/controls",
     "model_name": "DescriptionStyleModel",
     "model_module_version": "1.5.0",
     "state": {
      "_model_module": "@jupyter-widgets/controls",
      "_model_module_version": "1.5.0",
      "_model_name": "DescriptionStyleModel",
      "_view_count": null,
      "_view_module": "@jupyter-widgets/base",
      "_view_module_version": "1.2.0",
      "_view_name": "StyleView",
      "description_width": ""
     }
    },
    "f8378a4a3c8f48ce81429d6cada8930f": {
     "model_module": "@jupyter-widgets/base",
     "model_name": "LayoutModel",
     "model_module_version": "1.2.0",
     "state": {
      "_model_module": "@jupyter-widgets/base",
      "_model_module_version": "1.2.0",
      "_model_name": "LayoutModel",
      "_view_count": null,
      "_view_module": "@jupyter-widgets/base",
      "_view_module_version": "1.2.0",
      "_view_name": "LayoutView",
      "align_content": null,
      "align_items": null,
      "align_self": null,
      "border": null,
      "bottom": null,
      "display": null,
      "flex": null,
      "flex_flow": null,
      "grid_area": null,
      "grid_auto_columns": null,
      "grid_auto_flow": null,
      "grid_auto_rows": null,
      "grid_column": null,
      "grid_gap": null,
      "grid_row": null,
      "grid_template_areas": null,
      "grid_template_columns": null,
      "grid_template_rows": null,
      "height": null,
      "justify_content": null,
      "justify_items": null,
      "left": null,
      "margin": null,
      "max_height": null,
      "max_width": null,
      "min_height": null,
      "min_width": null,
      "object_fit": null,
      "object_position": null,
      "order": null,
      "overflow": null,
      "overflow_x": null,
      "overflow_y": null,
      "padding": null,
      "right": null,
      "top": null,
      "visibility": null,
      "width": null
     }
    },
    "fdc7bd2a10ee4da39adf6a30824a475c": {
     "model_module": "@jupyter-widgets/controls",
     "model_name": "ProgressStyleModel",
     "model_module_version": "1.5.0",
     "state": {
      "_model_module": "@jupyter-widgets/controls",
      "_model_module_version": "1.5.0",
      "_model_name": "ProgressStyleModel",
      "_view_count": null,
      "_view_module": "@jupyter-widgets/base",
      "_view_module_version": "1.2.0",
      "_view_name": "StyleView",
      "bar_color": null,
      "description_width": ""
     }
    },
    "958bc97e035e4a2ca904233880a4e054": {
     "model_module": "@jupyter-widgets/base",
     "model_name": "LayoutModel",
     "model_module_version": "1.2.0",
     "state": {
      "_model_module": "@jupyter-widgets/base",
      "_model_module_version": "1.2.0",
      "_model_name": "LayoutModel",
      "_view_count": null,
      "_view_module": "@jupyter-widgets/base",
      "_view_module_version": "1.2.0",
      "_view_name": "LayoutView",
      "align_content": null,
      "align_items": null,
      "align_self": null,
      "border": null,
      "bottom": null,
      "display": null,
      "flex": null,
      "flex_flow": null,
      "grid_area": null,
      "grid_auto_columns": null,
      "grid_auto_flow": null,
      "grid_auto_rows": null,
      "grid_column": null,
      "grid_gap": null,
      "grid_row": null,
      "grid_template_areas": null,
      "grid_template_columns": null,
      "grid_template_rows": null,
      "height": null,
      "justify_content": null,
      "justify_items": null,
      "left": null,
      "margin": null,
      "max_height": null,
      "max_width": null,
      "min_height": null,
      "min_width": null,
      "object_fit": null,
      "object_position": null,
      "order": null,
      "overflow": null,
      "overflow_x": null,
      "overflow_y": null,
      "padding": null,
      "right": null,
      "top": null,
      "visibility": null,
      "width": null
     }
    },
    "15a6e9055e2546d094189aee71c20391": {
     "model_module": "@jupyter-widgets/controls",
     "model_name": "DescriptionStyleModel",
     "model_module_version": "1.5.0",
     "state": {
      "_model_module": "@jupyter-widgets/controls",
      "_model_module_version": "1.5.0",
      "_model_name": "DescriptionStyleModel",
      "_view_count": null,
      "_view_module": "@jupyter-widgets/base",
      "_view_module_version": "1.2.0",
      "_view_name": "StyleView",
      "description_width": ""
     }
    },
    "6166405c03ab4931804373fbdde7ddf4": {
     "model_module": "@jupyter-widgets/controls",
     "model_name": "HBoxModel",
     "model_module_version": "1.5.0",
     "state": {
      "_dom_classes": [],
      "_model_module": "@jupyter-widgets/controls",
      "_model_module_version": "1.5.0",
      "_model_name": "HBoxModel",
      "_view_count": null,
      "_view_module": "@jupyter-widgets/controls",
      "_view_module_version": "1.5.0",
      "_view_name": "HBoxView",
      "box_style": "",
      "children": [
       "IPY_MODEL_da8f6b5dc4994f4a909c9cebbb33aa81",
       "IPY_MODEL_e85a1a11479c463f8489eb957d6477a2",
       "IPY_MODEL_7f44e6e2a393464ea3961f6fd44f9771"
      ],
      "layout": "IPY_MODEL_a122feec940344a4a6d9d8d8218949f2"
     }
    },
    "da8f6b5dc4994f4a909c9cebbb33aa81": {
     "model_module": "@jupyter-widgets/controls",
     "model_name": "HTMLModel",
     "model_module_version": "1.5.0",
     "state": {
      "_dom_classes": [],
      "_model_module": "@jupyter-widgets/controls",
      "_model_module_version": "1.5.0",
      "_model_name": "HTMLModel",
      "_view_count": null,
      "_view_module": "@jupyter-widgets/controls",
      "_view_module_version": "1.5.0",
      "_view_name": "HTMLView",
      "description": "",
      "description_tooltip": null,
      "layout": "IPY_MODEL_40d1c9e489ea4095b59af81f78d36b1e",
      "placeholder": "​",
      "style": "IPY_MODEL_b84629b6915c491aa643157ea4eb8311",
      "value": "Train-loss:2.4513: 100%"
     }
    },
    "e85a1a11479c463f8489eb957d6477a2": {
     "model_module": "@jupyter-widgets/controls",
     "model_name": "FloatProgressModel",
     "model_module_version": "1.5.0",
     "state": {
      "_dom_classes": [],
      "_model_module": "@jupyter-widgets/controls",
      "_model_module_version": "1.5.0",
      "_model_name": "FloatProgressModel",
      "_view_count": null,
      "_view_module": "@jupyter-widgets/controls",
      "_view_module_version": "1.5.0",
      "_view_name": "ProgressView",
      "bar_style": "success",
      "description": "",
      "description_tooltip": null,
      "layout": "IPY_MODEL_b8ed05a060cb46c8bba0c9b273f5621b",
      "max": 227,
      "min": 0,
      "orientation": "horizontal",
      "style": "IPY_MODEL_8abe61c2a2f0481590c3cded9c444eaa",
      "value": 227
     }
    },
    "7f44e6e2a393464ea3961f6fd44f9771": {
     "model_module": "@jupyter-widgets/controls",
     "model_name": "HTMLModel",
     "model_module_version": "1.5.0",
     "state": {
      "_dom_classes": [],
      "_model_module": "@jupyter-widgets/controls",
      "_model_module_version": "1.5.0",
      "_model_name": "HTMLModel",
      "_view_count": null,
      "_view_module": "@jupyter-widgets/controls",
      "_view_module_version": "1.5.0",
      "_view_name": "HTMLView",
      "description": "",
      "description_tooltip": null,
      "layout": "IPY_MODEL_5fb567c5543841948947675cf5d0b0b2",
      "placeholder": "​",
      "style": "IPY_MODEL_2e3f0a77decd493595c830a95f174059",
      "value": " 227/227 [00:12&lt;00:00, 18.70it/s]"
     }
    },
    "a122feec940344a4a6d9d8d8218949f2": {
     "model_module": "@jupyter-widgets/base",
     "model_name": "LayoutModel",
     "model_module_version": "1.2.0",
     "state": {
      "_model_module": "@jupyter-widgets/base",
      "_model_module_version": "1.2.0",
      "_model_name": "LayoutModel",
      "_view_count": null,
      "_view_module": "@jupyter-widgets/base",
      "_view_module_version": "1.2.0",
      "_view_name": "LayoutView",
      "align_content": null,
      "align_items": null,
      "align_self": null,
      "border": null,
      "bottom": null,
      "display": null,
      "flex": null,
      "flex_flow": null,
      "grid_area": null,
      "grid_auto_columns": null,
      "grid_auto_flow": null,
      "grid_auto_rows": null,
      "grid_column": null,
      "grid_gap": null,
      "grid_row": null,
      "grid_template_areas": null,
      "grid_template_columns": null,
      "grid_template_rows": null,
      "height": null,
      "justify_content": null,
      "justify_items": null,
      "left": null,
      "margin": null,
      "max_height": null,
      "max_width": null,
      "min_height": null,
      "min_width": null,
      "object_fit": null,
      "object_position": null,
      "order": null,
      "overflow": null,
      "overflow_x": null,
      "overflow_y": null,
      "padding": null,
      "right": null,
      "top": null,
      "visibility": null,
      "width": null
     }
    },
    "40d1c9e489ea4095b59af81f78d36b1e": {
     "model_module": "@jupyter-widgets/base",
     "model_name": "LayoutModel",
     "model_module_version": "1.2.0",
     "state": {
      "_model_module": "@jupyter-widgets/base",
      "_model_module_version": "1.2.0",
      "_model_name": "LayoutModel",
      "_view_count": null,
      "_view_module": "@jupyter-widgets/base",
      "_view_module_version": "1.2.0",
      "_view_name": "LayoutView",
      "align_content": null,
      "align_items": null,
      "align_self": null,
      "border": null,
      "bottom": null,
      "display": null,
      "flex": null,
      "flex_flow": null,
      "grid_area": null,
      "grid_auto_columns": null,
      "grid_auto_flow": null,
      "grid_auto_rows": null,
      "grid_column": null,
      "grid_gap": null,
      "grid_row": null,
      "grid_template_areas": null,
      "grid_template_columns": null,
      "grid_template_rows": null,
      "height": null,
      "justify_content": null,
      "justify_items": null,
      "left": null,
      "margin": null,
      "max_height": null,
      "max_width": null,
      "min_height": null,
      "min_width": null,
      "object_fit": null,
      "object_position": null,
      "order": null,
      "overflow": null,
      "overflow_x": null,
      "overflow_y": null,
      "padding": null,
      "right": null,
      "top": null,
      "visibility": null,
      "width": null
     }
    },
    "b84629b6915c491aa643157ea4eb8311": {
     "model_module": "@jupyter-widgets/controls",
     "model_name": "DescriptionStyleModel",
     "model_module_version": "1.5.0",
     "state": {
      "_model_module": "@jupyter-widgets/controls",
      "_model_module_version": "1.5.0",
      "_model_name": "DescriptionStyleModel",
      "_view_count": null,
      "_view_module": "@jupyter-widgets/base",
      "_view_module_version": "1.2.0",
      "_view_name": "StyleView",
      "description_width": ""
     }
    },
    "b8ed05a060cb46c8bba0c9b273f5621b": {
     "model_module": "@jupyter-widgets/base",
     "model_name": "LayoutModel",
     "model_module_version": "1.2.0",
     "state": {
      "_model_module": "@jupyter-widgets/base",
      "_model_module_version": "1.2.0",
      "_model_name": "LayoutModel",
      "_view_count": null,
      "_view_module": "@jupyter-widgets/base",
      "_view_module_version": "1.2.0",
      "_view_name": "LayoutView",
      "align_content": null,
      "align_items": null,
      "align_self": null,
      "border": null,
      "bottom": null,
      "display": null,
      "flex": null,
      "flex_flow": null,
      "grid_area": null,
      "grid_auto_columns": null,
      "grid_auto_flow": null,
      "grid_auto_rows": null,
      "grid_column": null,
      "grid_gap": null,
      "grid_row": null,
      "grid_template_areas": null,
      "grid_template_columns": null,
      "grid_template_rows": null,
      "height": null,
      "justify_content": null,
      "justify_items": null,
      "left": null,
      "margin": null,
      "max_height": null,
      "max_width": null,
      "min_height": null,
      "min_width": null,
      "object_fit": null,
      "object_position": null,
      "order": null,
      "overflow": null,
      "overflow_x": null,
      "overflow_y": null,
      "padding": null,
      "right": null,
      "top": null,
      "visibility": null,
      "width": null
     }
    },
    "8abe61c2a2f0481590c3cded9c444eaa": {
     "model_module": "@jupyter-widgets/controls",
     "model_name": "ProgressStyleModel",
     "model_module_version": "1.5.0",
     "state": {
      "_model_module": "@jupyter-widgets/controls",
      "_model_module_version": "1.5.0",
      "_model_name": "ProgressStyleModel",
      "_view_count": null,
      "_view_module": "@jupyter-widgets/base",
      "_view_module_version": "1.2.0",
      "_view_name": "StyleView",
      "bar_color": null,
      "description_width": ""
     }
    },
    "5fb567c5543841948947675cf5d0b0b2": {
     "model_module": "@jupyter-widgets/base",
     "model_name": "LayoutModel",
     "model_module_version": "1.2.0",
     "state": {
      "_model_module": "@jupyter-widgets/base",
      "_model_module_version": "1.2.0",
      "_model_name": "LayoutModel",
      "_view_count": null,
      "_view_module": "@jupyter-widgets/base",
      "_view_module_version": "1.2.0",
      "_view_name": "LayoutView",
      "align_content": null,
      "align_items": null,
      "align_self": null,
      "border": null,
      "bottom": null,
      "display": null,
      "flex": null,
      "flex_flow": null,
      "grid_area": null,
      "grid_auto_columns": null,
      "grid_auto_flow": null,
      "grid_auto_rows": null,
      "grid_column": null,
      "grid_gap": null,
      "grid_row": null,
      "grid_template_areas": null,
      "grid_template_columns": null,
      "grid_template_rows": null,
      "height": null,
      "justify_content": null,
      "justify_items": null,
      "left": null,
      "margin": null,
      "max_height": null,
      "max_width": null,
      "min_height": null,
      "min_width": null,
      "object_fit": null,
      "object_position": null,
      "order": null,
      "overflow": null,
      "overflow_x": null,
      "overflow_y": null,
      "padding": null,
      "right": null,
      "top": null,
      "visibility": null,
      "width": null
     }
    },
    "2e3f0a77decd493595c830a95f174059": {
     "model_module": "@jupyter-widgets/controls",
     "model_name": "DescriptionStyleModel",
     "model_module_version": "1.5.0",
     "state": {
      "_model_module": "@jupyter-widgets/controls",
      "_model_module_version": "1.5.0",
      "_model_name": "DescriptionStyleModel",
      "_view_count": null,
      "_view_module": "@jupyter-widgets/base",
      "_view_module_version": "1.2.0",
      "_view_name": "StyleView",
      "description_width": ""
     }
    },
    "3022677c7e7447e4a4891685654aaa9d": {
     "model_module": "@jupyter-widgets/controls",
     "model_name": "HBoxModel",
     "model_module_version": "1.5.0",
     "state": {
      "_dom_classes": [],
      "_model_module": "@jupyter-widgets/controls",
      "_model_module_version": "1.5.0",
      "_model_name": "HBoxModel",
      "_view_count": null,
      "_view_module": "@jupyter-widgets/controls",
      "_view_module_version": "1.5.0",
      "_view_name": "HBoxView",
      "box_style": "",
      "children": [
       "IPY_MODEL_b7c9230d267e436c83eae6521b051752",
       "IPY_MODEL_dfb74cf3151d437b8da12b48f4549ba6",
       "IPY_MODEL_961333dc4c5b4f71b69dc5f168f62697"
      ],
      "layout": "IPY_MODEL_d62fa46988a645b48a958e137e7e4c92"
     }
    },
    "b7c9230d267e436c83eae6521b051752": {
     "model_module": "@jupyter-widgets/controls",
     "model_name": "HTMLModel",
     "model_module_version": "1.5.0",
     "state": {
      "_dom_classes": [],
      "_model_module": "@jupyter-widgets/controls",
      "_model_module_version": "1.5.0",
      "_model_name": "HTMLModel",
      "_view_count": null,
      "_view_module": "@jupyter-widgets/controls",
      "_view_module_version": "1.5.0",
      "_view_name": "HTMLView",
      "description": "",
      "description_tooltip": null,
      "layout": "IPY_MODEL_af6a7f7957374e4c96aea177a59ebf46",
      "placeholder": "​",
      "style": "IPY_MODEL_ec879a22e64f4d918fca9e1ccef6fefc",
      "value": "valid-loss:2.2580: 100%"
     }
    },
    "dfb74cf3151d437b8da12b48f4549ba6": {
     "model_module": "@jupyter-widgets/controls",
     "model_name": "FloatProgressModel",
     "model_module_version": "1.5.0",
     "state": {
      "_dom_classes": [],
      "_model_module": "@jupyter-widgets/controls",
      "_model_module_version": "1.5.0",
      "_model_name": "FloatProgressModel",
      "_view_count": null,
      "_view_module": "@jupyter-widgets/controls",
      "_view_module_version": "1.5.0",
      "_view_name": "ProgressView",
      "bar_style": "success",
      "description": "",
      "description_tooltip": null,
      "layout": "IPY_MODEL_8e75fc517e314916a53a28d9274d9249",
      "max": 8,
      "min": 0,
      "orientation": "horizontal",
      "style": "IPY_MODEL_1675afef619e4c3c9d30a4c294b89adf",
      "value": 8
     }
    },
    "961333dc4c5b4f71b69dc5f168f62697": {
     "model_module": "@jupyter-widgets/controls",
     "model_name": "HTMLModel",
     "model_module_version": "1.5.0",
     "state": {
      "_dom_classes": [],
      "_model_module": "@jupyter-widgets/controls",
      "_model_module_version": "1.5.0",
      "_model_name": "HTMLModel",
      "_view_count": null,
      "_view_module": "@jupyter-widgets/controls",
      "_view_module_version": "1.5.0",
      "_view_name": "HTMLView",
      "description": "",
      "description_tooltip": null,
      "layout": "IPY_MODEL_75c44c3b8dde40edb2421e907821b560",
      "placeholder": "​",
      "style": "IPY_MODEL_5e72117480914e579f918c9ecd59b7d9",
      "value": " 8/8 [00:00&lt;00:00, 37.36it/s]"
     }
    },
    "d62fa46988a645b48a958e137e7e4c92": {
     "model_module": "@jupyter-widgets/base",
     "model_name": "LayoutModel",
     "model_module_version": "1.2.0",
     "state": {
      "_model_module": "@jupyter-widgets/base",
      "_model_module_version": "1.2.0",
      "_model_name": "LayoutModel",
      "_view_count": null,
      "_view_module": "@jupyter-widgets/base",
      "_view_module_version": "1.2.0",
      "_view_name": "LayoutView",
      "align_content": null,
      "align_items": null,
      "align_self": null,
      "border": null,
      "bottom": null,
      "display": null,
      "flex": null,
      "flex_flow": null,
      "grid_area": null,
      "grid_auto_columns": null,
      "grid_auto_flow": null,
      "grid_auto_rows": null,
      "grid_column": null,
      "grid_gap": null,
      "grid_row": null,
      "grid_template_areas": null,
      "grid_template_columns": null,
      "grid_template_rows": null,
      "height": null,
      "justify_content": null,
      "justify_items": null,
      "left": null,
      "margin": null,
      "max_height": null,
      "max_width": null,
      "min_height": null,
      "min_width": null,
      "object_fit": null,
      "object_position": null,
      "order": null,
      "overflow": null,
      "overflow_x": null,
      "overflow_y": null,
      "padding": null,
      "right": null,
      "top": null,
      "visibility": null,
      "width": null
     }
    },
    "af6a7f7957374e4c96aea177a59ebf46": {
     "model_module": "@jupyter-widgets/base",
     "model_name": "LayoutModel",
     "model_module_version": "1.2.0",
     "state": {
      "_model_module": "@jupyter-widgets/base",
      "_model_module_version": "1.2.0",
      "_model_name": "LayoutModel",
      "_view_count": null,
      "_view_module": "@jupyter-widgets/base",
      "_view_module_version": "1.2.0",
      "_view_name": "LayoutView",
      "align_content": null,
      "align_items": null,
      "align_self": null,
      "border": null,
      "bottom": null,
      "display": null,
      "flex": null,
      "flex_flow": null,
      "grid_area": null,
      "grid_auto_columns": null,
      "grid_auto_flow": null,
      "grid_auto_rows": null,
      "grid_column": null,
      "grid_gap": null,
      "grid_row": null,
      "grid_template_areas": null,
      "grid_template_columns": null,
      "grid_template_rows": null,
      "height": null,
      "justify_content": null,
      "justify_items": null,
      "left": null,
      "margin": null,
      "max_height": null,
      "max_width": null,
      "min_height": null,
      "min_width": null,
      "object_fit": null,
      "object_position": null,
      "order": null,
      "overflow": null,
      "overflow_x": null,
      "overflow_y": null,
      "padding": null,
      "right": null,
      "top": null,
      "visibility": null,
      "width": null
     }
    },
    "ec879a22e64f4d918fca9e1ccef6fefc": {
     "model_module": "@jupyter-widgets/controls",
     "model_name": "DescriptionStyleModel",
     "model_module_version": "1.5.0",
     "state": {
      "_model_module": "@jupyter-widgets/controls",
      "_model_module_version": "1.5.0",
      "_model_name": "DescriptionStyleModel",
      "_view_count": null,
      "_view_module": "@jupyter-widgets/base",
      "_view_module_version": "1.2.0",
      "_view_name": "StyleView",
      "description_width": ""
     }
    },
    "8e75fc517e314916a53a28d9274d9249": {
     "model_module": "@jupyter-widgets/base",
     "model_name": "LayoutModel",
     "model_module_version": "1.2.0",
     "state": {
      "_model_module": "@jupyter-widgets/base",
      "_model_module_version": "1.2.0",
      "_model_name": "LayoutModel",
      "_view_count": null,
      "_view_module": "@jupyter-widgets/base",
      "_view_module_version": "1.2.0",
      "_view_name": "LayoutView",
      "align_content": null,
      "align_items": null,
      "align_self": null,
      "border": null,
      "bottom": null,
      "display": null,
      "flex": null,
      "flex_flow": null,
      "grid_area": null,
      "grid_auto_columns": null,
      "grid_auto_flow": null,
      "grid_auto_rows": null,
      "grid_column": null,
      "grid_gap": null,
      "grid_row": null,
      "grid_template_areas": null,
      "grid_template_columns": null,
      "grid_template_rows": null,
      "height": null,
      "justify_content": null,
      "justify_items": null,
      "left": null,
      "margin": null,
      "max_height": null,
      "max_width": null,
      "min_height": null,
      "min_width": null,
      "object_fit": null,
      "object_position": null,
      "order": null,
      "overflow": null,
      "overflow_x": null,
      "overflow_y": null,
      "padding": null,
      "right": null,
      "top": null,
      "visibility": null,
      "width": null
     }
    },
    "1675afef619e4c3c9d30a4c294b89adf": {
     "model_module": "@jupyter-widgets/controls",
     "model_name": "ProgressStyleModel",
     "model_module_version": "1.5.0",
     "state": {
      "_model_module": "@jupyter-widgets/controls",
      "_model_module_version": "1.5.0",
      "_model_name": "ProgressStyleModel",
      "_view_count": null,
      "_view_module": "@jupyter-widgets/base",
      "_view_module_version": "1.2.0",
      "_view_name": "StyleView",
      "bar_color": null,
      "description_width": ""
     }
    },
    "75c44c3b8dde40edb2421e907821b560": {
     "model_module": "@jupyter-widgets/base",
     "model_name": "LayoutModel",
     "model_module_version": "1.2.0",
     "state": {
      "_model_module": "@jupyter-widgets/base",
      "_model_module_version": "1.2.0",
      "_model_name": "LayoutModel",
      "_view_count": null,
      "_view_module": "@jupyter-widgets/base",
      "_view_module_version": "1.2.0",
      "_view_name": "LayoutView",
      "align_content": null,
      "align_items": null,
      "align_self": null,
      "border": null,
      "bottom": null,
      "display": null,
      "flex": null,
      "flex_flow": null,
      "grid_area": null,
      "grid_auto_columns": null,
      "grid_auto_flow": null,
      "grid_auto_rows": null,
      "grid_column": null,
      "grid_gap": null,
      "grid_row": null,
      "grid_template_areas": null,
      "grid_template_columns": null,
      "grid_template_rows": null,
      "height": null,
      "justify_content": null,
      "justify_items": null,
      "left": null,
      "margin": null,
      "max_height": null,
      "max_width": null,
      "min_height": null,
      "min_width": null,
      "object_fit": null,
      "object_position": null,
      "order": null,
      "overflow": null,
      "overflow_x": null,
      "overflow_y": null,
      "padding": null,
      "right": null,
      "top": null,
      "visibility": null,
      "width": null
     }
    },
    "5e72117480914e579f918c9ecd59b7d9": {
     "model_module": "@jupyter-widgets/controls",
     "model_name": "DescriptionStyleModel",
     "model_module_version": "1.5.0",
     "state": {
      "_model_module": "@jupyter-widgets/controls",
      "_model_module_version": "1.5.0",
      "_model_name": "DescriptionStyleModel",
      "_view_count": null,
      "_view_module": "@jupyter-widgets/base",
      "_view_module_version": "1.2.0",
      "_view_name": "StyleView",
      "description_width": ""
     }
    },
    "4b841db2189b4380a372872d151cb39f": {
     "model_module": "@jupyter-widgets/controls",
     "model_name": "HBoxModel",
     "model_module_version": "1.5.0",
     "state": {
      "_dom_classes": [],
      "_model_module": "@jupyter-widgets/controls",
      "_model_module_version": "1.5.0",
      "_model_name": "HBoxModel",
      "_view_count": null,
      "_view_module": "@jupyter-widgets/controls",
      "_view_module_version": "1.5.0",
      "_view_name": "HBoxView",
      "box_style": "",
      "children": [
       "IPY_MODEL_4f4c2e79321348daa8a8df36aa9c26e7",
       "IPY_MODEL_765e94978c714b279b407664716e240a",
       "IPY_MODEL_bc60483d05fe498b813c25c6885aba68"
      ],
      "layout": "IPY_MODEL_b5e8051cd5254be0867f17147c9acf13"
     }
    },
    "4f4c2e79321348daa8a8df36aa9c26e7": {
     "model_module": "@jupyter-widgets/controls",
     "model_name": "HTMLModel",
     "model_module_version": "1.5.0",
     "state": {
      "_dom_classes": [],
      "_model_module": "@jupyter-widgets/controls",
      "_model_module_version": "1.5.0",
      "_model_name": "HTMLModel",
      "_view_count": null,
      "_view_module": "@jupyter-widgets/controls",
      "_view_module_version": "1.5.0",
      "_view_name": "HTMLView",
      "description": "",
      "description_tooltip": null,
      "layout": "IPY_MODEL_97e4b5d098ab41f8850cbdbf16b05aec",
      "placeholder": "​",
      "style": "IPY_MODEL_24fe9a6bda824dfc9d22cf141a582dba",
      "value": "Train-loss:1.9770: 100%"
     }
    },
    "765e94978c714b279b407664716e240a": {
     "model_module": "@jupyter-widgets/controls",
     "model_name": "FloatProgressModel",
     "model_module_version": "1.5.0",
     "state": {
      "_dom_classes": [],
      "_model_module": "@jupyter-widgets/controls",
      "_model_module_version": "1.5.0",
      "_model_name": "FloatProgressModel",
      "_view_count": null,
      "_view_module": "@jupyter-widgets/controls",
      "_view_module_version": "1.5.0",
      "_view_name": "ProgressView",
      "bar_style": "success",
      "description": "",
      "description_tooltip": null,
      "layout": "IPY_MODEL_0ad2cf3ad721439eb0cc136c3d0f39b7",
      "max": 227,
      "min": 0,
      "orientation": "horizontal",
      "style": "IPY_MODEL_ec7d4adaa6b940b39a52ce83c5f3aa52",
      "value": 227
     }
    },
    "bc60483d05fe498b813c25c6885aba68": {
     "model_module": "@jupyter-widgets/controls",
     "model_name": "HTMLModel",
     "model_module_version": "1.5.0",
     "state": {
      "_dom_classes": [],
      "_model_module": "@jupyter-widgets/controls",
      "_model_module_version": "1.5.0",
      "_model_name": "HTMLModel",
      "_view_count": null,
      "_view_module": "@jupyter-widgets/controls",
      "_view_module_version": "1.5.0",
      "_view_name": "HTMLView",
      "description": "",
      "description_tooltip": null,
      "layout": "IPY_MODEL_be1eb8ab573e40efbbb754eb36488141",
      "placeholder": "​",
      "style": "IPY_MODEL_36c8af7412ff4a3698bd4f5cbbc338c0",
      "value": " 227/227 [00:12&lt;00:00, 19.17it/s]"
     }
    },
    "b5e8051cd5254be0867f17147c9acf13": {
     "model_module": "@jupyter-widgets/base",
     "model_name": "LayoutModel",
     "model_module_version": "1.2.0",
     "state": {
      "_model_module": "@jupyter-widgets/base",
      "_model_module_version": "1.2.0",
      "_model_name": "LayoutModel",
      "_view_count": null,
      "_view_module": "@jupyter-widgets/base",
      "_view_module_version": "1.2.0",
      "_view_name": "LayoutView",
      "align_content": null,
      "align_items": null,
      "align_self": null,
      "border": null,
      "bottom": null,
      "display": null,
      "flex": null,
      "flex_flow": null,
      "grid_area": null,
      "grid_auto_columns": null,
      "grid_auto_flow": null,
      "grid_auto_rows": null,
      "grid_column": null,
      "grid_gap": null,
      "grid_row": null,
      "grid_template_areas": null,
      "grid_template_columns": null,
      "grid_template_rows": null,
      "height": null,
      "justify_content": null,
      "justify_items": null,
      "left": null,
      "margin": null,
      "max_height": null,
      "max_width": null,
      "min_height": null,
      "min_width": null,
      "object_fit": null,
      "object_position": null,
      "order": null,
      "overflow": null,
      "overflow_x": null,
      "overflow_y": null,
      "padding": null,
      "right": null,
      "top": null,
      "visibility": null,
      "width": null
     }
    },
    "97e4b5d098ab41f8850cbdbf16b05aec": {
     "model_module": "@jupyter-widgets/base",
     "model_name": "LayoutModel",
     "model_module_version": "1.2.0",
     "state": {
      "_model_module": "@jupyter-widgets/base",
      "_model_module_version": "1.2.0",
      "_model_name": "LayoutModel",
      "_view_count": null,
      "_view_module": "@jupyter-widgets/base",
      "_view_module_version": "1.2.0",
      "_view_name": "LayoutView",
      "align_content": null,
      "align_items": null,
      "align_self": null,
      "border": null,
      "bottom": null,
      "display": null,
      "flex": null,
      "flex_flow": null,
      "grid_area": null,
      "grid_auto_columns": null,
      "grid_auto_flow": null,
      "grid_auto_rows": null,
      "grid_column": null,
      "grid_gap": null,
      "grid_row": null,
      "grid_template_areas": null,
      "grid_template_columns": null,
      "grid_template_rows": null,
      "height": null,
      "justify_content": null,
      "justify_items": null,
      "left": null,
      "margin": null,
      "max_height": null,
      "max_width": null,
      "min_height": null,
      "min_width": null,
      "object_fit": null,
      "object_position": null,
      "order": null,
      "overflow": null,
      "overflow_x": null,
      "overflow_y": null,
      "padding": null,
      "right": null,
      "top": null,
      "visibility": null,
      "width": null
     }
    },
    "24fe9a6bda824dfc9d22cf141a582dba": {
     "model_module": "@jupyter-widgets/controls",
     "model_name": "DescriptionStyleModel",
     "model_module_version": "1.5.0",
     "state": {
      "_model_module": "@jupyter-widgets/controls",
      "_model_module_version": "1.5.0",
      "_model_name": "DescriptionStyleModel",
      "_view_count": null,
      "_view_module": "@jupyter-widgets/base",
      "_view_module_version": "1.2.0",
      "_view_name": "StyleView",
      "description_width": ""
     }
    },
    "0ad2cf3ad721439eb0cc136c3d0f39b7": {
     "model_module": "@jupyter-widgets/base",
     "model_name": "LayoutModel",
     "model_module_version": "1.2.0",
     "state": {
      "_model_module": "@jupyter-widgets/base",
      "_model_module_version": "1.2.0",
      "_model_name": "LayoutModel",
      "_view_count": null,
      "_view_module": "@jupyter-widgets/base",
      "_view_module_version": "1.2.0",
      "_view_name": "LayoutView",
      "align_content": null,
      "align_items": null,
      "align_self": null,
      "border": null,
      "bottom": null,
      "display": null,
      "flex": null,
      "flex_flow": null,
      "grid_area": null,
      "grid_auto_columns": null,
      "grid_auto_flow": null,
      "grid_auto_rows": null,
      "grid_column": null,
      "grid_gap": null,
      "grid_row": null,
      "grid_template_areas": null,
      "grid_template_columns": null,
      "grid_template_rows": null,
      "height": null,
      "justify_content": null,
      "justify_items": null,
      "left": null,
      "margin": null,
      "max_height": null,
      "max_width": null,
      "min_height": null,
      "min_width": null,
      "object_fit": null,
      "object_position": null,
      "order": null,
      "overflow": null,
      "overflow_x": null,
      "overflow_y": null,
      "padding": null,
      "right": null,
      "top": null,
      "visibility": null,
      "width": null
     }
    },
    "ec7d4adaa6b940b39a52ce83c5f3aa52": {
     "model_module": "@jupyter-widgets/controls",
     "model_name": "ProgressStyleModel",
     "model_module_version": "1.5.0",
     "state": {
      "_model_module": "@jupyter-widgets/controls",
      "_model_module_version": "1.5.0",
      "_model_name": "ProgressStyleModel",
      "_view_count": null,
      "_view_module": "@jupyter-widgets/base",
      "_view_module_version": "1.2.0",
      "_view_name": "StyleView",
      "bar_color": null,
      "description_width": ""
     }
    },
    "be1eb8ab573e40efbbb754eb36488141": {
     "model_module": "@jupyter-widgets/base",
     "model_name": "LayoutModel",
     "model_module_version": "1.2.0",
     "state": {
      "_model_module": "@jupyter-widgets/base",
      "_model_module_version": "1.2.0",
      "_model_name": "LayoutModel",
      "_view_count": null,
      "_view_module": "@jupyter-widgets/base",
      "_view_module_version": "1.2.0",
      "_view_name": "LayoutView",
      "align_content": null,
      "align_items": null,
      "align_self": null,
      "border": null,
      "bottom": null,
      "display": null,
      "flex": null,
      "flex_flow": null,
      "grid_area": null,
      "grid_auto_columns": null,
      "grid_auto_flow": null,
      "grid_auto_rows": null,
      "grid_column": null,
      "grid_gap": null,
      "grid_row": null,
      "grid_template_areas": null,
      "grid_template_columns": null,
      "grid_template_rows": null,
      "height": null,
      "justify_content": null,
      "justify_items": null,
      "left": null,
      "margin": null,
      "max_height": null,
      "max_width": null,
      "min_height": null,
      "min_width": null,
      "object_fit": null,
      "object_position": null,
      "order": null,
      "overflow": null,
      "overflow_x": null,
      "overflow_y": null,
      "padding": null,
      "right": null,
      "top": null,
      "visibility": null,
      "width": null
     }
    },
    "36c8af7412ff4a3698bd4f5cbbc338c0": {
     "model_module": "@jupyter-widgets/controls",
     "model_name": "DescriptionStyleModel",
     "model_module_version": "1.5.0",
     "state": {
      "_model_module": "@jupyter-widgets/controls",
      "_model_module_version": "1.5.0",
      "_model_name": "DescriptionStyleModel",
      "_view_count": null,
      "_view_module": "@jupyter-widgets/base",
      "_view_module_version": "1.2.0",
      "_view_name": "StyleView",
      "description_width": ""
     }
    },
    "022990007cc84a78904b8b7495367b6e": {
     "model_module": "@jupyter-widgets/controls",
     "model_name": "HBoxModel",
     "model_module_version": "1.5.0",
     "state": {
      "_dom_classes": [],
      "_model_module": "@jupyter-widgets/controls",
      "_model_module_version": "1.5.0",
      "_model_name": "HBoxModel",
      "_view_count": null,
      "_view_module": "@jupyter-widgets/controls",
      "_view_module_version": "1.5.0",
      "_view_name": "HBoxView",
      "box_style": "",
      "children": [
       "IPY_MODEL_e77f98062ab94f77bf482ded52abee66",
       "IPY_MODEL_a115b7dd33a2470697521aeeb26ae736",
       "IPY_MODEL_0ecf552d2f2a4f9fb3af8ea9fd1c592d"
      ],
      "layout": "IPY_MODEL_e0d716a20c8448f6849811756cd867ec"
     }
    },
    "e77f98062ab94f77bf482ded52abee66": {
     "model_module": "@jupyter-widgets/controls",
     "model_name": "HTMLModel",
     "model_module_version": "1.5.0",
     "state": {
      "_dom_classes": [],
      "_model_module": "@jupyter-widgets/controls",
      "_model_module_version": "1.5.0",
      "_model_name": "HTMLModel",
      "_view_count": null,
      "_view_module": "@jupyter-widgets/controls",
      "_view_module_version": "1.5.0",
      "_view_name": "HTMLView",
      "description": "",
      "description_tooltip": null,
      "layout": "IPY_MODEL_2fc8b45cc1ac49b7845149358d3eb2d8",
      "placeholder": "​",
      "style": "IPY_MODEL_2d5eda436a1540cf907ec712eb66dd63",
      "value": "valid-loss:2.0215: 100%"
     }
    },
    "a115b7dd33a2470697521aeeb26ae736": {
     "model_module": "@jupyter-widgets/controls",
     "model_name": "FloatProgressModel",
     "model_module_version": "1.5.0",
     "state": {
      "_dom_classes": [],
      "_model_module": "@jupyter-widgets/controls",
      "_model_module_version": "1.5.0",
      "_model_name": "FloatProgressModel",
      "_view_count": null,
      "_view_module": "@jupyter-widgets/controls",
      "_view_module_version": "1.5.0",
      "_view_name": "ProgressView",
      "bar_style": "success",
      "description": "",
      "description_tooltip": null,
      "layout": "IPY_MODEL_493b507cd71a46f7a3ac3bc8b28e13b9",
      "max": 8,
      "min": 0,
      "orientation": "horizontal",
      "style": "IPY_MODEL_b15818d94152488dac236f8903f07659",
      "value": 8
     }
    },
    "0ecf552d2f2a4f9fb3af8ea9fd1c592d": {
     "model_module": "@jupyter-widgets/controls",
     "model_name": "HTMLModel",
     "model_module_version": "1.5.0",
     "state": {
      "_dom_classes": [],
      "_model_module": "@jupyter-widgets/controls",
      "_model_module_version": "1.5.0",
      "_model_name": "HTMLModel",
      "_view_count": null,
      "_view_module": "@jupyter-widgets/controls",
      "_view_module_version": "1.5.0",
      "_view_name": "HTMLView",
      "description": "",
      "description_tooltip": null,
      "layout": "IPY_MODEL_b4c5e189328d4a32857d2fa8c884617a",
      "placeholder": "​",
      "style": "IPY_MODEL_cb4f8355821c421da42a19e675bd2def",
      "value": " 8/8 [00:00&lt;00:00, 38.20it/s]"
     }
    },
    "e0d716a20c8448f6849811756cd867ec": {
     "model_module": "@jupyter-widgets/base",
     "model_name": "LayoutModel",
     "model_module_version": "1.2.0",
     "state": {
      "_model_module": "@jupyter-widgets/base",
      "_model_module_version": "1.2.0",
      "_model_name": "LayoutModel",
      "_view_count": null,
      "_view_module": "@jupyter-widgets/base",
      "_view_module_version": "1.2.0",
      "_view_name": "LayoutView",
      "align_content": null,
      "align_items": null,
      "align_self": null,
      "border": null,
      "bottom": null,
      "display": null,
      "flex": null,
      "flex_flow": null,
      "grid_area": null,
      "grid_auto_columns": null,
      "grid_auto_flow": null,
      "grid_auto_rows": null,
      "grid_column": null,
      "grid_gap": null,
      "grid_row": null,
      "grid_template_areas": null,
      "grid_template_columns": null,
      "grid_template_rows": null,
      "height": null,
      "justify_content": null,
      "justify_items": null,
      "left": null,
      "margin": null,
      "max_height": null,
      "max_width": null,
      "min_height": null,
      "min_width": null,
      "object_fit": null,
      "object_position": null,
      "order": null,
      "overflow": null,
      "overflow_x": null,
      "overflow_y": null,
      "padding": null,
      "right": null,
      "top": null,
      "visibility": null,
      "width": null
     }
    },
    "2fc8b45cc1ac49b7845149358d3eb2d8": {
     "model_module": "@jupyter-widgets/base",
     "model_name": "LayoutModel",
     "model_module_version": "1.2.0",
     "state": {
      "_model_module": "@jupyter-widgets/base",
      "_model_module_version": "1.2.0",
      "_model_name": "LayoutModel",
      "_view_count": null,
      "_view_module": "@jupyter-widgets/base",
      "_view_module_version": "1.2.0",
      "_view_name": "LayoutView",
      "align_content": null,
      "align_items": null,
      "align_self": null,
      "border": null,
      "bottom": null,
      "display": null,
      "flex": null,
      "flex_flow": null,
      "grid_area": null,
      "grid_auto_columns": null,
      "grid_auto_flow": null,
      "grid_auto_rows": null,
      "grid_column": null,
      "grid_gap": null,
      "grid_row": null,
      "grid_template_areas": null,
      "grid_template_columns": null,
      "grid_template_rows": null,
      "height": null,
      "justify_content": null,
      "justify_items": null,
      "left": null,
      "margin": null,
      "max_height": null,
      "max_width": null,
      "min_height": null,
      "min_width": null,
      "object_fit": null,
      "object_position": null,
      "order": null,
      "overflow": null,
      "overflow_x": null,
      "overflow_y": null,
      "padding": null,
      "right": null,
      "top": null,
      "visibility": null,
      "width": null
     }
    },
    "2d5eda436a1540cf907ec712eb66dd63": {
     "model_module": "@jupyter-widgets/controls",
     "model_name": "DescriptionStyleModel",
     "model_module_version": "1.5.0",
     "state": {
      "_model_module": "@jupyter-widgets/controls",
      "_model_module_version": "1.5.0",
      "_model_name": "DescriptionStyleModel",
      "_view_count": null,
      "_view_module": "@jupyter-widgets/base",
      "_view_module_version": "1.2.0",
      "_view_name": "StyleView",
      "description_width": ""
     }
    },
    "493b507cd71a46f7a3ac3bc8b28e13b9": {
     "model_module": "@jupyter-widgets/base",
     "model_name": "LayoutModel",
     "model_module_version": "1.2.0",
     "state": {
      "_model_module": "@jupyter-widgets/base",
      "_model_module_version": "1.2.0",
      "_model_name": "LayoutModel",
      "_view_count": null,
      "_view_module": "@jupyter-widgets/base",
      "_view_module_version": "1.2.0",
      "_view_name": "LayoutView",
      "align_content": null,
      "align_items": null,
      "align_self": null,
      "border": null,
      "bottom": null,
      "display": null,
      "flex": null,
      "flex_flow": null,
      "grid_area": null,
      "grid_auto_columns": null,
      "grid_auto_flow": null,
      "grid_auto_rows": null,
      "grid_column": null,
      "grid_gap": null,
      "grid_row": null,
      "grid_template_areas": null,
      "grid_template_columns": null,
      "grid_template_rows": null,
      "height": null,
      "justify_content": null,
      "justify_items": null,
      "left": null,
      "margin": null,
      "max_height": null,
      "max_width": null,
      "min_height": null,
      "min_width": null,
      "object_fit": null,
      "object_position": null,
      "order": null,
      "overflow": null,
      "overflow_x": null,
      "overflow_y": null,
      "padding": null,
      "right": null,
      "top": null,
      "visibility": null,
      "width": null
     }
    },
    "b15818d94152488dac236f8903f07659": {
     "model_module": "@jupyter-widgets/controls",
     "model_name": "ProgressStyleModel",
     "model_module_version": "1.5.0",
     "state": {
      "_model_module": "@jupyter-widgets/controls",
      "_model_module_version": "1.5.0",
      "_model_name": "ProgressStyleModel",
      "_view_count": null,
      "_view_module": "@jupyter-widgets/base",
      "_view_module_version": "1.2.0",
      "_view_name": "StyleView",
      "bar_color": null,
      "description_width": ""
     }
    },
    "b4c5e189328d4a32857d2fa8c884617a": {
     "model_module": "@jupyter-widgets/base",
     "model_name": "LayoutModel",
     "model_module_version": "1.2.0",
     "state": {
      "_model_module": "@jupyter-widgets/base",
      "_model_module_version": "1.2.0",
      "_model_name": "LayoutModel",
      "_view_count": null,
      "_view_module": "@jupyter-widgets/base",
      "_view_module_version": "1.2.0",
      "_view_name": "LayoutView",
      "align_content": null,
      "align_items": null,
      "align_self": null,
      "border": null,
      "bottom": null,
      "display": null,
      "flex": null,
      "flex_flow": null,
      "grid_area": null,
      "grid_auto_columns": null,
      "grid_auto_flow": null,
      "grid_auto_rows": null,
      "grid_column": null,
      "grid_gap": null,
      "grid_row": null,
      "grid_template_areas": null,
      "grid_template_columns": null,
      "grid_template_rows": null,
      "height": null,
      "justify_content": null,
      "justify_items": null,
      "left": null,
      "margin": null,
      "max_height": null,
      "max_width": null,
      "min_height": null,
      "min_width": null,
      "object_fit": null,
      "object_position": null,
      "order": null,
      "overflow": null,
      "overflow_x": null,
      "overflow_y": null,
      "padding": null,
      "right": null,
      "top": null,
      "visibility": null,
      "width": null
     }
    },
    "cb4f8355821c421da42a19e675bd2def": {
     "model_module": "@jupyter-widgets/controls",
     "model_name": "DescriptionStyleModel",
     "model_module_version": "1.5.0",
     "state": {
      "_model_module": "@jupyter-widgets/controls",
      "_model_module_version": "1.5.0",
      "_model_name": "DescriptionStyleModel",
      "_view_count": null,
      "_view_module": "@jupyter-widgets/base",
      "_view_module_version": "1.2.0",
      "_view_name": "StyleView",
      "description_width": ""
     }
    },
    "4fab0528b8644f8690670c5abf795111": {
     "model_module": "@jupyter-widgets/controls",
     "model_name": "HBoxModel",
     "model_module_version": "1.5.0",
     "state": {
      "_dom_classes": [],
      "_model_module": "@jupyter-widgets/controls",
      "_model_module_version": "1.5.0",
      "_model_name": "HBoxModel",
      "_view_count": null,
      "_view_module": "@jupyter-widgets/controls",
      "_view_module_version": "1.5.0",
      "_view_name": "HBoxView",
      "box_style": "",
      "children": [
       "IPY_MODEL_560504f0e76d43b08b12f4866d45c608",
       "IPY_MODEL_d786d63c833a4783b89c11c0c3a9fafc",
       "IPY_MODEL_1eeadfe82fa94a74a533adf32d54c702"
      ],
      "layout": "IPY_MODEL_4264fc3add2e4241b29b9e8b95599269"
     }
    },
    "560504f0e76d43b08b12f4866d45c608": {
     "model_module": "@jupyter-widgets/controls",
     "model_name": "HTMLModel",
     "model_module_version": "1.5.0",
     "state": {
      "_dom_classes": [],
      "_model_module": "@jupyter-widgets/controls",
      "_model_module_version": "1.5.0",
      "_model_name": "HTMLModel",
      "_view_count": null,
      "_view_module": "@jupyter-widgets/controls",
      "_view_module_version": "1.5.0",
      "_view_name": "HTMLView",
      "description": "",
      "description_tooltip": null,
      "layout": "IPY_MODEL_e06e3f1094d14e4dbd271246a6f9f404",
      "placeholder": "​",
      "style": "IPY_MODEL_350f8439542942968dfe535c519f875d",
      "value": "Train-loss:1.6634: 100%"
     }
    },
    "d786d63c833a4783b89c11c0c3a9fafc": {
     "model_module": "@jupyter-widgets/controls",
     "model_name": "FloatProgressModel",
     "model_module_version": "1.5.0",
     "state": {
      "_dom_classes": [],
      "_model_module": "@jupyter-widgets/controls",
      "_model_module_version": "1.5.0",
      "_model_name": "FloatProgressModel",
      "_view_count": null,
      "_view_module": "@jupyter-widgets/controls",
      "_view_module_version": "1.5.0",
      "_view_name": "ProgressView",
      "bar_style": "success",
      "description": "",
      "description_tooltip": null,
      "layout": "IPY_MODEL_00f0992cf4d04785a1b10202911f0cc1",
      "max": 227,
      "min": 0,
      "orientation": "horizontal",
      "style": "IPY_MODEL_57bcaf11ca404ecab3190980446e7ec8",
      "value": 227
     }
    },
    "1eeadfe82fa94a74a533adf32d54c702": {
     "model_module": "@jupyter-widgets/controls",
     "model_name": "HTMLModel",
     "model_module_version": "1.5.0",
     "state": {
      "_dom_classes": [],
      "_model_module": "@jupyter-widgets/controls",
      "_model_module_version": "1.5.0",
      "_model_name": "HTMLModel",
      "_view_count": null,
      "_view_module": "@jupyter-widgets/controls",
      "_view_module_version": "1.5.0",
      "_view_name": "HTMLView",
      "description": "",
      "description_tooltip": null,
      "layout": "IPY_MODEL_6203e0155d764196bbb6adb25ef61d4a",
      "placeholder": "​",
      "style": "IPY_MODEL_ab91a56f57a748bbb14937ce03e2ed70",
      "value": " 227/227 [00:12&lt;00:00, 18.75it/s]"
     }
    },
    "4264fc3add2e4241b29b9e8b95599269": {
     "model_module": "@jupyter-widgets/base",
     "model_name": "LayoutModel",
     "model_module_version": "1.2.0",
     "state": {
      "_model_module": "@jupyter-widgets/base",
      "_model_module_version": "1.2.0",
      "_model_name": "LayoutModel",
      "_view_count": null,
      "_view_module": "@jupyter-widgets/base",
      "_view_module_version": "1.2.0",
      "_view_name": "LayoutView",
      "align_content": null,
      "align_items": null,
      "align_self": null,
      "border": null,
      "bottom": null,
      "display": null,
      "flex": null,
      "flex_flow": null,
      "grid_area": null,
      "grid_auto_columns": null,
      "grid_auto_flow": null,
      "grid_auto_rows": null,
      "grid_column": null,
      "grid_gap": null,
      "grid_row": null,
      "grid_template_areas": null,
      "grid_template_columns": null,
      "grid_template_rows": null,
      "height": null,
      "justify_content": null,
      "justify_items": null,
      "left": null,
      "margin": null,
      "max_height": null,
      "max_width": null,
      "min_height": null,
      "min_width": null,
      "object_fit": null,
      "object_position": null,
      "order": null,
      "overflow": null,
      "overflow_x": null,
      "overflow_y": null,
      "padding": null,
      "right": null,
      "top": null,
      "visibility": null,
      "width": null
     }
    },
    "e06e3f1094d14e4dbd271246a6f9f404": {
     "model_module": "@jupyter-widgets/base",
     "model_name": "LayoutModel",
     "model_module_version": "1.2.0",
     "state": {
      "_model_module": "@jupyter-widgets/base",
      "_model_module_version": "1.2.0",
      "_model_name": "LayoutModel",
      "_view_count": null,
      "_view_module": "@jupyter-widgets/base",
      "_view_module_version": "1.2.0",
      "_view_name": "LayoutView",
      "align_content": null,
      "align_items": null,
      "align_self": null,
      "border": null,
      "bottom": null,
      "display": null,
      "flex": null,
      "flex_flow": null,
      "grid_area": null,
      "grid_auto_columns": null,
      "grid_auto_flow": null,
      "grid_auto_rows": null,
      "grid_column": null,
      "grid_gap": null,
      "grid_row": null,
      "grid_template_areas": null,
      "grid_template_columns": null,
      "grid_template_rows": null,
      "height": null,
      "justify_content": null,
      "justify_items": null,
      "left": null,
      "margin": null,
      "max_height": null,
      "max_width": null,
      "min_height": null,
      "min_width": null,
      "object_fit": null,
      "object_position": null,
      "order": null,
      "overflow": null,
      "overflow_x": null,
      "overflow_y": null,
      "padding": null,
      "right": null,
      "top": null,
      "visibility": null,
      "width": null
     }
    },
    "350f8439542942968dfe535c519f875d": {
     "model_module": "@jupyter-widgets/controls",
     "model_name": "DescriptionStyleModel",
     "model_module_version": "1.5.0",
     "state": {
      "_model_module": "@jupyter-widgets/controls",
      "_model_module_version": "1.5.0",
      "_model_name": "DescriptionStyleModel",
      "_view_count": null,
      "_view_module": "@jupyter-widgets/base",
      "_view_module_version": "1.2.0",
      "_view_name": "StyleView",
      "description_width": ""
     }
    },
    "00f0992cf4d04785a1b10202911f0cc1": {
     "model_module": "@jupyter-widgets/base",
     "model_name": "LayoutModel",
     "model_module_version": "1.2.0",
     "state": {
      "_model_module": "@jupyter-widgets/base",
      "_model_module_version": "1.2.0",
      "_model_name": "LayoutModel",
      "_view_count": null,
      "_view_module": "@jupyter-widgets/base",
      "_view_module_version": "1.2.0",
      "_view_name": "LayoutView",
      "align_content": null,
      "align_items": null,
      "align_self": null,
      "border": null,
      "bottom": null,
      "display": null,
      "flex": null,
      "flex_flow": null,
      "grid_area": null,
      "grid_auto_columns": null,
      "grid_auto_flow": null,
      "grid_auto_rows": null,
      "grid_column": null,
      "grid_gap": null,
      "grid_row": null,
      "grid_template_areas": null,
      "grid_template_columns": null,
      "grid_template_rows": null,
      "height": null,
      "justify_content": null,
      "justify_items": null,
      "left": null,
      "margin": null,
      "max_height": null,
      "max_width": null,
      "min_height": null,
      "min_width": null,
      "object_fit": null,
      "object_position": null,
      "order": null,
      "overflow": null,
      "overflow_x": null,
      "overflow_y": null,
      "padding": null,
      "right": null,
      "top": null,
      "visibility": null,
      "width": null
     }
    },
    "57bcaf11ca404ecab3190980446e7ec8": {
     "model_module": "@jupyter-widgets/controls",
     "model_name": "ProgressStyleModel",
     "model_module_version": "1.5.0",
     "state": {
      "_model_module": "@jupyter-widgets/controls",
      "_model_module_version": "1.5.0",
      "_model_name": "ProgressStyleModel",
      "_view_count": null,
      "_view_module": "@jupyter-widgets/base",
      "_view_module_version": "1.2.0",
      "_view_name": "StyleView",
      "bar_color": null,
      "description_width": ""
     }
    },
    "6203e0155d764196bbb6adb25ef61d4a": {
     "model_module": "@jupyter-widgets/base",
     "model_name": "LayoutModel",
     "model_module_version": "1.2.0",
     "state": {
      "_model_module": "@jupyter-widgets/base",
      "_model_module_version": "1.2.0",
      "_model_name": "LayoutModel",
      "_view_count": null,
      "_view_module": "@jupyter-widgets/base",
      "_view_module_version": "1.2.0",
      "_view_name": "LayoutView",
      "align_content": null,
      "align_items": null,
      "align_self": null,
      "border": null,
      "bottom": null,
      "display": null,
      "flex": null,
      "flex_flow": null,
      "grid_area": null,
      "grid_auto_columns": null,
      "grid_auto_flow": null,
      "grid_auto_rows": null,
      "grid_column": null,
      "grid_gap": null,
      "grid_row": null,
      "grid_template_areas": null,
      "grid_template_columns": null,
      "grid_template_rows": null,
      "height": null,
      "justify_content": null,
      "justify_items": null,
      "left": null,
      "margin": null,
      "max_height": null,
      "max_width": null,
      "min_height": null,
      "min_width": null,
      "object_fit": null,
      "object_position": null,
      "order": null,
      "overflow": null,
      "overflow_x": null,
      "overflow_y": null,
      "padding": null,
      "right": null,
      "top": null,
      "visibility": null,
      "width": null
     }
    },
    "ab91a56f57a748bbb14937ce03e2ed70": {
     "model_module": "@jupyter-widgets/controls",
     "model_name": "DescriptionStyleModel",
     "model_module_version": "1.5.0",
     "state": {
      "_model_module": "@jupyter-widgets/controls",
      "_model_module_version": "1.5.0",
      "_model_name": "DescriptionStyleModel",
      "_view_count": null,
      "_view_module": "@jupyter-widgets/base",
      "_view_module_version": "1.2.0",
      "_view_name": "StyleView",
      "description_width": ""
     }
    },
    "9c539d55eb174514a111a040a445f26d": {
     "model_module": "@jupyter-widgets/controls",
     "model_name": "HBoxModel",
     "model_module_version": "1.5.0",
     "state": {
      "_dom_classes": [],
      "_model_module": "@jupyter-widgets/controls",
      "_model_module_version": "1.5.0",
      "_model_name": "HBoxModel",
      "_view_count": null,
      "_view_module": "@jupyter-widgets/controls",
      "_view_module_version": "1.5.0",
      "_view_name": "HBoxView",
      "box_style": "",
      "children": [
       "IPY_MODEL_a112bc31612747bfa95048e72f4e630b",
       "IPY_MODEL_f42c60e304eb411980fe620effbf63e7",
       "IPY_MODEL_da7921e15da44dbd9b6c31bc88daad57"
      ],
      "layout": "IPY_MODEL_c8243e65505147eb85a098e728795421"
     }
    },
    "a112bc31612747bfa95048e72f4e630b": {
     "model_module": "@jupyter-widgets/controls",
     "model_name": "HTMLModel",
     "model_module_version": "1.5.0",
     "state": {
      "_dom_classes": [],
      "_model_module": "@jupyter-widgets/controls",
      "_model_module_version": "1.5.0",
      "_model_name": "HTMLModel",
      "_view_count": null,
      "_view_module": "@jupyter-widgets/controls",
      "_view_module_version": "1.5.0",
      "_view_name": "HTMLView",
      "description": "",
      "description_tooltip": null,
      "layout": "IPY_MODEL_14690a9b280741329b2fc15d236e3479",
      "placeholder": "​",
      "style": "IPY_MODEL_96310c65aa9b4ca3b931c512107ffb40",
      "value": "valid-loss:1.9323: 100%"
     }
    },
    "f42c60e304eb411980fe620effbf63e7": {
     "model_module": "@jupyter-widgets/controls",
     "model_name": "FloatProgressModel",
     "model_module_version": "1.5.0",
     "state": {
      "_dom_classes": [],
      "_model_module": "@jupyter-widgets/controls",
      "_model_module_version": "1.5.0",
      "_model_name": "FloatProgressModel",
      "_view_count": null,
      "_view_module": "@jupyter-widgets/controls",
      "_view_module_version": "1.5.0",
      "_view_name": "ProgressView",
      "bar_style": "success",
      "description": "",
      "description_tooltip": null,
      "layout": "IPY_MODEL_22737bdafa4a4ef59facc5a06dc95066",
      "max": 8,
      "min": 0,
      "orientation": "horizontal",
      "style": "IPY_MODEL_83849ec0582c4500bd3582276636a8c2",
      "value": 8
     }
    },
    "da7921e15da44dbd9b6c31bc88daad57": {
     "model_module": "@jupyter-widgets/controls",
     "model_name": "HTMLModel",
     "model_module_version": "1.5.0",
     "state": {
      "_dom_classes": [],
      "_model_module": "@jupyter-widgets/controls",
      "_model_module_version": "1.5.0",
      "_model_name": "HTMLModel",
      "_view_count": null,
      "_view_module": "@jupyter-widgets/controls",
      "_view_module_version": "1.5.0",
      "_view_name": "HTMLView",
      "description": "",
      "description_tooltip": null,
      "layout": "IPY_MODEL_a20327e6db00477b8b5c7533d2cb4b8a",
      "placeholder": "​",
      "style": "IPY_MODEL_23b46bfee972454a9a0972444842e4b4",
      "value": " 8/8 [00:00&lt;00:00, 37.44it/s]"
     }
    },
    "c8243e65505147eb85a098e728795421": {
     "model_module": "@jupyter-widgets/base",
     "model_name": "LayoutModel",
     "model_module_version": "1.2.0",
     "state": {
      "_model_module": "@jupyter-widgets/base",
      "_model_module_version": "1.2.0",
      "_model_name": "LayoutModel",
      "_view_count": null,
      "_view_module": "@jupyter-widgets/base",
      "_view_module_version": "1.2.0",
      "_view_name": "LayoutView",
      "align_content": null,
      "align_items": null,
      "align_self": null,
      "border": null,
      "bottom": null,
      "display": null,
      "flex": null,
      "flex_flow": null,
      "grid_area": null,
      "grid_auto_columns": null,
      "grid_auto_flow": null,
      "grid_auto_rows": null,
      "grid_column": null,
      "grid_gap": null,
      "grid_row": null,
      "grid_template_areas": null,
      "grid_template_columns": null,
      "grid_template_rows": null,
      "height": null,
      "justify_content": null,
      "justify_items": null,
      "left": null,
      "margin": null,
      "max_height": null,
      "max_width": null,
      "min_height": null,
      "min_width": null,
      "object_fit": null,
      "object_position": null,
      "order": null,
      "overflow": null,
      "overflow_x": null,
      "overflow_y": null,
      "padding": null,
      "right": null,
      "top": null,
      "visibility": null,
      "width": null
     }
    },
    "14690a9b280741329b2fc15d236e3479": {
     "model_module": "@jupyter-widgets/base",
     "model_name": "LayoutModel",
     "model_module_version": "1.2.0",
     "state": {
      "_model_module": "@jupyter-widgets/base",
      "_model_module_version": "1.2.0",
      "_model_name": "LayoutModel",
      "_view_count": null,
      "_view_module": "@jupyter-widgets/base",
      "_view_module_version": "1.2.0",
      "_view_name": "LayoutView",
      "align_content": null,
      "align_items": null,
      "align_self": null,
      "border": null,
      "bottom": null,
      "display": null,
      "flex": null,
      "flex_flow": null,
      "grid_area": null,
      "grid_auto_columns": null,
      "grid_auto_flow": null,
      "grid_auto_rows": null,
      "grid_column": null,
      "grid_gap": null,
      "grid_row": null,
      "grid_template_areas": null,
      "grid_template_columns": null,
      "grid_template_rows": null,
      "height": null,
      "justify_content": null,
      "justify_items": null,
      "left": null,
      "margin": null,
      "max_height": null,
      "max_width": null,
      "min_height": null,
      "min_width": null,
      "object_fit": null,
      "object_position": null,
      "order": null,
      "overflow": null,
      "overflow_x": null,
      "overflow_y": null,
      "padding": null,
      "right": null,
      "top": null,
      "visibility": null,
      "width": null
     }
    },
    "96310c65aa9b4ca3b931c512107ffb40": {
     "model_module": "@jupyter-widgets/controls",
     "model_name": "DescriptionStyleModel",
     "model_module_version": "1.5.0",
     "state": {
      "_model_module": "@jupyter-widgets/controls",
      "_model_module_version": "1.5.0",
      "_model_name": "DescriptionStyleModel",
      "_view_count": null,
      "_view_module": "@jupyter-widgets/base",
      "_view_module_version": "1.2.0",
      "_view_name": "StyleView",
      "description_width": ""
     }
    },
    "22737bdafa4a4ef59facc5a06dc95066": {
     "model_module": "@jupyter-widgets/base",
     "model_name": "LayoutModel",
     "model_module_version": "1.2.0",
     "state": {
      "_model_module": "@jupyter-widgets/base",
      "_model_module_version": "1.2.0",
      "_model_name": "LayoutModel",
      "_view_count": null,
      "_view_module": "@jupyter-widgets/base",
      "_view_module_version": "1.2.0",
      "_view_name": "LayoutView",
      "align_content": null,
      "align_items": null,
      "align_self": null,
      "border": null,
      "bottom": null,
      "display": null,
      "flex": null,
      "flex_flow": null,
      "grid_area": null,
      "grid_auto_columns": null,
      "grid_auto_flow": null,
      "grid_auto_rows": null,
      "grid_column": null,
      "grid_gap": null,
      "grid_row": null,
      "grid_template_areas": null,
      "grid_template_columns": null,
      "grid_template_rows": null,
      "height": null,
      "justify_content": null,
      "justify_items": null,
      "left": null,
      "margin": null,
      "max_height": null,
      "max_width": null,
      "min_height": null,
      "min_width": null,
      "object_fit": null,
      "object_position": null,
      "order": null,
      "overflow": null,
      "overflow_x": null,
      "overflow_y": null,
      "padding": null,
      "right": null,
      "top": null,
      "visibility": null,
      "width": null
     }
    },
    "83849ec0582c4500bd3582276636a8c2": {
     "model_module": "@jupyter-widgets/controls",
     "model_name": "ProgressStyleModel",
     "model_module_version": "1.5.0",
     "state": {
      "_model_module": "@jupyter-widgets/controls",
      "_model_module_version": "1.5.0",
      "_model_name": "ProgressStyleModel",
      "_view_count": null,
      "_view_module": "@jupyter-widgets/base",
      "_view_module_version": "1.2.0",
      "_view_name": "StyleView",
      "bar_color": null,
      "description_width": ""
     }
    },
    "a20327e6db00477b8b5c7533d2cb4b8a": {
     "model_module": "@jupyter-widgets/base",
     "model_name": "LayoutModel",
     "model_module_version": "1.2.0",
     "state": {
      "_model_module": "@jupyter-widgets/base",
      "_model_module_version": "1.2.0",
      "_model_name": "LayoutModel",
      "_view_count": null,
      "_view_module": "@jupyter-widgets/base",
      "_view_module_version": "1.2.0",
      "_view_name": "LayoutView",
      "align_content": null,
      "align_items": null,
      "align_self": null,
      "border": null,
      "bottom": null,
      "display": null,
      "flex": null,
      "flex_flow": null,
      "grid_area": null,
      "grid_auto_columns": null,
      "grid_auto_flow": null,
      "grid_auto_rows": null,
      "grid_column": null,
      "grid_gap": null,
      "grid_row": null,
      "grid_template_areas": null,
      "grid_template_columns": null,
      "grid_template_rows": null,
      "height": null,
      "justify_content": null,
      "justify_items": null,
      "left": null,
      "margin": null,
      "max_height": null,
      "max_width": null,
      "min_height": null,
      "min_width": null,
      "object_fit": null,
      "object_position": null,
      "order": null,
      "overflow": null,
      "overflow_x": null,
      "overflow_y": null,
      "padding": null,
      "right": null,
      "top": null,
      "visibility": null,
      "width": null
     }
    },
    "23b46bfee972454a9a0972444842e4b4": {
     "model_module": "@jupyter-widgets/controls",
     "model_name": "DescriptionStyleModel",
     "model_module_version": "1.5.0",
     "state": {
      "_model_module": "@jupyter-widgets/controls",
      "_model_module_version": "1.5.0",
      "_model_name": "DescriptionStyleModel",
      "_view_count": null,
      "_view_module": "@jupyter-widgets/base",
      "_view_module_version": "1.2.0",
      "_view_name": "StyleView",
      "description_width": ""
     }
    },
    "736279c5d602463cb3544b4832d32c2b": {
     "model_module": "@jupyter-widgets/controls",
     "model_name": "HBoxModel",
     "model_module_version": "1.5.0",
     "state": {
      "_dom_classes": [],
      "_model_module": "@jupyter-widgets/controls",
      "_model_module_version": "1.5.0",
      "_model_name": "HBoxModel",
      "_view_count": null,
      "_view_module": "@jupyter-widgets/controls",
      "_view_module_version": "1.5.0",
      "_view_name": "HBoxView",
      "box_style": "",
      "children": [
       "IPY_MODEL_e4d2ecf3ba0f4e6d92e83b0222bdd428",
       "IPY_MODEL_56d3f701b20546d19488a33426bd7639",
       "IPY_MODEL_0b60624df0f24093b5390227a221637c"
      ],
      "layout": "IPY_MODEL_7525d0cfb29f4029844ebcfa511be0af"
     }
    },
    "e4d2ecf3ba0f4e6d92e83b0222bdd428": {
     "model_module": "@jupyter-widgets/controls",
     "model_name": "HTMLModel",
     "model_module_version": "1.5.0",
     "state": {
      "_dom_classes": [],
      "_model_module": "@jupyter-widgets/controls",
      "_model_module_version": "1.5.0",
      "_model_name": "HTMLModel",
      "_view_count": null,
      "_view_module": "@jupyter-widgets/controls",
      "_view_module_version": "1.5.0",
      "_view_name": "HTMLView",
      "description": "",
      "description_tooltip": null,
      "layout": "IPY_MODEL_246797b018fe4e3d99cc52cd7d02f21e",
      "placeholder": "​",
      "style": "IPY_MODEL_434274e317464c65b1d5b206ec1921bc",
      "value": "Train-loss:1.4429: 100%"
     }
    },
    "56d3f701b20546d19488a33426bd7639": {
     "model_module": "@jupyter-widgets/controls",
     "model_name": "FloatProgressModel",
     "model_module_version": "1.5.0",
     "state": {
      "_dom_classes": [],
      "_model_module": "@jupyter-widgets/controls",
      "_model_module_version": "1.5.0",
      "_model_name": "FloatProgressModel",
      "_view_count": null,
      "_view_module": "@jupyter-widgets/controls",
      "_view_module_version": "1.5.0",
      "_view_name": "ProgressView",
      "bar_style": "success",
      "description": "",
      "description_tooltip": null,
      "layout": "IPY_MODEL_c33276714bdd4970b477237c8a7c64b9",
      "max": 227,
      "min": 0,
      "orientation": "horizontal",
      "style": "IPY_MODEL_f2e1f7a54aae4684a65519df13c27e54",
      "value": 227
     }
    },
    "0b60624df0f24093b5390227a221637c": {
     "model_module": "@jupyter-widgets/controls",
     "model_name": "HTMLModel",
     "model_module_version": "1.5.0",
     "state": {
      "_dom_classes": [],
      "_model_module": "@jupyter-widgets/controls",
      "_model_module_version": "1.5.0",
      "_model_name": "HTMLModel",
      "_view_count": null,
      "_view_module": "@jupyter-widgets/controls",
      "_view_module_version": "1.5.0",
      "_view_name": "HTMLView",
      "description": "",
      "description_tooltip": null,
      "layout": "IPY_MODEL_1b4eabbc3f0f4f8088e070ce1d9ce9e7",
      "placeholder": "​",
      "style": "IPY_MODEL_9cc92f6ab0ba4a2482a20b8ceba87bec",
      "value": " 227/227 [00:12&lt;00:00, 18.86it/s]"
     }
    },
    "7525d0cfb29f4029844ebcfa511be0af": {
     "model_module": "@jupyter-widgets/base",
     "model_name": "LayoutModel",
     "model_module_version": "1.2.0",
     "state": {
      "_model_module": "@jupyter-widgets/base",
      "_model_module_version": "1.2.0",
      "_model_name": "LayoutModel",
      "_view_count": null,
      "_view_module": "@jupyter-widgets/base",
      "_view_module_version": "1.2.0",
      "_view_name": "LayoutView",
      "align_content": null,
      "align_items": null,
      "align_self": null,
      "border": null,
      "bottom": null,
      "display": null,
      "flex": null,
      "flex_flow": null,
      "grid_area": null,
      "grid_auto_columns": null,
      "grid_auto_flow": null,
      "grid_auto_rows": null,
      "grid_column": null,
      "grid_gap": null,
      "grid_row": null,
      "grid_template_areas": null,
      "grid_template_columns": null,
      "grid_template_rows": null,
      "height": null,
      "justify_content": null,
      "justify_items": null,
      "left": null,
      "margin": null,
      "max_height": null,
      "max_width": null,
      "min_height": null,
      "min_width": null,
      "object_fit": null,
      "object_position": null,
      "order": null,
      "overflow": null,
      "overflow_x": null,
      "overflow_y": null,
      "padding": null,
      "right": null,
      "top": null,
      "visibility": null,
      "width": null
     }
    },
    "246797b018fe4e3d99cc52cd7d02f21e": {
     "model_module": "@jupyter-widgets/base",
     "model_name": "LayoutModel",
     "model_module_version": "1.2.0",
     "state": {
      "_model_module": "@jupyter-widgets/base",
      "_model_module_version": "1.2.0",
      "_model_name": "LayoutModel",
      "_view_count": null,
      "_view_module": "@jupyter-widgets/base",
      "_view_module_version": "1.2.0",
      "_view_name": "LayoutView",
      "align_content": null,
      "align_items": null,
      "align_self": null,
      "border": null,
      "bottom": null,
      "display": null,
      "flex": null,
      "flex_flow": null,
      "grid_area": null,
      "grid_auto_columns": null,
      "grid_auto_flow": null,
      "grid_auto_rows": null,
      "grid_column": null,
      "grid_gap": null,
      "grid_row": null,
      "grid_template_areas": null,
      "grid_template_columns": null,
      "grid_template_rows": null,
      "height": null,
      "justify_content": null,
      "justify_items": null,
      "left": null,
      "margin": null,
      "max_height": null,
      "max_width": null,
      "min_height": null,
      "min_width": null,
      "object_fit": null,
      "object_position": null,
      "order": null,
      "overflow": null,
      "overflow_x": null,
      "overflow_y": null,
      "padding": null,
      "right": null,
      "top": null,
      "visibility": null,
      "width": null
     }
    },
    "434274e317464c65b1d5b206ec1921bc": {
     "model_module": "@jupyter-widgets/controls",
     "model_name": "DescriptionStyleModel",
     "model_module_version": "1.5.0",
     "state": {
      "_model_module": "@jupyter-widgets/controls",
      "_model_module_version": "1.5.0",
      "_model_name": "DescriptionStyleModel",
      "_view_count": null,
      "_view_module": "@jupyter-widgets/base",
      "_view_module_version": "1.2.0",
      "_view_name": "StyleView",
      "description_width": ""
     }
    },
    "c33276714bdd4970b477237c8a7c64b9": {
     "model_module": "@jupyter-widgets/base",
     "model_name": "LayoutModel",
     "model_module_version": "1.2.0",
     "state": {
      "_model_module": "@jupyter-widgets/base",
      "_model_module_version": "1.2.0",
      "_model_name": "LayoutModel",
      "_view_count": null,
      "_view_module": "@jupyter-widgets/base",
      "_view_module_version": "1.2.0",
      "_view_name": "LayoutView",
      "align_content": null,
      "align_items": null,
      "align_self": null,
      "border": null,
      "bottom": null,
      "display": null,
      "flex": null,
      "flex_flow": null,
      "grid_area": null,
      "grid_auto_columns": null,
      "grid_auto_flow": null,
      "grid_auto_rows": null,
      "grid_column": null,
      "grid_gap": null,
      "grid_row": null,
      "grid_template_areas": null,
      "grid_template_columns": null,
      "grid_template_rows": null,
      "height": null,
      "justify_content": null,
      "justify_items": null,
      "left": null,
      "margin": null,
      "max_height": null,
      "max_width": null,
      "min_height": null,
      "min_width": null,
      "object_fit": null,
      "object_position": null,
      "order": null,
      "overflow": null,
      "overflow_x": null,
      "overflow_y": null,
      "padding": null,
      "right": null,
      "top": null,
      "visibility": null,
      "width": null
     }
    },
    "f2e1f7a54aae4684a65519df13c27e54": {
     "model_module": "@jupyter-widgets/controls",
     "model_name": "ProgressStyleModel",
     "model_module_version": "1.5.0",
     "state": {
      "_model_module": "@jupyter-widgets/controls",
      "_model_module_version": "1.5.0",
      "_model_name": "ProgressStyleModel",
      "_view_count": null,
      "_view_module": "@jupyter-widgets/base",
      "_view_module_version": "1.2.0",
      "_view_name": "StyleView",
      "bar_color": null,
      "description_width": ""
     }
    },
    "1b4eabbc3f0f4f8088e070ce1d9ce9e7": {
     "model_module": "@jupyter-widgets/base",
     "model_name": "LayoutModel",
     "model_module_version": "1.2.0",
     "state": {
      "_model_module": "@jupyter-widgets/base",
      "_model_module_version": "1.2.0",
      "_model_name": "LayoutModel",
      "_view_count": null,
      "_view_module": "@jupyter-widgets/base",
      "_view_module_version": "1.2.0",
      "_view_name": "LayoutView",
      "align_content": null,
      "align_items": null,
      "align_self": null,
      "border": null,
      "bottom": null,
      "display": null,
      "flex": null,
      "flex_flow": null,
      "grid_area": null,
      "grid_auto_columns": null,
      "grid_auto_flow": null,
      "grid_auto_rows": null,
      "grid_column": null,
      "grid_gap": null,
      "grid_row": null,
      "grid_template_areas": null,
      "grid_template_columns": null,
      "grid_template_rows": null,
      "height": null,
      "justify_content": null,
      "justify_items": null,
      "left": null,
      "margin": null,
      "max_height": null,
      "max_width": null,
      "min_height": null,
      "min_width": null,
      "object_fit": null,
      "object_position": null,
      "order": null,
      "overflow": null,
      "overflow_x": null,
      "overflow_y": null,
      "padding": null,
      "right": null,
      "top": null,
      "visibility": null,
      "width": null
     }
    },
    "9cc92f6ab0ba4a2482a20b8ceba87bec": {
     "model_module": "@jupyter-widgets/controls",
     "model_name": "DescriptionStyleModel",
     "model_module_version": "1.5.0",
     "state": {
      "_model_module": "@jupyter-widgets/controls",
      "_model_module_version": "1.5.0",
      "_model_name": "DescriptionStyleModel",
      "_view_count": null,
      "_view_module": "@jupyter-widgets/base",
      "_view_module_version": "1.2.0",
      "_view_name": "StyleView",
      "description_width": ""
     }
    },
    "cad767135dd4439c853a32bd36aa7391": {
     "model_module": "@jupyter-widgets/controls",
     "model_name": "HBoxModel",
     "model_module_version": "1.5.0",
     "state": {
      "_dom_classes": [],
      "_model_module": "@jupyter-widgets/controls",
      "_model_module_version": "1.5.0",
      "_model_name": "HBoxModel",
      "_view_count": null,
      "_view_module": "@jupyter-widgets/controls",
      "_view_module_version": "1.5.0",
      "_view_name": "HBoxView",
      "box_style": "",
      "children": [
       "IPY_MODEL_95c8f4f675ba4911b39f02e9a0a76d76",
       "IPY_MODEL_239dae3e3564408197bb282b460ff565",
       "IPY_MODEL_546fa941c88f4cecbbe2f8b05130d363"
      ],
      "layout": "IPY_MODEL_307b906e14f7400ba2794ce3e59eb123"
     }
    },
    "95c8f4f675ba4911b39f02e9a0a76d76": {
     "model_module": "@jupyter-widgets/controls",
     "model_name": "HTMLModel",
     "model_module_version": "1.5.0",
     "state": {
      "_dom_classes": [],
      "_model_module": "@jupyter-widgets/controls",
      "_model_module_version": "1.5.0",
      "_model_name": "HTMLModel",
      "_view_count": null,
      "_view_module": "@jupyter-widgets/controls",
      "_view_module_version": "1.5.0",
      "_view_name": "HTMLView",
      "description": "",
      "description_tooltip": null,
      "layout": "IPY_MODEL_61b0349a449c4c2984efe4942ba9b9c6",
      "placeholder": "​",
      "style": "IPY_MODEL_10b3125c4e1946c489537f7d5d35b509",
      "value": "valid-loss:1.8975: 100%"
     }
    },
    "239dae3e3564408197bb282b460ff565": {
     "model_module": "@jupyter-widgets/controls",
     "model_name": "FloatProgressModel",
     "model_module_version": "1.5.0",
     "state": {
      "_dom_classes": [],
      "_model_module": "@jupyter-widgets/controls",
      "_model_module_version": "1.5.0",
      "_model_name": "FloatProgressModel",
      "_view_count": null,
      "_view_module": "@jupyter-widgets/controls",
      "_view_module_version": "1.5.0",
      "_view_name": "ProgressView",
      "bar_style": "success",
      "description": "",
      "description_tooltip": null,
      "layout": "IPY_MODEL_190b1977f3c74b4d9432032dfdf4c810",
      "max": 8,
      "min": 0,
      "orientation": "horizontal",
      "style": "IPY_MODEL_05ca974f31484a4da60f917e3708ab45",
      "value": 8
     }
    },
    "546fa941c88f4cecbbe2f8b05130d363": {
     "model_module": "@jupyter-widgets/controls",
     "model_name": "HTMLModel",
     "model_module_version": "1.5.0",
     "state": {
      "_dom_classes": [],
      "_model_module": "@jupyter-widgets/controls",
      "_model_module_version": "1.5.0",
      "_model_name": "HTMLModel",
      "_view_count": null,
      "_view_module": "@jupyter-widgets/controls",
      "_view_module_version": "1.5.0",
      "_view_name": "HTMLView",
      "description": "",
      "description_tooltip": null,
      "layout": "IPY_MODEL_1fcf29f29d4d4a74b2c901f4d8a2f134",
      "placeholder": "​",
      "style": "IPY_MODEL_a77bbb5eaf1b47cc812fb634e41af0f5",
      "value": " 8/8 [00:00&lt;00:00, 39.55it/s]"
     }
    },
    "307b906e14f7400ba2794ce3e59eb123": {
     "model_module": "@jupyter-widgets/base",
     "model_name": "LayoutModel",
     "model_module_version": "1.2.0",
     "state": {
      "_model_module": "@jupyter-widgets/base",
      "_model_module_version": "1.2.0",
      "_model_name": "LayoutModel",
      "_view_count": null,
      "_view_module": "@jupyter-widgets/base",
      "_view_module_version": "1.2.0",
      "_view_name": "LayoutView",
      "align_content": null,
      "align_items": null,
      "align_self": null,
      "border": null,
      "bottom": null,
      "display": null,
      "flex": null,
      "flex_flow": null,
      "grid_area": null,
      "grid_auto_columns": null,
      "grid_auto_flow": null,
      "grid_auto_rows": null,
      "grid_column": null,
      "grid_gap": null,
      "grid_row": null,
      "grid_template_areas": null,
      "grid_template_columns": null,
      "grid_template_rows": null,
      "height": null,
      "justify_content": null,
      "justify_items": null,
      "left": null,
      "margin": null,
      "max_height": null,
      "max_width": null,
      "min_height": null,
      "min_width": null,
      "object_fit": null,
      "object_position": null,
      "order": null,
      "overflow": null,
      "overflow_x": null,
      "overflow_y": null,
      "padding": null,
      "right": null,
      "top": null,
      "visibility": null,
      "width": null
     }
    },
    "61b0349a449c4c2984efe4942ba9b9c6": {
     "model_module": "@jupyter-widgets/base",
     "model_name": "LayoutModel",
     "model_module_version": "1.2.0",
     "state": {
      "_model_module": "@jupyter-widgets/base",
      "_model_module_version": "1.2.0",
      "_model_name": "LayoutModel",
      "_view_count": null,
      "_view_module": "@jupyter-widgets/base",
      "_view_module_version": "1.2.0",
      "_view_name": "LayoutView",
      "align_content": null,
      "align_items": null,
      "align_self": null,
      "border": null,
      "bottom": null,
      "display": null,
      "flex": null,
      "flex_flow": null,
      "grid_area": null,
      "grid_auto_columns": null,
      "grid_auto_flow": null,
      "grid_auto_rows": null,
      "grid_column": null,
      "grid_gap": null,
      "grid_row": null,
      "grid_template_areas": null,
      "grid_template_columns": null,
      "grid_template_rows": null,
      "height": null,
      "justify_content": null,
      "justify_items": null,
      "left": null,
      "margin": null,
      "max_height": null,
      "max_width": null,
      "min_height": null,
      "min_width": null,
      "object_fit": null,
      "object_position": null,
      "order": null,
      "overflow": null,
      "overflow_x": null,
      "overflow_y": null,
      "padding": null,
      "right": null,
      "top": null,
      "visibility": null,
      "width": null
     }
    },
    "10b3125c4e1946c489537f7d5d35b509": {
     "model_module": "@jupyter-widgets/controls",
     "model_name": "DescriptionStyleModel",
     "model_module_version": "1.5.0",
     "state": {
      "_model_module": "@jupyter-widgets/controls",
      "_model_module_version": "1.5.0",
      "_model_name": "DescriptionStyleModel",
      "_view_count": null,
      "_view_module": "@jupyter-widgets/base",
      "_view_module_version": "1.2.0",
      "_view_name": "StyleView",
      "description_width": ""
     }
    },
    "190b1977f3c74b4d9432032dfdf4c810": {
     "model_module": "@jupyter-widgets/base",
     "model_name": "LayoutModel",
     "model_module_version": "1.2.0",
     "state": {
      "_model_module": "@jupyter-widgets/base",
      "_model_module_version": "1.2.0",
      "_model_name": "LayoutModel",
      "_view_count": null,
      "_view_module": "@jupyter-widgets/base",
      "_view_module_version": "1.2.0",
      "_view_name": "LayoutView",
      "align_content": null,
      "align_items": null,
      "align_self": null,
      "border": null,
      "bottom": null,
      "display": null,
      "flex": null,
      "flex_flow": null,
      "grid_area": null,
      "grid_auto_columns": null,
      "grid_auto_flow": null,
      "grid_auto_rows": null,
      "grid_column": null,
      "grid_gap": null,
      "grid_row": null,
      "grid_template_areas": null,
      "grid_template_columns": null,
      "grid_template_rows": null,
      "height": null,
      "justify_content": null,
      "justify_items": null,
      "left": null,
      "margin": null,
      "max_height": null,
      "max_width": null,
      "min_height": null,
      "min_width": null,
      "object_fit": null,
      "object_position": null,
      "order": null,
      "overflow": null,
      "overflow_x": null,
      "overflow_y": null,
      "padding": null,
      "right": null,
      "top": null,
      "visibility": null,
      "width": null
     }
    },
    "05ca974f31484a4da60f917e3708ab45": {
     "model_module": "@jupyter-widgets/controls",
     "model_name": "ProgressStyleModel",
     "model_module_version": "1.5.0",
     "state": {
      "_model_module": "@jupyter-widgets/controls",
      "_model_module_version": "1.5.0",
      "_model_name": "ProgressStyleModel",
      "_view_count": null,
      "_view_module": "@jupyter-widgets/base",
      "_view_module_version": "1.2.0",
      "_view_name": "StyleView",
      "bar_color": null,
      "description_width": ""
     }
    },
    "1fcf29f29d4d4a74b2c901f4d8a2f134": {
     "model_module": "@jupyter-widgets/base",
     "model_name": "LayoutModel",
     "model_module_version": "1.2.0",
     "state": {
      "_model_module": "@jupyter-widgets/base",
      "_model_module_version": "1.2.0",
      "_model_name": "LayoutModel",
      "_view_count": null,
      "_view_module": "@jupyter-widgets/base",
      "_view_module_version": "1.2.0",
      "_view_name": "LayoutView",
      "align_content": null,
      "align_items": null,
      "align_self": null,
      "border": null,
      "bottom": null,
      "display": null,
      "flex": null,
      "flex_flow": null,
      "grid_area": null,
      "grid_auto_columns": null,
      "grid_auto_flow": null,
      "grid_auto_rows": null,
      "grid_column": null,
      "grid_gap": null,
      "grid_row": null,
      "grid_template_areas": null,
      "grid_template_columns": null,
      "grid_template_rows": null,
      "height": null,
      "justify_content": null,
      "justify_items": null,
      "left": null,
      "margin": null,
      "max_height": null,
      "max_width": null,
      "min_height": null,
      "min_width": null,
      "object_fit": null,
      "object_position": null,
      "order": null,
      "overflow": null,
      "overflow_x": null,
      "overflow_y": null,
      "padding": null,
      "right": null,
      "top": null,
      "visibility": null,
      "width": null
     }
    },
    "a77bbb5eaf1b47cc812fb634e41af0f5": {
     "model_module": "@jupyter-widgets/controls",
     "model_name": "DescriptionStyleModel",
     "model_module_version": "1.5.0",
     "state": {
      "_model_module": "@jupyter-widgets/controls",
      "_model_module_version": "1.5.0",
      "_model_name": "DescriptionStyleModel",
      "_view_count": null,
      "_view_module": "@jupyter-widgets/base",
      "_view_module_version": "1.2.0",
      "_view_name": "StyleView",
      "description_width": ""
     }
    },
    "099d812cf2ca4a868f3ee500fb49ef2c": {
     "model_module": "@jupyter-widgets/controls",
     "model_name": "HBoxModel",
     "model_module_version": "1.5.0",
     "state": {
      "_dom_classes": [],
      "_model_module": "@jupyter-widgets/controls",
      "_model_module_version": "1.5.0",
      "_model_name": "HBoxModel",
      "_view_count": null,
      "_view_module": "@jupyter-widgets/controls",
      "_view_module_version": "1.5.0",
      "_view_name": "HBoxView",
      "box_style": "",
      "children": [
       "IPY_MODEL_b06bee5913ec4ba98da817fb8412e868",
       "IPY_MODEL_5d0c9d8a0c6b49c5aa1ee94163f1fac3",
       "IPY_MODEL_3a812b9e82d6476abc7c4ba4d2b01ec0"
      ],
      "layout": "IPY_MODEL_8fe15dd39d1b4c9e91ba0921ffed4f68"
     }
    },
    "b06bee5913ec4ba98da817fb8412e868": {
     "model_module": "@jupyter-widgets/controls",
     "model_name": "HTMLModel",
     "model_module_version": "1.5.0",
     "state": {
      "_dom_classes": [],
      "_model_module": "@jupyter-widgets/controls",
      "_model_module_version": "1.5.0",
      "_model_name": "HTMLModel",
      "_view_count": null,
      "_view_module": "@jupyter-widgets/controls",
      "_view_module_version": "1.5.0",
      "_view_name": "HTMLView",
      "description": "",
      "description_tooltip": null,
      "layout": "IPY_MODEL_52a10f6b7ba84d478fc9cddf36fdb18c",
      "placeholder": "​",
      "style": "IPY_MODEL_fb64b4d82e38404191de8f67a1d4608b",
      "value": "Train-loss:1.2626: 100%"
     }
    },
    "5d0c9d8a0c6b49c5aa1ee94163f1fac3": {
     "model_module": "@jupyter-widgets/controls",
     "model_name": "FloatProgressModel",
     "model_module_version": "1.5.0",
     "state": {
      "_dom_classes": [],
      "_model_module": "@jupyter-widgets/controls",
      "_model_module_version": "1.5.0",
      "_model_name": "FloatProgressModel",
      "_view_count": null,
      "_view_module": "@jupyter-widgets/controls",
      "_view_module_version": "1.5.0",
      "_view_name": "ProgressView",
      "bar_style": "success",
      "description": "",
      "description_tooltip": null,
      "layout": "IPY_MODEL_e36ef4118ff34196a901146c08dd965b",
      "max": 227,
      "min": 0,
      "orientation": "horizontal",
      "style": "IPY_MODEL_6769dc825e614a7a9cfc20e3299ad436",
      "value": 227
     }
    },
    "3a812b9e82d6476abc7c4ba4d2b01ec0": {
     "model_module": "@jupyter-widgets/controls",
     "model_name": "HTMLModel",
     "model_module_version": "1.5.0",
     "state": {
      "_dom_classes": [],
      "_model_module": "@jupyter-widgets/controls",
      "_model_module_version": "1.5.0",
      "_model_name": "HTMLModel",
      "_view_count": null,
      "_view_module": "@jupyter-widgets/controls",
      "_view_module_version": "1.5.0",
      "_view_name": "HTMLView",
      "description": "",
      "description_tooltip": null,
      "layout": "IPY_MODEL_7b1f372d0b744176aae63673078cba19",
      "placeholder": "​",
      "style": "IPY_MODEL_15770cfa15b04fd1b4d1a46b4da18580",
      "value": " 227/227 [00:12&lt;00:00, 18.76it/s]"
     }
    },
    "8fe15dd39d1b4c9e91ba0921ffed4f68": {
     "model_module": "@jupyter-widgets/base",
     "model_name": "LayoutModel",
     "model_module_version": "1.2.0",
     "state": {
      "_model_module": "@jupyter-widgets/base",
      "_model_module_version": "1.2.0",
      "_model_name": "LayoutModel",
      "_view_count": null,
      "_view_module": "@jupyter-widgets/base",
      "_view_module_version": "1.2.0",
      "_view_name": "LayoutView",
      "align_content": null,
      "align_items": null,
      "align_self": null,
      "border": null,
      "bottom": null,
      "display": null,
      "flex": null,
      "flex_flow": null,
      "grid_area": null,
      "grid_auto_columns": null,
      "grid_auto_flow": null,
      "grid_auto_rows": null,
      "grid_column": null,
      "grid_gap": null,
      "grid_row": null,
      "grid_template_areas": null,
      "grid_template_columns": null,
      "grid_template_rows": null,
      "height": null,
      "justify_content": null,
      "justify_items": null,
      "left": null,
      "margin": null,
      "max_height": null,
      "max_width": null,
      "min_height": null,
      "min_width": null,
      "object_fit": null,
      "object_position": null,
      "order": null,
      "overflow": null,
      "overflow_x": null,
      "overflow_y": null,
      "padding": null,
      "right": null,
      "top": null,
      "visibility": null,
      "width": null
     }
    },
    "52a10f6b7ba84d478fc9cddf36fdb18c": {
     "model_module": "@jupyter-widgets/base",
     "model_name": "LayoutModel",
     "model_module_version": "1.2.0",
     "state": {
      "_model_module": "@jupyter-widgets/base",
      "_model_module_version": "1.2.0",
      "_model_name": "LayoutModel",
      "_view_count": null,
      "_view_module": "@jupyter-widgets/base",
      "_view_module_version": "1.2.0",
      "_view_name": "LayoutView",
      "align_content": null,
      "align_items": null,
      "align_self": null,
      "border": null,
      "bottom": null,
      "display": null,
      "flex": null,
      "flex_flow": null,
      "grid_area": null,
      "grid_auto_columns": null,
      "grid_auto_flow": null,
      "grid_auto_rows": null,
      "grid_column": null,
      "grid_gap": null,
      "grid_row": null,
      "grid_template_areas": null,
      "grid_template_columns": null,
      "grid_template_rows": null,
      "height": null,
      "justify_content": null,
      "justify_items": null,
      "left": null,
      "margin": null,
      "max_height": null,
      "max_width": null,
      "min_height": null,
      "min_width": null,
      "object_fit": null,
      "object_position": null,
      "order": null,
      "overflow": null,
      "overflow_x": null,
      "overflow_y": null,
      "padding": null,
      "right": null,
      "top": null,
      "visibility": null,
      "width": null
     }
    },
    "fb64b4d82e38404191de8f67a1d4608b": {
     "model_module": "@jupyter-widgets/controls",
     "model_name": "DescriptionStyleModel",
     "model_module_version": "1.5.0",
     "state": {
      "_model_module": "@jupyter-widgets/controls",
      "_model_module_version": "1.5.0",
      "_model_name": "DescriptionStyleModel",
      "_view_count": null,
      "_view_module": "@jupyter-widgets/base",
      "_view_module_version": "1.2.0",
      "_view_name": "StyleView",
      "description_width": ""
     }
    },
    "e36ef4118ff34196a901146c08dd965b": {
     "model_module": "@jupyter-widgets/base",
     "model_name": "LayoutModel",
     "model_module_version": "1.2.0",
     "state": {
      "_model_module": "@jupyter-widgets/base",
      "_model_module_version": "1.2.0",
      "_model_name": "LayoutModel",
      "_view_count": null,
      "_view_module": "@jupyter-widgets/base",
      "_view_module_version": "1.2.0",
      "_view_name": "LayoutView",
      "align_content": null,
      "align_items": null,
      "align_self": null,
      "border": null,
      "bottom": null,
      "display": null,
      "flex": null,
      "flex_flow": null,
      "grid_area": null,
      "grid_auto_columns": null,
      "grid_auto_flow": null,
      "grid_auto_rows": null,
      "grid_column": null,
      "grid_gap": null,
      "grid_row": null,
      "grid_template_areas": null,
      "grid_template_columns": null,
      "grid_template_rows": null,
      "height": null,
      "justify_content": null,
      "justify_items": null,
      "left": null,
      "margin": null,
      "max_height": null,
      "max_width": null,
      "min_height": null,
      "min_width": null,
      "object_fit": null,
      "object_position": null,
      "order": null,
      "overflow": null,
      "overflow_x": null,
      "overflow_y": null,
      "padding": null,
      "right": null,
      "top": null,
      "visibility": null,
      "width": null
     }
    },
    "6769dc825e614a7a9cfc20e3299ad436": {
     "model_module": "@jupyter-widgets/controls",
     "model_name": "ProgressStyleModel",
     "model_module_version": "1.5.0",
     "state": {
      "_model_module": "@jupyter-widgets/controls",
      "_model_module_version": "1.5.0",
      "_model_name": "ProgressStyleModel",
      "_view_count": null,
      "_view_module": "@jupyter-widgets/base",
      "_view_module_version": "1.2.0",
      "_view_name": "StyleView",
      "bar_color": null,
      "description_width": ""
     }
    },
    "7b1f372d0b744176aae63673078cba19": {
     "model_module": "@jupyter-widgets/base",
     "model_name": "LayoutModel",
     "model_module_version": "1.2.0",
     "state": {
      "_model_module": "@jupyter-widgets/base",
      "_model_module_version": "1.2.0",
      "_model_name": "LayoutModel",
      "_view_count": null,
      "_view_module": "@jupyter-widgets/base",
      "_view_module_version": "1.2.0",
      "_view_name": "LayoutView",
      "align_content": null,
      "align_items": null,
      "align_self": null,
      "border": null,
      "bottom": null,
      "display": null,
      "flex": null,
      "flex_flow": null,
      "grid_area": null,
      "grid_auto_columns": null,
      "grid_auto_flow": null,
      "grid_auto_rows": null,
      "grid_column": null,
      "grid_gap": null,
      "grid_row": null,
      "grid_template_areas": null,
      "grid_template_columns": null,
      "grid_template_rows": null,
      "height": null,
      "justify_content": null,
      "justify_items": null,
      "left": null,
      "margin": null,
      "max_height": null,
      "max_width": null,
      "min_height": null,
      "min_width": null,
      "object_fit": null,
      "object_position": null,
      "order": null,
      "overflow": null,
      "overflow_x": null,
      "overflow_y": null,
      "padding": null,
      "right": null,
      "top": null,
      "visibility": null,
      "width": null
     }
    },
    "15770cfa15b04fd1b4d1a46b4da18580": {
     "model_module": "@jupyter-widgets/controls",
     "model_name": "DescriptionStyleModel",
     "model_module_version": "1.5.0",
     "state": {
      "_model_module": "@jupyter-widgets/controls",
      "_model_module_version": "1.5.0",
      "_model_name": "DescriptionStyleModel",
      "_view_count": null,
      "_view_module": "@jupyter-widgets/base",
      "_view_module_version": "1.2.0",
      "_view_name": "StyleView",
      "description_width": ""
     }
    },
    "861e5fe872ea4444bd61edb95ba40d1a": {
     "model_module": "@jupyter-widgets/controls",
     "model_name": "HBoxModel",
     "model_module_version": "1.5.0",
     "state": {
      "_dom_classes": [],
      "_model_module": "@jupyter-widgets/controls",
      "_model_module_version": "1.5.0",
      "_model_name": "HBoxModel",
      "_view_count": null,
      "_view_module": "@jupyter-widgets/controls",
      "_view_module_version": "1.5.0",
      "_view_name": "HBoxView",
      "box_style": "",
      "children": [
       "IPY_MODEL_4ce264f169e045d68c9fabfd70ac9ec6",
       "IPY_MODEL_494e2c5527c2440f90c919746d33f9d5",
       "IPY_MODEL_ee6bc7420d0e4c58aa4c996e6f3a7f4f"
      ],
      "layout": "IPY_MODEL_8be8983266df47eaa9b0f48ef5cac7d2"
     }
    },
    "4ce264f169e045d68c9fabfd70ac9ec6": {
     "model_module": "@jupyter-widgets/controls",
     "model_name": "HTMLModel",
     "model_module_version": "1.5.0",
     "state": {
      "_dom_classes": [],
      "_model_module": "@jupyter-widgets/controls",
      "_model_module_version": "1.5.0",
      "_model_name": "HTMLModel",
      "_view_count": null,
      "_view_module": "@jupyter-widgets/controls",
      "_view_module_version": "1.5.0",
      "_view_name": "HTMLView",
      "description": "",
      "description_tooltip": null,
      "layout": "IPY_MODEL_03a405b3b89c41b787b9bcc73712d4f9",
      "placeholder": "​",
      "style": "IPY_MODEL_20144ed761124f0189ccbde754b87687",
      "value": "valid-loss:1.9202: 100%"
     }
    },
    "494e2c5527c2440f90c919746d33f9d5": {
     "model_module": "@jupyter-widgets/controls",
     "model_name": "FloatProgressModel",
     "model_module_version": "1.5.0",
     "state": {
      "_dom_classes": [],
      "_model_module": "@jupyter-widgets/controls",
      "_model_module_version": "1.5.0",
      "_model_name": "FloatProgressModel",
      "_view_count": null,
      "_view_module": "@jupyter-widgets/controls",
      "_view_module_version": "1.5.0",
      "_view_name": "ProgressView",
      "bar_style": "success",
      "description": "",
      "description_tooltip": null,
      "layout": "IPY_MODEL_8fd95d9893d84a9698c8d919f745c1c2",
      "max": 8,
      "min": 0,
      "orientation": "horizontal",
      "style": "IPY_MODEL_7a329abe00c841e49bf6330336d27928",
      "value": 8
     }
    },
    "ee6bc7420d0e4c58aa4c996e6f3a7f4f": {
     "model_module": "@jupyter-widgets/controls",
     "model_name": "HTMLModel",
     "model_module_version": "1.5.0",
     "state": {
      "_dom_classes": [],
      "_model_module": "@jupyter-widgets/controls",
      "_model_module_version": "1.5.0",
      "_model_name": "HTMLModel",
      "_view_count": null,
      "_view_module": "@jupyter-widgets/controls",
      "_view_module_version": "1.5.0",
      "_view_name": "HTMLView",
      "description": "",
      "description_tooltip": null,
      "layout": "IPY_MODEL_1f9cbc6ef7eb4af991cca44f57c96162",
      "placeholder": "​",
      "style": "IPY_MODEL_b64ad6a18dee4206aaed9367ba6e92eb",
      "value": " 8/8 [00:00&lt;00:00, 39.28it/s]"
     }
    },
    "8be8983266df47eaa9b0f48ef5cac7d2": {
     "model_module": "@jupyter-widgets/base",
     "model_name": "LayoutModel",
     "model_module_version": "1.2.0",
     "state": {
      "_model_module": "@jupyter-widgets/base",
      "_model_module_version": "1.2.0",
      "_model_name": "LayoutModel",
      "_view_count": null,
      "_view_module": "@jupyter-widgets/base",
      "_view_module_version": "1.2.0",
      "_view_name": "LayoutView",
      "align_content": null,
      "align_items": null,
      "align_self": null,
      "border": null,
      "bottom": null,
      "display": null,
      "flex": null,
      "flex_flow": null,
      "grid_area": null,
      "grid_auto_columns": null,
      "grid_auto_flow": null,
      "grid_auto_rows": null,
      "grid_column": null,
      "grid_gap": null,
      "grid_row": null,
      "grid_template_areas": null,
      "grid_template_columns": null,
      "grid_template_rows": null,
      "height": null,
      "justify_content": null,
      "justify_items": null,
      "left": null,
      "margin": null,
      "max_height": null,
      "max_width": null,
      "min_height": null,
      "min_width": null,
      "object_fit": null,
      "object_position": null,
      "order": null,
      "overflow": null,
      "overflow_x": null,
      "overflow_y": null,
      "padding": null,
      "right": null,
      "top": null,
      "visibility": null,
      "width": null
     }
    },
    "03a405b3b89c41b787b9bcc73712d4f9": {
     "model_module": "@jupyter-widgets/base",
     "model_name": "LayoutModel",
     "model_module_version": "1.2.0",
     "state": {
      "_model_module": "@jupyter-widgets/base",
      "_model_module_version": "1.2.0",
      "_model_name": "LayoutModel",
      "_view_count": null,
      "_view_module": "@jupyter-widgets/base",
      "_view_module_version": "1.2.0",
      "_view_name": "LayoutView",
      "align_content": null,
      "align_items": null,
      "align_self": null,
      "border": null,
      "bottom": null,
      "display": null,
      "flex": null,
      "flex_flow": null,
      "grid_area": null,
      "grid_auto_columns": null,
      "grid_auto_flow": null,
      "grid_auto_rows": null,
      "grid_column": null,
      "grid_gap": null,
      "grid_row": null,
      "grid_template_areas": null,
      "grid_template_columns": null,
      "grid_template_rows": null,
      "height": null,
      "justify_content": null,
      "justify_items": null,
      "left": null,
      "margin": null,
      "max_height": null,
      "max_width": null,
      "min_height": null,
      "min_width": null,
      "object_fit": null,
      "object_position": null,
      "order": null,
      "overflow": null,
      "overflow_x": null,
      "overflow_y": null,
      "padding": null,
      "right": null,
      "top": null,
      "visibility": null,
      "width": null
     }
    },
    "20144ed761124f0189ccbde754b87687": {
     "model_module": "@jupyter-widgets/controls",
     "model_name": "DescriptionStyleModel",
     "model_module_version": "1.5.0",
     "state": {
      "_model_module": "@jupyter-widgets/controls",
      "_model_module_version": "1.5.0",
      "_model_name": "DescriptionStyleModel",
      "_view_count": null,
      "_view_module": "@jupyter-widgets/base",
      "_view_module_version": "1.2.0",
      "_view_name": "StyleView",
      "description_width": ""
     }
    },
    "8fd95d9893d84a9698c8d919f745c1c2": {
     "model_module": "@jupyter-widgets/base",
     "model_name": "LayoutModel",
     "model_module_version": "1.2.0",
     "state": {
      "_model_module": "@jupyter-widgets/base",
      "_model_module_version": "1.2.0",
      "_model_name": "LayoutModel",
      "_view_count": null,
      "_view_module": "@jupyter-widgets/base",
      "_view_module_version": "1.2.0",
      "_view_name": "LayoutView",
      "align_content": null,
      "align_items": null,
      "align_self": null,
      "border": null,
      "bottom": null,
      "display": null,
      "flex": null,
      "flex_flow": null,
      "grid_area": null,
      "grid_auto_columns": null,
      "grid_auto_flow": null,
      "grid_auto_rows": null,
      "grid_column": null,
      "grid_gap": null,
      "grid_row": null,
      "grid_template_areas": null,
      "grid_template_columns": null,
      "grid_template_rows": null,
      "height": null,
      "justify_content": null,
      "justify_items": null,
      "left": null,
      "margin": null,
      "max_height": null,
      "max_width": null,
      "min_height": null,
      "min_width": null,
      "object_fit": null,
      "object_position": null,
      "order": null,
      "overflow": null,
      "overflow_x": null,
      "overflow_y": null,
      "padding": null,
      "right": null,
      "top": null,
      "visibility": null,
      "width": null
     }
    },
    "7a329abe00c841e49bf6330336d27928": {
     "model_module": "@jupyter-widgets/controls",
     "model_name": "ProgressStyleModel",
     "model_module_version": "1.5.0",
     "state": {
      "_model_module": "@jupyter-widgets/controls",
      "_model_module_version": "1.5.0",
      "_model_name": "ProgressStyleModel",
      "_view_count": null,
      "_view_module": "@jupyter-widgets/base",
      "_view_module_version": "1.2.0",
      "_view_name": "StyleView",
      "bar_color": null,
      "description_width": ""
     }
    },
    "1f9cbc6ef7eb4af991cca44f57c96162": {
     "model_module": "@jupyter-widgets/base",
     "model_name": "LayoutModel",
     "model_module_version": "1.2.0",
     "state": {
      "_model_module": "@jupyter-widgets/base",
      "_model_module_version": "1.2.0",
      "_model_name": "LayoutModel",
      "_view_count": null,
      "_view_module": "@jupyter-widgets/base",
      "_view_module_version": "1.2.0",
      "_view_name": "LayoutView",
      "align_content": null,
      "align_items": null,
      "align_self": null,
      "border": null,
      "bottom": null,
      "display": null,
      "flex": null,
      "flex_flow": null,
      "grid_area": null,
      "grid_auto_columns": null,
      "grid_auto_flow": null,
      "grid_auto_rows": null,
      "grid_column": null,
      "grid_gap": null,
      "grid_row": null,
      "grid_template_areas": null,
      "grid_template_columns": null,
      "grid_template_rows": null,
      "height": null,
      "justify_content": null,
      "justify_items": null,
      "left": null,
      "margin": null,
      "max_height": null,
      "max_width": null,
      "min_height": null,
      "min_width": null,
      "object_fit": null,
      "object_position": null,
      "order": null,
      "overflow": null,
      "overflow_x": null,
      "overflow_y": null,
      "padding": null,
      "right": null,
      "top": null,
      "visibility": null,
      "width": null
     }
    },
    "b64ad6a18dee4206aaed9367ba6e92eb": {
     "model_module": "@jupyter-widgets/controls",
     "model_name": "DescriptionStyleModel",
     "model_module_version": "1.5.0",
     "state": {
      "_model_module": "@jupyter-widgets/controls",
      "_model_module_version": "1.5.0",
      "_model_name": "DescriptionStyleModel",
      "_view_count": null,
      "_view_module": "@jupyter-widgets/base",
      "_view_module_version": "1.2.0",
      "_view_name": "StyleView",
      "description_width": ""
     }
    },
    "88a5b097278746bdb76bfb6a5df9b68a": {
     "model_module": "@jupyter-widgets/controls",
     "model_name": "HBoxModel",
     "model_module_version": "1.5.0",
     "state": {
      "_dom_classes": [],
      "_model_module": "@jupyter-widgets/controls",
      "_model_module_version": "1.5.0",
      "_model_name": "HBoxModel",
      "_view_count": null,
      "_view_module": "@jupyter-widgets/controls",
      "_view_module_version": "1.5.0",
      "_view_name": "HBoxView",
      "box_style": "",
      "children": [
       "IPY_MODEL_a14f7fdef43847339acf4b770a01222c",
       "IPY_MODEL_d361b22f30a94716bf104f279fb68143",
       "IPY_MODEL_8c98fa4eade4467bb789e0ddf48d6853"
      ],
      "layout": "IPY_MODEL_567192658e11465bac51ddcecce2c693"
     }
    },
    "a14f7fdef43847339acf4b770a01222c": {
     "model_module": "@jupyter-widgets/controls",
     "model_name": "HTMLModel",
     "model_module_version": "1.5.0",
     "state": {
      "_dom_classes": [],
      "_model_module": "@jupyter-widgets/controls",
      "_model_module_version": "1.5.0",
      "_model_name": "HTMLModel",
      "_view_count": null,
      "_view_module": "@jupyter-widgets/controls",
      "_view_module_version": "1.5.0",
      "_view_name": "HTMLView",
      "description": "",
      "description_tooltip": null,
      "layout": "IPY_MODEL_74ba0303ae7a46cdafd94cd3b3e0fd52",
      "placeholder": "​",
      "style": "IPY_MODEL_d39fe8670700450e945f8bfc7a41889b",
      "value": "Train-loss:1.1246: 100%"
     }
    },
    "d361b22f30a94716bf104f279fb68143": {
     "model_module": "@jupyter-widgets/controls",
     "model_name": "FloatProgressModel",
     "model_module_version": "1.5.0",
     "state": {
      "_dom_classes": [],
      "_model_module": "@jupyter-widgets/controls",
      "_model_module_version": "1.5.0",
      "_model_name": "FloatProgressModel",
      "_view_count": null,
      "_view_module": "@jupyter-widgets/controls",
      "_view_module_version": "1.5.0",
      "_view_name": "ProgressView",
      "bar_style": "success",
      "description": "",
      "description_tooltip": null,
      "layout": "IPY_MODEL_5f31e52d6b174b87aceac7c130520f1f",
      "max": 227,
      "min": 0,
      "orientation": "horizontal",
      "style": "IPY_MODEL_ca2bbb4fe34c4a9eba7b3bf1373cfd40",
      "value": 227
     }
    },
    "8c98fa4eade4467bb789e0ddf48d6853": {
     "model_module": "@jupyter-widgets/controls",
     "model_name": "HTMLModel",
     "model_module_version": "1.5.0",
     "state": {
      "_dom_classes": [],
      "_model_module": "@jupyter-widgets/controls",
      "_model_module_version": "1.5.0",
      "_model_name": "HTMLModel",
      "_view_count": null,
      "_view_module": "@jupyter-widgets/controls",
      "_view_module_version": "1.5.0",
      "_view_name": "HTMLView",
      "description": "",
      "description_tooltip": null,
      "layout": "IPY_MODEL_9a7a46ab3c4f487fb72a6ce60b593203",
      "placeholder": "​",
      "style": "IPY_MODEL_e2e9cb25492549de84c9fd6d566217d7",
      "value": " 227/227 [00:12&lt;00:00, 18.68it/s]"
     }
    },
    "567192658e11465bac51ddcecce2c693": {
     "model_module": "@jupyter-widgets/base",
     "model_name": "LayoutModel",
     "model_module_version": "1.2.0",
     "state": {
      "_model_module": "@jupyter-widgets/base",
      "_model_module_version": "1.2.0",
      "_model_name": "LayoutModel",
      "_view_count": null,
      "_view_module": "@jupyter-widgets/base",
      "_view_module_version": "1.2.0",
      "_view_name": "LayoutView",
      "align_content": null,
      "align_items": null,
      "align_self": null,
      "border": null,
      "bottom": null,
      "display": null,
      "flex": null,
      "flex_flow": null,
      "grid_area": null,
      "grid_auto_columns": null,
      "grid_auto_flow": null,
      "grid_auto_rows": null,
      "grid_column": null,
      "grid_gap": null,
      "grid_row": null,
      "grid_template_areas": null,
      "grid_template_columns": null,
      "grid_template_rows": null,
      "height": null,
      "justify_content": null,
      "justify_items": null,
      "left": null,
      "margin": null,
      "max_height": null,
      "max_width": null,
      "min_height": null,
      "min_width": null,
      "object_fit": null,
      "object_position": null,
      "order": null,
      "overflow": null,
      "overflow_x": null,
      "overflow_y": null,
      "padding": null,
      "right": null,
      "top": null,
      "visibility": null,
      "width": null
     }
    },
    "74ba0303ae7a46cdafd94cd3b3e0fd52": {
     "model_module": "@jupyter-widgets/base",
     "model_name": "LayoutModel",
     "model_module_version": "1.2.0",
     "state": {
      "_model_module": "@jupyter-widgets/base",
      "_model_module_version": "1.2.0",
      "_model_name": "LayoutModel",
      "_view_count": null,
      "_view_module": "@jupyter-widgets/base",
      "_view_module_version": "1.2.0",
      "_view_name": "LayoutView",
      "align_content": null,
      "align_items": null,
      "align_self": null,
      "border": null,
      "bottom": null,
      "display": null,
      "flex": null,
      "flex_flow": null,
      "grid_area": null,
      "grid_auto_columns": null,
      "grid_auto_flow": null,
      "grid_auto_rows": null,
      "grid_column": null,
      "grid_gap": null,
      "grid_row": null,
      "grid_template_areas": null,
      "grid_template_columns": null,
      "grid_template_rows": null,
      "height": null,
      "justify_content": null,
      "justify_items": null,
      "left": null,
      "margin": null,
      "max_height": null,
      "max_width": null,
      "min_height": null,
      "min_width": null,
      "object_fit": null,
      "object_position": null,
      "order": null,
      "overflow": null,
      "overflow_x": null,
      "overflow_y": null,
      "padding": null,
      "right": null,
      "top": null,
      "visibility": null,
      "width": null
     }
    },
    "d39fe8670700450e945f8bfc7a41889b": {
     "model_module": "@jupyter-widgets/controls",
     "model_name": "DescriptionStyleModel",
     "model_module_version": "1.5.0",
     "state": {
      "_model_module": "@jupyter-widgets/controls",
      "_model_module_version": "1.5.0",
      "_model_name": "DescriptionStyleModel",
      "_view_count": null,
      "_view_module": "@jupyter-widgets/base",
      "_view_module_version": "1.2.0",
      "_view_name": "StyleView",
      "description_width": ""
     }
    },
    "5f31e52d6b174b87aceac7c130520f1f": {
     "model_module": "@jupyter-widgets/base",
     "model_name": "LayoutModel",
     "model_module_version": "1.2.0",
     "state": {
      "_model_module": "@jupyter-widgets/base",
      "_model_module_version": "1.2.0",
      "_model_name": "LayoutModel",
      "_view_count": null,
      "_view_module": "@jupyter-widgets/base",
      "_view_module_version": "1.2.0",
      "_view_name": "LayoutView",
      "align_content": null,
      "align_items": null,
      "align_self": null,
      "border": null,
      "bottom": null,
      "display": null,
      "flex": null,
      "flex_flow": null,
      "grid_area": null,
      "grid_auto_columns": null,
      "grid_auto_flow": null,
      "grid_auto_rows": null,
      "grid_column": null,
      "grid_gap": null,
      "grid_row": null,
      "grid_template_areas": null,
      "grid_template_columns": null,
      "grid_template_rows": null,
      "height": null,
      "justify_content": null,
      "justify_items": null,
      "left": null,
      "margin": null,
      "max_height": null,
      "max_width": null,
      "min_height": null,
      "min_width": null,
      "object_fit": null,
      "object_position": null,
      "order": null,
      "overflow": null,
      "overflow_x": null,
      "overflow_y": null,
      "padding": null,
      "right": null,
      "top": null,
      "visibility": null,
      "width": null
     }
    },
    "ca2bbb4fe34c4a9eba7b3bf1373cfd40": {
     "model_module": "@jupyter-widgets/controls",
     "model_name": "ProgressStyleModel",
     "model_module_version": "1.5.0",
     "state": {
      "_model_module": "@jupyter-widgets/controls",
      "_model_module_version": "1.5.0",
      "_model_name": "ProgressStyleModel",
      "_view_count": null,
      "_view_module": "@jupyter-widgets/base",
      "_view_module_version": "1.2.0",
      "_view_name": "StyleView",
      "bar_color": null,
      "description_width": ""
     }
    },
    "9a7a46ab3c4f487fb72a6ce60b593203": {
     "model_module": "@jupyter-widgets/base",
     "model_name": "LayoutModel",
     "model_module_version": "1.2.0",
     "state": {
      "_model_module": "@jupyter-widgets/base",
      "_model_module_version": "1.2.0",
      "_model_name": "LayoutModel",
      "_view_count": null,
      "_view_module": "@jupyter-widgets/base",
      "_view_module_version": "1.2.0",
      "_view_name": "LayoutView",
      "align_content": null,
      "align_items": null,
      "align_self": null,
      "border": null,
      "bottom": null,
      "display": null,
      "flex": null,
      "flex_flow": null,
      "grid_area": null,
      "grid_auto_columns": null,
      "grid_auto_flow": null,
      "grid_auto_rows": null,
      "grid_column": null,
      "grid_gap": null,
      "grid_row": null,
      "grid_template_areas": null,
      "grid_template_columns": null,
      "grid_template_rows": null,
      "height": null,
      "justify_content": null,
      "justify_items": null,
      "left": null,
      "margin": null,
      "max_height": null,
      "max_width": null,
      "min_height": null,
      "min_width": null,
      "object_fit": null,
      "object_position": null,
      "order": null,
      "overflow": null,
      "overflow_x": null,
      "overflow_y": null,
      "padding": null,
      "right": null,
      "top": null,
      "visibility": null,
      "width": null
     }
    },
    "e2e9cb25492549de84c9fd6d566217d7": {
     "model_module": "@jupyter-widgets/controls",
     "model_name": "DescriptionStyleModel",
     "model_module_version": "1.5.0",
     "state": {
      "_model_module": "@jupyter-widgets/controls",
      "_model_module_version": "1.5.0",
      "_model_name": "DescriptionStyleModel",
      "_view_count": null,
      "_view_module": "@jupyter-widgets/base",
      "_view_module_version": "1.2.0",
      "_view_name": "StyleView",
      "description_width": ""
     }
    },
    "3e0e8bb0c54a4770953f77096eb01866": {
     "model_module": "@jupyter-widgets/controls",
     "model_name": "HBoxModel",
     "model_module_version": "1.5.0",
     "state": {
      "_dom_classes": [],
      "_model_module": "@jupyter-widgets/controls",
      "_model_module_version": "1.5.0",
      "_model_name": "HBoxModel",
      "_view_count": null,
      "_view_module": "@jupyter-widgets/controls",
      "_view_module_version": "1.5.0",
      "_view_name": "HBoxView",
      "box_style": "",
      "children": [
       "IPY_MODEL_ccf4ea156c6d45b9aa0ca732c1495b81",
       "IPY_MODEL_db2b971fbc8c4f949741b98277f3c6ec",
       "IPY_MODEL_a7a11f1d00304579879979febd427d3d"
      ],
      "layout": "IPY_MODEL_c6cbf7e5e06240d1a886d35be3ab3acb"
     }
    },
    "ccf4ea156c6d45b9aa0ca732c1495b81": {
     "model_module": "@jupyter-widgets/controls",
     "model_name": "HTMLModel",
     "model_module_version": "1.5.0",
     "state": {
      "_dom_classes": [],
      "_model_module": "@jupyter-widgets/controls",
      "_model_module_version": "1.5.0",
      "_model_name": "HTMLModel",
      "_view_count": null,
      "_view_module": "@jupyter-widgets/controls",
      "_view_module_version": "1.5.0",
      "_view_name": "HTMLView",
      "description": "",
      "description_tooltip": null,
      "layout": "IPY_MODEL_ea4e41fac47d47f7a69e8df8f13aae32",
      "placeholder": "​",
      "style": "IPY_MODEL_91bfc054309a42659b1b2ea8172d5a3f",
      "value": "valid-loss:1.9215: 100%"
     }
    },
    "db2b971fbc8c4f949741b98277f3c6ec": {
     "model_module": "@jupyter-widgets/controls",
     "model_name": "FloatProgressModel",
     "model_module_version": "1.5.0",
     "state": {
      "_dom_classes": [],
      "_model_module": "@jupyter-widgets/controls",
      "_model_module_version": "1.5.0",
      "_model_name": "FloatProgressModel",
      "_view_count": null,
      "_view_module": "@jupyter-widgets/controls",
      "_view_module_version": "1.5.0",
      "_view_name": "ProgressView",
      "bar_style": "success",
      "description": "",
      "description_tooltip": null,
      "layout": "IPY_MODEL_e11d101fe01944168c53c1ae378f4039",
      "max": 8,
      "min": 0,
      "orientation": "horizontal",
      "style": "IPY_MODEL_9acb0a34e56b40d2ad653be30dbeb0e5",
      "value": 8
     }
    },
    "a7a11f1d00304579879979febd427d3d": {
     "model_module": "@jupyter-widgets/controls",
     "model_name": "HTMLModel",
     "model_module_version": "1.5.0",
     "state": {
      "_dom_classes": [],
      "_model_module": "@jupyter-widgets/controls",
      "_model_module_version": "1.5.0",
      "_model_name": "HTMLModel",
      "_view_count": null,
      "_view_module": "@jupyter-widgets/controls",
      "_view_module_version": "1.5.0",
      "_view_name": "HTMLView",
      "description": "",
      "description_tooltip": null,
      "layout": "IPY_MODEL_3a08f365b99f4b4ea234c7e18be4e10e",
      "placeholder": "​",
      "style": "IPY_MODEL_70e6efb1a2aa486ebb5247360e24f201",
      "value": " 8/8 [00:00&lt;00:00, 39.36it/s]"
     }
    },
    "c6cbf7e5e06240d1a886d35be3ab3acb": {
     "model_module": "@jupyter-widgets/base",
     "model_name": "LayoutModel",
     "model_module_version": "1.2.0",
     "state": {
      "_model_module": "@jupyter-widgets/base",
      "_model_module_version": "1.2.0",
      "_model_name": "LayoutModel",
      "_view_count": null,
      "_view_module": "@jupyter-widgets/base",
      "_view_module_version": "1.2.0",
      "_view_name": "LayoutView",
      "align_content": null,
      "align_items": null,
      "align_self": null,
      "border": null,
      "bottom": null,
      "display": null,
      "flex": null,
      "flex_flow": null,
      "grid_area": null,
      "grid_auto_columns": null,
      "grid_auto_flow": null,
      "grid_auto_rows": null,
      "grid_column": null,
      "grid_gap": null,
      "grid_row": null,
      "grid_template_areas": null,
      "grid_template_columns": null,
      "grid_template_rows": null,
      "height": null,
      "justify_content": null,
      "justify_items": null,
      "left": null,
      "margin": null,
      "max_height": null,
      "max_width": null,
      "min_height": null,
      "min_width": null,
      "object_fit": null,
      "object_position": null,
      "order": null,
      "overflow": null,
      "overflow_x": null,
      "overflow_y": null,
      "padding": null,
      "right": null,
      "top": null,
      "visibility": null,
      "width": null
     }
    },
    "ea4e41fac47d47f7a69e8df8f13aae32": {
     "model_module": "@jupyter-widgets/base",
     "model_name": "LayoutModel",
     "model_module_version": "1.2.0",
     "state": {
      "_model_module": "@jupyter-widgets/base",
      "_model_module_version": "1.2.0",
      "_model_name": "LayoutModel",
      "_view_count": null,
      "_view_module": "@jupyter-widgets/base",
      "_view_module_version": "1.2.0",
      "_view_name": "LayoutView",
      "align_content": null,
      "align_items": null,
      "align_self": null,
      "border": null,
      "bottom": null,
      "display": null,
      "flex": null,
      "flex_flow": null,
      "grid_area": null,
      "grid_auto_columns": null,
      "grid_auto_flow": null,
      "grid_auto_rows": null,
      "grid_column": null,
      "grid_gap": null,
      "grid_row": null,
      "grid_template_areas": null,
      "grid_template_columns": null,
      "grid_template_rows": null,
      "height": null,
      "justify_content": null,
      "justify_items": null,
      "left": null,
      "margin": null,
      "max_height": null,
      "max_width": null,
      "min_height": null,
      "min_width": null,
      "object_fit": null,
      "object_position": null,
      "order": null,
      "overflow": null,
      "overflow_x": null,
      "overflow_y": null,
      "padding": null,
      "right": null,
      "top": null,
      "visibility": null,
      "width": null
     }
    },
    "91bfc054309a42659b1b2ea8172d5a3f": {
     "model_module": "@jupyter-widgets/controls",
     "model_name": "DescriptionStyleModel",
     "model_module_version": "1.5.0",
     "state": {
      "_model_module": "@jupyter-widgets/controls",
      "_model_module_version": "1.5.0",
      "_model_name": "DescriptionStyleModel",
      "_view_count": null,
      "_view_module": "@jupyter-widgets/base",
      "_view_module_version": "1.2.0",
      "_view_name": "StyleView",
      "description_width": ""
     }
    },
    "e11d101fe01944168c53c1ae378f4039": {
     "model_module": "@jupyter-widgets/base",
     "model_name": "LayoutModel",
     "model_module_version": "1.2.0",
     "state": {
      "_model_module": "@jupyter-widgets/base",
      "_model_module_version": "1.2.0",
      "_model_name": "LayoutModel",
      "_view_count": null,
      "_view_module": "@jupyter-widgets/base",
      "_view_module_version": "1.2.0",
      "_view_name": "LayoutView",
      "align_content": null,
      "align_items": null,
      "align_self": null,
      "border": null,
      "bottom": null,
      "display": null,
      "flex": null,
      "flex_flow": null,
      "grid_area": null,
      "grid_auto_columns": null,
      "grid_auto_flow": null,
      "grid_auto_rows": null,
      "grid_column": null,
      "grid_gap": null,
      "grid_row": null,
      "grid_template_areas": null,
      "grid_template_columns": null,
      "grid_template_rows": null,
      "height": null,
      "justify_content": null,
      "justify_items": null,
      "left": null,
      "margin": null,
      "max_height": null,
      "max_width": null,
      "min_height": null,
      "min_width": null,
      "object_fit": null,
      "object_position": null,
      "order": null,
      "overflow": null,
      "overflow_x": null,
      "overflow_y": null,
      "padding": null,
      "right": null,
      "top": null,
      "visibility": null,
      "width": null
     }
    },
    "9acb0a34e56b40d2ad653be30dbeb0e5": {
     "model_module": "@jupyter-widgets/controls",
     "model_name": "ProgressStyleModel",
     "model_module_version": "1.5.0",
     "state": {
      "_model_module": "@jupyter-widgets/controls",
      "_model_module_version": "1.5.0",
      "_model_name": "ProgressStyleModel",
      "_view_count": null,
      "_view_module": "@jupyter-widgets/base",
      "_view_module_version": "1.2.0",
      "_view_name": "StyleView",
      "bar_color": null,
      "description_width": ""
     }
    },
    "3a08f365b99f4b4ea234c7e18be4e10e": {
     "model_module": "@jupyter-widgets/base",
     "model_name": "LayoutModel",
     "model_module_version": "1.2.0",
     "state": {
      "_model_module": "@jupyter-widgets/base",
      "_model_module_version": "1.2.0",
      "_model_name": "LayoutModel",
      "_view_count": null,
      "_view_module": "@jupyter-widgets/base",
      "_view_module_version": "1.2.0",
      "_view_name": "LayoutView",
      "align_content": null,
      "align_items": null,
      "align_self": null,
      "border": null,
      "bottom": null,
      "display": null,
      "flex": null,
      "flex_flow": null,
      "grid_area": null,
      "grid_auto_columns": null,
      "grid_auto_flow": null,
      "grid_auto_rows": null,
      "grid_column": null,
      "grid_gap": null,
      "grid_row": null,
      "grid_template_areas": null,
      "grid_template_columns": null,
      "grid_template_rows": null,
      "height": null,
      "justify_content": null,
      "justify_items": null,
      "left": null,
      "margin": null,
      "max_height": null,
      "max_width": null,
      "min_height": null,
      "min_width": null,
      "object_fit": null,
      "object_position": null,
      "order": null,
      "overflow": null,
      "overflow_x": null,
      "overflow_y": null,
      "padding": null,
      "right": null,
      "top": null,
      "visibility": null,
      "width": null
     }
    },
    "70e6efb1a2aa486ebb5247360e24f201": {
     "model_module": "@jupyter-widgets/controls",
     "model_name": "DescriptionStyleModel",
     "model_module_version": "1.5.0",
     "state": {
      "_model_module": "@jupyter-widgets/controls",
      "_model_module_version": "1.5.0",
      "_model_name": "DescriptionStyleModel",
      "_view_count": null,
      "_view_module": "@jupyter-widgets/base",
      "_view_module_version": "1.2.0",
      "_view_name": "StyleView",
      "description_width": ""
     }
    },
    "3e4ee002582c49fca51ab44a44ac7cdb": {
     "model_module": "@jupyter-widgets/controls",
     "model_name": "HBoxModel",
     "model_module_version": "1.5.0",
     "state": {
      "_dom_classes": [],
      "_model_module": "@jupyter-widgets/controls",
      "_model_module_version": "1.5.0",
      "_model_name": "HBoxModel",
      "_view_count": null,
      "_view_module": "@jupyter-widgets/controls",
      "_view_module_version": "1.5.0",
      "_view_name": "HBoxView",
      "box_style": "",
      "children": [
       "IPY_MODEL_7605830d31d340eb9bfe0fb6a618d857",
       "IPY_MODEL_a9be1080be30454ebdd017f8e4d4e7ac",
       "IPY_MODEL_99dbfe80d0fc4c1ea71c2de1866a331d"
      ],
      "layout": "IPY_MODEL_1e403fd0c43d42d2b0dce622c00c395f"
     }
    },
    "7605830d31d340eb9bfe0fb6a618d857": {
     "model_module": "@jupyter-widgets/controls",
     "model_name": "HTMLModel",
     "model_module_version": "1.5.0",
     "state": {
      "_dom_classes": [],
      "_model_module": "@jupyter-widgets/controls",
      "_model_module_version": "1.5.0",
      "_model_name": "HTMLModel",
      "_view_count": null,
      "_view_module": "@jupyter-widgets/controls",
      "_view_module_version": "1.5.0",
      "_view_name": "HTMLView",
      "description": "",
      "description_tooltip": null,
      "layout": "IPY_MODEL_41d2455fc2204fcc87bd29b090ddd503",
      "placeholder": "​",
      "style": "IPY_MODEL_3ebfb86f0d014f949087ab160865c865",
      "value": "test-loss:1.9744: 100%"
     }
    },
    "a9be1080be30454ebdd017f8e4d4e7ac": {
     "model_module": "@jupyter-widgets/controls",
     "model_name": "FloatProgressModel",
     "model_module_version": "1.5.0",
     "state": {
      "_dom_classes": [],
      "_model_module": "@jupyter-widgets/controls",
      "_model_module_version": "1.5.0",
      "_model_name": "FloatProgressModel",
      "_view_count": null,
      "_view_module": "@jupyter-widgets/controls",
      "_view_module_version": "1.5.0",
      "_view_name": "ProgressView",
      "bar_style": "success",
      "description": "",
      "description_tooltip": null,
      "layout": "IPY_MODEL_cacb0f6ebc934b96b56e7f2db150a282",
      "max": 8,
      "min": 0,
      "orientation": "horizontal",
      "style": "IPY_MODEL_e3f1e1dc35c2493da2f21677f7a9ee6d",
      "value": 8
     }
    },
    "99dbfe80d0fc4c1ea71c2de1866a331d": {
     "model_module": "@jupyter-widgets/controls",
     "model_name": "HTMLModel",
     "model_module_version": "1.5.0",
     "state": {
      "_dom_classes": [],
      "_model_module": "@jupyter-widgets/controls",
      "_model_module_version": "1.5.0",
      "_model_name": "HTMLModel",
      "_view_count": null,
      "_view_module": "@jupyter-widgets/controls",
      "_view_module_version": "1.5.0",
      "_view_name": "HTMLView",
      "description": "",
      "description_tooltip": null,
      "layout": "IPY_MODEL_b1b978458a3241a08a0d95914fec7f86",
      "placeholder": "​",
      "style": "IPY_MODEL_e980c5d189794c8f9b61cb2a1d1d348b",
      "value": " 8/8 [00:00&lt;00:00, 22.76it/s]"
     }
    },
    "1e403fd0c43d42d2b0dce622c00c395f": {
     "model_module": "@jupyter-widgets/base",
     "model_name": "LayoutModel",
     "model_module_version": "1.2.0",
     "state": {
      "_model_module": "@jupyter-widgets/base",
      "_model_module_version": "1.2.0",
      "_model_name": "LayoutModel",
      "_view_count": null,
      "_view_module": "@jupyter-widgets/base",
      "_view_module_version": "1.2.0",
      "_view_name": "LayoutView",
      "align_content": null,
      "align_items": null,
      "align_self": null,
      "border": null,
      "bottom": null,
      "display": null,
      "flex": null,
      "flex_flow": null,
      "grid_area": null,
      "grid_auto_columns": null,
      "grid_auto_flow": null,
      "grid_auto_rows": null,
      "grid_column": null,
      "grid_gap": null,
      "grid_row": null,
      "grid_template_areas": null,
      "grid_template_columns": null,
      "grid_template_rows": null,
      "height": null,
      "justify_content": null,
      "justify_items": null,
      "left": null,
      "margin": null,
      "max_height": null,
      "max_width": null,
      "min_height": null,
      "min_width": null,
      "object_fit": null,
      "object_position": null,
      "order": null,
      "overflow": null,
      "overflow_x": null,
      "overflow_y": null,
      "padding": null,
      "right": null,
      "top": null,
      "visibility": null,
      "width": null
     }
    },
    "41d2455fc2204fcc87bd29b090ddd503": {
     "model_module": "@jupyter-widgets/base",
     "model_name": "LayoutModel",
     "model_module_version": "1.2.0",
     "state": {
      "_model_module": "@jupyter-widgets/base",
      "_model_module_version": "1.2.0",
      "_model_name": "LayoutModel",
      "_view_count": null,
      "_view_module": "@jupyter-widgets/base",
      "_view_module_version": "1.2.0",
      "_view_name": "LayoutView",
      "align_content": null,
      "align_items": null,
      "align_self": null,
      "border": null,
      "bottom": null,
      "display": null,
      "flex": null,
      "flex_flow": null,
      "grid_area": null,
      "grid_auto_columns": null,
      "grid_auto_flow": null,
      "grid_auto_rows": null,
      "grid_column": null,
      "grid_gap": null,
      "grid_row": null,
      "grid_template_areas": null,
      "grid_template_columns": null,
      "grid_template_rows": null,
      "height": null,
      "justify_content": null,
      "justify_items": null,
      "left": null,
      "margin": null,
      "max_height": null,
      "max_width": null,
      "min_height": null,
      "min_width": null,
      "object_fit": null,
      "object_position": null,
      "order": null,
      "overflow": null,
      "overflow_x": null,
      "overflow_y": null,
      "padding": null,
      "right": null,
      "top": null,
      "visibility": null,
      "width": null
     }
    },
    "3ebfb86f0d014f949087ab160865c865": {
     "model_module": "@jupyter-widgets/controls",
     "model_name": "DescriptionStyleModel",
     "model_module_version": "1.5.0",
     "state": {
      "_model_module": "@jupyter-widgets/controls",
      "_model_module_version": "1.5.0",
      "_model_name": "DescriptionStyleModel",
      "_view_count": null,
      "_view_module": "@jupyter-widgets/base",
      "_view_module_version": "1.2.0",
      "_view_name": "StyleView",
      "description_width": ""
     }
    },
    "cacb0f6ebc934b96b56e7f2db150a282": {
     "model_module": "@jupyter-widgets/base",
     "model_name": "LayoutModel",
     "model_module_version": "1.2.0",
     "state": {
      "_model_module": "@jupyter-widgets/base",
      "_model_module_version": "1.2.0",
      "_model_name": "LayoutModel",
      "_view_count": null,
      "_view_module": "@jupyter-widgets/base",
      "_view_module_version": "1.2.0",
      "_view_name": "LayoutView",
      "align_content": null,
      "align_items": null,
      "align_self": null,
      "border": null,
      "bottom": null,
      "display": null,
      "flex": null,
      "flex_flow": null,
      "grid_area": null,
      "grid_auto_columns": null,
      "grid_auto_flow": null,
      "grid_auto_rows": null,
      "grid_column": null,
      "grid_gap": null,
      "grid_row": null,
      "grid_template_areas": null,
      "grid_template_columns": null,
      "grid_template_rows": null,
      "height": null,
      "justify_content": null,
      "justify_items": null,
      "left": null,
      "margin": null,
      "max_height": null,
      "max_width": null,
      "min_height": null,
      "min_width": null,
      "object_fit": null,
      "object_position": null,
      "order": null,
      "overflow": null,
      "overflow_x": null,
      "overflow_y": null,
      "padding": null,
      "right": null,
      "top": null,
      "visibility": null,
      "width": null
     }
    },
    "e3f1e1dc35c2493da2f21677f7a9ee6d": {
     "model_module": "@jupyter-widgets/controls",
     "model_name": "ProgressStyleModel",
     "model_module_version": "1.5.0",
     "state": {
      "_model_module": "@jupyter-widgets/controls",
      "_model_module_version": "1.5.0",
      "_model_name": "ProgressStyleModel",
      "_view_count": null,
      "_view_module": "@jupyter-widgets/base",
      "_view_module_version": "1.2.0",
      "_view_name": "StyleView",
      "bar_color": null,
      "description_width": ""
     }
    },
    "b1b978458a3241a08a0d95914fec7f86": {
     "model_module": "@jupyter-widgets/base",
     "model_name": "LayoutModel",
     "model_module_version": "1.2.0",
     "state": {
      "_model_module": "@jupyter-widgets/base",
      "_model_module_version": "1.2.0",
      "_model_name": "LayoutModel",
      "_view_count": null,
      "_view_module": "@jupyter-widgets/base",
      "_view_module_version": "1.2.0",
      "_view_name": "LayoutView",
      "align_content": null,
      "align_items": null,
      "align_self": null,
      "border": null,
      "bottom": null,
      "display": null,
      "flex": null,
      "flex_flow": null,
      "grid_area": null,
      "grid_auto_columns": null,
      "grid_auto_flow": null,
      "grid_auto_rows": null,
      "grid_column": null,
      "grid_gap": null,
      "grid_row": null,
      "grid_template_areas": null,
      "grid_template_columns": null,
      "grid_template_rows": null,
      "height": null,
      "justify_content": null,
      "justify_items": null,
      "left": null,
      "margin": null,
      "max_height": null,
      "max_width": null,
      "min_height": null,
      "min_width": null,
      "object_fit": null,
      "object_position": null,
      "order": null,
      "overflow": null,
      "overflow_x": null,
      "overflow_y": null,
      "padding": null,
      "right": null,
      "top": null,
      "visibility": null,
      "width": null
     }
    },
    "e980c5d189794c8f9b61cb2a1d1d348b": {
     "model_module": "@jupyter-widgets/controls",
     "model_name": "DescriptionStyleModel",
     "model_module_version": "1.5.0",
     "state": {
      "_model_module": "@jupyter-widgets/controls",
      "_model_module_version": "1.5.0",
      "_model_name": "DescriptionStyleModel",
      "_view_count": null,
      "_view_module": "@jupyter-widgets/base",
      "_view_module_version": "1.2.0",
      "_view_name": "StyleView",
      "description_width": ""
     }
    }
   }
  }
 },
 "cells": [
  {
   "cell_type": "markdown",
   "source": [
    "# Transformer 모델을 활용한 Neural Machine Translation(기계 번역) 실습\n",
    "\n",
    "Transformer을 직접 구현한다. 구현한 모델을 바탕으로 Multi30k 데이터셋을 활용하여 독일어를 영어로 번역하는 작업을 수행한다."
   ],
   "metadata": {
    "id": "mNgJxmpDhq53",
    "pycharm": {
     "name": "#%% md\n"
    }
   }
  },
  {
   "cell_type": "markdown",
   "source": [
    "## 1. 데이터 전처리 및 Dataset & Dataloader 구성하기"
   ],
   "metadata": {
    "id": "J3P_odUQiw0D",
    "pycharm": {
     "name": "#%% md\n"
    }
   }
  },
  {
   "cell_type": "markdown",
   "source": [
    "### 1.1. torchdata 설치하기"
   ],
   "metadata": {
    "id": "2i5E2NKNjEkb",
    "pycharm": {
     "name": "#%% md\n"
    }
   }
  },
  {
   "cell_type": "code",
   "execution_count": null,
   "metadata": {
    "id": "t2V1sJswhdye",
    "pycharm": {
     "name": "#%%\n"
    }
   },
   "outputs": [],
   "source": [
    "!pip install folium==0.2.1"
   ]
  },
  {
   "cell_type": "code",
   "source": [
    "!pip install torchdata==0.4.0"
   ],
   "metadata": {
    "id": "UuHne6jwjCuk",
    "pycharm": {
     "name": "#%%\n"
    }
   },
   "execution_count": null,
   "outputs": []
  },
  {
   "cell_type": "markdown",
   "source": [
    "### 1.2. Multi30k 불러오기"
   ],
   "metadata": {
    "id": "yoL8fI7XjIcD",
    "pycharm": {
     "name": "#%% md\n"
    }
   }
  },
  {
   "cell_type": "code",
   "source": [
    "from torchtext.datasets import Multi30k\n",
    "\n",
    "train, valid, test = Multi30k()"
   ],
   "metadata": {
    "id": "7VhcfXucjHFW",
    "pycharm": {
     "name": "#%%\n"
    }
   },
   "execution_count": 3,
   "outputs": []
  },
  {
   "cell_type": "markdown",
   "source": [
    "### 1.3. spaCy Tokenizer를 이용하여 영어 Vocab, 독일어 Vocab 구성하기"
   ],
   "metadata": {
    "id": "gyyl7oWqjPJw",
    "pycharm": {
     "name": "#%% md\n"
    }
   }
  },
  {
   "cell_type": "code",
   "source": [
    "# Tokenizer를 위한 데이터 다운로드\n",
    "!python -m spacy download en_core_web_sm\n",
    "!python -m spacy download de_core_news_sm"
   ],
   "metadata": {
    "id": "haB16lRmjMmv",
    "pycharm": {
     "name": "#%%\n"
    }
   },
   "execution_count": null,
   "outputs": []
  },
  {
   "cell_type": "code",
   "source": [
    "import spacy\n",
    "\n",
    "en_tokenizer = spacy.load('en_core_web_sm')\n",
    "de_tokenizer = spacy.load('de_core_news_sm')"
   ],
   "metadata": {
    "id": "VeIosdErjVOi",
    "pycharm": {
     "name": "#%%\n"
    }
   },
   "execution_count": 5,
   "outputs": []
  },
  {
   "cell_type": "code",
   "source": [
    "def tokenize(tokenizer, text):\n",
    "    return [ token.text for token in tokenizer.tokenizer(text)]"
   ],
   "metadata": {
    "id": "4TRO7Jzbjhob",
    "pycharm": {
     "name": "#%%\n"
    }
   },
   "execution_count": 6,
   "outputs": []
  },
  {
   "cell_type": "code",
   "source": [
    "# tokenize 테스트\n",
    "tokenize(en_tokenizer, 'I translate English into German.')\n",
    "tokenize(de_tokenizer, 'Ich übersetze Englisch ins Deutsche.')"
   ],
   "metadata": {
    "colab": {
     "base_uri": "https://localhost:8080/"
    },
    "id": "zDzgOIA4jbz2",
    "outputId": "0ffd3f5d-269f-44e1-be94-5e41e8002ca3",
    "pycharm": {
     "name": "#%%\n"
    }
   },
   "execution_count": 7,
   "outputs": [
    {
     "output_type": "execute_result",
     "data": {
      "text/plain": [
       "['Ich', 'übersetze', 'Englisch', 'ins', 'Deutsche', '.']"
      ]
     },
     "metadata": {},
     "execution_count": 7
    }
   ]
  },
  {
   "cell_type": "code",
   "source": [
    "from functools import partial\n",
    "from torchtext.vocab import build_vocab_from_iterator"
   ],
   "metadata": {
    "id": "tWdioGnJje4U",
    "pycharm": {
     "name": "#%%\n"
    }
   },
   "execution_count": 8,
   "outputs": []
  },
  {
   "cell_type": "code",
   "source": [
    "en_vocab = build_vocab_from_iterator(map(partial(tokenize, en_tokenizer), [eng for _, eng in train]), min_freq=2, specials=['<pad>', '<unk>', '<sos>', '<eos>'])\n",
    "de_vocab = build_vocab_from_iterator(map(partial(tokenize, de_tokenizer), [de for de , _ in train ]), min_freq=2, specials=['<pad>', '<unk>', '<sos>', '<eos>'])"
   ],
   "metadata": {
    "id": "abyqMK6ojkWH",
    "pycharm": {
     "name": "#%%\n"
    }
   },
   "execution_count": 9,
   "outputs": []
  },
  {
   "cell_type": "code",
   "source": [
    "len(en_vocab), len(de_vocab)"
   ],
   "metadata": {
    "colab": {
     "base_uri": "https://localhost:8080/"
    },
    "id": "K7V9odE3jmck",
    "outputId": "19af45b7-9066-4211-b7ff-e3586fe0c4cf",
    "pycharm": {
     "name": "#%%\n"
    }
   },
   "execution_count": 10,
   "outputs": [
    {
     "output_type": "execute_result",
     "data": {
      "text/plain": [
       "(6191, 8014)"
      ]
     },
     "metadata": {},
     "execution_count": 10
    }
   ]
  },
  {
   "cell_type": "code",
   "source": [
    "en_vocab['<unk>'], de_vocab['<unk>']"
   ],
   "metadata": {
    "colab": {
     "base_uri": "https://localhost:8080/"
    },
    "id": "7Ji-OqCejuMn",
    "outputId": "13a58ab2-edb9-4716-ff1b-ae94b8e6b450",
    "pycharm": {
     "name": "#%%\n"
    }
   },
   "execution_count": 11,
   "outputs": [
    {
     "output_type": "execute_result",
     "data": {
      "text/plain": [
       "(1, 1)"
      ]
     },
     "metadata": {},
     "execution_count": 11
    }
   ]
  },
  {
   "cell_type": "code",
   "source": [
    "print(en_vocab.get_itos()[:10])\n",
    "print(de_vocab.get_itos()[:10])"
   ],
   "metadata": {
    "colab": {
     "base_uri": "https://localhost:8080/"
    },
    "id": "C4AB8sBRjwTD",
    "outputId": "1f4dfbdc-b718-447f-98f1-608a7ffbfc6a",
    "pycharm": {
     "name": "#%%\n"
    }
   },
   "execution_count": 12,
   "outputs": [
    {
     "output_type": "stream",
     "name": "stdout",
     "text": [
      "['<pad>', '<unk>', '<sos>', '<eos>', 'a', '.', 'A', 'in', 'the', 'on']\n",
      "['<pad>', '<unk>', '<sos>', '<eos>', '.', 'Ein', 'einem', 'in', ',', 'und']\n"
     ]
    }
   ]
  },
  {
   "cell_type": "markdown",
   "source": [
    "### 1.4. 전처리 클래스"
   ],
   "metadata": {
    "id": "_NbjxKtJjzkT",
    "pycharm": {
     "name": "#%% md\n"
    }
   }
  },
  {
   "cell_type": "code",
   "source": [
    "class Language:\n",
    "    pad_token_id = 0\n",
    "    unk_token_id = 1\n",
    "    sos_token_id = 2\n",
    "    eos_token_id = 3\n",
    "\n",
    "    def __init__(self, src_tokenizer, tgt_tokenizer, src_token2id, tgt_token2id, src_id2token, tgt_id2token):\n",
    "        self.src_tokenizer = src_tokenizer\n",
    "        self.tgt_tokenizer = tgt_tokenizer\n",
    "\n",
    "        self.src_token2id = src_token2id\n",
    "        self.tgt_token2id = tgt_token2id\n",
    "\n",
    "        self.src_id2token = src_id2token\n",
    "        self.tgt_id2token = tgt_id2token\n",
    "\n",
    "    def src_encode(self, src_text):\n",
    "        source_sentence = [ self.src_token2id.get(token.text, Language.unk_token_id) for token in self.src_tokenizer.tokenizer(src_text) ]\n",
    "        return source_sentence\n",
    "    \n",
    "    def tgt_encode(self, tgt_text):\n",
    "        target_sentence = [self.tgt_token2id['<sos>']] \\\n",
    "        + [ self.tgt_token2id.get(token.text, Language.unk_token_id) for token in self.tgt_tokenizer.tokenizer(tgt_text) ] \\\n",
    "        + [ self.tgt_token2id['<eos>'] ]\n",
    "        return target_sentence\n",
    "    \n",
    "    def src_decode(self, ids):\n",
    "        sentence = list(map(lambda x: self.src_id2token[x], ids))\n",
    "        return \" \".join(sentence)\n",
    "\n",
    "    def tgt_decode(self, ids):\n",
    "        sentence = list(map(lambda x: self.tgt_id2token[x], ids))[1:-1]\n",
    "        return \" \".join(sentence)"
   ],
   "metadata": {
    "id": "99DtYQHBjx78",
    "pycharm": {
     "name": "#%%\n"
    }
   },
   "execution_count": 13,
   "outputs": []
  },
  {
   "cell_type": "markdown",
   "source": [
    "### 1.5. Dataset 구현"
   ],
   "metadata": {
    "id": "QztHbAh3j6zo",
    "pycharm": {
     "name": "#%% md\n"
    }
   }
  },
  {
   "cell_type": "code",
   "source": [
    "from torch.utils.data import Dataset, DataLoader"
   ],
   "metadata": {
    "id": "ToWqSmxBj3qS",
    "pycharm": {
     "name": "#%%\n"
    }
   },
   "execution_count": 14,
   "outputs": []
  },
  {
   "cell_type": "code",
   "source": [
    "class MultiDataset(Dataset):\n",
    "    def __init__(self, data, language):\n",
    "        self.data = data\n",
    "        self.language = language\n",
    "        self.sentences = self.preprocess()\n",
    "\n",
    "    def preprocess(self):\n",
    "        # dataset 안에 길이가 0인 문장이 존재한다. \n",
    "        sentences = [ (self.language.src_encode(de), self.language.tgt_encode(eng)) \n",
    "                      for de, eng in self.data if len(eng) > 0 and len(de) > 0]\n",
    "\n",
    "        return sentences\n",
    "\n",
    "    def src_max_len(self):\n",
    "        return max([len(src) for src, tgt in self.sentences])\n",
    "\n",
    "    def tgt_max_len(self):\n",
    "        return max([len(tgt) for src, tgt in self.sentences])\n",
    "\n",
    "    def __getitem__(self, idx):\n",
    "        return self.sentences[idx]\n",
    "\n",
    "    def __len__(self):\n",
    "        return len(self.sentences)"
   ],
   "metadata": {
    "id": "IWA5ruNLj-Nl",
    "pycharm": {
     "name": "#%%\n"
    }
   },
   "execution_count": 15,
   "outputs": []
  },
  {
   "cell_type": "code",
   "source": [
    "language = Language(de_tokenizer, en_tokenizer, de_vocab.get_stoi(), en_vocab.get_stoi(), de_vocab.get_itos(), en_vocab.get_itos())"
   ],
   "metadata": {
    "id": "rBECZN0OkAjW",
    "pycharm": {
     "name": "#%%\n"
    }
   },
   "execution_count": 16,
   "outputs": []
  },
  {
   "cell_type": "code",
   "source": [
    "train_dataset = MultiDataset(train, language)\n",
    "valid_dataset = MultiDataset(valid, language)\n",
    "test_dataset = MultiDataset(test, language)"
   ],
   "metadata": {
    "id": "RyDZwrNDkCx2",
    "pycharm": {
     "name": "#%%\n"
    }
   },
   "execution_count": null,
   "outputs": []
  },
  {
   "cell_type": "code",
   "source": [
    "# TEST\n",
    "print(train_dataset[0])\n",
    "print(valid_dataset[0])\n",
    "print(test_dataset[0])"
   ],
   "metadata": {
    "colab": {
     "base_uri": "https://localhost:8080/"
    },
    "id": "XqlmkUMNkEPl",
    "outputId": "36e9208a-4d48-4c61-d6b3-901f5b4337b9",
    "pycharm": {
     "name": "#%%\n"
    }
   },
   "execution_count": 18,
   "outputs": [
    {
     "output_type": "stream",
     "name": "stdout",
     "text": [
      "([21, 85, 257, 31, 87, 22, 94, 7, 16, 112, 7910, 3209, 4], [2, 19, 25, 15, 1169, 808, 17, 57, 84, 336, 1339, 5, 3])\n",
      "([14, 38, 24, 243, 2744, 1, 11, 20, 892], [2, 6, 39, 13, 36, 17, 1667, 2541, 342, 4, 282, 3])\n",
      "([5, 12, 10, 6, 178, 108, 8, 16, 78, 1, 4], [2, 6, 12, 7, 28, 91, 68, 2670, 20, 122, 5, 3])\n"
     ]
    }
   ]
  },
  {
   "cell_type": "markdown",
   "source": [
    "### 1.6. DataLoader 구성\n"
   ],
   "metadata": {
    "id": "NjG3OYUqkKJo",
    "pycharm": {
     "name": "#%% md\n"
    }
   }
  },
  {
   "cell_type": "markdown",
   "source": [
    "#### collate_fn\n",
    "\n",
    "하나의 배치안에 존재하는 sequence의 길이를 pad token을 이용하여 맞춰준다."
   ],
   "metadata": {
    "id": "09q_jg9zkM_Z",
    "pycharm": {
     "name": "#%% md\n"
    }
   }
  },
  {
   "cell_type": "code",
   "source": [
    "import torch\n",
    "from torch.nn.utils.rnn import pad_sequence"
   ],
   "metadata": {
    "id": "1adf8LmgkGhO",
    "pycharm": {
     "name": "#%%\n"
    }
   },
   "execution_count": 19,
   "outputs": []
  },
  {
   "cell_type": "code",
   "source": [
    "def collate_fn(batch_samples):\n",
    "    pad_token_id = Language.pad_token_id\n",
    "\n",
    "    src_sentences = pad_sequence([torch.tensor(src).long() for src, _ in batch_samples], batch_first=True, padding_value=pad_token_id)\n",
    "    tgt_sentences = pad_sequence([torch.tensor(tgt).long() for _, tgt in batch_samples], batch_first=True, padding_value=pad_token_id)\n",
    "\n",
    "    return src_sentences, tgt_sentences"
   ],
   "metadata": {
    "id": "WASduQT9kX4j",
    "pycharm": {
     "name": "#%%\n"
    }
   },
   "execution_count": 20,
   "outputs": []
  },
  {
   "cell_type": "markdown",
   "source": [
    "#### batch_sampler\n",
    "\n",
    "비슷한 길이의 sequence가 하나의 배치로 구성될 있도록 index를 반환해준다."
   ],
   "metadata": {
    "id": "RNnbqcp0kcit",
    "pycharm": {
     "name": "#%% md\n"
    }
   }
  },
  {
   "cell_type": "code",
   "source": [
    "import random"
   ],
   "metadata": {
    "id": "b6yK3ictkZdK",
    "pycharm": {
     "name": "#%%\n"
    }
   },
   "execution_count": 21,
   "outputs": []
  },
  {
   "cell_type": "code",
   "source": [
    "def batch_sampling(sequence_lengths, batch_size):\n",
    "    '''\n",
    "    sequence_length: (source 길이, target 길이)가 담긴 리스트이다.\n",
    "    batch_size: batch 크기\n",
    "    '''\n",
    "\n",
    "    seq_lens = [(i, seq_len, tgt_len) for i,(seq_len, tgt_len) in enumerate(sequence_lengths)]\n",
    "    seq_lens = sorted(seq_lens, key=lambda x: x[1])\n",
    "    seq_lens = [sample[0] for sample in seq_lens]\n",
    "    sample_indices = [ seq_lens[i:i+batch_size] for i in range(0,len(seq_lens), batch_size)]\n",
    "\n",
    "    random.shuffle(sample_indices) # 모델이 길이에 편향되지 않도록 섞는다.\n",
    "\n",
    "    return sample_indices"
   ],
   "metadata": {
    "id": "GvEj3-miki9E",
    "pycharm": {
     "name": "#%%\n"
    }
   },
   "execution_count": 22,
   "outputs": []
  },
  {
   "cell_type": "markdown",
   "source": [
    "#### DataLoader"
   ],
   "metadata": {
    "id": "OjJz2qbrknQM",
    "pycharm": {
     "name": "#%% md\n"
    }
   }
  },
  {
   "cell_type": "code",
   "source": [
    "def make_dataloader(dataset, batch_size):\n",
    "    sequence_lengths = list(map(lambda x: (len(x[0]), len(x[1])), dataset))\n",
    "    batch_sampler = batch_sampling(sequence_lengths, batch_size)\n",
    "\n",
    "    return DataLoader(dataset, collate_fn=collate_fn, batch_sampler=batch_sampler)"
   ],
   "metadata": {
    "id": "ZeKCRv7nkkXM",
    "pycharm": {
     "name": "#%%\n"
    }
   },
   "execution_count": 23,
   "outputs": []
  },
  {
   "cell_type": "code",
   "source": [
    "### TEST\n",
    "train_loader = make_dataloader(train_dataset, 5)\n",
    "\n",
    "for src, tgt in train_loader:\n",
    "    print(src)\n",
    "    print(tgt)\n",
    "    break"
   ],
   "metadata": {
    "colab": {
     "base_uri": "https://localhost:8080/"
    },
    "id": "NQhZDLlokpgE",
    "outputId": "262b1fe4-72c9-4092-8210-5a30f62cb3a6",
    "pycharm": {
     "name": "#%%\n"
    }
   },
   "execution_count": 24,
   "outputs": [
    {
     "output_type": "stream",
     "name": "stdout",
     "text": [
      "tensor([[   5,   12,   10,    6,    1,   30,   22,  120,    7,   13,   38,   24,\n",
      "           11,   26,  324, 2063,    1,    7,   16,  112,   16,  827,    4],\n",
      "        [  14,   17,   11,    6,  395,    7,    6,  178,  264,   39,   20,  217,\n",
      "            9,  110,   24,   13,   17,    7,    6,   47,  122,  926,    4],\n",
      "        [   5,   12,   10,  142,    8,   16,   20,   92,  140,    7,    6,   10,\n",
      "          416,   10,  368,  976,   10,   26,  146,  104,  516,   39,    4],\n",
      "        [   5,   12,    8,   16,   10,   26,   90,   19,   36,   73,   64,    8,\n",
      "          284,   15,  445, 2301,    7,    6, 1048,  103,   25,  604,    4],\n",
      "        [   5,   12,   10,    1,    9,  558,  266,  149,   58,   18, 6057,    8,\n",
      "           37,   18,  844,   11,   16,    1, 1502,  152,    1,   32,    4]])\n",
      "tensor([[   2,    6,   12,   21,    4,  101,  466,   15,   10,   37,    7,    8,\n",
      "          101,  765,    4,   39,   13, 5744,    9,   70, 1487,   84,    8, 2784,\n",
      "            5,    3,    0,    0,    0,    0],\n",
      "        [   2,    6,   16,    7,   28,   91,  503,   10,   46,    4,  202,   11,\n",
      "          194, 4499,   48,    4,   16,    7,    4,   30,  226,   43,   23,    9,\n",
      "            4,   90,    5,    3,    0,    0],\n",
      "        [   2,  111,   14,  150,   46,   35,  826,   41,   57,    7,    4,  339,\n",
      "           43,  485,  462,    5,    3,    0,    0,    0,    0,    0,    0,    0,\n",
      "            0,    0,    0,    0,    0,    0],\n",
      "        [   2,    6,   12,   81,    4,  160,   41,    8,   40,   10,  487,    4,\n",
      "           62, 2323,    7,    4,  279,   98,  146,    5,    3,    0,    0,    0,\n",
      "            0,    0,    0,    0,    0,    0],\n",
      "        [   2,    6,  408,   15,  584,   11, 4400,   12, 2406,   63,    4,  555,\n",
      "          106,  781,   29,    4,  813,   96,    9,    8, 1095, 1202,   13,    8,\n",
      "         1345,   18,    8,  555,    5,    3]])\n"
     ]
    }
   ]
  },
  {
   "cell_type": "markdown",
   "source": [
    "## 2. Transformer 구현하기"
   ],
   "metadata": {
    "id": "79prRvSrkviI",
    "pycharm": {
     "name": "#%% md\n"
    }
   }
  },
  {
   "cell_type": "code",
   "source": [
    "import torch\n",
    "import torch.nn as nn\n",
    "import torch.optim as optim\n",
    "import torch.nn.functional as F"
   ],
   "metadata": {
    "id": "MDaToOMMlH-8",
    "pycharm": {
     "name": "#%%\n"
    }
   },
   "execution_count": 25,
   "outputs": []
  },
  {
   "cell_type": "markdown",
   "source": [
    "### 2.1. Scaled Dot-Product Attention 구현\n",
    "\n",
    "$A(Q,K,V) = softmax(\\frac{QK^T}{\\sqrt{d_k}})V$\n",
    "\n",
    "Attention은 3가지를 입력 요소로 받는다.\n",
    "* Q: queries - shape: (batch_size, n_heads, seq_len, head_dim)\n",
    "* K: keys - shape: (batch_size, n_heads, seq_len, head_dim)\n",
    "* V: values - shape: (batch_size, n_heads, seq_len, head_dim)\n",
    "\n",
    "masking 처리를 위해 mask를 사용하기도 한다.\n",
    "* mask: padding을 처리하거나 masked multi-head attention을 위해 다음 요소를 masking처리할 때 사용한다.\n",
    "\n",
    "Scaled Dot-Product Attention의 결과로 2가지를 반환한다.\n",
    "* $softmax(\\frac{QK^T}{\\sqrt{d_k}})V$ 계산 결과\n",
    "* attention distribution"
   ],
   "metadata": {
    "id": "B_eEMPx4kyGN",
    "pycharm": {
     "name": "#%% md\n"
    }
   }
  },
  {
   "cell_type": "code",
   "source": [
    "class ScaledDotProductAttention(nn.Module):\n",
    "    def __init__(self):\n",
    "        super(ScaledDotProductAttention, self).__init__()\n",
    "\n",
    "    def forward(self, Q, K, V, mask=None):\n",
    "        d_k = torch.tensor(Q.shape[-1])\n",
    "        QK_T = torch.matmul(Q, K.transpose(-1,-2)) # (batch_size, n_heads, seq_len, seq_len)\n",
    "        scaled = QK_T / torch.sqrt(d_k)\n",
    "        if mask is not None:\n",
    "            scaled.masked_fill_(mask==0, -1e14) # 0인 부분 masking 처리, 아주 작은 값을 주어 attention score를 작게 만든다.\n",
    "        attention_distribution = F.softmax(scaled, dim=-1) # (batch_size, n_heads, seq_len, seq_len)\n",
    "        output = torch.matmul(attention_distribution, V) # (batch_size, n_heads, seq_len, hidden_dim)\n",
    "\n",
    "        return output, attention_distribution"
   ],
   "metadata": {
    "id": "Jax1mEOKkrPQ",
    "pycharm": {
     "name": "#%%\n"
    }
   },
   "execution_count": 26,
   "outputs": []
  },
  {
   "cell_type": "markdown",
   "source": [
    "### 2.2. Multi-Head Attention\n",
    "\n",
    "* 하이퍼 파라미터\n",
    "    * n_heads: head 수\n",
    "    * hidden_dim = input, query, key, value dimension\n",
    "        * $d_{model}$, $d_k$. $d_v$로 구분하지 않고 모두 하나로 맞춰주었다.\n",
    "    * dropout: DropOut 비율\n",
    "\n",
    "* 입력 요소\n",
    "    * Q: queries - shape: (batch_size, seq_len, input_dim)\n",
    "    * K: Keys - shape: (batch_size, seq_len, input_dim)\n",
    "    * V: values - shape: (batch_size, seq_len, input_dim)\n",
    "\n",
    "masking 처리를 위해 mask를 사용하기도 한다.\n",
    "* mask: padding을 처리하거나 masked multi-head attention을 위해 다음 요소를 masking처리할 때 사용한다.\n",
    "\n",
    "Multi-Head Attention의 결과로 2가지를 반환한다.\n",
    "* $softmax(\\frac{QK^T}{\\sqrt{d_k}})V$ 계산 결과\n",
    "* attention distribution"
   ],
   "metadata": {
    "id": "H_46S6znmZ5B",
    "pycharm": {
     "name": "#%% md\n"
    }
   }
  },
  {
   "cell_type": "code",
   "source": [
    "class MultiHeadAttention(nn.Module):\n",
    "    def __init__(self, n_heads, hidden_dim, dropout=0.5):\n",
    "        super(MultiHeadAttention, self).__init__()\n",
    "\n",
    "        assert hidden_dim % n_heads == 0\n",
    "\n",
    "        self.n_heads = n_heads\n",
    "        self.head_dim = hidden_dim // n_heads\n",
    "\n",
    "        self.W_Q = nn.Linear(hidden_dim, hidden_dim)\n",
    "        self.W_K = nn.Linear(hidden_dim, hidden_dim)\n",
    "        self.W_V = nn.Linear(hidden_dim, hidden_dim)\n",
    "\n",
    "        self.attention = ScaledDotProductAttention()\n",
    "\n",
    "        self.W_O = nn.Linear(hidden_dim, hidden_dim)\n",
    "\n",
    "        self.dropout = nn.Dropout(dropout)\n",
    "\n",
    "    def forward(self, Q, K, V, mask=None):\n",
    "\n",
    "        batch_size = Q.shape[0]\n",
    "\n",
    "        Q = self.W_Q(Q) # (batch_size, seq_len, hidden_dim)\n",
    "        K = self.W_K(K) # (batch_size, seq_len, hidden_dim)\n",
    "        V = self.W_V(V) # (batch_size, seq_len, hidden_dim)\n",
    "\n",
    "        # Multi-Head\n",
    "        Q = Q.view(batch_size, -1, self.n_heads, self.head_dim).transpose(1,2) # (batch_size, n_heads, seq_len, head_dim)\n",
    "        K = K.view(batch_size, -1, self.n_heads, self.head_dim).transpose(1,2) # (batch_size, n_heads, seq_len, head_dim)\n",
    "        V = V.view(batch_size, -1, self.n_heads, self.head_dim).transpose(1,2) # (batch_size, n_heads, seq_len, head_dim)\n",
    "\n",
    "        output, score = self.attention(Q,K,V, mask)\n",
    "\n",
    "        output = self.dropout(output)\n",
    "\n",
    "        output = output.transpose(1,2).contiguous().view(batch_size, -1, self.n_heads * self.head_dim) # (batch_size, seq_len, hidden_dim)\n",
    "        output = self.W_O(output) # (batch_size, seq_len, input_dim)\n",
    "\n",
    "        return output, score"
   ],
   "metadata": {
    "id": "fNjdQsO8mZDy",
    "pycharm": {
     "name": "#%%\n"
    }
   },
   "execution_count": 27,
   "outputs": []
  },
  {
   "cell_type": "markdown",
   "source": [
    "### 2.3. Position-Wise FeedForward Network\n",
    "\n",
    "* 하이퍼 파라미터\n",
    "    * hidden_dim\n",
    "    * ff_dim: 피드포워드 네트워크 은닉층 dimension\n",
    "    * dropout: DropOut 비율"
   ],
   "metadata": {
    "id": "-3RHD98ZqNzB",
    "pycharm": {
     "name": "#%% md\n"
    }
   }
  },
  {
   "cell_type": "code",
   "source": [
    "class PositionWiseFFNN(nn.Module):\n",
    "    def __init__(self, hidden_dim, ff_dim, dropout=0.5):\n",
    "        super(PositionWiseFFNN, self).__init__()\n",
    "\n",
    "        self.layer1 = nn.Linear(hidden_dim, ff_dim)\n",
    "        self.relu = nn.ReLU()\n",
    "        self.layer2 = nn.Linear(ff_dim, hidden_dim)\n",
    "\n",
    "        self.dropout = nn.Dropout(dropout)\n",
    "\n",
    "    def forward(self, x):\n",
    "        x = self.layer1(x)\n",
    "        x = self.relu(x)\n",
    "        x = self.dropout(x)\n",
    "        x = self.layer2(x)\n",
    "\n",
    "        return x"
   ],
   "metadata": {
    "id": "5GLMsJIMqMRO",
    "pycharm": {
     "name": "#%%\n"
    }
   },
   "execution_count": 28,
   "outputs": []
  },
  {
   "cell_type": "markdown",
   "source": [
    "### 2.4. Postional Encoding\n",
    "\n"
   ],
   "metadata": {
    "id": "OAaNE9urrh0-",
    "pycharm": {
     "name": "#%% md\n"
    }
   }
  },
  {
   "cell_type": "code",
   "source": [
    "class PositionalEncoding(nn.Module):\n",
    "    def __init__(self, max_len, hidden_dim, device):\n",
    "        super(PositionalEncoding, self).__init__()\n",
    "        self.encoding = torch.zeros(max_len, hidden_dim).to(device)\n",
    "        pos = torch.arange(max_len).view(-1,1)\n",
    "        index = torch.arange(0, hidden_dim, step=2)\n",
    "\n",
    "        self.encoding[:,::2] = torch.sin(pos/10000**(index/hidden_dim)).to(device)\n",
    "        self.encoding[:,1::2] = torch.cos(pos/10000**(index/hidden_dim)).to(device)\n",
    "\n",
    "    def forward(self, x):\n",
    "        seq_len = x.shape[1] # (batch_size, seq_len, hidden_dim)\n",
    "        return x + self.encoding[:seq_len,:]"
   ],
   "metadata": {
    "id": "HXKNCs68rhM7",
    "pycharm": {
     "name": "#%%\n"
    }
   },
   "execution_count": 29,
   "outputs": []
  },
  {
   "cell_type": "markdown",
   "source": [
    "### 2.5. Encoder"
   ],
   "metadata": {
    "id": "sjPoL0HMsN0w",
    "pycharm": {
     "name": "#%% md\n"
    }
   }
  },
  {
   "cell_type": "markdown",
   "source": [
    "#### EncoderBlock\n",
    "\n",
    "* 하이퍼 파라미터\n",
    "    * n_heads: head 수\n",
    "    * hidden_dim = input, query, key, value dimension\n",
    "    * ff_dim: 피드포워드 네트워크 은닉층 dimension\n",
    "    * dropout: DropOut 비율\n",
    "\n",
    "* 입력 요소\n",
    "    * src: (batch_size, seq_len, hidden_dim)\n",
    "    * src_mask: source mask (padding 처리 용도)\n",
    "\n",
    "* sub-layer\n",
    "    * Multi-Head Attention\n",
    "    * Position-Wise FeedForward Neural Network"
   ],
   "metadata": {
    "id": "U_8avF_msP-0",
    "pycharm": {
     "name": "#%% md\n"
    }
   }
  },
  {
   "cell_type": "code",
   "source": [
    "class EncoderBlock(nn.Module):\n",
    "    def __init__(self, n_heads, hidden_dim, ff_dim, dropout=0.5):\n",
    "        super(EncoderBlock, self).__init__()\n",
    "\n",
    "        self.attention = MultiHeadAttention(n_heads, hidden_dim, dropout)\n",
    "        self.layer_norm1 = nn.LayerNorm(hidden_dim)\n",
    "\n",
    "        self.ffnn = PositionWiseFFNN(hidden_dim, ff_dim, dropout)\n",
    "        self.layer_norm2 = nn.LayerNorm(hidden_dim)\n",
    "\n",
    "        self.dropout = nn.Dropout(dropout)\n",
    "\n",
    "    def forward(self, src, src_mask):\n",
    "        src_, score = self.attention(src, src, src, src_mask)\n",
    "        src = self.layer_norm1(src + self.dropout(src_))\n",
    "\n",
    "        src_ = self.ffnn(src)\n",
    "        src = self.layer_norm2(src + self.dropout(src_))\n",
    "\n",
    "        return src, score"
   ],
   "metadata": {
    "id": "hcvE-OWesKqI",
    "pycharm": {
     "name": "#%%\n"
    }
   },
   "execution_count": 31,
   "outputs": []
  },
  {
   "cell_type": "markdown",
   "source": [
    "#### Encoder\n",
    "\n",
    "* 하이퍼 파라미터\n",
    "    * n_layers: Encoder Block 수\n",
    "    * src_vocab_size: source vocab size\n",
    "    * max_len: maximun sequence length\n",
    "    * n_heads: head 수\n",
    "    * hidden_dim = input, query, key, value dimension\n",
    "    * ff_dim: 피드포워드 네트워크 은닉층 dimension\n",
    "    * dropout: DropOut 비율"
   ],
   "metadata": {
    "id": "x54wJ6qLus3b",
    "pycharm": {
     "name": "#%% md\n"
    }
   }
  },
  {
   "cell_type": "code",
   "source": [
    "class Encoder(nn.Module):\n",
    "    def __init__(self, n_layers, src_vocab_size, max_len, n_heads, hidden_dim, ff_dim, device,dropout=0.5):\n",
    "        super(Encoder, self).__init__()\n",
    "\n",
    "        self.embedding = nn.Embedding(src_vocab_size, hidden_dim)\n",
    "        self.encoding = PositionalEncoding(max_len, hidden_dim, device)\n",
    "\n",
    "        self.layers = nn.ModuleList([EncoderBlock(n_heads, hidden_dim, ff_dim, dropout) for _ in range(n_layers)])\n",
    "        self.dropout = nn.Dropout(dropout)\n",
    "\n",
    "    def forward(self, src, src_mask):\n",
    "        src = self.embedding(src) # (batch_size, seq_len, hidden_dim)\n",
    "        src = self.encoding(src) # (batch_size, seq_len, hidden_dim)\n",
    "\n",
    "        for encoder_block in self.layers:\n",
    "            src, score = encoder_block(src, src_mask)\n",
    "\n",
    "        return src, score"
   ],
   "metadata": {
    "id": "mv9TwI57u6RL",
    "pycharm": {
     "name": "#%%\n"
    }
   },
   "execution_count": 32,
   "outputs": []
  },
  {
   "cell_type": "markdown",
   "source": [
    "### 2.6. Decoder\n",
    "\n"
   ],
   "metadata": {
    "id": "FpwQ2guty1RA",
    "pycharm": {
     "name": "#%% md\n"
    }
   }
  },
  {
   "cell_type": "markdown",
   "source": [
    "#### Decoder Block\n",
    "\n",
    "* 하이퍼 파라미터\n",
    "    * n_heads: head 수\n",
    "    * hidden_dim = input, query, key, value dimension\n",
    "    * ff_dim: 피드포워드 네트워크 은닉층 dimension\n",
    "    * dropout: DropOut 비율\n",
    "\n",
    "* 입력 요소\n",
    "    * src: (batch_size, seq_len, hidden_dim)\n",
    "    * tgt: (batch_size, seq_len, hidden_dim)\n",
    "    * src_mask: source mask (padding 처리 용도)\n",
    "    * tgt_mask: target mask (padding, 다음 단어 처리 용도)\n",
    "\n",
    "* sub-layer\n",
    "    * Masked Multi-Head Attention\n",
    "    * Encoder-Decoder Attention\n",
    "    * Position-Wise FeedForward Neural Network"
   ],
   "metadata": {
    "id": "XJuOELUVy6qP",
    "pycharm": {
     "name": "#%% md\n"
    }
   }
  },
  {
   "cell_type": "code",
   "source": [
    "class DecoderBlock(nn.Module):\n",
    "    def __init__(self, n_heads, hidden_dim, ff_dim, dropout=0.5):\n",
    "        super(DecoderBlock, self).__init__()\n",
    "\n",
    "        self.masked_attention = MultiHeadAttention(n_heads, hidden_dim, dropout)\n",
    "        self.layer_norm1 = nn.LayerNorm(hidden_dim)\n",
    "\n",
    "        self.attention = MultiHeadAttention(n_heads, hidden_dim, dropout)\n",
    "        self.layer_norm2 = nn.LayerNorm(hidden_dim)\n",
    "\n",
    "        self.ffnn = PositionWiseFFNN(hidden_dim, ff_dim)\n",
    "        self.layer_norm3 = nn.LayerNorm(hidden_dim)\n",
    "\n",
    "        self.dropout = nn.Dropout(dropout)\n",
    "\n",
    "    def forward(self, src, tgt, src_mask, tgt_mask):\n",
    "\n",
    "        tgt_, _ = self.masked_attention(tgt, tgt, tgt, tgt_mask)\n",
    "        tgt = self.layer_norm1(tgt + self.dropout(tgt_))\n",
    "\n",
    "        tgt_, score = self.attention(tgt, src, src, src_mask)\n",
    "        tgt = self.layer_norm2(tgt + self.dropout(tgt_))\n",
    "\n",
    "        tgt_ = self.ffnn(tgt)\n",
    "        tgt = self.layer_norm3(tgt + self.dropout(tgt_))\n",
    "\n",
    "        return tgt, score"
   ],
   "metadata": {
    "id": "23UKTppWzg6q",
    "pycharm": {
     "name": "#%%\n"
    }
   },
   "execution_count": 33,
   "outputs": []
  },
  {
   "cell_type": "markdown",
   "source": [
    "#### Decoder\n",
    "\n",
    "* 하이퍼 파라미터\n",
    "    * n_layers: Decoder Block 수\n",
    "    * tgt_vocab_size: target vocab size\n",
    "    * max_len: maximun sequence length\n",
    "    * n_heads: head 수\n",
    "    * hidden_dim = input, query, key, value dimension\n",
    "    * ff_dim: 피드포워드 네트워크 은닉층 dimension\n",
    "    * dropout: DropOut 비율"
   ],
   "metadata": {
    "id": "KjBUKkgZ1o5J",
    "pycharm": {
     "name": "#%% md\n"
    }
   }
  },
  {
   "cell_type": "code",
   "source": [
    "class Decoder(nn.Module):\n",
    "    def __init__(self, n_layers, tgt_vocab_size, max_len, n_heads, hidden_dim, ff_dim, device, dropout=0.5):\n",
    "        super(Decoder, self).__init__()\n",
    "\n",
    "        self.embedding = nn.Embedding(tgt_vocab_size, hidden_dim)\n",
    "        self.encoding = PositionalEncoding(max_len, hidden_dim, device)\n",
    "\n",
    "        self.layers = nn.ModuleList([ DecoderBlock(n_heads, hidden_dim, ff_dim, dropout) for _ in range(n_layers)])\n",
    "\n",
    "        self.output = nn.Linear(hidden_dim, tgt_vocab_size)\n",
    "\n",
    "    def forward(self, tgt, src, tgt_mask, src_mask):\n",
    "        tgt = self.embedding(tgt) # (batch_size, seq_len, hidden_dim)\n",
    "        tgt = self.encoding(tgt)\n",
    "\n",
    "        for decoder_block in self.layers:\n",
    "            tgt, score = decoder_block(src, tgt, src_mask, tgt_mask)\n",
    "\n",
    "        output = self.output(tgt)\n",
    "\n",
    "        return output, score"
   ],
   "metadata": {
    "id": "lvzowKds1oFh",
    "pycharm": {
     "name": "#%%\n"
    }
   },
   "execution_count": 34,
   "outputs": []
  },
  {
   "cell_type": "markdown",
   "source": [
    "### 2.7. Transformer\n",
    "\n",
    "* 하이퍼 파라미터\n",
    "    * encoder_layers: Encoder Block 수\n",
    "    * src_vocab_size: target vocab size\n",
    "    * src_max_len: maximun sequence length\n",
    "\n",
    "    * decoder_layers: Decoder Block 수\n",
    "    * tgt_vocab_size: target vocab size\n",
    "    * tgt_max_len: maximun sequence length\n",
    "\n",
    "    * src_pad_idx: source padding index\n",
    "    * tgt_pad_idx: target padding index\n",
    "\n",
    "    * n_heads: head 수\n",
    "    * hidden_dim = input, query, key, value dimension\n",
    "    * ff_dim: 피드포워드 네트워크 은닉층 dimension\n",
    "    * dropout: DropOut 비율"
   ],
   "metadata": {
    "id": "VzmT2Vhn3RGM",
    "pycharm": {
     "name": "#%% md\n"
    }
   }
  },
  {
   "cell_type": "code",
   "source": [
    "class Transformer(nn.Module):\n",
    "    def __init__(self, encoder_layers, src_vocab_size, src_max_len,\n",
    "                       decoder_layers, tgt_vocab_size, tgt_max_len,\n",
    "                       src_pad_idx, tgt_pad_idx,\n",
    "                       n_heads, hidden_dim, ff_dim, device, dropout=0.5\n",
    "                 ):\n",
    "        \n",
    "        super(Transformer, self).__init__()\n",
    "        self.src_pad_idx = src_pad_idx\n",
    "        self.tgt_pad_idx = tgt_pad_idx\n",
    "        self.device = device\n",
    "        self.encoder = Encoder(encoder_layers, src_vocab_size, src_max_len, n_heads, hidden_dim, ff_dim, device, dropout)\n",
    "        self.decoder = Decoder(decoder_layers, tgt_vocab_size, tgt_max_len, n_heads, hidden_dim, ff_dim, device ,dropout)\n",
    "\n",
    "    def make_src_mask(self, src):\n",
    "        src_mask = (src != self.src_pad_idx).unsqueeze(1).unsqueeze(2)\n",
    "\n",
    "        return src_mask\n",
    "\n",
    "    def make_tgt_mask(self, tgt):\n",
    "        tgt_mask1 = (tgt != self.tgt_pad_idx).unsqueeze(1).unsqueeze(2)\n",
    "\n",
    "        tgt_len = tgt.size()[1]\n",
    "        tgt_mask2 = torch.tril(torch.ones((tgt_len, tgt_len),device=self.device)).bool()\n",
    "\n",
    "        tgt_mask = tgt_mask1 & tgt_mask2 \n",
    "\n",
    "        return tgt_mask\n",
    "\n",
    "    def forward(self, src, tgt):\n",
    "        src_mask = self.make_src_mask(src)\n",
    "        tgt_mask = self.make_tgt_mask(tgt)\n",
    "\n",
    "        enc_src, _ = self.encoder(src, src_mask)\n",
    "\n",
    "        output, attention = self.decoder(tgt, enc_src, tgt_mask, src_mask)\n",
    "\n",
    "        return output, attention"
   ],
   "metadata": {
    "id": "imebIC4G3voP",
    "pycharm": {
     "name": "#%%\n"
    }
   },
   "execution_count": 35,
   "outputs": []
  },
  {
   "cell_type": "markdown",
   "source": [
    "## 3. 모델 학습"
   ],
   "metadata": {
    "id": "cMYnxyy7-1bV",
    "pycharm": {
     "name": "#%% md\n"
    }
   }
  },
  {
   "cell_type": "markdown",
   "source": [
    "### 3.1. Model Configure 클래스"
   ],
   "metadata": {
    "id": "JoqT6PMeZtaV",
    "pycharm": {
     "name": "#%% md\n"
    }
   }
  },
  {
   "cell_type": "code",
   "source": [
    "class Config:\n",
    "    src_max_len = max(train_dataset.src_max_len(), valid_dataset.src_max_len(), test_dataset.src_max_len())\n",
    "    tgt_max_len = max(train_dataset.tgt_max_len(), valid_dataset.tgt_max_len(), test_dataset.tgt_max_len())\n",
    "\n",
    "    encoder_layers = 3\n",
    "    decoder_layers = 3\n",
    "\n",
    "    src_vocab_size = len(de_vocab)\n",
    "    tgt_vocab_size = len(en_vocab)\n",
    "\n",
    "    pad_token_id = Language.pad_token_id\n",
    "\n",
    "    num_heads = 8\n",
    "    hidden_dim = 256\n",
    "    ff_dim = 512\n",
    "\n",
    "    dropout = 0.1\n",
    "\n",
    "    def __getitem__(self, name):\n",
    "        assert hasattr(self, name), \"해당 속성이 존재하지 않습니다.\"\n",
    "        return getattr(self, name)"
   ],
   "metadata": {
    "id": "1j1Me8W3XX8h",
    "pycharm": {
     "name": "#%%\n"
    }
   },
   "execution_count": 36,
   "outputs": []
  },
  {
   "cell_type": "code",
   "source": [
    "config = Config()\n",
    "\n",
    "config['tgt_max_len']"
   ],
   "metadata": {
    "colab": {
     "base_uri": "https://localhost:8080/"
    },
    "id": "UvLDzOMMYUpd",
    "outputId": "69d30cfc-e5d1-46c1-e911-2ccacfcf8f4a",
    "pycharm": {
     "name": "#%%\n"
    }
   },
   "execution_count": 37,
   "outputs": [
    {
     "output_type": "execute_result",
     "data": {
      "text/plain": [
       "43"
      ]
     },
     "metadata": {},
     "execution_count": 37
    }
   ]
  },
  {
   "cell_type": "markdown",
   "source": [
    "### 3.2. Train"
   ],
   "metadata": {
    "id": "fYbJPIpcZskh",
    "pycharm": {
     "name": "#%% md\n"
    }
   }
  },
  {
   "cell_type": "code",
   "source": [
    "from tqdm.notebook import tqdm"
   ],
   "metadata": {
    "id": "DOS3-b7sZ2Fh",
    "pycharm": {
     "name": "#%%\n"
    }
   },
   "execution_count": 38,
   "outputs": []
  },
  {
   "cell_type": "code",
   "source": [
    "def train(model, optimizer, dataloader, pad_index, device):\n",
    "    model.to(device)\n",
    "\n",
    "    bar = tqdm(dataloader, desc='train')\n",
    "    total_loss = 0.\n",
    "\n",
    "    criterion = nn.CrossEntropyLoss(ignore_index=pad_index)\n",
    "\n",
    "    for i, (src, tgt) in enumerate(bar, start=1):\n",
    "        src = src.to(device)\n",
    "        tgt = tgt.to(device)\n",
    "        out, score = model(src, tgt)\n",
    "        loss = criterion(out[:,:-1,:].transpose(1,2), tgt[:,1:])\n",
    "\n",
    "        optimizer.zero_grad()\n",
    "        loss.backward()\n",
    "        optimizer.step()\n",
    "\n",
    "        total_loss += loss.item()\n",
    "        current_loss = total_loss / i\n",
    "        bar.set_description(f\"Train-loss:{current_loss:.4f}\")"
   ],
   "metadata": {
    "id": "PXt_KP4xZlzA",
    "pycharm": {
     "name": "#%%\n"
    }
   },
   "execution_count": 39,
   "outputs": []
  },
  {
   "cell_type": "markdown",
   "source": [
    "### 3.3. Evaluate"
   ],
   "metadata": {
    "id": "G2qpwCbRaIgG",
    "pycharm": {
     "name": "#%% md\n"
    }
   }
  },
  {
   "cell_type": "code",
   "source": [
    "def evaluate(model, dataloader, pad_index, device, mode):\n",
    "    model.to(device)\n",
    "\n",
    "    bar = tqdm(dataloader, desc=mode)\n",
    "    total_loss = 0.\n",
    "    loss_avg = 0.\n",
    "\n",
    "    criterion = nn.CrossEntropyLoss(ignore_index=pad_index)\n",
    "\n",
    "    for i, (src, tgt) in enumerate(bar, start=1):\n",
    "        src = src.to(device)\n",
    "        tgt = tgt.to(device)\n",
    "        out, score = model(src, tgt)\n",
    "        loss = criterion(out[:,:-1,:].transpose(1,2), tgt[:,1:])\n",
    "\n",
    "        total_loss += loss.item()\n",
    "        current_loss = total_loss / i\n",
    "        loss_avg = current_loss\n",
    "        bar.set_description(f\"{mode}-loss:{current_loss:.4f}\")\n",
    "    \n",
    "    return loss_avg"
   ],
   "metadata": {
    "id": "jrA9EF22aNoJ",
    "pycharm": {
     "name": "#%%\n"
    }
   },
   "execution_count": 40,
   "outputs": []
  },
  {
   "cell_type": "markdown",
   "source": [
    "### 3.4. 학습"
   ],
   "metadata": {
    "id": "yNnpyTF9aYAs",
    "pycharm": {
     "name": "#%% md\n"
    }
   }
  },
  {
   "cell_type": "code",
   "source": [
    "device = torch.device('cuda' if torch.cuda.is_available() else 'cpu')\n",
    "model = Transformer(config['encoder_layers'], config['src_vocab_size'], config['src_max_len'], config['decoder_layers'], config['tgt_vocab_size'], config['tgt_max_len'],\n",
    "                    config['pad_token_id'], config['pad_token_id'], config['num_heads'],config['hidden_dim'], config['ff_dim'], device, config['dropout'])\n",
    "\n",
    "optimizer = optim.Adam(model.parameters())"
   ],
   "metadata": {
    "id": "s5o-pToW9JO-",
    "pycharm": {
     "name": "#%%\n"
    }
   },
   "execution_count": 41,
   "outputs": []
  },
  {
   "cell_type": "code",
   "source": [
    "batch_size = 128\n",
    "num_epoch = 7\n",
    "\n",
    "train_loader = make_dataloader(train_dataset, batch_size)\n",
    "valid_loader = make_dataloader(valid_dataset, batch_size)\n",
    "\n",
    "for epoch in range(num_epoch):\n",
    "    train(model, optimizer, train_loader,Language.pad_token_id, device)\n",
    "    val_loss = evaluate(model, valid_loader, Language.pad_token_id, device, 'valid')\n",
    "    print(\"=\"*60)\n",
    "    print(f\"END OF EPOCH:{epoch+1} | VALID LOSS: {val_loss:.4f}\")\n",
    "    print(\"=\"*60)"
   ],
   "metadata": {
    "colab": {
     "base_uri": "https://localhost:8080/",
     "height": 830,
     "referenced_widgets": [
      "2d30384986d841b9b42a896aa84561f4",
      "64a3033a58e04875a53ea91f2b72d3e5",
      "b81928c5f2534d91aea4df52760144c1",
      "17d63999ebea4e3bb7b397b0f25873ba",
      "abff97ce4ad74c96bf8da27d4296f94f",
      "15dd80228adb4c339e9e9b690b948fb9",
      "19a658548d834abeb208d08b9d72a929",
      "60e1be708bb24cd1a593b1450aceaa25",
      "8df3a96c10004fd9a4c06ecd440bfc57",
      "b16fe5af22a34bd2a8c958e2b4ef91d3",
      "615c9e945b0741f8bb4b2e9412719c23",
      "13068bc955204e7d9a922dedf8053be5",
      "310165b75ea147e79e4d0db2779c85b7",
      "2f873d45023b472cb452409f77914d77",
      "99a4eb712d4a483d8aef82476803fd7d",
      "5be0ee48b0494f68acad8f979470cf82",
      "aaee638e7f934dd08fd82bf181579fa1",
      "5cbde7641b6844b0bb4166d3f4e9bc34",
      "f8378a4a3c8f48ce81429d6cada8930f",
      "fdc7bd2a10ee4da39adf6a30824a475c",
      "958bc97e035e4a2ca904233880a4e054",
      "15a6e9055e2546d094189aee71c20391",
      "6166405c03ab4931804373fbdde7ddf4",
      "da8f6b5dc4994f4a909c9cebbb33aa81",
      "e85a1a11479c463f8489eb957d6477a2",
      "7f44e6e2a393464ea3961f6fd44f9771",
      "a122feec940344a4a6d9d8d8218949f2",
      "40d1c9e489ea4095b59af81f78d36b1e",
      "b84629b6915c491aa643157ea4eb8311",
      "b8ed05a060cb46c8bba0c9b273f5621b",
      "8abe61c2a2f0481590c3cded9c444eaa",
      "5fb567c5543841948947675cf5d0b0b2",
      "2e3f0a77decd493595c830a95f174059",
      "3022677c7e7447e4a4891685654aaa9d",
      "b7c9230d267e436c83eae6521b051752",
      "dfb74cf3151d437b8da12b48f4549ba6",
      "961333dc4c5b4f71b69dc5f168f62697",
      "d62fa46988a645b48a958e137e7e4c92",
      "af6a7f7957374e4c96aea177a59ebf46",
      "ec879a22e64f4d918fca9e1ccef6fefc",
      "8e75fc517e314916a53a28d9274d9249",
      "1675afef619e4c3c9d30a4c294b89adf",
      "75c44c3b8dde40edb2421e907821b560",
      "5e72117480914e579f918c9ecd59b7d9",
      "4b841db2189b4380a372872d151cb39f",
      "4f4c2e79321348daa8a8df36aa9c26e7",
      "765e94978c714b279b407664716e240a",
      "bc60483d05fe498b813c25c6885aba68",
      "b5e8051cd5254be0867f17147c9acf13",
      "97e4b5d098ab41f8850cbdbf16b05aec",
      "24fe9a6bda824dfc9d22cf141a582dba",
      "0ad2cf3ad721439eb0cc136c3d0f39b7",
      "ec7d4adaa6b940b39a52ce83c5f3aa52",
      "be1eb8ab573e40efbbb754eb36488141",
      "36c8af7412ff4a3698bd4f5cbbc338c0",
      "022990007cc84a78904b8b7495367b6e",
      "e77f98062ab94f77bf482ded52abee66",
      "a115b7dd33a2470697521aeeb26ae736",
      "0ecf552d2f2a4f9fb3af8ea9fd1c592d",
      "e0d716a20c8448f6849811756cd867ec",
      "2fc8b45cc1ac49b7845149358d3eb2d8",
      "2d5eda436a1540cf907ec712eb66dd63",
      "493b507cd71a46f7a3ac3bc8b28e13b9",
      "b15818d94152488dac236f8903f07659",
      "b4c5e189328d4a32857d2fa8c884617a",
      "cb4f8355821c421da42a19e675bd2def",
      "4fab0528b8644f8690670c5abf795111",
      "560504f0e76d43b08b12f4866d45c608",
      "d786d63c833a4783b89c11c0c3a9fafc",
      "1eeadfe82fa94a74a533adf32d54c702",
      "4264fc3add2e4241b29b9e8b95599269",
      "e06e3f1094d14e4dbd271246a6f9f404",
      "350f8439542942968dfe535c519f875d",
      "00f0992cf4d04785a1b10202911f0cc1",
      "57bcaf11ca404ecab3190980446e7ec8",
      "6203e0155d764196bbb6adb25ef61d4a",
      "ab91a56f57a748bbb14937ce03e2ed70",
      "9c539d55eb174514a111a040a445f26d",
      "a112bc31612747bfa95048e72f4e630b",
      "f42c60e304eb411980fe620effbf63e7",
      "da7921e15da44dbd9b6c31bc88daad57",
      "c8243e65505147eb85a098e728795421",
      "14690a9b280741329b2fc15d236e3479",
      "96310c65aa9b4ca3b931c512107ffb40",
      "22737bdafa4a4ef59facc5a06dc95066",
      "83849ec0582c4500bd3582276636a8c2",
      "a20327e6db00477b8b5c7533d2cb4b8a",
      "23b46bfee972454a9a0972444842e4b4",
      "736279c5d602463cb3544b4832d32c2b",
      "e4d2ecf3ba0f4e6d92e83b0222bdd428",
      "56d3f701b20546d19488a33426bd7639",
      "0b60624df0f24093b5390227a221637c",
      "7525d0cfb29f4029844ebcfa511be0af",
      "246797b018fe4e3d99cc52cd7d02f21e",
      "434274e317464c65b1d5b206ec1921bc",
      "c33276714bdd4970b477237c8a7c64b9",
      "f2e1f7a54aae4684a65519df13c27e54",
      "1b4eabbc3f0f4f8088e070ce1d9ce9e7",
      "9cc92f6ab0ba4a2482a20b8ceba87bec",
      "cad767135dd4439c853a32bd36aa7391",
      "95c8f4f675ba4911b39f02e9a0a76d76",
      "239dae3e3564408197bb282b460ff565",
      "546fa941c88f4cecbbe2f8b05130d363",
      "307b906e14f7400ba2794ce3e59eb123",
      "61b0349a449c4c2984efe4942ba9b9c6",
      "10b3125c4e1946c489537f7d5d35b509",
      "190b1977f3c74b4d9432032dfdf4c810",
      "05ca974f31484a4da60f917e3708ab45",
      "1fcf29f29d4d4a74b2c901f4d8a2f134",
      "a77bbb5eaf1b47cc812fb634e41af0f5",
      "099d812cf2ca4a868f3ee500fb49ef2c",
      "b06bee5913ec4ba98da817fb8412e868",
      "5d0c9d8a0c6b49c5aa1ee94163f1fac3",
      "3a812b9e82d6476abc7c4ba4d2b01ec0",
      "8fe15dd39d1b4c9e91ba0921ffed4f68",
      "52a10f6b7ba84d478fc9cddf36fdb18c",
      "fb64b4d82e38404191de8f67a1d4608b",
      "e36ef4118ff34196a901146c08dd965b",
      "6769dc825e614a7a9cfc20e3299ad436",
      "7b1f372d0b744176aae63673078cba19",
      "15770cfa15b04fd1b4d1a46b4da18580",
      "861e5fe872ea4444bd61edb95ba40d1a",
      "4ce264f169e045d68c9fabfd70ac9ec6",
      "494e2c5527c2440f90c919746d33f9d5",
      "ee6bc7420d0e4c58aa4c996e6f3a7f4f",
      "8be8983266df47eaa9b0f48ef5cac7d2",
      "03a405b3b89c41b787b9bcc73712d4f9",
      "20144ed761124f0189ccbde754b87687",
      "8fd95d9893d84a9698c8d919f745c1c2",
      "7a329abe00c841e49bf6330336d27928",
      "1f9cbc6ef7eb4af991cca44f57c96162",
      "b64ad6a18dee4206aaed9367ba6e92eb",
      "88a5b097278746bdb76bfb6a5df9b68a",
      "a14f7fdef43847339acf4b770a01222c",
      "d361b22f30a94716bf104f279fb68143",
      "8c98fa4eade4467bb789e0ddf48d6853",
      "567192658e11465bac51ddcecce2c693",
      "74ba0303ae7a46cdafd94cd3b3e0fd52",
      "d39fe8670700450e945f8bfc7a41889b",
      "5f31e52d6b174b87aceac7c130520f1f",
      "ca2bbb4fe34c4a9eba7b3bf1373cfd40",
      "9a7a46ab3c4f487fb72a6ce60b593203",
      "e2e9cb25492549de84c9fd6d566217d7",
      "3e0e8bb0c54a4770953f77096eb01866",
      "ccf4ea156c6d45b9aa0ca732c1495b81",
      "db2b971fbc8c4f949741b98277f3c6ec",
      "a7a11f1d00304579879979febd427d3d",
      "c6cbf7e5e06240d1a886d35be3ab3acb",
      "ea4e41fac47d47f7a69e8df8f13aae32",
      "91bfc054309a42659b1b2ea8172d5a3f",
      "e11d101fe01944168c53c1ae378f4039",
      "9acb0a34e56b40d2ad653be30dbeb0e5",
      "3a08f365b99f4b4ea234c7e18be4e10e",
      "70e6efb1a2aa486ebb5247360e24f201"
     ]
    },
    "id": "OR3edcWaDw8R",
    "outputId": "7fd9a8b6-729b-42aa-b394-ebb4a04e7968",
    "pycharm": {
     "name": "#%%\n"
    }
   },
   "execution_count": 42,
   "outputs": [
    {
     "output_type": "display_data",
     "data": {
      "text/plain": [
       "train:   0%|          | 0/227 [00:00<?, ?it/s]"
      ],
      "application/vnd.jupyter.widget-view+json": {
       "version_major": 2,
       "version_minor": 0,
       "model_id": "2d30384986d841b9b42a896aa84561f4"
      }
     },
     "metadata": {}
    },
    {
     "output_type": "display_data",
     "data": {
      "text/plain": [
       "valid:   0%|          | 0/8 [00:00<?, ?it/s]"
      ],
      "application/vnd.jupyter.widget-view+json": {
       "version_major": 2,
       "version_minor": 0,
       "model_id": "13068bc955204e7d9a922dedf8053be5"
      }
     },
     "metadata": {}
    },
    {
     "output_type": "stream",
     "name": "stdout",
     "text": [
      "============================================================\n",
      "END OF EPOCH:1 | VALID LOSS: 2.7775\n",
      "============================================================\n"
     ]
    },
    {
     "output_type": "display_data",
     "data": {
      "text/plain": [
       "train:   0%|          | 0/227 [00:00<?, ?it/s]"
      ],
      "application/vnd.jupyter.widget-view+json": {
       "version_major": 2,
       "version_minor": 0,
       "model_id": "6166405c03ab4931804373fbdde7ddf4"
      }
     },
     "metadata": {}
    },
    {
     "output_type": "display_data",
     "data": {
      "text/plain": [
       "valid:   0%|          | 0/8 [00:00<?, ?it/s]"
      ],
      "application/vnd.jupyter.widget-view+json": {
       "version_major": 2,
       "version_minor": 0,
       "model_id": "3022677c7e7447e4a4891685654aaa9d"
      }
     },
     "metadata": {}
    },
    {
     "output_type": "stream",
     "name": "stdout",
     "text": [
      "============================================================\n",
      "END OF EPOCH:2 | VALID LOSS: 2.2580\n",
      "============================================================\n"
     ]
    },
    {
     "output_type": "display_data",
     "data": {
      "text/plain": [
       "train:   0%|          | 0/227 [00:00<?, ?it/s]"
      ],
      "application/vnd.jupyter.widget-view+json": {
       "version_major": 2,
       "version_minor": 0,
       "model_id": "4b841db2189b4380a372872d151cb39f"
      }
     },
     "metadata": {}
    },
    {
     "output_type": "display_data",
     "data": {
      "text/plain": [
       "valid:   0%|          | 0/8 [00:00<?, ?it/s]"
      ],
      "application/vnd.jupyter.widget-view+json": {
       "version_major": 2,
       "version_minor": 0,
       "model_id": "022990007cc84a78904b8b7495367b6e"
      }
     },
     "metadata": {}
    },
    {
     "output_type": "stream",
     "name": "stdout",
     "text": [
      "============================================================\n",
      "END OF EPOCH:3 | VALID LOSS: 2.0215\n",
      "============================================================\n"
     ]
    },
    {
     "output_type": "display_data",
     "data": {
      "text/plain": [
       "train:   0%|          | 0/227 [00:00<?, ?it/s]"
      ],
      "application/vnd.jupyter.widget-view+json": {
       "version_major": 2,
       "version_minor": 0,
       "model_id": "4fab0528b8644f8690670c5abf795111"
      }
     },
     "metadata": {}
    },
    {
     "output_type": "display_data",
     "data": {
      "text/plain": [
       "valid:   0%|          | 0/8 [00:00<?, ?it/s]"
      ],
      "application/vnd.jupyter.widget-view+json": {
       "version_major": 2,
       "version_minor": 0,
       "model_id": "9c539d55eb174514a111a040a445f26d"
      }
     },
     "metadata": {}
    },
    {
     "output_type": "stream",
     "name": "stdout",
     "text": [
      "============================================================\n",
      "END OF EPOCH:4 | VALID LOSS: 1.9323\n",
      "============================================================\n"
     ]
    },
    {
     "output_type": "display_data",
     "data": {
      "text/plain": [
       "train:   0%|          | 0/227 [00:00<?, ?it/s]"
      ],
      "application/vnd.jupyter.widget-view+json": {
       "version_major": 2,
       "version_minor": 0,
       "model_id": "736279c5d602463cb3544b4832d32c2b"
      }
     },
     "metadata": {}
    },
    {
     "output_type": "display_data",
     "data": {
      "text/plain": [
       "valid:   0%|          | 0/8 [00:00<?, ?it/s]"
      ],
      "application/vnd.jupyter.widget-view+json": {
       "version_major": 2,
       "version_minor": 0,
       "model_id": "cad767135dd4439c853a32bd36aa7391"
      }
     },
     "metadata": {}
    },
    {
     "output_type": "stream",
     "name": "stdout",
     "text": [
      "============================================================\n",
      "END OF EPOCH:5 | VALID LOSS: 1.8975\n",
      "============================================================\n"
     ]
    },
    {
     "output_type": "display_data",
     "data": {
      "text/plain": [
       "train:   0%|          | 0/227 [00:00<?, ?it/s]"
      ],
      "application/vnd.jupyter.widget-view+json": {
       "version_major": 2,
       "version_minor": 0,
       "model_id": "099d812cf2ca4a868f3ee500fb49ef2c"
      }
     },
     "metadata": {}
    },
    {
     "output_type": "display_data",
     "data": {
      "text/plain": [
       "valid:   0%|          | 0/8 [00:00<?, ?it/s]"
      ],
      "application/vnd.jupyter.widget-view+json": {
       "version_major": 2,
       "version_minor": 0,
       "model_id": "861e5fe872ea4444bd61edb95ba40d1a"
      }
     },
     "metadata": {}
    },
    {
     "output_type": "stream",
     "name": "stdout",
     "text": [
      "============================================================\n",
      "END OF EPOCH:6 | VALID LOSS: 1.9202\n",
      "============================================================\n"
     ]
    },
    {
     "output_type": "display_data",
     "data": {
      "text/plain": [
       "train:   0%|          | 0/227 [00:00<?, ?it/s]"
      ],
      "application/vnd.jupyter.widget-view+json": {
       "version_major": 2,
       "version_minor": 0,
       "model_id": "88a5b097278746bdb76bfb6a5df9b68a"
      }
     },
     "metadata": {}
    },
    {
     "output_type": "display_data",
     "data": {
      "text/plain": [
       "valid:   0%|          | 0/8 [00:00<?, ?it/s]"
      ],
      "application/vnd.jupyter.widget-view+json": {
       "version_major": 2,
       "version_minor": 0,
       "model_id": "3e0e8bb0c54a4770953f77096eb01866"
      }
     },
     "metadata": {}
    },
    {
     "output_type": "stream",
     "name": "stdout",
     "text": [
      "============================================================\n",
      "END OF EPOCH:7 | VALID LOSS: 1.9215\n",
      "============================================================\n"
     ]
    }
   ]
  },
  {
   "cell_type": "markdown",
   "source": [
    "### 3.5. TEST"
   ],
   "metadata": {
    "id": "vrOKaUgbgxVw",
    "pycharm": {
     "name": "#%% md\n"
    }
   }
  },
  {
   "cell_type": "code",
   "source": [
    "test_loader = make_dataloader(test_dataset, batch_size)\n",
    "\n",
    "print(\"=\"*60)\n",
    "test_loss = evaluate(model, test_loader, Language.pad_token_id, device, 'test')\n",
    "print(f\"END OF TEST | TEST LOSS: {test_loss:.4f}\")\n",
    "print(\"=\"*60)"
   ],
   "metadata": {
    "colab": {
     "base_uri": "https://localhost:8080/",
     "height": 101,
     "referenced_widgets": [
      "3e4ee002582c49fca51ab44a44ac7cdb",
      "7605830d31d340eb9bfe0fb6a618d857",
      "a9be1080be30454ebdd017f8e4d4e7ac",
      "99dbfe80d0fc4c1ea71c2de1866a331d",
      "1e403fd0c43d42d2b0dce622c00c395f",
      "41d2455fc2204fcc87bd29b090ddd503",
      "3ebfb86f0d014f949087ab160865c865",
      "cacb0f6ebc934b96b56e7f2db150a282",
      "e3f1e1dc35c2493da2f21677f7a9ee6d",
      "b1b978458a3241a08a0d95914fec7f86",
      "e980c5d189794c8f9b61cb2a1d1d348b"
     ]
    },
    "id": "o16QxuocbfAa",
    "outputId": "6669abda-6367-407f-8d2f-60fd764a2cc4",
    "pycharm": {
     "name": "#%%\n"
    }
   },
   "execution_count": 43,
   "outputs": [
    {
     "output_type": "stream",
     "name": "stdout",
     "text": [
      "============================================================\n"
     ]
    },
    {
     "output_type": "display_data",
     "data": {
      "text/plain": [
       "test:   0%|          | 0/8 [00:00<?, ?it/s]"
      ],
      "application/vnd.jupyter.widget-view+json": {
       "version_major": 2,
       "version_minor": 0,
       "model_id": "3e4ee002582c49fca51ab44a44ac7cdb"
      }
     },
     "metadata": {}
    },
    {
     "output_type": "stream",
     "name": "stdout",
     "text": [
      "END OF TEST | TEST LOSS: 1.9744\n",
      "============================================================\n"
     ]
    }
   ]
  },
  {
   "cell_type": "markdown",
   "source": [
    "### 3.6. 번역 테스트"
   ],
   "metadata": {
    "id": "tBOFbLDig4GA",
    "pycharm": {
     "name": "#%% md\n"
    }
   }
  },
  {
   "cell_type": "code",
   "source": [
    "def translate(sentence, language, model, device, max_len=50):\n",
    "    model.eval()\n",
    "    model = model.to(device)\n",
    "\n",
    "    src_tokens = torch.tensor(language.src_encode(sentence)).unsqueeze(0).long().to(device)\n",
    "    src_mask = model.make_src_mask(src_tokens)\n",
    "\n",
    "    with torch.no_grad():\n",
    "        enc_src, _ = model.encoder(src_tokens, src_mask)\n",
    "    \n",
    "    tgt_indices = [language.sos_token_id]\n",
    "\n",
    "    for i in range(max_len):\n",
    "        tgt_tensor = torch.tensor(tgt_indices).unsqueeze(0).long().to(device)\n",
    "        tgt_mask = model.make_tgt_mask(tgt_tensor)\n",
    "\n",
    "        with torch.no_grad():\n",
    "            output, score = model.decoder(tgt_tensor, enc_src, tgt_mask, src_mask)\n",
    "\n",
    "        pred_token = output[:,-1,:].argmax(dim=-1).item()\n",
    "        tgt_indices.append(pred_token)\n",
    "\n",
    "        if pred_token == language.eos_token_id:\n",
    "            break\n",
    "    return language.tgt_decode(tgt_indices), score"
   ],
   "metadata": {
    "id": "vPCRe7T1g0Zo",
    "pycharm": {
     "name": "#%%\n"
    }
   },
   "execution_count": 44,
   "outputs": []
  },
  {
   "cell_type": "code",
   "source": [
    "test_text = [text for text in test]"
   ],
   "metadata": {
    "id": "OPnAEYelioYm",
    "pycharm": {
     "name": "#%%\n"
    }
   },
   "execution_count": 45,
   "outputs": []
  },
  {
   "cell_type": "code",
   "source": [
    "test_text[1]"
   ],
   "metadata": {
    "colab": {
     "base_uri": "https://localhost:8080/"
    },
    "id": "UT633cGQir4J",
    "outputId": "e1c3d49c-955b-4ec6-9a47-58f80fe951e0",
    "pycharm": {
     "name": "#%%\n"
    }
   },
   "execution_count": 46,
   "outputs": [
    {
     "output_type": "execute_result",
     "data": {
      "text/plain": [
       "('Ein Boston Terrier läuft über saftig-grünes Gras vor einem weißen Zaun.',\n",
       " 'A Boston Terrier is running on lush green grass in front of a white fence.')"
      ]
     },
     "metadata": {},
     "execution_count": 46
    }
   ]
  },
  {
   "cell_type": "code",
   "source": [
    "translated, score = translate(\"Ein Boston Terrier läuft über saftig-grünes Gras vor einem weißen Zaun.\", language, model, device)\n",
    "\n",
    "translated"
   ],
   "metadata": {
    "colab": {
     "base_uri": "https://localhost:8080/",
     "height": 35
    },
    "id": "fA3Ptelritvj",
    "outputId": "70c8852f-c0e6-48d0-ae3f-a72d23415d76",
    "pycharm": {
     "name": "#%%\n"
    }
   },
   "execution_count": 47,
   "outputs": [
    {
     "output_type": "execute_result",
     "data": {
      "text/plain": [
       "'A Boston dog runs in front of a white fence in front of a white fence .'"
      ],
      "application/vnd.google.colaboratory.intrinsic+json": {
       "type": "string"
      }
     },
     "metadata": {},
     "execution_count": 47
    }
   ]
  },
  {
   "cell_type": "code",
   "source": [
    "translated, score = translate(\"Eine Mutter und ihre jungen Mädchen genießen einen Tag\", language, model, device)\n",
    "\n",
    "translated"
   ],
   "metadata": {
    "colab": {
     "base_uri": "https://localhost:8080/",
     "height": 35
    },
    "id": "SYB3vCgGivfe",
    "outputId": "fb739139-aeec-43fb-dfce-ec8149aee51e",
    "pycharm": {
     "name": "#%%\n"
    }
   },
   "execution_count": 48,
   "outputs": [
    {
     "output_type": "execute_result",
     "data": {
      "text/plain": [
       "'A mom and her young girls enjoying a day .'"
      ],
      "application/vnd.google.colaboratory.intrinsic+json": {
       "type": "string"
      }
     },
     "metadata": {},
     "execution_count": 48
    }
   ]
  },
  {
   "cell_type": "markdown",
   "source": [
    "* 문장: Eine Mutter und ihre jungen Mädchen genießen einen Tag\n",
    "* papago 번역: A mother and her young girls enjoy a day\n",
    "* 예측 결과: A mom and her young girl enjoying a day .\n",
    "\n"
   ],
   "metadata": {
    "id": "bJri5Zz3j9Pl",
    "pycharm": {
     "name": "#%% md\n"
    }
   }
  },
  {
   "cell_type": "code",
   "source": [
    "translated, score = translate(\"Ein Mann, der ins Ausland reist\", language, model, device)\n",
    "\n",
    "translated"
   ],
   "metadata": {
    "colab": {
     "base_uri": "https://localhost:8080/",
     "height": 35
    },
    "id": "tHSjvW86jKU4",
    "outputId": "97aeaeff-46f4-47ee-aec9-32f89a44c4a4",
    "pycharm": {
     "name": "#%%\n"
    }
   },
   "execution_count": 49,
   "outputs": [
    {
     "output_type": "execute_result",
     "data": {
      "text/plain": [
       "'A man walking down the water .'"
      ],
      "application/vnd.google.colaboratory.intrinsic+json": {
       "type": "string"
      }
     },
     "metadata": {},
     "execution_count": 49
    }
   ]
  },
  {
   "cell_type": "markdown",
   "source": [
    "* 문장: Ein Mann, der ins Ausland reist\n",
    "* papago 번역: a man traveling abroad\n",
    "* 예측 결과: A man walking down the water ."
   ],
   "metadata": {
    "id": "3yuyZciFj09-",
    "pycharm": {
     "name": "#%% md\n"
    }
   }
  },
  {
   "cell_type": "code",
   "source": [
    "translated, score = translate(\"Der Mann kocht und hört Musik.\", language, model, device)\n",
    "\n",
    "translated"
   ],
   "metadata": {
    "colab": {
     "base_uri": "https://localhost:8080/",
     "height": 35
    },
    "id": "cfi9HAvZjPwo",
    "outputId": "173c52ad-71c1-43ed-f295-595cd5b1f837",
    "pycharm": {
     "name": "#%%\n"
    }
   },
   "execution_count": 50,
   "outputs": [
    {
     "output_type": "execute_result",
     "data": {
      "text/plain": [
       "'The man is cooking and playing music .'"
      ],
      "application/vnd.google.colaboratory.intrinsic+json": {
       "type": "string"
      }
     },
     "metadata": {},
     "execution_count": 50
    }
   ]
  },
  {
   "cell_type": "markdown",
   "source": [
    "* 문장: Der Mann kocht und hört Musik.\n",
    "* papago 번역: The man cooks and listens to music.\n",
    "* 예측 결과: The man is cooking and playing music ."
   ],
   "metadata": {
    "id": "lDrhgKKwjvex",
    "pycharm": {
     "name": "#%% md\n"
    }
   }
  },
  {
   "cell_type": "markdown",
   "source": [
    "### 3.7. Attention 시각화"
   ],
   "metadata": {
    "id": "zSmXXeWKJ4bv",
    "pycharm": {
     "name": "#%% md\n"
    }
   }
  },
  {
   "cell_type": "code",
   "source": [
    "!pip show matplotlib"
   ],
   "metadata": {
    "colab": {
     "base_uri": "https://localhost:8080/"
    },
    "id": "I89uWQBPRA-C",
    "outputId": "5904317f-4e69-495c-ac13-a72de9dd1ad2",
    "pycharm": {
     "name": "#%%\n"
    }
   },
   "execution_count": 70,
   "outputs": [
    {
     "output_type": "stream",
     "name": "stdout",
     "text": [
      "Name: matplotlib\n",
      "Version: 3.2.2\n",
      "Summary: Python plotting package\n",
      "Home-page: https://matplotlib.org\n",
      "Author: John D. Hunter, Michael Droettboom\n",
      "Author-email: matplotlib-users@python.org\n",
      "License: PSF\n",
      "Location: /usr/local/lib/python3.7/dist-packages\n",
      "Requires: pyparsing, python-dateutil, numpy, kiwisolver, cycler\n",
      "Required-by: yellowbrick, seaborn, scikit-image, pycocotools, prophet, plotnine, pandas-profiling, mlxtend, mizani, missingno, matplotlib-venn, keras-vis, imgaug, fastai, descartes, daft, arviz\n"
     ]
    }
   ]
  },
  {
   "cell_type": "code",
   "source": [
    "import matplotlib.pyplot as plt\n",
    "import numpy as np\n",
    "\n",
    "def visualize_attention(score, language, source, translated, n_heads=8, n_rows=4, n_cols=2):\n",
    "    assert n_heads == (n_rows * n_cols)\n",
    "\n",
    "    fig, axes = plt.subplots(4,2, figsize=(20,20))\n",
    "\n",
    "    src_tokens = language.src_encode(source)\n",
    "    src_tokens = [language.src_id2token[token] for token in src_tokens]\n",
    "\n",
    "    tgt_tokens = language.tgt_encode(translated)\n",
    "    tgt_tokens = [language.tgt_id2token[token] for token in tgt_tokens][1:]\n",
    "\n",
    "    # score: (batch_size, n_heads, tgt_len, src_len)\n",
    "    score = score.squeeze(0).detach().cpu()\n",
    "\n",
    "    for i in range(n_rows):\n",
    "        for j in range(n_cols):\n",
    "            c = axes[i,j].pcolor(score[i].transpose(-2,-1).numpy(),cmap='GnBu')\n",
    "            fig.colorbar(c,ax=axes[i,j])\n",
    "\n",
    "            axes[i,j].set_xticks(np.arange(0.5,len(tgt_tokens),1))\n",
    "            axes[i,j].set_yticks(np.arange(0.5,len(src_tokens),1))\n",
    "\n",
    "            axes[i,j].set_xticklabels(tgt_tokens, rotation=45)\n",
    "            axes[i,j].set_yticklabels(src_tokens)\n"
   ],
   "metadata": {
    "id": "yEXsWuSsjWe9",
    "pycharm": {
     "name": "#%%\n"
    }
   },
   "execution_count": 111,
   "outputs": []
  },
  {
   "cell_type": "code",
   "source": [
    "translated, score = translate(\"Eine Mutter und ihre jungen Mädchen genießen einen Tag\", language, model, device)"
   ],
   "metadata": {
    "id": "DJoCte7GPb6T",
    "pycharm": {
     "name": "#%%\n"
    }
   },
   "execution_count": 112,
   "outputs": []
  },
  {
   "cell_type": "code",
   "source": [
    "visualize_attention(score, language,\"Eine Mutter und ihre jungen Mädchen genießen einen Tag\", translated)"
   ],
   "metadata": {
    "colab": {
     "base_uri": "https://localhost:8080/",
     "height": 1000
    },
    "id": "mJE9RrJHPiN2",
    "outputId": "4900562d-edd4-4474-a2d4-6c52ae4cd745",
    "pycharm": {
     "name": "#%%\n"
    }
   },
   "execution_count": 113,
   "outputs": [
    {
     "output_type": "display_data",
     "data": {
      "text/plain": [
       "<Figure size 1440x1440 with 16 Axes>"
      ],
      "image/png": "[encoded data removed]"
     },
     "metadata": {
      "needs_background": "light"
     }
    }
   ]
  }
 ]
}